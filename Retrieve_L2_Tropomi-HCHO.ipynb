{
 "cells": [
  {
   "cell_type": "markdown",
   "id": "c4660eee-ffae-44d6-b24c-37811d0b25e2",
   "metadata": {},
   "source": [
    "### Retrieve L2 Tropomi NO2 data\n",
    "- see: https://www.star.nesdis.noaa.gov/atmospheric-composition-training/python_tropomi_level2_download.php"
   ]
  },
  {
   "cell_type": "code",
   "execution_count": 1,
   "id": "1895d301-bede-4821-80df-01d4380a46ec",
   "metadata": {},
   "outputs": [],
   "source": [
    "# Import Python packages\n",
    "\n",
    "# Module to connect to the Copernicus Open Access Hubs\n",
    "from sentinelsat import SentinelAPI\n",
    "\n",
    "# Module for manipulating dates and times\n",
    "import datetime\n",
    "\n",
    "# Module to set filesystem paths appropriate for user's operating system\n",
    "from pathlib import Path\n",
    "\n",
    "import ipywidgets as widgets"
   ]
  },
  {
   "cell_type": "code",
   "execution_count": 2,
   "id": "8dba4511-768d-4ac6-9cf1-59259c2dfb5d",
   "metadata": {},
   "outputs": [],
   "source": [
    "# Convert user-entered date format to that used by Sentinel API\n",
    "# \"year\", \"month\", \"day\": parameter variables from widget menu, set in main function\n",
    "\n",
    "def convert_date_sentinel_api_format(year, month, day):\n",
    "    \n",
    "    # Add dashes b/w year/month and month/day\n",
    "    formatted_date = year + '-' + month + '-' + day\n",
    "\n",
    "    return formatted_date"
   ]
  },
  {
   "cell_type": "code",
   "execution_count": 3,
   "id": "6a557619-23e9-4226-b84f-976a4ffa24f7",
   "metadata": {},
   "outputs": [],
   "source": [
    "# Get product abbrevation used in TROPOMI file name\n",
    "# \"product\": parameter variable from widget menu, set in main function\n",
    "\n",
    "def get_tropomi_product_abbreviation(product):\n",
    "    if product == 'CH4':\n",
    "        product_abbreviation = 'L2__CH4___'\n",
    "    if product == 'CO':\n",
    "        product_abbreviation = 'L2__CO____'\n",
    "    elif product == 'NO2':\n",
    "        product_abbreviation = 'L2__NO2___'\n",
    "    elif product == 'SO2':\n",
    "        product_abbreviation = 'L2__SO2___'\n",
    "    elif product == 'HCHO':\n",
    "        product_abbreviation = 'L2__HCHO__'\n",
    "    elif product == 'AI':\n",
    "        product_abbreviation = 'L2__AER_AI'\n",
    "    elif product == 'ALH':\n",
    "        product_abbreviation = 'L2__AER_LH'\n",
    "\n",
    "    return product_abbreviation"
   ]
  },
  {
   "cell_type": "code",
   "execution_count": 4,
   "id": "f1918118-5bf8-4d25-b710-1076ad082eb5",
   "metadata": {},
   "outputs": [],
   "source": [
    "# Create list of TROPOMI data file names for user-entered product, latency, search region, and date range\n",
    "# \"product_abbreviation\": parameter variable from \"get_tropomi_product_abbreviation(product)\" function\n",
    "# \"start_date\", \"end_date\": parameter variables from \"convert_date_sentinel_api_format(year, month, day)\" function\n",
    "# \"west_lon\", \"east_lon\", \"south_lat\", \"north_lat\", \"latency\": parameter variables from widget menus, set in main function\n",
    "\n",
    "def tropomi_list_files(west_lon, east_lon, south_lat, north_lat, start_date, end_date, product_abbreviation, latency):\n",
    "\n",
    "    # Access S5P Data Hub using guest login credentials\n",
    "    api = SentinelAPI('s5pguest', 's5pguest', 'https://s5phub.copernicus.eu/dhus')\n",
    "   \n",
    "    # Query API for specified region, start/end dates, data product\n",
    "    footprint = 'POLYGON((' + west_lon + ' ' + south_lat + ',' + east_lon + ' ' + south_lat + ',' + east_lon + ' ' + north_lat + ',' + west_lon + ' ' + north_lat + ',' + west_lon + ' ' + south_lat + '))'\n",
    "    try:\n",
    "        products = api.query(area=footprint, date=(start_date + 'T00:00:00Z', end_date + 'T23:59:59Z'), producttype=product_abbreviation, processingmode=latency)\n",
    "    except:\n",
    "        print('Error connecting to SciHub server. This happens periodically. Run code again.')\n",
    "    \n",
    "    # Convert query output to pandas dataframe (df) (part of Sentinelsat library)\n",
    "    products_df = api.to_dataframe(products)\n",
    "    \n",
    "    # Extract data file names from dataframe to list\n",
    "    if len(products_df) > 0:\n",
    "        file_name_list = products_df['filename'].tolist()\n",
    "        file_size_list = products_df['size'].tolist()\n",
    "    else:\n",
    "        file_name_list = []\n",
    "        file_size_list = []\n",
    "    \n",
    "    return file_name_list, file_size_list, products"
   ]
  },
  {
   "cell_type": "code",
   "execution_count": 5,
   "id": "c5263cb0-c1c5-413a-81b7-1f3cdb93237d",
   "metadata": {},
   "outputs": [],
   "source": [
    "# Download TROPOMI data files\n",
    "# \"save_path\": parameter variable set in main function\n",
    "# \"products\": parameter variable from \"tropomi_list_files( )\" function\n",
    "\n",
    "def tropomi_download_files(products, save_path):\n",
    "    \n",
    "    # Query S5P Data Hub using guest login credentials\n",
    "    api = SentinelAPI('s5pguest', 's5pguest', 'https://s5phub.copernicus.eu/dhus')\n",
    "    \n",
    "    # Download data files to specified subdirectory\n",
    "    # Note: Sentinelsat library includes tqdm download progress bar\n",
    "    try:\n",
    "        api.download_all(products, save_path)\n",
    "    except KeyboardInterrupt:\n",
    "        print('\\nDownload was interrupted by user.')\n"
   ]
  },
  {
   "cell_type": "code",
   "execution_count": 6,
   "id": "90f0cd00-c460-4daa-a79c-57a9e9dc55c8",
   "metadata": {},
   "outputs": [],
   "source": [
    "# Print available TROPOMI data files that match user specifications, with option to download files\n",
    "# \"save_path\": parameter variable set in main function\n",
    "# \"product_abbreviation\": parameter variable from \"get_tropomi_product_abbreviation(product)\" function\n",
    "# \"start_date\", \"end_date\": parameter variables from \"convert_date_sentinel_api_format(date)\" function\n",
    "# \"west_lon\", \"south_lat\", \"east_lon\", \"north_lat\", \"latency\": parameter variables from widget menus, set in main function\n",
    "\n",
    "def get_tropomi_files(west_lon, east_lon, south_lat, north_lat, start_date, end_date, product_abbreviation, latency, save_path):\n",
    "    \n",
    "    # Query S5P Data Hub and list file names matching user-entered info\n",
    "    file_name_list, file_size_list, products = tropomi_list_files(west_lon, east_lon, south_lat, north_lat, start_date, end_date, product_abbreviation, latency)\n",
    "    \n",
    "    products = filter_products(products, save_path)\n",
    "    # Print list of available file names/sizes\n",
    "    if len(file_name_list) > 0:\n",
    "        print('\\nList of available data files (file size):')\n",
    "        for file, size in zip(file_name_list, file_size_list):\n",
    "            print(file, ' (', size, ')', sep='')\n",
    "        \n",
    "        # Print directory where files will be saved\n",
    "        print('\\nData files will be saved to:', save_path)\n",
    "        \n",
    "        # Ask user if they want to download the available data files\n",
    "        # If yes, download files to specified directory\n",
    "        download_question = 'Would you like to download the ' + str(len(file_name_list)) + ' files?\\nType \"yes\" or \"no\" and hit \"Enter\"\\n'\n",
    "        ask_download = input(download_question)\n",
    "        if ask_download in ['yes', 'YES', 'Yes', 'y', 'Y']:\n",
    "            tropomi_download_files(products, save_path)\n",
    "        else:\n",
    "            print('\\nFiles are not being downloaded.')\n",
    "    else:\n",
    "        print('\\nNo files retrieved.  Check settings and try again.')\n",
    "    \n",
    "    \n",
    "    return products\n"
   ]
  },
  {
   "cell_type": "code",
   "execution_count": 7,
   "id": "5be9cfcc-ea09-46e0-9dfa-4bb6a9ebbaab",
   "metadata": {},
   "outputs": [],
   "source": [
    "### This works\n",
    "\n",
    "def filter_products(products, save_path):\n",
    "    import os \n",
    "    from collections import OrderedDict\n",
    "\n",
    "    d = list(products.items())\n",
    "    len(d)\n",
    "\n",
    "    counter = 0 \n",
    "    for i in range(len(d)):\n",
    "        filename = d[counter][1]['filename']\n",
    "        #print (i, d[counter][1]['filename'])\n",
    "\n",
    "        # checking if this file is already in folder\n",
    "        if os.path.exists(os.path.join(save_path, filename)):\n",
    "            #print ('exists')\n",
    "\n",
    "            # removing from the products dictionary\n",
    "            del d[counter]\n",
    "        else:\n",
    "            counter = counter + 1\n",
    "\n",
    "    products_new = OrderedDict(d)\n",
    "\n",
    "    print (\"original products length: \" + str(len(products)) + ', new products length: ' + str(len(products_new)))\n",
    "    \n",
    "    return (products_new)"
   ]
  },
  {
   "cell_type": "code",
   "execution_count": 9,
   "id": "94aa7724-6021-44ce-af24-a82ad1f4dca0",
   "metadata": {},
   "outputs": [
    {
     "name": "stdout",
     "output_type": "stream",
     "text": [
      "If you change menu selections (e.g., to run another search), do NOT re-run this block!\n",
      "Re-running will re-set all menus to their defaults!\n"
     ]
    },
    {
     "data": {
      "application/vnd.jupyter.widget-view+json": {
       "model_id": "2d8644ace7eb4de79089a94b364955d0",
       "version_major": 2,
       "version_minor": 0
      },
      "text/plain": [
       "Dropdown(description='Product:', layout=Layout(width='300px'), options=(('Methane', 'CH4'), ('Aerosol Index', …"
      ]
     },
     "metadata": {},
     "output_type": "display_data"
    },
    {
     "data": {
      "application/vnd.jupyter.widget-view+json": {
       "model_id": "eaef317543c5427c88e883dd6dca0e84",
       "version_major": 2,
       "version_minor": 0
      },
      "text/plain": [
       "Dropdown(description='Data Latency:', layout=Layout(width='300px'), options=('Near real time', 'Offline', 'Rep…"
      ]
     },
     "metadata": {},
     "output_type": "display_data"
    },
    {
     "data": {
      "application/vnd.jupyter.widget-view+json": {
       "model_id": "f7c43ad57881445fba1de8b57b21f1a6",
       "version_major": 2,
       "version_minor": 0
      },
      "text/plain": [
       "HBox(children=(Dropdown(description='Start Year:', layout=Layout(width='300px'), options=('2018', '2019', '202…"
      ]
     },
     "metadata": {},
     "output_type": "display_data"
    },
    {
     "data": {
      "application/vnd.jupyter.widget-view+json": {
       "model_id": "d0425cbef43741e38862aceab89502d6",
       "version_major": 2,
       "version_minor": 0
      },
      "text/plain": [
       "HBox(children=(Dropdown(description='End Year:', layout=Layout(width='300px'), options=('2018', '2019', '2020'…"
      ]
     },
     "metadata": {},
     "output_type": "display_data"
    },
    {
     "data": {
      "application/vnd.jupyter.widget-view+json": {
       "model_id": "3eb7bb204be8443a98678cb648dd2e96",
       "version_major": 2,
       "version_minor": 0
      },
      "text/plain": [
       "Label(value='ENTER LATITUDE/LONGITUDE BOUNDARIES FOR SEARCH AREA (use up/down arrows or type in value)', layou…"
      ]
     },
     "metadata": {},
     "output_type": "display_data"
    },
    {
     "data": {
      "application/vnd.jupyter.widget-view+json": {
       "model_id": "fcdc8fc59a3d4ee0842716e608b992e2",
       "version_major": 2,
       "version_minor": 0
      },
      "text/plain": [
       "HBox(children=(BoundedFloatText(value=3.31, description='Northern-most Latitude:', layout=Layout(height='30px'…"
      ]
     },
     "metadata": {},
     "output_type": "display_data"
    },
    {
     "data": {
      "application/vnd.jupyter.widget-view+json": {
       "model_id": "a6dfaeaa48034e70aaa284e1cee055af",
       "version_major": 2,
       "version_minor": 0
      },
      "text/plain": [
       "HBox(children=(BoundedFloatText(value=15.0, description='Western-most Longitude:', layout=Layout(height='30px'…"
      ]
     },
     "metadata": {},
     "output_type": "display_data"
    },
    {
     "data": {
      "application/vnd.jupyter.widget-view+json": {
       "model_id": "73afe5f3dd594470ba9d2b75934d2526",
       "version_major": 2,
       "version_minor": 0
      },
      "text/plain": [
       "HBox(children=(BoundedFloatText(value=-5.0, description='Southern-most Latitude:', layout=Layout(height='30px'…"
      ]
     },
     "metadata": {},
     "output_type": "display_data"
    }
   ],
   "source": [
    "# Enter product, data latency, observation start/end dates and domain boundaries for file search\n",
    "# Selections are made using interactive Jupyter Notebook widgets\n",
    "# Run this block *once* to generate menus\n",
    "# When main function is run, it reads \".value\" of each menu selection\n",
    "# Do NOT re-run block if you change menu selections (re-running block resets menus to defaults)!\n",
    "\n",
    "# Formatting settings for drop-down menus\n",
    "style = {'description_width':'140px'}\n",
    "layout = widgets.Layout(width='300px')\n",
    "\n",
    "# Create drop-down menus using widgets\n",
    "product = widgets.Dropdown(options=[('Methane', 'CH4'),('Aerosol Index', 'AI'), ('Aerosol Layer Height', 'ALH'), ('Carbon Monoxide', 'CO'), ('Formaldehyde', 'HCHO'), ('Nitrogen Dioxide', 'NO2'), ('Sulfur Dioxide', 'SO2')], description='Product:', style=style, layout=layout)\n",
    "latency = widgets.Dropdown(options=[('Near real time'), ('Offline'), ('Reprocessing') ], description='Data Latency:', style=style, layout=layout)\n",
    "start_year = widgets.Dropdown(options=[('2018'), ('2019'), ('2020'), ('2021'), ('2022'), ('2023'), ('2024')], description='Start Year:', style=style, layout=layout)\n",
    "start_month = widgets.Dropdown(options=[('Jan', '01'), ('Feb', '02'), ('Mar', '03'), ('Apr', '04'), ('May', '05'), ('Jun', '06'), ('Jul', '07'), ('Aug', '08'), ('Sep', '09'), ('Oct', '10'), ('Nov', '11'), ('Dec', '12')], description='Start Month:', style=style, layout=layout)\n",
    "start_day = widgets.Dropdown(options=[('01'), ('02'), ('03'), ('04'), ('05'), ('06'), ('07'), ('08'), ('09'), ('10'), ('11'), ('12'), ('13'), ('14'), ('15'), ('16'), ('17'), ('18'), ('19'), ('20'), ('21'), ('22'), ('23'), ('24'), ('25'), ('26'), ('27'), ('28'), ('29'), ('30'), ('31')], description='Start Day:', style=style, layout=layout)\n",
    "end_year = widgets.Dropdown(options=[('2018'), ('2019'), ('2020'), ('2021'), ('2022'), ('2023'), ('2024')], description='End Year:', style=style, layout=layout)\n",
    "end_month = widgets.Dropdown(options=[('Jan', '01'), ('Feb', '02'), ('Mar', '03'), ('Apr', '04'), ('May', '05'), ('Jun', '06'), ('Jul', '07'), ('Aug', '08'), ('Sep', '09'), ('Oct', '10'), ('Nov', '11'), ('Dec', '12')], description='End Month:', style=style, layout=layout)\n",
    "end_day = widgets.Dropdown(options=[('01'), ('02'), ('03'), ('04'), ('05'), ('06'), ('07'), ('08'), ('09'), ('10'), ('11'), ('12'), ('13'), ('14'), ('15'), ('16'), ('17'), ('18'), ('19'), ('20'), ('21'), ('22'), ('23'), ('24'), ('25'), ('26'), ('27'), ('28'), ('29'), ('30'), ('31')], description='End Day:', style=style, layout=layout)\n",
    "\n",
    "# Caption for map domain boundaries\n",
    "domain_caption = widgets.Label(value='ENTER LATITUDE/LONGITUDE BOUNDARIES FOR SEARCH AREA (use up/down arrows or type in value)', layout=widgets.Layout(height='30px'))\n",
    "\n",
    "# Format observation start/end dates menus to display side-by-side\n",
    "start_date = widgets.HBox([start_year, start_month, start_day])\n",
    "end_date = widgets.HBox([end_year, end_month, end_day])\n",
    "\n",
    "# Create numerical (float) text entry widgets for map boundary corners\n",
    "west_lon_float = widgets.BoundedFloatText(description='Western-most Longitude:', value=15, min=-180, max=180, disabled=False, layout=widgets.Layout(width='250px', height='30px'), style={'description_width':'150px'})\n",
    "east_lon_float = widgets.BoundedFloatText(description='Eastern-most Longitude:', value=25.73, min=-180, max=180, disabled=False, layout=widgets.Layout(width='250px', height='30px'), style={'description_width':'150px'})\n",
    "lon_label = widgets.Label(value='(use negative values to indicate °W, e.g., 100 °W = -100)', layout=widgets.Layout(width='400px'))\n",
    "lon_box = widgets.HBox([west_lon_float, east_lon_float, lon_label])\n",
    "north_lat_float = widgets.BoundedFloatText(description='Northern-most Latitude:', value=3.31, min=-90, max=90, disabled=False, layout=widgets.Layout(width='400px', height='30px'), style={'description_width':'300px'})\n",
    "south_lat_float = widgets.BoundedFloatText(description='Southern-most Latitude:', value=-5, min=-90, max=90, disabled=False, layout=widgets.Layout(width='400px', height='30px'), style={'description_width':'300px'})\n",
    "lat_label = widgets.Label(value='(use negative values to indicate °S, e.g., 30 °S = -30)', layout=widgets.Layout(width='400px'))\n",
    "north_lat_box = widgets.HBox([north_lat_float, lat_label])\n",
    "south_lat_box = widgets.HBox([south_lat_float, lat_label])\n",
    "\n",
    "# Display drop-down menus\n",
    "print('If you change menu selections (e.g., to run another search), do NOT re-run this block!\\nRe-running will re-set all menus to their defaults!')\n",
    "display(product, latency)\n",
    "display(start_date, end_date)\n",
    "display(domain_caption, north_lat_box, lon_box, south_lat_box)"
   ]
  },
  {
   "cell_type": "code",
   "execution_count": 10,
   "id": "8078903e-c501-42a9-818d-7c76627c5847",
   "metadata": {},
   "outputs": [
    {
     "data": {
      "application/vnd.jupyter.widget-view+json": {
       "model_id": "f88f1bb9e9a4488f97c3a557b3da73c0",
       "version_major": 2,
       "version_minor": 0
      },
      "text/plain": [
       "Querying products:  21%|##        | 100/479 [00:00<?, ?product/s]"
      ]
     },
     "metadata": {},
     "output_type": "display_data"
    },
    {
     "name": "stdout",
     "output_type": "stream",
     "text": [
      "original products length: 479, new products length: 479\n",
      "\n",
      "List of available data files (file size):\n",
      "S5P_OFFL_L2__HCHO___20230603T124020_20230603T142150_29214_03_020401_20230605T051615.nc (720.92 MB)\n",
      "S5P_OFFL_L2__HCHO___20230603T105850_20230603T124020_29213_03_020401_20230605T031707.nc (722.0 MB)\n",
      "S5P_OFFL_L2__HCHO___20230602T111750_20230602T125920_29199_03_020401_20230604T033454.nc (720.31 MB)\n",
      "S5P_OFFL_L2__HCHO___20230601T113651_20230601T131821_29185_03_020401_20230603T102434.nc (720.19 MB)\n",
      "S5P_OFFL_L2__HCHO___20230531T115551_20230531T133721_29171_03_020401_20230602T042917.nc (721.78 MB)\n",
      "S5P_OFFL_L2__HCHO___20230531T101421_20230531T115551_29170_03_020401_20230602T024722.nc (721.99 MB)\n",
      "S5P_OFFL_L2__HCHO___20230530T121452_20230530T135622_29157_03_020401_20230601T045107.nc (720.43 MB)\n",
      "S5P_OFFL_L2__HCHO___20230530T103322_20230530T121452_29156_03_020401_20230601T030534.nc (723.84 MB)\n",
      "S5P_OFFL_L2__HCHO___20230529T123352_20230529T141522_29143_03_020401_20230531T045959.nc (698.51 MB)\n",
      "S5P_OFFL_L2__HCHO___20230529T105222_20230529T123352_29142_03_020401_20230531T031911.nc (721.3 MB)\n",
      "S5P_OFFL_L2__HCHO___20230528T111122_20230528T125252_29128_03_020401_20230530T032325.nc (694.38 MB)\n",
      "S5P_OFFL_L2__HCHO___20230527T113022_20230527T131152_29114_03_020401_20230529T034520.nc (716.61 MB)\n",
      "S5P_OFFL_L2__HCHO___20230526T114922_20230526T133052_29100_03_020401_20230528T041013.nc (718.38 MB)\n",
      "S5P_OFFL_L2__HCHO___20230526T100752_20230526T114922_29099_03_020401_20230528T021729.nc (699.68 MB)\n",
      "S5P_OFFL_L2__HCHO___20230525T120821_20230525T134951_29086_03_020401_20230527T043051.nc (722.59 MB)\n",
      "S5P_OFFL_L2__HCHO___20230525T102651_20230525T120821_29085_03_020401_20230527T024519.nc (724.57 MB)\n",
      "S5P_OFFL_L2__HCHO___20230524T122721_20230524T140851_29072_03_020401_20230526T044939.nc (724.27 MB)\n",
      "S5P_OFFL_L2__HCHO___20230524T104551_20230524T122721_29071_03_020401_20230526T031120.nc (721.24 MB)\n",
      "S5P_OFFL_L2__HCHO___20230523T124620_20230523T142750_29058_03_020401_20230525T051023.nc (724.1 MB)\n",
      "S5P_OFFL_L2__HCHO___20230523T110450_20230523T124620_29057_03_020401_20230525T033452.nc (722.14 MB)\n",
      "S5P_OFFL_L2__HCHO___20230522T112349_20230522T130519_29043_03_020401_20230524T035655.nc (723.61 MB)\n",
      "S5P_OFFL_L2__HCHO___20230521T114249_20230521T132419_29029_03_020401_20230523T040557.nc (724.58 MB)\n",
      "S5P_OFFL_L2__HCHO___20230520T120148_20230520T134318_29015_03_020401_20230522T042527.nc (724.68 MB)\n",
      "S5P_OFFL_L2__HCHO___20230520T102018_20230520T120148_29014_03_020401_20230522T023738.nc (720.46 MB)\n",
      "S5P_OFFL_L2__HCHO___20230519T122046_20230519T140216_29001_03_020401_20230521T045247.nc (725.72 MB)\n",
      "S5P_OFFL_L2__HCHO___20230519T103916_20230519T122046_29000_03_020401_20230521T030713.nc (723.75 MB)\n",
      "S5P_OFFL_L2__HCHO___20230518T123945_20230518T142115_28987_03_020401_20230520T050056.nc (727.92 MB)\n",
      "S5P_OFFL_L2__HCHO___20230518T105815_20230518T123945_28986_03_020401_20230520T033214.nc (724.38 MB)\n",
      "S5P_OFFL_L2__HCHO___20230517T111714_20230517T125844_28972_03_020401_20230519T034405.nc (723.79 MB)\n",
      "S5P_OFFL_L2__HCHO___20230516T113612_20230516T131742_28958_03_020401_20230518T040820.nc (723.7 MB)\n",
      "S5P_OFFL_L2__HCHO___20230515T115511_20230515T133641_28944_03_020401_20230517T042458.nc (724.48 MB)\n",
      "S5P_OFFL_L2__HCHO___20230515T101341_20230515T115511_28943_03_020401_20230517T022950.nc (724.81 MB)\n",
      "S5P_OFFL_L2__HCHO___20230514T121409_20230514T135539_28930_03_020401_20230516T044212.nc (725.99 MB)\n",
      "S5P_OFFL_L2__HCHO___20230514T103239_20230514T121409_28929_03_020401_20230516T025844.nc (723.87 MB)\n",
      "S5P_OFFL_L2__HCHO___20230513T123307_20230513T141437_28916_03_020401_20230515T050224.nc (723.46 MB)\n",
      "S5P_OFFL_L2__HCHO___20230513T105137_20230513T123307_28915_03_020401_20230515T032140.nc (725.45 MB)\n",
      "S5P_OFFL_L2__HCHO___20230512T111035_20230512T125205_28901_03_020401_20230514T033052.nc (722.94 MB)\n",
      "S5P_OFFL_L2__HCHO___20230511T112933_20230511T131103_28887_03_020401_20230513T035830.nc (722.12 MB)\n",
      "S5P_OFFL_L2__HCHO___20230510T114831_20230510T133001_28873_03_020401_20230512T040949.nc (695.42 MB)\n",
      "S5P_OFFL_L2__HCHO___20230510T100700_20230510T114831_28872_03_020401_20230512T021936.nc (722.61 MB)\n",
      "S5P_OFFL_L2__HCHO___20230509T120728_20230509T134858_28859_03_020401_20230511T042603.nc (719.01 MB)\n",
      "S5P_OFFL_L2__HCHO___20230509T102558_20230509T120728_28858_03_020401_20230511T024307.nc (700.7 MB)\n",
      "S5P_OFFL_L2__HCHO___20230508T122626_20230508T140756_28845_03_020401_20230510T043314.nc (719.52 MB)\n",
      "S5P_OFFL_L2__HCHO___20230508T104456_20230508T122626_28844_03_020401_20230510T030849.nc (722.66 MB)\n",
      "S5P_OFFL_L2__HCHO___20230507T124523_20230507T142653_28831_03_020401_20230509T045507.nc (721.17 MB)\n",
      "S5P_OFFL_L2__HCHO___20230507T110353_20230507T124523_28830_03_020401_20230509T032700.nc (719.58 MB)\n",
      "S5P_OFFL_L2__HCHO___20230506T112250_20230506T130420_28816_03_020401_20230508T035033.nc (720.29 MB)\n",
      "S5P_OFFL_L2__HCHO___20230505T114148_20230505T132318_28802_03_020401_20230507T040613.nc (722.04 MB)\n",
      "S5P_OFFL_L2__HCHO___20230504T120045_20230504T134215_28788_03_020401_20230506T042405.nc (721.34 MB)\n",
      "S5P_OFFL_L2__HCHO___20230504T101914_20230504T120045_28787_03_020401_20230506T023854.nc (723.07 MB)\n",
      "S5P_OFFL_L2__HCHO___20230503T121941_20230503T140111_28774_03_020401_20230505T043517.nc (720.46 MB)\n",
      "S5P_OFFL_L2__HCHO___20230503T103811_20230503T121941_28773_03_020401_20230505T025639.nc (724.4 MB)\n",
      "S5P_OFFL_L2__HCHO___20230502T123836_20230502T142006_28760_03_020401_20230504T045345.nc (720.49 MB)\n",
      "S5P_OFFL_L2__HCHO___20230502T105706_20230502T123836_28759_03_020401_20230504T032034.nc (700.85 MB)\n",
      "S5P_OFFL_L2__HCHO___20230501T111601_20230501T125731_28745_03_020401_20230503T034710.nc (725.44 MB)\n",
      "S5P_OFFL_L2__HCHO___20230430T113456_20230430T131626_28731_03_020401_20230502T040525.nc (723.01 MB)\n",
      "S5P_OFFL_L2__HCHO___20230429T115350_20230429T133521_28717_03_020401_20230501T042031.nc (723.8 MB)\n",
      "S5P_OFFL_L2__HCHO___20230429T101220_20230429T115350_28716_03_020401_20230501T023100.nc (723.92 MB)\n",
      "S5P_OFFL_L2__HCHO___20230428T121245_20230428T135415_28703_03_020401_20230430T043552.nc (722.54 MB)\n",
      "S5P_OFFL_L2__HCHO___20230428T103115_20230428T121245_28702_03_020401_20230430T024744.nc (721.13 MB)\n",
      "S5P_OFFL_L2__HCHO___20230427T123140_20230427T141310_28689_03_020401_20230429T045050.nc (719.39 MB)\n",
      "S5P_OFFL_L2__HCHO___20230427T105009_20230427T123140_28688_03_020401_20230429T032036.nc (721.15 MB)\n",
      "S5P_OFFL_L2__HCHO___20230426T110904_20230426T125034_28674_03_020401_20230428T034215.nc (720.0 MB)\n",
      "S5P_OFFL_L2__HCHO___20230425T112758_20230425T130929_28660_03_020401_20230427T035342.nc (722.19 MB)\n",
      "S5P_OFFL_L2__HCHO___20230424T114652_20230424T132823_28646_03_020401_20230426T040427.nc (727.46 MB)\n",
      "S5P_OFFL_L2__HCHO___20230423T120547_20230423T134717_28632_03_020401_20230425T042233.nc (724.46 MB)\n",
      "S5P_OFFL_L2__HCHO___20230423T102416_20230423T120547_28631_03_020401_20230425T023649.nc (728.42 MB)\n",
      "S5P_OFFL_L2__HCHO___20230422T122441_20230422T140611_28618_03_020401_20230424T043600.nc (699.71 MB)\n",
      "S5P_OFFL_L2__HCHO___20230422T104310_20230422T122441_28617_03_020401_20230424T025651.nc (728.6 MB)\n",
      "S5P_OFFL_L2__HCHO___20230421T124335_20230421T142505_28604_03_020401_20230423T045247.nc (721.15 MB)\n",
      "S5P_OFFL_L2__HCHO___20230421T110204_20230421T124335_28603_03_020401_20230423T031307.nc (699.38 MB)\n",
      "S5P_OFFL_L2__HCHO___20230420T112058_20230420T130228_28589_03_020401_20230422T033724.nc (720.66 MB)\n",
      "S5P_OFFL_L2__HCHO___20230419T113952_20230419T132122_28575_03_020401_20230421T035648.nc (718.96 MB)\n",
      "S5P_OFFL_L2__HCHO___20230418T101715_20230418T115846_28560_03_020401_20230420T022824.nc (723.12 MB)\n",
      "S5P_OFFL_L2__HCHO___20230418T115846_20230418T134016_28561_03_020401_20230420T021640.nc (719.56 MB)\n",
      "S5P_OFFL_L2__HCHO___20230417T121740_20230417T135910_28547_03_020401_20230419T042715.nc (716.92 MB)\n",
      "S5P_OFFL_L2__HCHO___20230417T103609_20230417T121740_28546_03_020401_20230419T025435.nc (724.16 MB)\n",
      "S5P_OFFL_L2__HCHO___20230416T123633_20230416T141804_28533_03_020401_20230418T045419.nc (717.82 MB)\n",
      "S5P_OFFL_L2__HCHO___20230416T105503_20230416T123633_28532_03_020401_20230418T032442.nc (725.8 MB)\n",
      "S5P_OFFL_L2__HCHO___20230415T111356_20230415T125527_28518_03_020401_20230417T034306.nc (725.01 MB)\n",
      "S5P_OFFL_L2__HCHO___20230414T113250_20230414T131420_28504_03_020401_20230416T015532.nc (724.0 MB)\n",
      "S5P_OFFL_L2__HCHO___20230413T115144_20230413T133314_28490_03_020401_20230415T042045.nc (727.76 MB)\n",
      "S5P_OFFL_L2__HCHO___20230413T101013_20230413T115144_28489_03_020401_20230415T021651.nc (725.62 MB)\n",
      "S5P_OFFL_L2__HCHO___20230412T121037_20230412T135208_28476_03_020401_20230414T043423.nc (725.25 MB)\n",
      "S5P_OFFL_L2__HCHO___20230412T102907_20230412T121037_28475_03_020401_20230414T024232.nc (728.84 MB)\n",
      "S5P_OFFL_L2__HCHO___20230411T122931_20230411T141101_28462_03_020401_20230413T044619.nc (722.3 MB)\n",
      "S5P_OFFL_L2__HCHO___20230411T104800_20230411T122931_28461_03_020401_20230413T030403.nc (728.8 MB)\n",
      "S5P_OFFL_L2__HCHO___20230410T110654_20230410T124824_28447_03_020401_20230412T031723.nc (727.37 MB)\n",
      "S5P_OFFL_L2__HCHO___20230409T112547_20230409T130717_28433_03_020401_20230411T033947.nc (724.9 MB)\n",
      "S5P_OFFL_L2__HCHO___20230408T114440_20230408T132611_28419_03_020401_20230410T035847.nc (726.34 MB)\n",
      "S5P_OFFL_L2__HCHO___20230407T120334_20230407T134504_28405_03_020401_20230409T042148.nc (726.19 MB)\n",
      "S5P_OFFL_L2__HCHO___20230407T102203_20230407T120334_28404_03_020401_20230409T024209.nc (725.43 MB)\n",
      "S5P_OFFL_L2__HCHO___20230406T122227_20230406T140357_28391_03_020401_20230408T043531.nc (721.7 MB)\n",
      "S5P_OFFL_L2__HCHO___20230406T104056_20230406T122227_28390_03_020401_20230408T030124.nc (723.99 MB)\n",
      "S5P_OFFL_L2__HCHO___20230405T124120_20230405T142250_28377_03_020401_20230407T045819.nc (720.12 MB)\n",
      "S5P_OFFL_L2__HCHO___20230405T105949_20230405T124120_28376_03_020401_20230407T031812.nc (724.09 MB)\n",
      "S5P_OFFL_L2__HCHO___20230404T111842_20230404T130013_28362_03_020401_20230406T033503.nc (723.73 MB)\n",
      "S5P_OFFL_L2__HCHO___20230403T113735_20230403T131906_28348_03_020401_20230405T035737.nc (699.4 MB)\n",
      "S5P_OFFL_L2__HCHO___20230402T115628_20230402T133759_28334_03_020401_20230404T042013.nc (721.36 MB)\n",
      "S5P_OFFL_L2__HCHO___20230402T101458_20230402T115628_28333_03_020401_20230404T023119.nc (698.25 MB)\n",
      "S5P_OFFL_L2__HCHO___20230401T121521_20230401T135651_28320_03_020401_20230403T043641.nc (719.92 MB)\n",
      "S5P_OFFL_L2__HCHO___20230401T103351_20230401T121521_28319_03_020401_20230403T025111.nc (723.89 MB)\n",
      "S5P_OFFL_L2__HCHO___20230331T123414_20230331T141544_28306_03_020401_20230402T045139.nc (720.03 MB)\n",
      "S5P_OFFL_L2__HCHO___20230331T105243_20230331T123414_28305_03_020401_20230402T031346.nc (726.04 MB)\n",
      "S5P_OFFL_L2__HCHO___20230330T111136_20230330T125307_28291_03_020401_20230401T033522.nc (724.75 MB)\n",
      "S5P_OFFL_L2__HCHO___20230329T113029_20230329T131159_28277_03_020401_20230331T035446.nc (723.87 MB)\n",
      "S5P_OFFL_L2__HCHO___20230328T114921_20230328T133052_28263_03_020401_20230330T042450.nc (723.07 MB)\n",
      "S5P_OFFL_L2__HCHO___20230328T100751_20230328T114921_28262_03_020401_20230330T023328.nc (725.14 MB)\n",
      "S5P_OFFL_L2__HCHO___20230327T120814_20230327T134944_28249_03_020401_20230329T043025.nc (720.33 MB)\n",
      "S5P_OFFL_L2__HCHO___20230327T102644_20230327T120814_28248_03_020401_20230329T024609.nc (725.67 MB)\n",
      "S5P_OFFL_L2__HCHO___20230326T122707_20230326T140837_28235_03_020401_20230328T044702.nc (718.64 MB)\n",
      "S5P_OFFL_L2__HCHO___20230326T104536_20230326T122707_28234_03_020401_20230328T030424.nc (726.81 MB)\n",
      "S5P_OFFL_L2__HCHO___20230325T110429_20230325T124559_28220_03_020401_20230327T032200.nc (727.83 MB)\n",
      "S5P_OFFL_L2__HCHO___20230324T112321_20230324T130452_28206_03_020401_20230326T034521.nc (727.78 MB)\n",
      "S5P_OFFL_L2__HCHO___20230323T114213_20230323T132344_28192_03_020401_20230325T040449.nc (725.88 MB)\n",
      "S5P_OFFL_L2__HCHO___20230322T120106_20230322T134236_28178_03_020401_20230324T041825.nc (726.57 MB)\n",
      "S5P_OFFL_L2__HCHO___20230322T101935_20230322T120106_28177_03_020401_20230324T022826.nc (729.95 MB)\n",
      "S5P_OFFL_L2__HCHO___20230321T121958_20230321T140129_28164_03_020401_20230323T043227.nc (723.34 MB)\n",
      "S5P_OFFL_L2__HCHO___20230321T103828_20230321T121958_28163_03_020401_20230323T025803.nc (728.74 MB)\n",
      "S5P_OFFL_L2__HCHO___20230320T123850_20230320T142021_28150_03_020401_20230322T045002.nc (719.41 MB)\n",
      "S5P_OFFL_L2__HCHO___20230320T105720_20230320T123850_28149_03_020401_20230322T031458.nc (733.01 MB)\n",
      "S5P_OFFL_L2__HCHO___20230319T111612_20230319T125743_28135_03_020401_20230321T033400.nc (732.7 MB)\n",
      "S5P_OFFL_L2__HCHO___20230318T113504_20230318T131635_28121_03_020401_20230320T035823.nc (729.75 MB)\n",
      "S5P_OFFL_L2__HCHO___20230317T115357_20230317T133527_28107_03_020401_20230319T102115.nc (726.12 MB)\n",
      "S5P_OFFL_L2__HCHO___20230317T101226_20230317T115357_28106_03_020401_20230319T082216.nc (726.49 MB)\n",
      "S5P_OFFL_L2__HCHO___20230316T121249_20230316T135419_28093_03_020401_20230318T193709.nc (699.51 MB)\n",
      "S5P_OFFL_L2__HCHO___20230316T103118_20230316T121249_28092_03_020401_20230318T193641.nc (726.47 MB)\n",
      "S5P_OFFL_L2__HCHO___20230315T123142_20230315T141312_28079_03_020401_20230318T063626.nc (719.66 MB)\n",
      "S5P_OFFL_L2__HCHO___20230315T105012_20230315T123142_28078_03_020401_20230318T003045.nc (702.85 MB)\n",
      "S5P_OFFL_L2__HCHO___20230314T110908_20230314T125038_28064_03_020401_20230317T111207.nc (725.88 MB)\n",
      "S5P_OFFL_L2__HCHO___20230313T112803_20230313T130934_28050_03_020401_20230316T030546.nc (724.97 MB)\n",
      "S5P_OFFL_L2__HCHO___20230312T114659_20230312T132830_28036_03_020401_20230315T155219.nc (723.11 MB)\n",
      "S5P_OFFL_L2__HCHO___20230312T100529_20230312T114659_28035_03_020401_20230315T154352.nc (727.31 MB)\n",
      "S5P_OFFL_L2__HCHO___20230311T120555_20230311T134725_28022_03_020401_20230313T042636.nc (724.74 MB)\n",
      "S5P_OFFL_L2__HCHO___20230311T102425_20230311T120555_28021_03_020401_20230313T023614.nc (725.51 MB)\n",
      "S5P_OFFL_L2__HCHO___20230310T122451_20230310T140621_28008_03_020401_20230312T044101.nc (720.87 MB)\n",
      "S5P_OFFL_L2__HCHO___20230310T104321_20230310T122451_28007_03_020401_20230312T025812.nc (725.11 MB)\n",
      "S5P_OFFL_L2__HCHO___20230309T110217_20230309T124347_27993_03_020401_20230311T031354.nc (724.56 MB)\n",
      "S5P_OFFL_L2__HCHO___20230308T112112_20230308T130243_27979_03_020401_20230310T033306.nc (723.76 MB)\n",
      "S5P_OFFL_L2__HCHO___20230307T114008_20230307T132138_27965_03_020401_20230309T040210.nc (725.66 MB)\n",
      "S5P_OFFL_L2__HCHO___20230306T115904_20230306T134034_27951_03_020401_20230308T042624.nc (725.86 MB)\n",
      "S5P_OFFL_L2__HCHO___20230306T101734_20230306T115904_27950_03_020401_20230308T024349.nc (725.11 MB)\n",
      "S5P_OFFL_L2__HCHO___20230305T121800_20230305T135930_27937_03_020401_20230307T044829.nc (722.56 MB)\n",
      "S5P_OFFL_L2__HCHO___20230305T103629_20230305T121800_27936_03_020401_20230307T030658.nc (724.23 MB)\n",
      "S5P_OFFL_L2__HCHO___20230304T123655_20230304T141826_27923_03_020401_20230306T050203.nc (722.44 MB)\n",
      "S5P_OFFL_L2__HCHO___20230304T105525_20230304T123655_27922_03_020401_20230306T032703.nc (724.39 MB)\n",
      "S5P_OFFL_L2__HCHO___20230303T111421_20230303T125551_27908_03_020401_20230305T034904.nc (722.55 MB)\n",
      "S5P_OFFL_L2__HCHO___20230302T113316_20230302T131447_27894_03_020401_20230304T041312.nc (722.03 MB)\n",
      "S5P_OFFL_L2__HCHO___20230301T115212_20230301T133342_27880_03_020401_20230303T042058.nc (722.02 MB)\n",
      "S5P_OFFL_L2__HCHO___20230301T101042_20230301T115212_27879_03_020401_20230303T023220.nc (726.22 MB)\n",
      "S5P_OFFL_L2__HCHO___20230228T121108_20230228T135238_27866_03_020401_20230302T044131.nc (722.67 MB)\n",
      "S5P_OFFL_L2__HCHO___20230228T102938_20230228T121108_27865_03_020401_20230302T023819.nc (718.8 MB)\n",
      "S5P_OFFL_L2__HCHO___20230227T123004_20230227T141134_27852_03_020401_20230301T045635.nc (721.97 MB)\n",
      "S5P_OFFL_L2__HCHO___20230227T104833_20230227T123004_27851_03_020401_20230301T030247.nc (728.4 MB)\n",
      "S5P_OFFL_L2__HCHO___20230226T110729_20230226T124859_27837_03_020401_20230228T032842.nc (724.9 MB)\n",
      "S5P_OFFL_L2__HCHO___20230225T112625_20230225T130755_27823_03_020401_20230227T034459.nc (700.79 MB)\n",
      "S5P_OFFL_L2__HCHO___20230224T114521_20230224T132651_27809_03_020401_20230226T041426.nc (724.67 MB)\n",
      "S5P_OFFL_L2__HCHO___20230224T100350_20230224T114521_27808_03_020401_20230226T022129.nc (699.88 MB)\n",
      "S5P_OFFL_L2__HCHO___20230223T120416_20230223T134547_27795_03_020401_20230225T042819.nc (724.05 MB)\n",
      "S5P_OFFL_L2__HCHO___20230223T102246_20230223T120416_27794_03_020401_20230225T023703.nc (724.83 MB)\n",
      "S5P_OFFL_L2__HCHO___20230222T122312_20230222T140442_27781_03_020401_20230224T044613.nc (722.08 MB)\n",
      "S5P_OFFL_L2__HCHO___20230222T104142_20230222T122312_27780_03_020401_20230224T025951.nc (722.76 MB)\n",
      "S5P_OFFL_L2__HCHO___20230221T110038_20230221T124208_27766_03_020401_20230223T032339.nc (720.16 MB)\n",
      "S5P_OFFL_L2__HCHO___20230220T111934_20230220T130104_27752_03_020401_20230222T034413.nc (722.78 MB)\n",
      "S5P_OFFL_L2__HCHO___20230219T113830_20230219T132000_27738_03_020401_20230221T035718.nc (719.95 MB)\n",
      "S5P_OFFL_L2__HCHO___20230218T115726_20230218T133856_27724_03_020401_20230220T042800.nc (722.01 MB)\n",
      "S5P_OFFL_L2__HCHO___20230218T101555_20230218T115726_27723_03_020401_20230220T023242.nc (723.28 MB)\n",
      "S5P_OFFL_L2__HCHO___20230217T121622_20230217T135752_27710_03_020401_20230219T044041.nc (723.86 MB)\n",
      "S5P_OFFL_L2__HCHO___20230217T103451_20230217T121622_27709_03_020401_20230219T025543.nc (725.3 MB)\n",
      "S5P_OFFL_L2__HCHO___20230216T123518_20230216T141648_27696_03_020401_20230218T045157.nc (721.76 MB)\n",
      "S5P_OFFL_L2__HCHO___20230216T105347_20230216T123518_27695_03_020401_20230218T031622.nc (726.65 MB)\n",
      "S5P_OFFL_L2__HCHO___20230215T111243_20230215T125414_27681_03_020401_20230217T034009.nc (726.32 MB)\n",
      "S5P_OFFL_L2__HCHO___20230214T113139_20230214T131310_27667_03_020401_20230216T040130.nc (725.25 MB)\n",
      "S5P_OFFL_L2__HCHO___20230213T115036_20230213T133206_27653_03_020401_20230215T041942.nc (721.6 MB)\n",
      "S5P_OFFL_L2__HCHO___20230213T100905_20230213T115036_27652_03_020401_20230215T023641.nc (721.35 MB)\n",
      "S5P_OFFL_L2__HCHO___20230212T120932_20230212T135102_27639_03_020401_20230214T043645.nc (719.97 MB)\n",
      "S5P_OFFL_L2__HCHO___20230212T102801_20230212T120932_27638_03_020401_20230214T025152.nc (724.3 MB)\n",
      "S5P_OFFL_L2__HCHO___20230211T122828_20230211T140958_27625_03_020401_20230213T045433.nc (718.88 MB)\n",
      "S5P_OFFL_L2__HCHO___20230211T104658_20230211T122828_27624_03_020401_20230213T031110.nc (722.44 MB)\n",
      "S5P_OFFL_L2__HCHO___20230210T110554_20230210T124724_27610_03_020401_20230212T033258.nc (720.79 MB)\n",
      "S5P_OFFL_L2__HCHO___20230209T112450_20230209T130620_27596_03_020401_20230211T034124.nc (722.01 MB)\n",
      "S5P_OFFL_L2__HCHO___20230208T114346_20230208T132516_27582_03_020401_20230210T035927.nc (719.99 MB)\n",
      "S5P_OFFL_L2__HCHO___20230208T100216_20230208T114346_27581_03_020401_20230210T021450.nc (721.59 MB)\n",
      "S5P_OFFL_L2__HCHO___20230207T120243_20230207T134413_27568_03_020401_20230209T041352.nc (698.36 MB)\n",
      "S5P_OFFL_L2__HCHO___20230207T102112_20230207T120243_27567_03_020401_20230209T024334.nc (723.73 MB)\n",
      "S5P_OFFL_L2__HCHO___20230206T122139_20230206T140309_27554_03_020401_20230208T043724.nc (720.69 MB)\n",
      "S5P_OFFL_L2__HCHO___20230206T104009_20230206T122139_27553_03_020401_20230208T025541.nc (699.37 MB)\n",
      "S5P_OFFL_L2__HCHO___20230205T105905_20230205T124035_27539_03_020401_20230207T031629.nc (722.77 MB)\n",
      "S5P_OFFL_L2__HCHO___20230204T111802_20230204T125932_27525_03_020401_20230206T033611.nc (721.1 MB)\n",
      "S5P_OFFL_L2__HCHO___20230203T113658_20230203T131828_27511_03_020401_20230205T035848.nc (723.0 MB)\n",
      "S5P_OFFL_L2__HCHO___20230202T115555_20230202T133725_27497_03_020401_20230204T042042.nc (722.73 MB)\n",
      "S5P_OFFL_L2__HCHO___20230202T101424_20230202T115555_27496_03_020401_20230204T023527.nc (723.81 MB)\n",
      "S5P_OFFL_L2__HCHO___20230201T121451_20230201T135622_27483_03_020401_20230203T043601.nc (716.05 MB)\n",
      "S5P_OFFL_L2__HCHO___20230201T103321_20230201T121451_27482_03_020401_20230203T030115.nc (723.94 MB)\n",
      "S5P_OFFL_L2__HCHO___20230131T123348_20230131T141518_27469_03_020401_20230202T045017.nc (719.09 MB)\n",
      "S5P_OFFL_L2__HCHO___20230131T105218_20230131T123348_27468_03_020401_20230202T032322.nc (723.01 MB)\n",
      "S5P_OFFL_L2__HCHO___20230130T111115_20230130T125245_27454_03_020401_20230201T034507.nc (722.65 MB)\n",
      "S5P_OFFL_L2__HCHO___20230129T113012_20230129T131142_27440_03_020401_20230131T040345.nc (722.62 MB)\n",
      "S5P_OFFL_L2__HCHO___20230128T114909_20230128T133039_27426_03_020401_20230130T042255.nc (724.3 MB)\n",
      "S5P_OFFL_L2__HCHO___20230128T100738_20230128T114909_27425_03_020401_20230130T022814.nc (719.27 MB)\n",
      "S5P_OFFL_L2__HCHO___20230127T120806_20230127T134936_27412_03_020401_20230129T043951.nc (722.85 MB)\n",
      "S5P_OFFL_L2__HCHO___20230127T102636_20230127T120806_27411_03_020401_20230129T024812.nc (721.82 MB)\n",
      "S5P_OFFL_L2__HCHO___20230126T122703_20230126T140833_27398_03_020401_20230128T050146.nc (720.66 MB)\n",
      "S5P_OFFL_L2__HCHO___20230126T104533_20230126T122703_27397_03_020401_20230128T030404.nc (722.59 MB)\n",
      "S5P_OFFL_L2__HCHO___20230125T110430_20230125T124600_27383_03_020401_20230127T033037.nc (722.86 MB)\n",
      "S5P_OFFL_L2__HCHO___20230124T112327_20230124T130457_27369_03_020401_20230126T035207.nc (722.95 MB)\n",
      "S5P_OFFL_L2__HCHO___20230123T114225_20230123T132355_27355_03_020401_20230125T040502.nc (720.53 MB)\n",
      "S5P_OFFL_L2__HCHO___20230123T100055_20230123T114225_27354_03_020401_20230125T021439.nc (717.54 MB)\n",
      "S5P_OFFL_L2__HCHO___20230122T120122_20230122T134252_27341_03_020401_20230124T042424.nc (720.2 MB)\n",
      "S5P_OFFL_L2__HCHO___20230122T101952_20230122T120122_27340_03_020401_20230124T023617.nc (720.95 MB)\n",
      "S5P_OFFL_L2__HCHO___20230121T122020_20230121T140150_27327_03_020401_20230123T044941.nc (720.6 MB)\n",
      "S5P_OFFL_L2__HCHO___20230121T103850_20230121T122020_27326_03_020401_20230123T025422.nc (720.85 MB)\n",
      "S5P_OFFL_L2__HCHO___20230120T105747_20230120T123917_27312_03_020401_20230122T031703.nc (721.38 MB)\n",
      "S5P_OFFL_L2__HCHO___20230119T111645_20230119T125815_27298_03_020401_20230121T033331.nc (699.08 MB)\n",
      "S5P_OFFL_L2__HCHO___20230118T113543_20230118T131713_27284_03_020401_20230120T035717.nc (724.46 MB)\n",
      "S5P_OFFL_L2__HCHO___20230117T115441_20230117T133611_27270_03_020401_20230119T041530.nc (722.32 MB)\n",
      "S5P_OFFL_L2__HCHO___20230117T101310_20230117T115441_27269_03_020401_20230119T022550.nc (720.08 MB)\n",
      "S5P_OFFL_L2__HCHO___20230116T121338_20230116T135509_27256_03_020401_20230118T043450.nc (719.23 MB)\n",
      "S5P_OFFL_L2__HCHO___20230116T103208_20230116T121338_27255_03_020401_20230118T025116.nc (722.04 MB)\n",
      "S5P_OFFL_L2__HCHO___20230115T123237_20230115T141407_27242_03_020401_20230117T045911.nc (717.15 MB)\n",
      "S5P_OFFL_L2__HCHO___20230115T105106_20230115T123237_27241_03_020401_20230117T030737.nc (723.54 MB)\n",
      "S5P_OFFL_L2__HCHO___20230114T111005_20230114T125135_27227_03_020401_20230116T032657.nc (721.05 MB)\n",
      "S5P_OFFL_L2__HCHO___20230113T112903_20230113T131033_27213_03_020401_20230115T035155.nc (719.02 MB)\n",
      "S5P_OFFL_L2__HCHO___20230112T114801_20230112T132931_27199_03_020401_20230114T040419.nc (722.92 MB)\n",
      "S5P_OFFL_L2__HCHO___20230112T100631_20230112T114801_27198_03_020401_20230114T022403.nc (723.49 MB)\n",
      "S5P_OFFL_L2__HCHO___20230111T120700_20230111T134830_27185_03_020401_20230113T041927.nc (722.14 MB)\n",
      "S5P_OFFL_L2__HCHO___20230111T102529_20230111T120700_27184_03_020401_20230113T024518.nc (723.42 MB)\n",
      "S5P_OFFL_L2__HCHO___20230110T122558_20230110T140728_27171_03_020401_20230112T043845.nc (720.4 MB)\n",
      "S5P_OFFL_L2__HCHO___20230110T104428_20230110T122558_27170_03_020401_20230112T030212.nc (719.95 MB)\n",
      "S5P_OFFL_L2__HCHO___20230109T110326_20230109T124456_27156_03_020401_20230111T032118.nc (720.82 MB)\n",
      "S5P_OFFL_L2__HCHO___20230108T112225_20230108T130355_27142_03_020401_20230110T034830.nc (722.25 MB)\n",
      "S5P_OFFL_L2__HCHO___20230107T114124_20230107T132254_27128_03_020401_20230109T040822.nc (719.0 MB)\n",
      "S5P_OFFL_L2__HCHO___20230107T095954_20230107T114124_27127_03_020401_20230109T022313.nc (721.96 MB)\n",
      "S5P_OFFL_L2__HCHO___20230106T120023_20230106T134153_27114_03_020401_20230108T043128.nc (720.06 MB)\n",
      "S5P_OFFL_L2__HCHO___20230106T101853_20230106T120023_27113_03_020401_20230108T024225.nc (722.25 MB)\n",
      "S5P_OFFL_L2__HCHO___20230105T121922_20230105T140052_27100_03_020401_20230107T044957.nc (719.88 MB)\n",
      "S5P_OFFL_L2__HCHO___20230105T103752_20230105T121922_27099_03_020401_20230107T030147.nc (722.13 MB)\n",
      "S5P_OFFL_L2__HCHO___20230104T105651_20230104T123821_27085_03_020401_20230106T032036.nc (722.57 MB)\n",
      "S5P_OFFL_L2__HCHO___20230103T111550_20230103T125720_27071_03_020401_20230105T034605.nc (722.35 MB)\n",
      "S5P_OFFL_L2__HCHO___20230102T113449_20230102T131619_27057_03_020401_20230104T040437.nc (721.0 MB)\n",
      "S5P_OFFL_L2__HCHO___20230101T115349_20230101T133519_27043_03_020401_20230103T112149.nc (697.39 MB)\n",
      "S5P_OFFL_L2__HCHO___20230101T101219_20230101T115349_27042_03_020401_20230103T111639.nc (721.99 MB)\n",
      "S5P_OFFL_L2__HCHO___20221231T103119_20221231T121249_27028_03_020401_20230102T115504.nc (699.45 MB)\n",
      "S5P_OFFL_L2__HCHO___20221231T121249_20221231T135419_27029_03_020401_20230102T115704.nc (696.91 MB)\n",
      "S5P_OFFL_L2__HCHO___20221230T123148_20221230T141318_27015_03_020401_20230101T194932.nc (720.05 MB)\n",
      "S5P_OFFL_L2__HCHO___20221230T105018_20221230T123148_27014_03_020401_20230101T195444.nc (722.05 MB)\n",
      "S5P_OFFL_L2__HCHO___20221229T110918_20221229T125048_27000_03_020401_20230101T003745.nc (721.78 MB)\n",
      "S5P_OFFL_L2__HCHO___20221228T112818_20221228T130948_26986_03_020401_20221231T083631.nc (718.72 MB)\n",
      "S5P_OFFL_L2__HCHO___20221227T100548_20221227T114718_26971_03_020401_20221230T080417.nc (721.54 MB)\n",
      "S5P_OFFL_L2__HCHO___20221227T114718_20221227T132848_26972_03_020401_20221230T081302.nc (716.33 MB)\n",
      "S5P_OFFL_L2__HCHO___20221226T120619_20221226T134748_26958_03_020401_20221229T095452.nc (714.29 MB)\n",
      "S5P_OFFL_L2__HCHO___20221226T102449_20221226T120619_26957_03_020401_20221229T095037.nc (721.2 MB)\n",
      "S5P_OFFL_L2__HCHO___20221225T104349_20221225T122519_26943_03_020401_20221228T154955.nc (719.82 MB)\n",
      "S5P_OFFL_L2__HCHO___20221225T122519_20221225T140649_26944_03_020401_20221228T155232.nc (714.06 MB)\n",
      "S5P_OFFL_L2__HCHO___20221224T110249_20221224T124419_26929_03_020401_20221227T232239.nc (723.69 MB)\n",
      "S5P_OFFL_L2__HCHO___20221223T112150_20221223T130320_26915_03_020401_20221227T075200.nc (722.58 MB)\n",
      "S5P_OFFL_L2__HCHO___20221222T114051_20221222T132221_26901_03_020401_20221226T110509.nc (723.99 MB)\n",
      "S5P_OFFL_L2__HCHO___20221222T095921_20221222T114051_26900_03_020401_20221226T110041.nc (724.65 MB)\n",
      "S5P_OFFL_L2__HCHO___20221221T115952_20221221T134121_26887_03_020401_20221225T184923.nc (720.59 MB)\n",
      "S5P_OFFL_L2__HCHO___20221221T101822_20221221T115952_26886_03_020401_20221225T184407.nc (726.27 MB)\n",
      "S5P_OFFL_L2__HCHO___20221220T121853_20221220T140022_26873_03_020401_20221225T015720.nc (717.02 MB)\n",
      "S5P_OFFL_L2__HCHO___20221220T103723_20221220T121853_26872_03_020401_20221225T015109.nc (725.61 MB)\n",
      "S5P_OFFL_L2__HCHO___20221219T105624_20221219T123754_26858_03_020401_20221224T093838.nc (725.51 MB)\n",
      "S5P_OFFL_L2__HCHO___20221218T111525_20221218T125655_26844_03_020401_20221223T173939.nc (722.72 MB)\n",
      "S5P_OFFL_L2__HCHO___20221217T113426_20221217T131556_26830_03_020401_20221223T012712.nc (722.47 MB)\n",
      "S5P_OFFL_L2__HCHO___20221216T115328_20221216T133458_26816_03_020401_20221222T052423.nc (723.55 MB)\n",
      "S5P_OFFL_L2__HCHO___20221216T101158_20221216T115328_26815_03_020401_20221222T050454.nc (719.71 MB)\n",
      "S5P_OFFL_L2__HCHO___20221215T121230_20221215T135359_26802_03_020401_20221221T052920.nc (720.32 MB)\n",
      "S5P_OFFL_L2__HCHO___20221215T103100_20221215T121230_26801_03_020401_20221221T051928.nc (721.52 MB)\n",
      "S5P_OFFL_L2__HCHO___20221214T105001_20221214T123131_26787_03_020401_20221220T093146.nc (723.19 MB)\n",
      "S5P_OFFL_L2__HCHO___20221214T123131_20221214T141301_26788_03_020401_20221220T093408.nc (694.15 MB)\n",
      "S5P_OFFL_L2__HCHO___20221213T110903_20221213T125033_26773_03_020401_20221219T101908.nc (700.34 MB)\n",
      "S5P_OFFL_L2__HCHO___20221212T112805_20221212T130935_26759_03_020401_20221218T155249.nc (697.96 MB)\n",
      "S5P_OFFL_L2__HCHO___20221211T114708_20221211T132837_26745_03_020401_20221217T173430.nc (722.56 MB)\n",
      "S5P_OFFL_L2__HCHO___20221211T100538_20221211T114708_26744_03_020401_20221217T162756.nc (724.25 MB)\n",
      "S5P_OFFL_L2__HCHO___20221210T120610_20221210T134740_26731_03_020401_20221216T125246.nc (718.92 MB)\n",
      "S5P_OFFL_L2__HCHO___20221210T102440_20221210T120610_26730_03_020401_20221216T124346.nc (722.68 MB)\n",
      "S5P_OFFL_L2__HCHO___20221209T122512_20221209T140642_26717_03_020401_20221215T122814.nc (718.05 MB)\n",
      "S5P_OFFL_L2__HCHO___20221209T104342_20221209T122512_26716_03_020401_20221215T122519.nc (721.08 MB)\n",
      "S5P_OFFL_L2__HCHO___20221208T110245_20221208T124415_26702_03_020401_20221214T141205.nc (722.45 MB)\n",
      "S5P_OFFL_L2__HCHO___20221207T112148_20221207T130317_26688_03_020401_20221213T143101.nc (722.84 MB)\n",
      "S5P_OFFL_L2__HCHO___20221206T114050_20221206T132220_26674_03_020401_20221212T143620.nc (724.09 MB)\n",
      "S5P_OFFL_L2__HCHO___20221206T095921_20221206T114050_26673_03_020401_20221212T142807.nc (721.27 MB)\n",
      "S5P_OFFL_L2__HCHO___20221205T115953_20221205T134123_26660_03_020401_20221211T221931.nc (723.35 MB)\n",
      "S5P_OFFL_L2__HCHO___20221205T101823_20221205T115953_26659_03_020401_20221211T221645.nc (720.64 MB)\n",
      "S5P_OFFL_L2__HCHO___20221204T121856_20221204T140026_26646_03_020401_20221211T091013.nc (721.35 MB)\n",
      "S5P_OFFL_L2__HCHO___20221204T103726_20221204T121856_26645_03_020401_20221211T090328.nc (720.55 MB)\n",
      "S5P_OFFL_L2__HCHO___20221203T105630_20221203T123759_26631_03_020401_20221210T102447.nc (723.44 MB)\n",
      "S5P_OFFL_L2__HCHO___20221202T111533_20221202T125703_26617_03_020401_20221209T104302.nc (725.62 MB)\n",
      "S5P_OFFL_L2__HCHO___20221201T113436_20221201T131606_26603_03_020401_20221208T152416.nc (724.01 MB)\n",
      "S5P_OFFL_L2__HCHO___20221130T115340_20221130T133510_26589_03_020401_20221207T135126.nc (720.51 MB)\n",
      "S5P_OFFL_L2__HCHO___20221130T101210_20221130T115340_26588_03_020401_20221207T134102.nc (724.12 MB)\n",
      "S5P_OFFL_L2__HCHO___20221129T121244_20221129T135413_26575_03_020401_20221206T111844.nc (719.05 MB)\n",
      "S5P_OFFL_L2__HCHO___20221129T103114_20221129T121244_26574_03_020401_20221206T113602.nc (724.52 MB)\n",
      "S5P_OFFL_L2__HCHO___20221128T123147_20221128T141317_26561_03_020401_20221205T110338.nc (723.46 MB)\n",
      "S5P_OFFL_L2__HCHO___20221128T105018_20221128T123147_26560_03_020401_20221205T110247.nc (725.67 MB)\n",
      "S5P_OFFL_L2__HCHO___20221127T110921_20221127T125051_26546_03_020401_20221204T104819.nc (725.53 MB)\n",
      "S5P_OFFL_L2__HCHO___20221126T112825_20221126T130955_26532_03_020401_20221203T102454.nc (725.51 MB)\n",
      "S5P_OFFL_L2__HCHO___20221125T114730_20221125T132859_26518_03_020401_20221202T122111.nc (701.61 MB)\n",
      "S5P_OFFL_L2__HCHO___20221125T100600_20221125T114730_26517_03_020401_20221202T121959.nc (722.34 MB)\n",
      "S5P_OFFL_L2__HCHO___20221124T120634_20221124T134803_26504_03_020401_20221201T104600.nc (724.87 MB)\n",
      "S5P_OFFL_L2__HCHO___20221124T102504_20221124T120634_26503_03_020401_20221201T104014.nc (698.19 MB)\n",
      "S5P_OFFL_L2__HCHO___20221123T122538_20221123T140708_26490_03_020401_20221130T110130.nc (722.2 MB)\n",
      "S5P_OFFL_L2__HCHO___20221123T104409_20221123T122538_26489_03_020401_20221130T105446.nc (699.05 MB)\n",
      "S5P_OFFL_L2__HCHO___20221122T110313_20221122T124443_26475_03_020401_20221129T102940.nc (723.35 MB)\n",
      "S5P_OFFL_L2__HCHO___20221121T112218_20221121T130347_26461_03_020401_20221128T133127.nc (722.89 MB)\n",
      "S5P_OFFL_L2__HCHO___20221119T120027_20221119T134157_26433_03_020401_20221126T142500.nc (727.29 MB)\n",
      "S5P_OFFL_L2__HCHO___20221119T101857_20221119T120027_26432_03_020401_20221126T141937.nc (720.71 MB)\n",
      "S5P_OFFL_L2__HCHO___20221120T114122_20221120T132252_26447_03_020401_20221127T124934.nc (723.87 MB)\n",
      "S5P_OFFL_L2__HCHO___20221120T095953_20221120T114122_26446_03_020401_20221127T123950.nc (722.19 MB)\n",
      "S5P_OFFL_L2__HCHO___20221118T103802_20221118T121932_26418_03_020401_20221125T191400.nc (716.89 MB)\n",
      "S5P_OFFL_L2__HCHO___20221118T121932_20221118T140102_26419_03_020401_20221125T191858.nc (696.83 MB)\n",
      "S5P_OFFL_L2__HCHO___20221117T105707_20221117T123837_26404_03_020401_20221124T233013.nc (721.42 MB)\n",
      "S5P_OFFL_L2__HCHO___20221116T111612_20221116T125742_26390_03_020401_20221123T174848.nc (724.31 MB)\n",
      "S5P_OFFL_L2__HCHO___20221115T113518_20221115T131647_26376_03_020401_20221117T180933.nc (725.62 MB)\n",
      "S5P_OFFL_L2__HCHO___20221114T115423_20221114T133552_26362_03_020401_20221117T051736.nc (721.71 MB)\n",
      "S5P_OFFL_L2__HCHO___20221114T101253_20221114T115423_26361_03_020401_20221116T161009.nc (722.96 MB)\n",
      "S5P_OFFL_L2__HCHO___20221113T121328_20221113T135458_26348_03_020401_20221116T155546.nc (719.96 MB)\n",
      "S5P_OFFL_L2__HCHO___20221113T103159_20221113T121328_26347_03_020401_20221116T155408.nc (723.8 MB)\n",
      "S5P_OFFL_L2__HCHO___20221112T123234_20221112T141403_26334_03_020401_20221114T044328.nc (719.49 MB)\n",
      "S5P_OFFL_L2__HCHO___20221112T105104_20221112T123234_26333_03_020401_20221114T031940.nc (725.19 MB)\n",
      "S5P_OFFL_L2__HCHO___20221111T111010_20221111T125139_26319_03_020401_20221113T033747.nc (725.08 MB)\n",
      "S5P_OFFL_L2__HCHO___20221110T112915_20221110T131045_26305_03_020401_20221112T040256.nc (724.27 MB)\n",
      "S5P_OFFL_L2__HCHO___20221109T114821_20221109T132951_26291_03_020401_20221111T042221.nc (723.2 MB)\n",
      "S5P_OFFL_L2__HCHO___20221109T100651_20221109T114821_26290_03_020401_20221111T022901.nc (723.0 MB)\n",
      "S5P_OFFL_L2__HCHO___20221108T120727_20221108T134856_26277_03_020401_20221110T043526.nc (723.19 MB)\n",
      "S5P_OFFL_L2__HCHO___20221108T102557_20221108T120727_26276_03_020401_20221110T025429.nc (723.99 MB)\n",
      "S5P_OFFL_L2__HCHO___20221107T122633_20221107T140802_26263_03_020401_20221109T045143.nc (698.71 MB)\n",
      "S5P_OFFL_L2__HCHO___20221107T104503_20221107T122633_26262_03_020401_20221109T031519.nc (725.05 MB)\n",
      "S5P_OFFL_L2__HCHO___20221106T110409_20221106T124539_26248_03_020401_20221108T033408.nc (699.42 MB)\n",
      "S5P_OFFL_L2__HCHO___20221105T112315_20221105T130444_26234_03_020401_20221107T034327.nc (725.45 MB)\n",
      "S5P_OFFL_L2__HCHO___20221104T114221_20221104T132351_26220_03_020401_20221106T040126.nc (726.91 MB)\n",
      "S5P_OFFL_L2__HCHO___20221104T100051_20221104T114221_26219_03_020401_20221106T021443.nc (698.54 MB)\n",
      "S5P_OFFL_L2__HCHO___20221103T120127_20221103T134257_26206_03_020401_20221105T042334.nc (724.25 MB)\n",
      "S5P_OFFL_L2__HCHO___20221103T101958_20221103T120127_26205_03_020401_20221105T024619.nc (723.48 MB)\n",
      "S5P_OFFL_L2__HCHO___20221102T122033_20221102T140203_26192_03_020401_20221104T043939.nc (722.02 MB)\n",
      "S5P_OFFL_L2__HCHO___20221102T103904_20221102T122033_26191_03_020401_20221104T030826.nc (721.83 MB)\n",
      "S5P_OFFL_L2__HCHO___20221101T105810_20221101T123939_26177_03_020401_20221103T032118.nc (725.03 MB)\n",
      "S5P_OFFL_L2__HCHO___20221031T111716_20221031T125846_26163_03_020401_20221102T034013.nc (726.62 MB)\n",
      "S5P_OFFL_L2__HCHO___20221030T113622_20221030T131752_26149_03_020401_20221101T035840.nc (728.22 MB)\n",
      "S5P_OFFL_L2__HCHO___20221029T115529_20221029T133658_26135_03_020401_20221031T041050.nc (726.4 MB)\n",
      "S5P_OFFL_L2__HCHO___20221029T101359_20221029T115529_26134_03_020401_20221031T023316.nc (724.66 MB)\n",
      "S5P_OFFL_L2__HCHO___20221028T121435_20221028T135605_26121_03_020401_20221030T042706.nc (722.73 MB)\n",
      "S5P_OFFL_L2__HCHO___20221028T103306_20221028T121435_26120_03_020401_20221030T024831.nc (723.12 MB)\n",
      "S5P_OFFL_L2__HCHO___20221027T123342_20221027T141511_26107_03_020401_20221029T045920.nc (723.11 MB)\n",
      "S5P_OFFL_L2__HCHO___20221027T105212_20221027T123342_26106_03_020401_20221029T030735.nc (720.73 MB)\n",
      "S5P_OFFL_L2__HCHO___20221026T111119_20221026T125248_26092_03_020401_20221028T032858.nc (723.06 MB)\n",
      "S5P_OFFL_L2__HCHO___20221025T113025_20221025T131155_26078_03_020401_20221027T034827.nc (727.49 MB)\n",
      "S5P_OFFL_L2__HCHO___20221024T114932_20221024T133101_26064_03_020401_20221026T041309.nc (726.3 MB)\n",
      "S5P_OFFL_L2__HCHO___20221024T100802_20221024T114932_26063_03_020401_20221026T022757.nc (720.03 MB)\n",
      "S5P_OFFL_L2__HCHO___20221023T120838_20221023T135008_26050_03_020401_20221025T043627.nc (727.82 MB)\n",
      "S5P_OFFL_L2__HCHO___20221023T102709_20221023T120838_26049_03_020401_20221025T025650.nc (722.91 MB)\n",
      "S5P_OFFL_L2__HCHO___20221022T122745_20221022T140914_26036_03_020401_20221024T045611.nc (728.84 MB)\n",
      "S5P_OFFL_L2__HCHO___20221022T104615_20221022T122745_26035_03_020401_20221024T031145.nc (726.99 MB)\n",
      "S5P_OFFL_L2__HCHO___20221021T110522_20221021T124651_26021_03_020401_20221023T031733.nc (729.1 MB)\n",
      "S5P_OFFL_L2__HCHO___20221020T112429_20221020T130558_26007_03_020401_20221022T033613.nc (727.49 MB)\n",
      "S5P_OFFL_L2__HCHO___20221019T114336_20221019T132505_25993_03_020401_20221021T040522.nc (704.45 MB)\n",
      "S5P_OFFL_L2__HCHO___20221019T100207_20221019T114336_25992_03_020401_20221021T022939.nc (725.41 MB)\n",
      "S5P_OFFL_L2__HCHO___20221018T120245_20221018T134414_25979_03_020401_20221020T042508.nc (724.35 MB)\n",
      "S5P_OFFL_L2__HCHO___20221018T102116_20221018T120245_25978_03_020401_20221020T025039.nc (702.48 MB)\n",
      "S5P_OFFL_L2__HCHO___20221017T122154_20221017T140323_25965_03_020401_20221019T044040.nc (723.62 MB)\n",
      "S5P_OFFL_L2__HCHO___20221017T104025_20221017T122154_25964_03_020401_20221019T025952.nc (726.73 MB)\n",
      "S5P_OFFL_L2__HCHO___20221016T105934_20221016T124103_25950_03_020401_20221018T032543.nc (726.94 MB)\n",
      "S5P_OFFL_L2__HCHO___20221015T111843_20221015T130012_25936_03_020401_20221017T034959.nc (727.47 MB)\n",
      "S5P_OFFL_L2__HCHO___20221014T113752_20221014T131921_25922_03_020401_20221016T041029.nc (728.73 MB)\n",
      "S5P_OFFL_L2__HCHO___20221013T115701_20221013T133831_25908_03_020401_20221015T042326.nc (730.64 MB)\n",
      "S5P_OFFL_L2__HCHO___20221013T101532_20221013T115701_25907_03_020401_20221015T023852.nc (722.22 MB)\n",
      "S5P_OFFL_L2__HCHO___20221012T121610_20221012T135740_25894_03_020401_20221014T043615.nc (728.73 MB)\n",
      "S5P_OFFL_L2__HCHO___20221012T103441_20221012T121610_25893_03_020401_20221014T030541.nc (722.78 MB)\n",
      "S5P_OFFL_L2__HCHO___20221011T123520_20221011T141649_25880_03_020401_20221013T050141.nc (728.71 MB)\n",
      "S5P_OFFL_L2__HCHO___20221011T105350_20221011T123520_25879_03_020401_20221013T031843.nc (703.91 MB)\n",
      "S5P_OFFL_L2__HCHO___20221010T111259_20221010T125429_25865_03_020401_20221012T034224.nc (727.58 MB)\n",
      "S5P_OFFL_L2__HCHO___20221009T113208_20221009T131338_25851_03_020401_20221011T040611.nc (726.32 MB)\n",
      "S5P_OFFL_L2__HCHO___20221008T115118_20221008T133247_25837_03_020401_20221010T041849.nc (726.25 MB)\n",
      "S5P_OFFL_L2__HCHO___20221008T100948_20221008T115118_25836_03_020401_20221010T021832.nc (723.1 MB)\n",
      "S5P_OFFL_L2__HCHO___20221007T121027_20221007T135156_25823_03_020401_20221009T043313.nc (726.15 MB)\n",
      "S5P_OFFL_L2__HCHO___20221007T102857_20221007T121027_25822_03_020401_20221009T023634.nc (720.73 MB)\n",
      "S5P_OFFL_L2__HCHO___20221006T122936_20221006T141105_25809_03_020401_20221008T045655.nc (724.99 MB)\n",
      "S5P_OFFL_L2__HCHO___20221006T104806_20221006T122936_25808_03_020401_20221008T025800.nc (724.79 MB)\n",
      "S5P_OFFL_L2__HCHO___20221005T110715_20221005T124845_25794_03_020401_20221007T031250.nc (723.17 MB)\n",
      "S5P_OFFL_L2__HCHO___20221004T112624_20221004T130754_25780_03_020401_20221006T033858.nc (721.84 MB)\n",
      "S5P_OFFL_L2__HCHO___20221003T114533_20221003T132703_25766_03_020401_20221005T040248.nc (727.43 MB)\n",
      "S5P_OFFL_L2__HCHO___20221003T100404_20221003T114533_25765_03_020401_20221005T021606.nc (720.82 MB)\n",
      "S5P_OFFL_L2__HCHO___20221002T120442_20221002T134612_25752_03_020401_20221004T041739.nc (724.7 MB)\n",
      "S5P_OFFL_L2__HCHO___20221002T102313_20221002T120442_25751_03_020401_20221004T024404.nc (720.53 MB)\n",
      "S5P_OFFL_L2__HCHO___20221001T122351_20221001T140521_25738_03_020401_20221003T043121.nc (700.96 MB)\n",
      "S5P_OFFL_L2__HCHO___20221001T104222_20221001T122351_25737_03_020401_20221003T030423.nc (721.83 MB)\n",
      "S5P_OFFL_L2__HCHO___20220930T110131_20220930T124300_25723_03_020401_20221002T032023.nc (702.47 MB)\n",
      "S5P_OFFL_L2__HCHO___20220929T112040_20220929T130209_25709_03_020401_20221001T034538.nc (729.12 MB)\n",
      "S5P_OFFL_L2__HCHO___20220928T113949_20220928T132118_25695_03_020401_20220930T040125.nc (728.13 MB)\n",
      "S5P_OFFL_L2__HCHO___20220927T115858_20220927T134027_25681_03_020401_20220929T042129.nc (727.44 MB)\n",
      "S5P_OFFL_L2__HCHO___20220927T101728_20220927T115858_25680_03_020401_20220929T024038.nc (724.99 MB)\n",
      "S5P_OFFL_L2__HCHO___20220926T121806_20220926T135936_25667_03_020401_20220928T043914.nc (727.85 MB)\n",
      "S5P_OFFL_L2__HCHO___20220926T103637_20220926T121806_25666_03_020401_20220928T025046.nc (725.99 MB)\n",
      "S5P_OFFL_L2__HCHO___20220925T123715_20220925T141845_25653_03_020401_20220927T045257.nc (727.48 MB)\n",
      "S5P_OFFL_L2__HCHO___20220925T105546_20220925T123715_25652_03_020401_20220927T030904.nc (725.72 MB)\n",
      "S5P_OFFL_L2__HCHO___20220924T111455_20220924T125624_25638_03_020401_20220926T033254.nc (726.94 MB)\n",
      "S5P_OFFL_L2__HCHO___20220923T113403_20220923T131533_25624_03_020401_20220925T035719.nc (726.17 MB)\n",
      "S5P_OFFL_L2__HCHO___20220922T115312_20220922T133441_25610_03_020401_20220924T041639.nc (724.95 MB)\n",
      "S5P_OFFL_L2__HCHO___20220922T101143_20220922T115312_25609_03_020401_20220924T022209.nc (724.23 MB)\n",
      "S5P_OFFL_L2__HCHO___20220921T121221_20220921T135350_25596_03_020401_20220923T042048.nc (725.69 MB)\n",
      "S5P_OFFL_L2__HCHO___20220921T103051_20220921T121221_25595_03_020401_20220923T024801.nc (723.43 MB)\n",
      "S5P_OFFL_L2__HCHO___20220920T123129_20220920T141259_25582_03_020401_20220922T044815.nc (725.43 MB)\n",
      "S5P_OFFL_L2__HCHO___20220920T105000_20220920T123129_25581_03_020401_20220922T030628.nc (726.13 MB)\n",
      "S5P_OFFL_L2__HCHO___20220919T110909_20220919T125038_25567_03_020401_20220921T032902.nc (725.09 MB)\n",
      "S5P_OFFL_L2__HCHO___20220918T112817_20220918T130947_25553_03_020401_20220920T034644.nc (728.52 MB)\n",
      "S5P_OFFL_L2__HCHO___20220917T114726_20220917T132855_25539_03_020401_20220919T041222.nc (730.12 MB)\n",
      "S5P_OFFL_L2__HCHO___20220917T100556_20220917T114726_25538_03_020401_20220919T021745.nc (724.72 MB)\n",
      "S5P_OFFL_L2__HCHO___20220916T120634_20220916T134804_25525_03_020401_20220918T043326.nc (730.47 MB)\n",
      "S5P_OFFL_L2__HCHO___20220916T102505_20220916T120634_25524_03_020401_20220918T023942.nc (726.39 MB)\n",
      "S5P_OFFL_L2__HCHO___20220915T122543_20220915T140712_25511_03_020401_20220917T045241.nc (728.82 MB)\n",
      "S5P_OFFL_L2__HCHO___20220915T104414_20220915T122543_25510_03_020401_20220917T030538.nc (726.96 MB)\n",
      "S5P_OFFL_L2__HCHO___20220914T110322_20220914T124451_25496_03_020401_20220916T032016.nc (726.96 MB)\n",
      "S5P_OFFL_L2__HCHO___20220913T112230_20220913T130400_25482_03_020401_20220915T035304.nc (726.59 MB)\n",
      "S5P_OFFL_L2__HCHO___20220912T114139_20220912T132308_25468_03_020401_20220914T040707.nc (701.34 MB)\n",
      "S5P_OFFL_L2__HCHO___20220911T120047_20220911T134216_25454_03_020401_20220913T042806.nc (726.31 MB)\n",
      "S5P_OFFL_L2__HCHO___20220911T101918_20220911T120047_25453_03_020401_20220913T022419.nc (700.25 MB)\n",
      "S5P_OFFL_L2__HCHO___20220910T121955_20220910T140125_25440_03_020401_20220912T044114.nc (726.66 MB)\n",
      "S5P_OFFL_L2__HCHO___20220910T103826_20220910T121955_25439_03_020401_20220912T025314.nc (722.87 MB)\n",
      "S5P_OFFL_L2__HCHO___20220909T123903_20220909T142033_25426_03_020401_20220911T050505.nc (728.0 MB)\n",
      "S5P_OFFL_L2__HCHO___20220909T105734_20220909T123903_25425_03_020401_20220911T031414.nc (721.59 MB)\n",
      "S5P_OFFL_L2__HCHO___20220908T111642_20220908T125811_25411_03_020401_20220910T034213.nc (723.5 MB)\n",
      "S5P_OFFL_L2__HCHO___20220907T113550_20220907T131720_25397_03_020401_20220909T040323.nc (725.04 MB)\n",
      "S5P_OFFL_L2__HCHO___20220906T115458_20220906T133628_25383_03_020401_20220908T042313.nc (723.53 MB)\n",
      "S5P_OFFL_L2__HCHO___20220906T101329_20220906T115458_25382_03_020401_20220908T022202.nc (721.72 MB)\n",
      "S5P_OFFL_L2__HCHO___20220905T121406_20220905T135536_25369_03_020401_20220907T044328.nc (723.19 MB)\n",
      "S5P_OFFL_L2__HCHO___20220905T103237_20220905T121406_25368_03_020401_20220907T024516.nc (720.43 MB)\n",
      "S5P_OFFL_L2__HCHO___20220904T123314_20220904T141444_25355_03_020401_20220906T044754.nc (722.64 MB)\n",
      "S5P_OFFL_L2__HCHO___20220904T105145_20220904T123314_25354_03_020401_20220906T030813.nc (721.61 MB)\n",
      "S5P_OFFL_L2__HCHO___20220903T111053_20220903T125222_25340_03_020401_20220905T033148.nc (720.61 MB)\n",
      "S5P_OFFL_L2__HCHO___20220902T113001_20220902T131130_25326_03_020401_20220904T034852.nc (724.12 MB)\n",
      "S5P_OFFL_L2__HCHO___20220901T114908_20220901T133038_25312_03_020401_20220903T090522.nc (727.41 MB)\n",
      "S5P_OFFL_L2__HCHO___20220901T100739_20220901T114908_25311_03_020401_20220903T070126.nc (727.97 MB)\n",
      "S5P_OFFL_L2__HCHO___20220831T120816_20220831T134946_25298_03_020401_20220902T191302.nc (725.19 MB)\n",
      "S5P_OFFL_L2__HCHO___20220831T102647_20220831T120816_25297_03_020401_20220902T173722.nc (728.86 MB)\n",
      "S5P_OFFL_L2__HCHO___20220830T122724_20220830T140853_25284_03_020401_20220902T012900.nc (724.79 MB)\n",
      "S5P_OFFL_L2__HCHO___20220830T104554_20220830T122724_25283_03_020401_20220902T012117.nc (724.95 MB)\n",
      "S5P_OFFL_L2__HCHO___20220829T110502_20220829T124632_25269_03_020401_20220901T113104.nc (723.3 MB)\n",
      "S5P_OFFL_L2__HCHO___20220828T112410_20220828T130539_25255_03_020401_20220831T101029.nc (724.52 MB)\n",
      "S5P_OFFL_L2__HCHO___20220827T114317_20220827T132447_25241_03_020401_20220830T060629.nc (723.63 MB)\n",
      "S5P_OFFL_L2__HCHO___20220826T120225_20220826T134354_25227_03_020401_20220829T054021.nc (724.96 MB)\n",
      "S5P_OFFL_L2__HCHO___20220826T102055_20220826T120225_25226_03_020401_20220829T053851.nc (722.54 MB)\n",
      "S5P_OFFL_L2__HCHO___20220825T122132_20220825T140302_25213_03_020401_20220828T134851.nc (702.77 MB)\n",
      "S5P_OFFL_L2__HCHO___20220825T104003_20220825T122132_25212_03_020401_20220828T133939.nc (722.82 MB)\n",
      "S5P_OFFL_L2__HCHO___20220824T124040_20220824T142209_25199_03_020401_20220827T082818.nc (726.79 MB)\n",
      "S5P_OFFL_L2__HCHO___20220824T105910_20220824T124040_25198_03_020401_20220827T073603.nc (699.07 MB)\n",
      "S5P_OFFL_L2__HCHO___20220823T111817_20220823T125947_25184_03_020401_20220826T080023.nc (722.39 MB)\n",
      "S5P_OFFL_L2__HCHO___20220822T113725_20220822T131854_25170_03_020401_20220825T175718.nc (725.07 MB)\n",
      "S5P_OFFL_L2__HCHO___20220821T115632_20220821T133801_25156_03_020401_20220825T111049.nc (721.98 MB)\n",
      "S5P_OFFL_L2__HCHO___20220820T121539_20220820T135708_25142_03_020401_20220825T081757.nc (723.17 MB)\n",
      "S5P_OFFL_L2__HCHO___20220820T103409_20220820T121539_25141_03_020401_20220825T081736.nc (726.71 MB)\n",
      "S5P_OFFL_L2__HCHO___20220821T101502_20220821T115632_25155_03_020401_20220824T060925.nc (727.19 MB)\n",
      "S5P_OFFL_L2__HCHO___20220818T111224_20220818T125353_25113_03_020401_20220823T074704.nc (724.51 MB)\n",
      "S5P_OFFL_L2__HCHO___20220819T123446_20220819T141615_25128_03_020401_20220822T183117.nc (723.91 MB)\n",
      "S5P_OFFL_L2__HCHO___20220819T105317_20220819T123446_25127_03_020401_20220822T162702.nc (725.21 MB)\n",
      "S5P_OFFL_L2__HCHO___20220817T113130_20220817T131300_25099_03_020401_20220821T024746.nc (724.06 MB)\n",
      "S5P_OFFL_L2__HCHO___20220816T115037_20220816T133207_25085_03_020401_20220819T123752.nc (723.93 MB)\n",
      "S5P_OFFL_L2__HCHO___20220816T100908_20220816T115037_25084_03_020401_20220819T123726.nc (727.66 MB)\n",
      "S5P_OFFL_L2__HCHO___20220815T120944_20220815T135114_25071_03_020401_20220818T084956.nc (723.56 MB)\n",
      "S5P_OFFL_L2__HCHO___20220815T102815_20220815T120944_25070_03_020401_20220818T084932.nc (727.14 MB)\n",
      "S5P_OFFL_L2__HCHO___20220814T122851_20220814T141020_25057_03_020401_20220817T200343.nc (723.8 MB)\n",
      "S5P_OFFL_L2__HCHO___20220814T104721_20220814T122851_25056_03_020401_20220817T183110.nc (724.41 MB)\n",
      "S5P_OFFL_L2__HCHO___20220813T110628_20220813T124758_25042_03_020401_20220816T094956.nc (722.25 MB)\n",
      "S5P_OFFL_L2__HCHO___20220810T102218_20220810T120348_24999_03_020401_20220816T094700.nc (725.0 MB)\n",
      "S5P_OFFL_L2__HCHO___20220812T112535_20220812T130704_25028_03_020401_20220815T184059.nc (719.35 MB)\n",
      "S5P_OFFL_L2__HCHO___20220810T120348_20220810T134517_25000_03_020401_20220814T102441.nc (719.25 MB)\n",
      "S5P_OFFL_L2__HCHO___20220811T114441_20220811T132611_25014_03_020401_20220814T095713.nc (720.29 MB)\n",
      "S5P_OFFL_L2__HCHO___20220809T122254_20220809T140423_24986_03_020401_20220811T173714.nc (723.17 MB)\n",
      "S5P_OFFL_L2__HCHO___20220809T104124_20220809T122254_24985_03_020401_20220811T171508.nc (723.54 MB)\n",
      "S5P_OFFL_L2__HCHO___20220808T124200_20220808T142330_24972_03_020401_20220810T053940.nc (722.61 MB)\n",
      "S5P_OFFL_L2__HCHO___20220808T110031_20220808T124200_24971_03_020401_20220810T053753.nc (720.66 MB)\n",
      "S5P_OFFL_L2__HCHO___20220807T111937_20220807T130106_24957_03_020401_20220809T054703.nc (720.17 MB)\n",
      "S5P_OFFL_L2__HCHO___20220806T113843_20220806T132013_24943_03_020401_20220808T154211.nc (694.88 MB)\n",
      "S5P_OFFL_L2__HCHO___20220805T115749_20220805T133919_24929_03_020401_20220807T194012.nc (720.91 MB)\n",
      "S5P_OFFL_L2__HCHO___20220805T101620_20220805T115749_24928_03_020401_20220807T094650.nc (700.49 MB)\n",
      "S5P_OFFL_L2__HCHO___20220804T121655_20220804T135825_24915_03_020401_20220806T082228.nc (720.52 MB)\n",
      "S5P_OFFL_L2__HCHO___20220804T103526_20220804T121655_24914_03_020401_20220806T082339.nc (721.85 MB)\n",
      "S5P_OFFL_L2__HCHO___20220803T105432_20220803T123601_24900_03_020401_20220805T171031.nc (722.94 MB)\n",
      "S5P_OFFL_L2__HCHO___20220803T123601_20220803T141731_24901_03_020401_20220805T165208.nc (723.65 MB)\n",
      "\n",
      "Data files will be saved to: /exports/geos.ed.ac.uk/palmer_group/managed/s0677837/Peatlands/TROPOMI/HCHO/CC/\n"
     ]
    },
    {
     "name": "stdin",
     "output_type": "stream",
     "text": [
      "Would you like to download the 479 files?\n",
      "Type \"yes\" or \"no\" and hit \"Enter\"\n",
      " yes\n"
     ]
    },
    {
     "data": {
      "application/vnd.jupyter.widget-view+json": {
       "model_id": "a293818e35854c9490e3a88338091109",
       "version_major": 2,
       "version_minor": 0
      },
      "text/plain": [
       "Fetching archival status:   4%|3         | 17/479 [00:02<00:56,  8.20product/s]"
      ]
     },
     "metadata": {},
     "output_type": "display_data"
    },
    {
     "data": {
      "application/vnd.jupyter.widget-view+json": {
       "model_id": "0d094c170e0449f89aebde03c4a490fd",
       "version_major": 2,
       "version_minor": 0
      },
      "text/plain": [
       "Downloading products:   0%|          | 0/479 [00:00<?, ?product/s]"
      ]
     },
     "metadata": {},
     "output_type": "display_data"
    },
    {
     "data": {
      "application/vnd.jupyter.widget-view+json": {
       "model_id": "e64afbfc7c5149ec9f13ad79823baa0f",
       "version_major": 2,
       "version_minor": 0
      },
      "text/plain": [
       "Downloading S5P_OFFL_L2__HCHO___20221109T114821_20221109T132951_26291_03_020401_20221111T042221.nc:   0%|     …"
      ]
     },
     "metadata": {},
     "output_type": "display_data"
    },
    {
     "data": {
      "application/vnd.jupyter.widget-view+json": {
       "model_id": "55d9560da5fa44b28ff3fb0a70be29be",
       "version_major": 2,
       "version_minor": 0
      },
      "text/plain": [
       "Downloading S5P_OFFL_L2__HCHO___20220911T101918_20220911T120047_25453_03_020401_20220913T022419.nc:   0%|     …"
      ]
     },
     "metadata": {},
     "output_type": "display_data"
    },
    {
     "data": {
      "application/vnd.jupyter.widget-view+json": {
       "model_id": "a03fc71c70954f2c87754823b466d2a0",
       "version_major": 2,
       "version_minor": 0
      },
      "text/plain": [
       "Downloading S5P_OFFL_L2__HCHO___20221027T105212_20221027T123342_26106_03_020401_20221029T030735.nc:   0%|     …"
      ]
     },
     "metadata": {},
     "output_type": "display_data"
    },
    {
     "data": {
      "application/vnd.jupyter.widget-view+json": {
       "model_id": "756696b0d24046e5820f36369b37cd75",
       "version_major": 2,
       "version_minor": 0
      },
      "text/plain": [
       "Downloading S5P_OFFL_L2__HCHO___20221114T115423_20221114T133552_26362_03_020401_20221117T051736.nc:   0%|     …"
      ]
     },
     "metadata": {},
     "output_type": "display_data"
    },
    {
     "data": {
      "application/vnd.jupyter.widget-view+json": {
       "model_id": "",
       "version_major": 2,
       "version_minor": 0
      },
      "text/plain": [
       "MD5 checksumming:   0%|          | 0.00/758M [00:00<?, ?B/s]"
      ]
     },
     "metadata": {},
     "output_type": "display_data"
    },
    {
     "data": {
      "application/vnd.jupyter.widget-view+json": {
       "model_id": "",
       "version_major": 2,
       "version_minor": 0
      },
      "text/plain": [
       "MD5 checksumming:   0%|          | 0.00/757M [00:00<?, ?B/s]"
      ]
     },
     "metadata": {},
     "output_type": "display_data"
    },
    {
     "data": {
      "application/vnd.jupyter.widget-view+json": {
       "model_id": "fc9c7831e0f04220b22f9f1e2f283fb4",
       "version_major": 2,
       "version_minor": 0
      },
      "text/plain": [
       "Downloading S5P_OFFL_L2__HCHO___20220815T120944_20220815T135114_25071_03_020401_20220818T084956.nc:   0%|     …"
      ]
     },
     "metadata": {},
     "output_type": "display_data"
    },
    {
     "data": {
      "application/vnd.jupyter.widget-view+json": {
       "model_id": "475c7d2d50074fa8a2a2f250850dbd28",
       "version_major": 2,
       "version_minor": 0
      },
      "text/plain": [
       "Downloading S5P_OFFL_L2__HCHO___20230228T102938_20230228T121108_27865_03_020401_20230302T023819.nc:   0%|     …"
      ]
     },
     "metadata": {},
     "output_type": "display_data"
    },
    {
     "data": {
      "application/vnd.jupyter.widget-view+json": {
       "model_id": "",
       "version_major": 2,
       "version_minor": 0
      },
      "text/plain": [
       "MD5 checksumming:   0%|          | 0.00/756M [00:00<?, ?B/s]"
      ]
     },
     "metadata": {},
     "output_type": "display_data"
    },
    {
     "data": {
      "application/vnd.jupyter.widget-view+json": {
       "model_id": "f93a17811f1d4d47ad5cffb51e2f4d30",
       "version_major": 2,
       "version_minor": 0
      },
      "text/plain": [
       "Downloading S5P_OFFL_L2__HCHO___20230103T111550_20230103T125720_27071_03_020401_20230105T034605.nc:   0%|     …"
      ]
     },
     "metadata": {},
     "output_type": "display_data"
    },
    {
     "data": {
      "application/vnd.jupyter.widget-view+json": {
       "model_id": "",
       "version_major": 2,
       "version_minor": 0
      },
      "text/plain": [
       "MD5 checksumming:   0%|          | 0.00/734M [00:00<?, ?B/s]"
      ]
     },
     "metadata": {},
     "output_type": "display_data"
    },
    {
     "data": {
      "application/vnd.jupyter.widget-view+json": {
       "model_id": "6bb0406d7c924cf8a6a8e247298107ba",
       "version_major": 2,
       "version_minor": 0
      },
      "text/plain": [
       "Downloading S5P_OFFL_L2__HCHO___20230531T101421_20230531T115551_29170_03_020401_20230602T024722.nc:   0%|     …"
      ]
     },
     "metadata": {},
     "output_type": "display_data"
    },
    {
     "data": {
      "application/vnd.jupyter.widget-view+json": {
       "model_id": "",
       "version_major": 2,
       "version_minor": 0
      },
      "text/plain": [
       "MD5 checksumming:   0%|          | 0.00/754M [00:00<?, ?B/s]"
      ]
     },
     "metadata": {},
     "output_type": "display_data"
    },
    {
     "data": {
      "application/vnd.jupyter.widget-view+json": {
       "model_id": "1afcba390c17494d8e00bf1e7e79611c",
       "version_major": 2,
       "version_minor": 0
      },
      "text/plain": [
       "Downloading S5P_OFFL_L2__HCHO___20220921T103051_20220921T121221_25595_03_020401_20220923T024801.nc:   0%|     …"
      ]
     },
     "metadata": {},
     "output_type": "display_data"
    },
    {
     "data": {
      "application/vnd.jupyter.widget-view+json": {
       "model_id": "",
       "version_major": 2,
       "version_minor": 0
      },
      "text/plain": [
       "MD5 checksumming:   0%|          | 0.00/759M [00:00<?, ?B/s]"
      ]
     },
     "metadata": {},
     "output_type": "display_data"
    },
    {
     "data": {
      "application/vnd.jupyter.widget-view+json": {
       "model_id": "842935b9a5cb4780b3992228d479aff0",
       "version_major": 2,
       "version_minor": 0
      },
      "text/plain": [
       "Downloading S5P_OFFL_L2__HCHO___20220920T123129_20220920T141259_25582_03_020401_20220922T044815.nc:   0%|     …"
      ]
     },
     "metadata": {},
     "output_type": "display_data"
    },
    {
     "data": {
      "application/vnd.jupyter.widget-view+json": {
       "model_id": "",
       "version_major": 2,
       "version_minor": 0
      },
      "text/plain": [
       "MD5 checksumming:   0%|          | 0.00/757M [00:00<?, ?B/s]"
      ]
     },
     "metadata": {},
     "output_type": "display_data"
    },
    {
     "data": {
      "application/vnd.jupyter.widget-view+json": {
       "model_id": "eb1312ba14c44cba8eb5088164d1a3bb",
       "version_major": 2,
       "version_minor": 0
      },
      "text/plain": [
       "Downloading S5P_OFFL_L2__HCHO___20221127T110921_20221127T125051_26546_03_020401_20221204T104819.nc:   0%|     …"
      ]
     },
     "metadata": {},
     "output_type": "display_data"
    },
    {
     "data": {
      "application/vnd.jupyter.widget-view+json": {
       "model_id": "",
       "version_major": 2,
       "version_minor": 0
      },
      "text/plain": [
       "MD5 checksumming:   0%|          | 0.00/757M [00:00<?, ?B/s]"
      ]
     },
     "metadata": {},
     "output_type": "display_data"
    },
    {
     "data": {
      "application/vnd.jupyter.widget-view+json": {
       "model_id": "fbfc7f30083447879875eab0501c5f92",
       "version_major": 2,
       "version_minor": 0
      },
      "text/plain": [
       "Downloading S5P_OFFL_L2__HCHO___20230503T103811_20230503T121941_28773_03_020401_20230505T025639.nc:   0%|     …"
      ]
     },
     "metadata": {},
     "output_type": "display_data"
    },
    {
     "data": {
      "application/vnd.jupyter.widget-view+json": {
       "model_id": "",
       "version_major": 2,
       "version_minor": 0
      },
      "text/plain": [
       "MD5 checksumming:   0%|          | 0.00/759M [00:00<?, ?B/s]"
      ]
     },
     "metadata": {},
     "output_type": "display_data"
    },
    {
     "data": {
      "application/vnd.jupyter.widget-view+json": {
       "model_id": "ec86920ed5314266be7c9145acc162d1",
       "version_major": 2,
       "version_minor": 0
      },
      "text/plain": [
       "Downloading S5P_OFFL_L2__HCHO___20220905T121406_20220905T135536_25369_03_020401_20220907T044328.nc:   0%|     …"
      ]
     },
     "metadata": {},
     "output_type": "display_data"
    },
    {
     "data": {
      "application/vnd.jupyter.widget-view+json": {
       "model_id": "",
       "version_major": 2,
       "version_minor": 0
      },
      "text/plain": [
       "MD5 checksumming:   0%|          | 0.00/761M [00:00<?, ?B/s]"
      ]
     },
     "metadata": {},
     "output_type": "display_data"
    },
    {
     "data": {
      "application/vnd.jupyter.widget-view+json": {
       "model_id": "8645171df23a484aa3daf642eb344165",
       "version_major": 2,
       "version_minor": 0
      },
      "text/plain": [
       "Downloading S5P_OFFL_L2__HCHO___20220902T113001_20220902T131130_25326_03_020401_20220904T034852.nc:   0%|     …"
      ]
     },
     "metadata": {},
     "output_type": "display_data"
    },
    {
     "data": {
      "application/vnd.jupyter.widget-view+json": {
       "model_id": "",
       "version_major": 2,
       "version_minor": 0
      },
      "text/plain": [
       "MD5 checksumming:   0%|          | 0.00/761M [00:00<?, ?B/s]"
      ]
     },
     "metadata": {},
     "output_type": "display_data"
    },
    {
     "data": {
      "application/vnd.jupyter.widget-view+json": {
       "model_id": "4a458ced9ae34128b12e620a88ed4b17",
       "version_major": 2,
       "version_minor": 0
      },
      "text/plain": [
       "Downloading S5P_OFFL_L2__HCHO___20220805T115749_20220805T133919_24929_03_020401_20220807T194012.nc:   0%|     …"
      ]
     },
     "metadata": {},
     "output_type": "display_data"
    },
    {
     "data": {
      "application/vnd.jupyter.widget-view+json": {
       "model_id": "",
       "version_major": 2,
       "version_minor": 0
      },
      "text/plain": [
       "MD5 checksumming:   0%|          | 0.00/760M [00:00<?, ?B/s]"
      ]
     },
     "metadata": {},
     "output_type": "display_data"
    },
    {
     "data": {
      "application/vnd.jupyter.widget-view+json": {
       "model_id": "6d86e0c974aa41449726331b66e57e2f",
       "version_major": 2,
       "version_minor": 0
      },
      "text/plain": [
       "Downloading S5P_OFFL_L2__HCHO___20230207T120243_20230207T134413_27568_03_020401_20230209T041352.nc:   0%|     …"
      ]
     },
     "metadata": {},
     "output_type": "display_data"
    },
    {
     "data": {
      "application/vnd.jupyter.widget-view+json": {
       "model_id": "",
       "version_major": 2,
       "version_minor": 0
      },
      "text/plain": [
       "MD5 checksumming:   0%|          | 0.00/758M [00:00<?, ?B/s]"
      ]
     },
     "metadata": {},
     "output_type": "display_data"
    },
    {
     "data": {
      "application/vnd.jupyter.widget-view+json": {
       "model_id": "fad49ed1a39148b08ed5dc7419182faf",
       "version_major": 2,
       "version_minor": 0
      },
      "text/plain": [
       "Downloading S5P_OFFL_L2__HCHO___20221107T122633_20221107T140802_26263_03_020401_20221109T045143.nc:   0%|     …"
      ]
     },
     "metadata": {},
     "output_type": "display_data"
    },
    {
     "data": {
      "application/vnd.jupyter.widget-view+json": {
       "model_id": "",
       "version_major": 2,
       "version_minor": 0
      },
      "text/plain": [
       "MD5 checksumming:   0%|          | 0.00/759M [00:00<?, ?B/s]"
      ]
     },
     "metadata": {},
     "output_type": "display_data"
    },
    {
     "data": {
      "application/vnd.jupyter.widget-view+json": {
       "model_id": "de5e4728476847b2805f12178420c127",
       "version_major": 2,
       "version_minor": 0
      },
      "text/plain": [
       "Downloading S5P_OFFL_L2__HCHO___20221006T122936_20221006T141105_25809_03_020401_20221008T045655.nc:   0%|     …"
      ]
     },
     "metadata": {},
     "output_type": "display_data"
    },
    {
     "data": {
      "application/vnd.jupyter.widget-view+json": {
       "model_id": "",
       "version_major": 2,
       "version_minor": 0
      },
      "text/plain": [
       "MD5 checksumming:   0%|          | 0.00/756M [00:00<?, ?B/s]"
      ]
     },
     "metadata": {},
     "output_type": "display_data"
    },
    {
     "data": {
      "application/vnd.jupyter.widget-view+json": {
       "model_id": "",
       "version_major": 2,
       "version_minor": 0
      },
      "text/plain": [
       "MD5 checksumming:   0%|          | 0.00/732M [00:00<?, ?B/s]"
      ]
     },
     "metadata": {},
     "output_type": "display_data"
    },
    {
     "data": {
      "application/vnd.jupyter.widget-view+json": {
       "model_id": "146f5a877a3b49d1ac4d7c0263fc5dac",
       "version_major": 2,
       "version_minor": 0
      },
      "text/plain": [
       "Downloading S5P_OFFL_L2__HCHO___20220818T111224_20220818T125353_25113_03_020401_20220823T074704.nc:   0%|     …"
      ]
     },
     "metadata": {},
     "output_type": "display_data"
    },
    {
     "data": {
      "application/vnd.jupyter.widget-view+json": {
       "model_id": "ed582074347d43c999e56aa98f9e865a",
       "version_major": 2,
       "version_minor": 0
      },
      "text/plain": [
       "Downloading S5P_OFFL_L2__HCHO___20230323T114213_20230323T132344_28192_03_020401_20230325T040449.nc:   0%|     …"
      ]
     },
     "metadata": {},
     "output_type": "display_data"
    },
    {
     "data": {
      "application/vnd.jupyter.widget-view+json": {
       "model_id": "",
       "version_major": 2,
       "version_minor": 0
      },
      "text/plain": [
       "MD5 checksumming:   0%|          | 0.00/733M [00:00<?, ?B/s]"
      ]
     },
     "metadata": {},
     "output_type": "display_data"
    },
    {
     "data": {
      "application/vnd.jupyter.widget-view+json": {
       "model_id": "c8cde218dfc64691a71b1a3da2ed80f1",
       "version_major": 2,
       "version_minor": 0
      },
      "text/plain": [
       "Downloading S5P_OFFL_L2__HCHO___20220909T123903_20220909T142033_25426_03_020401_20220911T050505.nc:   0%|     …"
      ]
     },
     "metadata": {},
     "output_type": "display_data"
    },
    {
     "data": {
      "application/vnd.jupyter.widget-view+json": {
       "model_id": "",
       "version_major": 2,
       "version_minor": 0
      },
      "text/plain": [
       "MD5 checksumming:   0%|          | 0.00/760M [00:00<?, ?B/s]"
      ]
     },
     "metadata": {},
     "output_type": "display_data"
    },
    {
     "data": {
      "application/vnd.jupyter.widget-view+json": {
       "model_id": "f581113907a84943bb75d72bdec3f604",
       "version_major": 2,
       "version_minor": 0
      },
      "text/plain": [
       "Downloading S5P_OFFL_L2__HCHO___20230316T103118_20230316T121249_28092_03_020401_20230318T193641.nc:   0%|     …"
      ]
     },
     "metadata": {},
     "output_type": "display_data"
    },
    {
     "data": {
      "application/vnd.jupyter.widget-view+json": {
       "model_id": "",
       "version_major": 2,
       "version_minor": 0
      },
      "text/plain": [
       "MD5 checksumming:   0%|          | 0.00/761M [00:00<?, ?B/s]"
      ]
     },
     "metadata": {},
     "output_type": "display_data"
    },
    {
     "data": {
      "application/vnd.jupyter.widget-view+json": {
       "model_id": "97bac57aa8584423adc35c5e1711b241",
       "version_major": 2,
       "version_minor": 0
      },
      "text/plain": [
       "Downloading S5P_OFFL_L2__HCHO___20221216T115328_20221216T133458_26816_03_020401_20221222T052423.nc:   0%|     …"
      ]
     },
     "metadata": {},
     "output_type": "display_data"
    },
    {
     "data": {
      "application/vnd.jupyter.widget-view+json": {
       "model_id": "",
       "version_major": 2,
       "version_minor": 0
      },
      "text/plain": [
       "MD5 checksumming:   0%|          | 0.00/760M [00:00<?, ?B/s]"
      ]
     },
     "metadata": {},
     "output_type": "display_data"
    },
    {
     "data": {
      "application/vnd.jupyter.widget-view+json": {
       "model_id": "3dd5939f9c4746c0aab29c79dd91f906",
       "version_major": 2,
       "version_minor": 0
      },
      "text/plain": [
       "Downloading S5P_OFFL_L2__HCHO___20220803T105432_20220803T123601_24900_03_020401_20220805T171031.nc:   0%|     …"
      ]
     },
     "metadata": {},
     "output_type": "display_data"
    },
    {
     "data": {
      "application/vnd.jupyter.widget-view+json": {
       "model_id": "",
       "version_major": 2,
       "version_minor": 0
      },
      "text/plain": [
       "MD5 checksumming:   0%|          | 0.00/763M [00:00<?, ?B/s]"
      ]
     },
     "metadata": {},
     "output_type": "display_data"
    },
    {
     "data": {
      "application/vnd.jupyter.widget-view+json": {
       "model_id": "297a8e61d577427e9af120a6c24e7ff9",
       "version_major": 2,
       "version_minor": 0
      },
      "text/plain": [
       "Downloading S5P_OFFL_L2__HCHO___20220814T122851_20220814T141020_25057_03_020401_20220817T200343.nc:   0%|     …"
      ]
     },
     "metadata": {},
     "output_type": "display_data"
    },
    {
     "data": {
      "application/vnd.jupyter.widget-view+json": {
       "model_id": "4916f382b63743f2a81138ee0bc9236f",
       "version_major": 2,
       "version_minor": 0
      },
      "text/plain": [
       "MD5 checksumming:   0%|          | 0.00/762M [00:00<?, ?B/s]"
      ]
     },
     "metadata": {},
     "output_type": "display_data"
    },
    {
     "data": {
      "application/vnd.jupyter.widget-view+json": {
       "model_id": "8ed032f05e0a435ca6c4d988817c98fc",
       "version_major": 2,
       "version_minor": 0
      },
      "text/plain": [
       "Downloading S5P_OFFL_L2__HCHO___20221130T101210_20221130T115340_26588_03_020401_20221207T134102.nc:   0%|     …"
      ]
     },
     "metadata": {},
     "output_type": "display_data"
    },
    {
     "data": {
      "application/vnd.jupyter.widget-view+json": {
       "model_id": "254e475bb9e34f589c9a6c49e9697f01",
       "version_major": 2,
       "version_minor": 0
      },
      "text/plain": [
       "MD5 checksumming:   0%|          | 0.00/759M [00:00<?, ?B/s]"
      ]
     },
     "metadata": {},
     "output_type": "display_data"
    },
    {
     "data": {
      "application/vnd.jupyter.widget-view+json": {
       "model_id": "07705d5ec6da476f9894e0a1152da1ac",
       "version_major": 2,
       "version_minor": 0
      },
      "text/plain": [
       "Downloading S5P_OFFL_L2__HCHO___20230315T123142_20230315T141312_28079_03_020401_20230318T063626.nc:   0%|     …"
      ]
     },
     "metadata": {},
     "output_type": "display_data"
    },
    {
     "data": {
      "application/vnd.jupyter.widget-view+json": {
       "model_id": "ceb868d8cd5f49a49a4b042398ddf45b",
       "version_major": 2,
       "version_minor": 0
      },
      "text/plain": [
       "MD5 checksumming:   0%|          | 0.00/758M [00:00<?, ?B/s]"
      ]
     },
     "metadata": {},
     "output_type": "display_data"
    },
    {
     "data": {
      "application/vnd.jupyter.widget-view+json": {
       "model_id": "c03eeba2a3084612b669d77e0132e629",
       "version_major": 2,
       "version_minor": 0
      },
      "text/plain": [
       "Downloading S5P_OFFL_L2__HCHO___20230506T112250_20230506T130420_28816_03_020401_20230508T035033.nc:   0%|     …"
      ]
     },
     "metadata": {},
     "output_type": "display_data"
    },
    {
     "data": {
      "application/vnd.jupyter.widget-view+json": {
       "model_id": "c702d250274840b088ff7e69873ae53f",
       "version_major": 2,
       "version_minor": 0
      },
      "text/plain": [
       "MD5 checksumming:   0%|          | 0.00/759M [00:00<?, ?B/s]"
      ]
     },
     "metadata": {},
     "output_type": "display_data"
    },
    {
     "data": {
      "application/vnd.jupyter.widget-view+json": {
       "model_id": "a687e2052c834757ac11a74882d16847",
       "version_major": 2,
       "version_minor": 0
      },
      "text/plain": [
       "Downloading S5P_OFFL_L2__HCHO___20230210T110554_20230210T124724_27610_03_020401_20230212T033258.nc:   0%|     …"
      ]
     },
     "metadata": {},
     "output_type": "display_data"
    },
    {
     "data": {
      "application/vnd.jupyter.widget-view+json": {
       "model_id": "1b7c16a62ee04be090a81fed0adeb659",
       "version_major": 2,
       "version_minor": 0
      },
      "text/plain": [
       "MD5 checksumming:   0%|          | 0.00/759M [00:00<?, ?B/s]"
      ]
     },
     "metadata": {},
     "output_type": "display_data"
    },
    {
     "data": {
      "application/vnd.jupyter.widget-view+json": {
       "model_id": "7d705f5ec46546e9878a22fff9a4cb69",
       "version_major": 2,
       "version_minor": 0
      },
      "text/plain": [
       "Downloading S5P_OFFL_L2__HCHO___20230308T112112_20230308T130243_27979_03_020401_20230310T033306.nc:   0%|     …"
      ]
     },
     "metadata": {},
     "output_type": "display_data"
    },
    {
     "data": {
      "application/vnd.jupyter.widget-view+json": {
       "model_id": "1672b6c7863e4c3bbad45004afde2f2b",
       "version_major": 2,
       "version_minor": 0
      },
      "text/plain": [
       "MD5 checksumming:   0%|          | 0.00/755M [00:00<?, ?B/s]"
      ]
     },
     "metadata": {},
     "output_type": "display_data"
    },
    {
     "data": {
      "application/vnd.jupyter.widget-view+json": {
       "model_id": "2039023c610e4093ae580d3660794e25",
       "version_major": 2,
       "version_minor": 0
      },
      "text/plain": [
       "Downloading S5P_OFFL_L2__HCHO___20230107T095954_20230107T114124_27127_03_020401_20230109T022313.nc:   0%|     …"
      ]
     },
     "metadata": {},
     "output_type": "display_data"
    },
    {
     "data": {
      "application/vnd.jupyter.widget-view+json": {
       "model_id": "967e5907ed3f4ebd8d355ac905edb314",
       "version_major": 2,
       "version_minor": 0
      },
      "text/plain": [
       "MD5 checksumming:   0%|          | 0.00/755M [00:00<?, ?B/s]"
      ]
     },
     "metadata": {},
     "output_type": "display_data"
    },
    {
     "data": {
      "application/vnd.jupyter.widget-view+json": {
       "model_id": "829b13ab375f4e1c8e5c3230b1696a8e",
       "version_major": 2,
       "version_minor": 0
      },
      "text/plain": [
       "Downloading S5P_OFFL_L2__HCHO___20221223T112150_20221223T130320_26915_03_020401_20221227T075200.nc:   0%|     …"
      ]
     },
     "metadata": {},
     "output_type": "display_data"
    },
    {
     "data": {
      "application/vnd.jupyter.widget-view+json": {
       "model_id": "da2763b5f79f42a68acae1a379162dc6",
       "version_major": 2,
       "version_minor": 0
      },
      "text/plain": [
       "MD5 checksumming:   0%|          | 0.00/756M [00:00<?, ?B/s]"
      ]
     },
     "metadata": {},
     "output_type": "display_data"
    },
    {
     "data": {
      "application/vnd.jupyter.widget-view+json": {
       "model_id": "679936f748f34c788ec95286d57acaa5",
       "version_major": 2,
       "version_minor": 0
      },
      "text/plain": [
       "Downloading S5P_OFFL_L2__HCHO___20220924T111455_20220924T125624_25638_03_020401_20220926T033254.nc:   0%|     …"
      ]
     },
     "metadata": {},
     "output_type": "display_data"
    },
    {
     "data": {
      "application/vnd.jupyter.widget-view+json": {
       "model_id": "4f36bda66ef34e5f89bfd8f00519015b",
       "version_major": 2,
       "version_minor": 0
      },
      "text/plain": [
       "MD5 checksumming:   0%|          | 0.00/759M [00:00<?, ?B/s]"
      ]
     },
     "metadata": {},
     "output_type": "display_data"
    },
    {
     "data": {
      "application/vnd.jupyter.widget-view+json": {
       "model_id": "14abe17cf1f04503b2478b265b0a6105",
       "version_major": 2,
       "version_minor": 0
      },
      "text/plain": [
       "Downloading S5P_OFFL_L2__HCHO___20220915T104414_20220915T122543_25510_03_020401_20220917T030538.nc:   0%|     …"
      ]
     },
     "metadata": {},
     "output_type": "display_data"
    },
    {
     "data": {
      "application/vnd.jupyter.widget-view+json": {
       "model_id": "c069477eb09d4aed8ea4ffd895d01280",
       "version_major": 2,
       "version_minor": 0
      },
      "text/plain": [
       "MD5 checksumming:   0%|          | 0.00/757M [00:00<?, ?B/s]"
      ]
     },
     "metadata": {},
     "output_type": "display_data"
    },
    {
     "data": {
      "application/vnd.jupyter.widget-view+json": {
       "model_id": "07be434d8a764c9e87ff3fc05e726110",
       "version_major": 2,
       "version_minor": 0
      },
      "text/plain": [
       "Downloading S5P_OFFL_L2__HCHO___20220825T104003_20220825T122132_25212_03_020401_20220828T133939.nc:   0%|     …"
      ]
     },
     "metadata": {},
     "output_type": "display_data"
    },
    {
     "data": {
      "application/vnd.jupyter.widget-view+json": {
       "model_id": "12b1a35d520b443b9de2a9738b5f79bd",
       "version_major": 2,
       "version_minor": 0
      },
      "text/plain": [
       "MD5 checksumming:   0%|          | 0.00/758M [00:00<?, ?B/s]"
      ]
     },
     "metadata": {},
     "output_type": "display_data"
    },
    {
     "data": {
      "application/vnd.jupyter.widget-view+json": {
       "model_id": "9868cff03565488383f096981e370041",
       "version_major": 2,
       "version_minor": 0
      },
      "text/plain": [
       "Downloading S5P_OFFL_L2__HCHO___20221001T122351_20221001T140521_25738_03_020401_20221003T043121.nc:   0%|     …"
      ]
     },
     "metadata": {},
     "output_type": "display_data"
    },
    {
     "data": {
      "application/vnd.jupyter.widget-view+json": {
       "model_id": "e68568fc80944e65babd00d2272e00ef",
       "version_major": 2,
       "version_minor": 0
      },
      "text/plain": [
       "MD5 checksumming:   0%|          | 0.00/762M [00:00<?, ?B/s]"
      ]
     },
     "metadata": {},
     "output_type": "display_data"
    },
    {
     "data": {
      "application/vnd.jupyter.widget-view+json": {
       "model_id": "7a91a3009e6549519e16adf5923c260a",
       "version_major": 2,
       "version_minor": 0
      },
      "text/plain": [
       "Downloading S5P_OFFL_L2__HCHO___20221104T114221_20221104T132351_26220_03_020401_20221106T040126.nc:   0%|     …"
      ]
     },
     "metadata": {},
     "output_type": "display_data"
    },
    {
     "data": {
      "application/vnd.jupyter.widget-view+json": {
       "model_id": "dc6f0d9454e74a60b457e91af93697fd",
       "version_major": 2,
       "version_minor": 0
      },
      "text/plain": [
       "MD5 checksumming:   0%|          | 0.00/762M [00:00<?, ?B/s]"
      ]
     },
     "metadata": {},
     "output_type": "display_data"
    },
    {
     "data": {
      "application/vnd.jupyter.widget-view+json": {
       "model_id": "a768f732d78c4b9db5b71a0feef72fa1",
       "version_major": 2,
       "version_minor": 0
      },
      "text/plain": [
       "Downloading S5P_OFFL_L2__HCHO___20230307T114008_20230307T132138_27965_03_020401_20230309T040210.nc:   0%|     …"
      ]
     },
     "metadata": {},
     "output_type": "display_data"
    },
    {
     "data": {
      "application/vnd.jupyter.widget-view+json": {
       "model_id": "f9200a06596247acb2e073257f19c3dd",
       "version_major": 2,
       "version_minor": 0
      },
      "text/plain": [
       "MD5 checksumming:   0%|          | 0.00/758M [00:00<?, ?B/s]"
      ]
     },
     "metadata": {},
     "output_type": "display_data"
    },
    {
     "data": {
      "application/vnd.jupyter.widget-view+json": {
       "model_id": "f6a6457507bc484ba93d039c68ae2e37",
       "version_major": 2,
       "version_minor": 0
      },
      "text/plain": [
       "Downloading S5P_OFFL_L2__HCHO___20221029T115529_20221029T133658_26135_03_020401_20221031T041050.nc:   0%|     …"
      ]
     },
     "metadata": {},
     "output_type": "display_data"
    },
    {
     "data": {
      "application/vnd.jupyter.widget-view+json": {
       "model_id": "7758d3f17d4b44958633b5fbd98bd946",
       "version_major": 2,
       "version_minor": 0
      },
      "text/plain": [
       "MD5 checksumming:   0%|          | 0.00/735M [00:00<?, ?B/s]"
      ]
     },
     "metadata": {},
     "output_type": "display_data"
    },
    {
     "data": {
      "application/vnd.jupyter.widget-view+json": {
       "model_id": "cf855cf2328f47949ba4cebe399c68ba",
       "version_major": 2,
       "version_minor": 0
      },
      "text/plain": [
       "Downloading S5P_OFFL_L2__HCHO___20221111T111010_20221111T125139_26319_03_020401_20221113T033747.nc:   0%|     …"
      ]
     },
     "metadata": {},
     "output_type": "display_data"
    },
    {
     "data": {
      "application/vnd.jupyter.widget-view+json": {
       "model_id": "2df9adb8e1734f2cb848b7073adf1918",
       "version_major": 2,
       "version_minor": 0
      },
      "text/plain": [
       "MD5 checksumming:   0%|          | 0.00/762M [00:00<?, ?B/s]"
      ]
     },
     "metadata": {},
     "output_type": "display_data"
    },
    {
     "data": {
      "application/vnd.jupyter.widget-view+json": {
       "model_id": "9257e6a96f2949e9bbe449b22e986a7f",
       "version_major": 2,
       "version_minor": 0
      },
      "text/plain": [
       "Downloading S5P_OFFL_L2__HCHO___20221103T101958_20221103T120127_26205_03_020401_20221105T024619.nc:   0%|     …"
      ]
     },
     "metadata": {},
     "output_type": "display_data"
    },
    {
     "data": {
      "application/vnd.jupyter.widget-view+json": {
       "model_id": "12929acf7819485db8b1e2e46fc08a29",
       "version_major": 2,
       "version_minor": 0
      },
      "text/plain": [
       "MD5 checksumming:   0%|          | 0.00/761M [00:00<?, ?B/s]"
      ]
     },
     "metadata": {},
     "output_type": "display_data"
    },
    {
     "data": {
      "application/vnd.jupyter.widget-view+json": {
       "model_id": "d1593317cc3d4699af8470f6deddff9f",
       "version_major": 2,
       "version_minor": 0
      },
      "text/plain": [
       "Downloading S5P_OFFL_L2__HCHO___20221213T110903_20221213T125033_26773_03_020401_20221219T101908.nc:   0%|     …"
      ]
     },
     "metadata": {},
     "output_type": "display_data"
    },
    {
     "data": {
      "application/vnd.jupyter.widget-view+json": {
       "model_id": "297609828508479e9e58bd965006fa24",
       "version_major": 2,
       "version_minor": 0
      },
      "text/plain": [
       "MD5 checksumming:   0%|          | 0.00/762M [00:00<?, ?B/s]"
      ]
     },
     "metadata": {},
     "output_type": "display_data"
    },
    {
     "data": {
      "application/vnd.jupyter.widget-view+json": {
       "model_id": "d37b02eccaea4798ad16d18856b6298b",
       "version_major": 2,
       "version_minor": 0
      },
      "text/plain": [
       "Downloading S5P_OFFL_L2__HCHO___20221018T102116_20221018T120245_25978_03_020401_20221020T025039.nc:   0%|     …"
      ]
     },
     "metadata": {},
     "output_type": "display_data"
    },
    {
     "data": {
      "application/vnd.jupyter.widget-view+json": {
       "model_id": "86a9903218c3479da8b72d328fc45faa",
       "version_major": 2,
       "version_minor": 0
      },
      "text/plain": [
       "MD5 checksumming:   0%|          | 0.00/760M [00:00<?, ?B/s]"
      ]
     },
     "metadata": {},
     "output_type": "display_data"
    },
    {
     "data": {
      "application/vnd.jupyter.widget-view+json": {
       "model_id": "a10af4e9222b4ce88b15aae8356f6cce",
       "version_major": 2,
       "version_minor": 0
      },
      "text/plain": [
       "Downloading S5P_OFFL_L2__HCHO___20220830T122724_20220830T140853_25284_03_020401_20220902T012900.nc:   0%|     …"
      ]
     },
     "metadata": {},
     "output_type": "display_data"
    },
    {
     "data": {
      "application/vnd.jupyter.widget-view+json": {
       "model_id": "e247f6443ca14edaba120dccd6b12c33",
       "version_major": 2,
       "version_minor": 0
      },
      "text/plain": [
       "MD5 checksumming:   0%|          | 0.00/759M [00:00<?, ?B/s]"
      ]
     },
     "metadata": {},
     "output_type": "display_data"
    },
    {
     "data": {
      "application/vnd.jupyter.widget-view+json": {
       "model_id": "f5bdf517ae16475ea78ea01ecbe75cbb",
       "version_major": 2,
       "version_minor": 0
      },
      "text/plain": [
       "Downloading S5P_OFFL_L2__HCHO___20221231T121249_20221231T135419_27029_03_020401_20230102T115704.nc:   0%|     …"
      ]
     },
     "metadata": {},
     "output_type": "display_data"
    },
    {
     "data": {
      "application/vnd.jupyter.widget-view+json": {
       "model_id": "46a9f471164c4426a02464f3463df2e9",
       "version_major": 2,
       "version_minor": 0
      },
      "text/plain": [
       "MD5 checksumming:   0%|          | 0.00/734M [00:00<?, ?B/s]"
      ]
     },
     "metadata": {},
     "output_type": "display_data"
    },
    {
     "data": {
      "application/vnd.jupyter.widget-view+json": {
       "model_id": "78eda55e270c4ebdbc2c1218f8391328",
       "version_major": 2,
       "version_minor": 0
      },
      "text/plain": [
       "Downloading S5P_OFFL_L2__HCHO___20230112T100631_20230112T114801_27198_03_020401_20230114T022403.nc:   0%|     …"
      ]
     },
     "metadata": {},
     "output_type": "display_data"
    },
    {
     "data": {
      "application/vnd.jupyter.widget-view+json": {
       "model_id": "13ada12f775a424792fe36784c980e8b",
       "version_major": 2,
       "version_minor": 0
      },
      "text/plain": [
       "MD5 checksumming:   0%|          | 0.00/737M [00:00<?, ?B/s]"
      ]
     },
     "metadata": {},
     "output_type": "display_data"
    },
    {
     "data": {
      "application/vnd.jupyter.widget-view+json": {
       "model_id": "a49897a95000428ba1251606580f627e",
       "version_major": 2,
       "version_minor": 0
      },
      "text/plain": [
       "Downloading S5P_OFFL_L2__HCHO___20221216T101158_20221216T115328_26815_03_020401_20221222T050454.nc:   0%|     …"
      ]
     },
     "metadata": {},
     "output_type": "display_data"
    },
    {
     "data": {
      "application/vnd.jupyter.widget-view+json": {
       "model_id": "3e57db9e86704ae5876ff1c4a6304142",
       "version_major": 2,
       "version_minor": 0
      },
      "text/plain": [
       "MD5 checksumming:   0%|          | 0.00/760M [00:00<?, ?B/s]"
      ]
     },
     "metadata": {},
     "output_type": "display_data"
    },
    {
     "data": {
      "application/vnd.jupyter.widget-view+json": {
       "model_id": "17807dcd665849dea6094c4cfcd7078c",
       "version_major": 2,
       "version_minor": 0
      },
      "text/plain": [
       "Downloading S5P_OFFL_L2__HCHO___20230520T102018_20230520T120148_29014_03_020401_20230522T023738.nc:   0%|     …"
      ]
     },
     "metadata": {},
     "output_type": "display_data"
    },
    {
     "data": {
      "application/vnd.jupyter.widget-view+json": {
       "model_id": "82df013a46904b5bb528e3caf1f06c1e",
       "version_major": 2,
       "version_minor": 0
      },
      "text/plain": [
       "MD5 checksumming:   0%|          | 0.00/731M [00:00<?, ?B/s]"
      ]
     },
     "metadata": {},
     "output_type": "display_data"
    },
    {
     "data": {
      "application/vnd.jupyter.widget-view+json": {
       "model_id": "38006f448780492d81edf4650775c05b",
       "version_major": 2,
       "version_minor": 0
      },
      "text/plain": [
       "Downloading S5P_OFFL_L2__HCHO___20230511T112933_20230511T131103_28887_03_020401_20230513T035830.nc:   0%|     …"
      ]
     },
     "metadata": {},
     "output_type": "display_data"
    },
    {
     "data": {
      "application/vnd.jupyter.widget-view+json": {
       "model_id": "0301f90f715e468fb782cd24d362cf71",
       "version_major": 2,
       "version_minor": 0
      },
      "text/plain": [
       "MD5 checksumming:   0%|          | 0.00/759M [00:00<?, ?B/s]"
      ]
     },
     "metadata": {},
     "output_type": "display_data"
    },
    {
     "data": {
      "application/vnd.jupyter.widget-view+json": {
       "model_id": "44d9a7ca897c4a37a6d36716183cb8f8",
       "version_major": 2,
       "version_minor": 0
      },
      "text/plain": [
       "Downloading S5P_OFFL_L2__HCHO___20230415T111356_20230415T125527_28518_03_020401_20230417T034306.nc:   0%|     …"
      ]
     },
     "metadata": {},
     "output_type": "display_data"
    },
    {
     "data": {
      "application/vnd.jupyter.widget-view+json": {
       "model_id": "d5f6c6ce0dee49c787362878fe714399",
       "version_major": 2,
       "version_minor": 0
      },
      "text/plain": [
       "MD5 checksumming:   0%|          | 0.00/755M [00:00<?, ?B/s]"
      ]
     },
     "metadata": {},
     "output_type": "display_data"
    },
    {
     "data": {
      "application/vnd.jupyter.widget-view+json": {
       "model_id": "035fe962476e49479b732aef197d1160",
       "version_major": 2,
       "version_minor": 0
      },
      "text/plain": [
       "MD5 checksumming:   0%|          | 0.00/755M [00:00<?, ?B/s]"
      ]
     },
     "metadata": {},
     "output_type": "display_data"
    },
    {
     "data": {
      "application/vnd.jupyter.widget-view+json": {
       "model_id": "71669557e8314c95adaf47030754e14a",
       "version_major": 2,
       "version_minor": 0
      },
      "text/plain": [
       "Downloading S5P_OFFL_L2__HCHO___20230404T111842_20230404T130013_28362_03_020401_20230406T033503.nc:   0%|     …"
      ]
     },
     "metadata": {},
     "output_type": "display_data"
    },
    {
     "data": {
      "application/vnd.jupyter.widget-view+json": {
       "model_id": "c03485d6ae2f4c0d883c7d3cf1ce7a1f",
       "version_major": 2,
       "version_minor": 0
      },
      "text/plain": [
       "Downloading S5P_OFFL_L2__HCHO___20220930T110131_20220930T124300_25723_03_020401_20221002T032023.nc:   0%|     …"
      ]
     },
     "metadata": {},
     "output_type": "display_data"
    },
    {
     "data": {
      "application/vnd.jupyter.widget-view+json": {
       "model_id": "3a9f580144684078a6cfadff4ca69a8d",
       "version_major": 2,
       "version_minor": 0
      },
      "text/plain": [
       "MD5 checksumming:   0%|          | 0.00/757M [00:00<?, ?B/s]"
      ]
     },
     "metadata": {},
     "output_type": "display_data"
    },
    {
     "data": {
      "application/vnd.jupyter.widget-view+json": {
       "model_id": "97eac2558ee64ac797843985542cec84",
       "version_major": 2,
       "version_minor": 0
      },
      "text/plain": [
       "Downloading S5P_OFFL_L2__HCHO___20221204T103726_20221204T121856_26645_03_020401_20221211T090328.nc:   0%|     …"
      ]
     },
     "metadata": {},
     "output_type": "display_data"
    },
    {
     "data": {
      "application/vnd.jupyter.widget-view+json": {
       "model_id": "d2915cb52f8f4ce0afef0036e95debe6",
       "version_major": 2,
       "version_minor": 0
      },
      "text/plain": [
       "MD5 checksumming:   0%|          | 0.00/760M [00:00<?, ?B/s]"
      ]
     },
     "metadata": {},
     "output_type": "display_data"
    },
    {
     "data": {
      "application/vnd.jupyter.widget-view+json": {
       "model_id": "28b5956503484af1bdd54c2bb94b6224",
       "version_major": 2,
       "version_minor": 0
      },
      "text/plain": [
       "Downloading S5P_OFFL_L2__HCHO___20220904T105145_20220904T123314_25354_03_020401_20220906T030813.nc:   0%|     …"
      ]
     },
     "metadata": {},
     "output_type": "display_data"
    },
    {
     "data": {
      "application/vnd.jupyter.widget-view+json": {
       "model_id": "7cab852bfd6c4d7780208328d1a84b71",
       "version_major": 2,
       "version_minor": 0
      },
      "text/plain": [
       "MD5 checksumming:   0%|          | 0.00/737M [00:00<?, ?B/s]"
      ]
     },
     "metadata": {},
     "output_type": "display_data"
    },
    {
     "data": {
      "application/vnd.jupyter.widget-view+json": {
       "model_id": "68eacaf369714a25acb7825ef1dee2f2",
       "version_major": 2,
       "version_minor": 0
      },
      "text/plain": [
       "MD5 checksumming:   0%|          | 0.00/759M [00:00<?, ?B/s]"
      ]
     },
     "metadata": {},
     "output_type": "display_data"
    },
    {
     "data": {
      "application/vnd.jupyter.widget-view+json": {
       "model_id": "2474a33446fe43bab2b5b5100df974fe",
       "version_major": 2,
       "version_minor": 0
      },
      "text/plain": [
       "Downloading S5P_OFFL_L2__HCHO___20230312T114659_20230312T132830_28036_03_020401_20230315T155219.nc:   0%|     …"
      ]
     },
     "metadata": {},
     "output_type": "display_data"
    },
    {
     "data": {
      "application/vnd.jupyter.widget-view+json": {
       "model_id": "7e704b3128e141beae136b425661e836",
       "version_major": 2,
       "version_minor": 0
      },
      "text/plain": [
       "Downloading S5P_OFFL_L2__HCHO___20230301T101042_20230301T115212_27879_03_020401_20230303T023220.nc:   0%|     …"
      ]
     },
     "metadata": {},
     "output_type": "display_data"
    },
    {
     "data": {
      "application/vnd.jupyter.widget-view+json": {
       "model_id": "c7b7467049214d9fb6178385d090c735",
       "version_major": 2,
       "version_minor": 0
      },
      "text/plain": [
       "MD5 checksumming:   0%|          | 0.00/756M [00:00<?, ?B/s]"
      ]
     },
     "metadata": {},
     "output_type": "display_data"
    },
    {
     "data": {
      "application/vnd.jupyter.widget-view+json": {
       "model_id": "b1f6206c1fed4263b68f88b802782923",
       "version_major": 2,
       "version_minor": 0
      },
      "text/plain": [
       "Downloading S5P_OFFL_L2__HCHO___20230309T110217_20230309T124347_27993_03_020401_20230311T031354.nc:   0%|     …"
      ]
     },
     "metadata": {},
     "output_type": "display_data"
    },
    {
     "data": {
      "application/vnd.jupyter.widget-view+json": {
       "model_id": "4b66f10b4446480097c5b4fdd2637867",
       "version_major": 2,
       "version_minor": 0
      },
      "text/plain": [
       "MD5 checksumming:   0%|          | 0.00/757M [00:00<?, ?B/s]"
      ]
     },
     "metadata": {},
     "output_type": "display_data"
    },
    {
     "data": {
      "application/vnd.jupyter.widget-view+json": {
       "model_id": "d4aa9fb20835403089fd6c84fce1cf1c",
       "version_major": 2,
       "version_minor": 0
      },
      "text/plain": [
       "Downloading S5P_OFFL_L2__HCHO___20221003T114533_20221003T132703_25766_03_020401_20221005T040248.nc:   0%|     …"
      ]
     },
     "metadata": {},
     "output_type": "display_data"
    },
    {
     "data": {
      "application/vnd.jupyter.widget-view+json": {
       "model_id": "6f4922140fd34644a4db36df06b3dc92",
       "version_major": 2,
       "version_minor": 0
      },
      "text/plain": [
       "MD5 checksumming:   0%|          | 0.00/762M [00:00<?, ?B/s]"
      ]
     },
     "metadata": {},
     "output_type": "display_data"
    },
    {
     "data": {
      "application/vnd.jupyter.widget-view+json": {
       "model_id": "68698dca46404d5ea9f4b5a02c781938",
       "version_major": 2,
       "version_minor": 0
      },
      "text/plain": [
       "Downloading S5P_OFFL_L2__HCHO___20221225T104349_20221225T122519_26943_03_020401_20221228T154955.nc:   0%|     …"
      ]
     },
     "metadata": {},
     "output_type": "display_data"
    },
    {
     "data": {
      "application/vnd.jupyter.widget-view+json": {
       "model_id": "84077411a1f74433bfcd4cafc80e94c1",
       "version_major": 2,
       "version_minor": 0
      },
      "text/plain": [
       "MD5 checksumming:   0%|          | 0.00/758M [00:00<?, ?B/s]"
      ]
     },
     "metadata": {},
     "output_type": "display_data"
    },
    {
     "data": {
      "application/vnd.jupyter.widget-view+json": {
       "model_id": "72c769c465b94f4e9bc6ec7d800c82bc",
       "version_major": 2,
       "version_minor": 0
      },
      "text/plain": [
       "Downloading S5P_OFFL_L2__HCHO___20220819T123446_20220819T141615_25128_03_020401_20220822T183117.nc:   0%|     …"
      ]
     },
     "metadata": {},
     "output_type": "display_data"
    },
    {
     "data": {
      "application/vnd.jupyter.widget-view+json": {
       "model_id": "95d53bc142924a28a72611c273347b78",
       "version_major": 2,
       "version_minor": 0
      },
      "text/plain": [
       "MD5 checksumming:   0%|          | 0.00/760M [00:00<?, ?B/s]"
      ]
     },
     "metadata": {},
     "output_type": "display_data"
    },
    {
     "data": {
      "application/vnd.jupyter.widget-view+json": {
       "model_id": "4dec2d637b5d4b188b77893a4c82dd2d",
       "version_major": 2,
       "version_minor": 0
      },
      "text/plain": [
       "Downloading S5P_OFFL_L2__HCHO___20230117T101310_20230117T115441_27269_03_020401_20230119T022550.nc:   0%|     …"
      ]
     },
     "metadata": {},
     "output_type": "display_data"
    },
    {
     "data": {
      "application/vnd.jupyter.widget-view+json": {
       "model_id": "5711c4cb9a6f4e0fa869dcaac30a51c9",
       "version_major": 2,
       "version_minor": 0
      },
      "text/plain": [
       "MD5 checksumming:   0%|          | 0.00/755M [00:00<?, ?B/s]"
      ]
     },
     "metadata": {},
     "output_type": "display_data"
    },
    {
     "data": {
      "application/vnd.jupyter.widget-view+json": {
       "model_id": "cd77b4bb83d64c2587df46dd6d49e826",
       "version_major": 2,
       "version_minor": 0
      },
      "text/plain": [
       "Downloading S5P_OFFL_L2__HCHO___20230126T104533_20230126T122703_27397_03_020401_20230128T030404.nc:   0%|     …"
      ]
     },
     "metadata": {},
     "output_type": "display_data"
    },
    {
     "data": {
      "application/vnd.jupyter.widget-view+json": {
       "model_id": "fbdd19c629a44b8c80a70f5a9a0bc900",
       "version_major": 2,
       "version_minor": 0
      },
      "text/plain": [
       "MD5 checksumming:   0%|          | 0.00/763M [00:00<?, ?B/s]"
      ]
     },
     "metadata": {},
     "output_type": "display_data"
    },
    {
     "data": {
      "application/vnd.jupyter.widget-view+json": {
       "model_id": "36ab24a3583a4792af3cd460224adead",
       "version_major": 2,
       "version_minor": 0
      },
      "text/plain": [
       "Downloading S5P_OFFL_L2__HCHO___20230412T102907_20230412T121037_28475_03_020401_20230414T024232.nc:   0%|     …"
      ]
     },
     "metadata": {},
     "output_type": "display_data"
    },
    {
     "data": {
      "application/vnd.jupyter.widget-view+json": {
       "model_id": "01a80242812040a8b163f7802db4c487",
       "version_major": 2,
       "version_minor": 0
      },
      "text/plain": [
       "MD5 checksumming:   0%|          | 0.00/755M [00:00<?, ?B/s]"
      ]
     },
     "metadata": {},
     "output_type": "display_data"
    },
    {
     "data": {
      "application/vnd.jupyter.widget-view+json": {
       "model_id": "b0c7e7379d79405fb5e1d22b6108c576",
       "version_major": 2,
       "version_minor": 0
      },
      "text/plain": [
       "Downloading S5P_OFFL_L2__HCHO___20221102T122033_20221102T140203_26192_03_020401_20221104T043939.nc:   0%|     …"
      ]
     },
     "metadata": {},
     "output_type": "display_data"
    },
    {
     "data": {
      "application/vnd.jupyter.widget-view+json": {
       "model_id": "9bb11e9e52954973a896b6df33ceb046",
       "version_major": 2,
       "version_minor": 0
      },
      "text/plain": [
       "MD5 checksumming:   0%|          | 0.00/759M [00:00<?, ?B/s]"
      ]
     },
     "metadata": {},
     "output_type": "display_data"
    },
    {
     "data": {
      "application/vnd.jupyter.widget-view+json": {
       "model_id": "88eb83d70ac443efba9a7487300a7d71",
       "version_major": 2,
       "version_minor": 0
      },
      "text/plain": [
       "Downloading S5P_OFFL_L2__HCHO___20230526T100752_20230526T114922_29099_03_020401_20230528T021729.nc:   0%|     …"
      ]
     },
     "metadata": {},
     "output_type": "display_data"
    },
    {
     "data": {
      "application/vnd.jupyter.widget-view+json": {
       "model_id": "f53333a9cafb4cccabead75007239772",
       "version_major": 2,
       "version_minor": 0
      },
      "text/plain": [
       "MD5 checksumming:   0%|          | 0.00/758M [00:00<?, ?B/s]"
      ]
     },
     "metadata": {},
     "output_type": "display_data"
    },
    {
     "data": {
      "application/vnd.jupyter.widget-view+json": {
       "model_id": "e1ed6b5ad82b48749274c03e61c2f7d1",
       "version_major": 2,
       "version_minor": 0
      },
      "text/plain": [
       "Downloading S5P_OFFL_L2__HCHO___20230317T115357_20230317T133527_28107_03_020401_20230319T102115.nc:   0%|     …"
      ]
     },
     "metadata": {},
     "output_type": "display_data"
    },
    {
     "data": {
      "application/vnd.jupyter.widget-view+json": {
       "model_id": "e75594ef15f74db9b5a98cd5ab61e82e",
       "version_major": 2,
       "version_minor": 0
      },
      "text/plain": [
       "MD5 checksumming:   0%|          | 0.00/734M [00:00<?, ?B/s]"
      ]
     },
     "metadata": {},
     "output_type": "display_data"
    },
    {
     "data": {
      "application/vnd.jupyter.widget-view+json": {
       "model_id": "7d6f232cc502489685c6e80d488f148b",
       "version_major": 2,
       "version_minor": 0
      },
      "text/plain": [
       "MD5 checksumming:   0%|          | 0.00/764M [00:00<?, ?B/s]"
      ]
     },
     "metadata": {},
     "output_type": "display_data"
    },
    {
     "data": {
      "application/vnd.jupyter.widget-view+json": {
       "model_id": "d25dac3914684aa3ad349a9837f7628b",
       "version_major": 2,
       "version_minor": 0
      },
      "text/plain": [
       "MD5 checksumming:   0%|          | 0.00/757M [00:00<?, ?B/s]"
      ]
     },
     "metadata": {},
     "output_type": "display_data"
    },
    {
     "data": {
      "application/vnd.jupyter.widget-view+json": {
       "model_id": "0daff479ed3d4f82805db3fc4a904f45",
       "version_major": 2,
       "version_minor": 0
      },
      "text/plain": [
       "Downloading S5P_OFFL_L2__HCHO___20220824T124040_20220824T142209_25199_03_020401_20220827T082818.nc:   0%|     …"
      ]
     },
     "metadata": {},
     "output_type": "display_data"
    },
    {
     "data": {
      "application/vnd.jupyter.widget-view+json": {
       "model_id": "f109bb9500e8440c85a6ca3e332ca748",
       "version_major": 2,
       "version_minor": 0
      },
      "text/plain": [
       "Downloading S5P_OFFL_L2__HCHO___20230303T111421_20230303T125551_27908_03_020401_20230305T034904.nc:   0%|     …"
      ]
     },
     "metadata": {},
     "output_type": "display_data"
    },
    {
     "data": {
      "application/vnd.jupyter.widget-view+json": {
       "model_id": "829dd092a7fc477e919ecbdcfbd496e1",
       "version_major": 2,
       "version_minor": 0
      },
      "text/plain": [
       "Downloading S5P_OFFL_L2__HCHO___20221106T110409_20221106T124539_26248_03_020401_20221108T033408.nc:   0%|     …"
      ]
     },
     "metadata": {},
     "output_type": "display_data"
    },
    {
     "data": {
      "application/vnd.jupyter.widget-view+json": {
       "model_id": "6df3f5e4db424524bee9396d769c326e",
       "version_major": 2,
       "version_minor": 0
      },
      "text/plain": [
       "MD5 checksumming:   0%|          | 0.00/761M [00:00<?, ?B/s]"
      ]
     },
     "metadata": {},
     "output_type": "display_data"
    },
    {
     "data": {
      "application/vnd.jupyter.widget-view+json": {
       "model_id": "c608e52252434eae9a8fe5c17285f282",
       "version_major": 2,
       "version_minor": 0
      },
      "text/plain": [
       "Downloading S5P_OFFL_L2__HCHO___20230126T122703_20230126T140833_27398_03_020401_20230128T050146.nc:   0%|     …"
      ]
     },
     "metadata": {},
     "output_type": "display_data"
    },
    {
     "data": {
      "application/vnd.jupyter.widget-view+json": {
       "model_id": "f6c1d6979df94533bf7741b61f505999",
       "version_major": 2,
       "version_minor": 0
      },
      "text/plain": [
       "MD5 checksumming:   0%|          | 0.00/733M [00:00<?, ?B/s]"
      ]
     },
     "metadata": {},
     "output_type": "display_data"
    },
    {
     "data": {
      "application/vnd.jupyter.widget-view+json": {
       "model_id": "11408e75f178422db3de3a178f9aa45c",
       "version_major": 2,
       "version_minor": 0
      },
      "text/plain": [
       "Downloading S5P_OFFL_L2__HCHO___20221120T114122_20221120T132252_26447_03_020401_20221127T124934.nc:   0%|     …"
      ]
     },
     "metadata": {},
     "output_type": "display_data"
    },
    {
     "data": {
      "application/vnd.jupyter.widget-view+json": {
       "model_id": "354189f26f04496d9f497fad2d10f644",
       "version_major": 2,
       "version_minor": 0
      },
      "text/plain": [
       "MD5 checksumming:   0%|          | 0.00/758M [00:00<?, ?B/s]"
      ]
     },
     "metadata": {},
     "output_type": "display_data"
    },
    {
     "data": {
      "application/vnd.jupyter.widget-view+json": {
       "model_id": "17d4349b35a148d5afb9dcbaf8d54fd5",
       "version_major": 2,
       "version_minor": 0
      },
      "text/plain": [
       "Downloading S5P_OFFL_L2__HCHO___20221211T100538_20221211T114708_26744_03_020401_20221217T162756.nc:   0%|     …"
      ]
     },
     "metadata": {},
     "output_type": "display_data"
    },
    {
     "data": {
      "application/vnd.jupyter.widget-view+json": {
       "model_id": "57a20d8fe9a547beb0e16fb871564fd4",
       "version_major": 2,
       "version_minor": 0
      },
      "text/plain": [
       "MD5 checksumming:   0%|          | 0.00/762M [00:00<?, ?B/s]"
      ]
     },
     "metadata": {},
     "output_type": "display_data"
    },
    {
     "data": {
      "application/vnd.jupyter.widget-view+json": {
       "model_id": "a4925a00f1904856bcadfc06ba6861f5",
       "version_major": 2,
       "version_minor": 0
      },
      "text/plain": [
       "Downloading S5P_OFFL_L2__HCHO___20221215T121230_20221215T135359_26802_03_020401_20221221T052920.nc:   0%|     …"
      ]
     },
     "metadata": {},
     "output_type": "display_data"
    },
    {
     "data": {
      "application/vnd.jupyter.widget-view+json": {
       "model_id": "ebb1957bbfc14e26831d11df0df88ab9",
       "version_major": 2,
       "version_minor": 0
      },
      "text/plain": [
       "MD5 checksumming:   0%|          | 0.00/756M [00:00<?, ?B/s]"
      ]
     },
     "metadata": {},
     "output_type": "display_data"
    },
    {
     "data": {
      "application/vnd.jupyter.widget-view+json": {
       "model_id": "fc80bc9e517249a6bd3d36e575ab5aec",
       "version_major": 2,
       "version_minor": 0
      },
      "text/plain": [
       "Downloading S5P_OFFL_L2__HCHO___20220908T111642_20220908T125811_25411_03_020401_20220910T034213.nc:   0%|     …"
      ]
     },
     "metadata": {},
     "output_type": "display_data"
    },
    {
     "data": {
      "application/vnd.jupyter.widget-view+json": {
       "model_id": "bea5e57b7ee144a4add9337bd8cae755",
       "version_major": 2,
       "version_minor": 0
      },
      "text/plain": [
       "MD5 checksumming:   0%|          | 0.00/759M [00:00<?, ?B/s]"
      ]
     },
     "metadata": {},
     "output_type": "display_data"
    },
    {
     "data": {
      "application/vnd.jupyter.widget-view+json": {
       "model_id": "18873788929b48e6994484a06046169f",
       "version_major": 2,
       "version_minor": 0
      },
      "text/plain": [
       "Downloading S5P_OFFL_L2__HCHO___20221029T101359_20221029T115529_26134_03_020401_20221031T023316.nc:   0%|     …"
      ]
     },
     "metadata": {},
     "output_type": "display_data"
    },
    {
     "data": {
      "application/vnd.jupyter.widget-view+json": {
       "model_id": "de3f791b89c44227a42cb816eee94054",
       "version_major": 2,
       "version_minor": 0
      },
      "text/plain": [
       "MD5 checksumming:   0%|          | 0.00/759M [00:00<?, ?B/s]"
      ]
     },
     "metadata": {},
     "output_type": "display_data"
    },
    {
     "data": {
      "application/vnd.jupyter.widget-view+json": {
       "model_id": "e674f27da30e48c0b7be63b91bb5c650",
       "version_major": 2,
       "version_minor": 0
      },
      "text/plain": [
       "MD5 checksumming:   0%|          | 0.00/755M [00:00<?, ?B/s]"
      ]
     },
     "metadata": {},
     "output_type": "display_data"
    },
    {
     "data": {
      "application/vnd.jupyter.widget-view+json": {
       "model_id": "a17c651ee576419a9dead3ce75a9c8ac",
       "version_major": 2,
       "version_minor": 0
      },
      "text/plain": [
       "Downloading S5P_OFFL_L2__HCHO___20230423T102416_20230423T120547_28631_03_020401_20230425T023649.nc:   0%|     …"
      ]
     },
     "metadata": {},
     "output_type": "display_data"
    },
    {
     "data": {
      "application/vnd.jupyter.widget-view+json": {
       "model_id": "fcbbe17ab284459fbe75d9ca72e5d3d3",
       "version_major": 2,
       "version_minor": 0
      },
      "text/plain": [
       "Downloading S5P_OFFL_L2__HCHO___20230211T122828_20230211T140958_27625_03_020401_20230213T045433.nc:   0%|     …"
      ]
     },
     "metadata": {},
     "output_type": "display_data"
    },
    {
     "data": {
      "application/vnd.jupyter.widget-view+json": {
       "model_id": "a8f9170906374faba2e93bef5fcf777a",
       "version_major": 2,
       "version_minor": 0
      },
      "text/plain": [
       "MD5 checksumming:   0%|          | 0.00/759M [00:00<?, ?B/s]"
      ]
     },
     "metadata": {},
     "output_type": "display_data"
    },
    {
     "data": {
      "application/vnd.jupyter.widget-view+json": {
       "model_id": "2fa51aecade34d1e9aa7be816d842946",
       "version_major": 2,
       "version_minor": 0
      },
      "text/plain": [
       "Downloading S5P_OFFL_L2__HCHO___20230218T101555_20230218T115726_27723_03_020401_20230220T023242.nc:   0%|     …"
      ]
     },
     "metadata": {},
     "output_type": "display_data"
    },
    {
     "data": {
      "application/vnd.jupyter.widget-view+json": {
       "model_id": "2945f0b1dbcd4aeb8d002e5cecfb2260",
       "version_major": 2,
       "version_minor": 0
      },
      "text/plain": [
       "MD5 checksumming:   0%|          | 0.00/760M [00:00<?, ?B/s]"
      ]
     },
     "metadata": {},
     "output_type": "display_data"
    },
    {
     "data": {
      "application/vnd.jupyter.widget-view+json": {
       "model_id": "f3ff3244732344ee91e185674c2fe8b5",
       "version_major": 2,
       "version_minor": 0
      },
      "text/plain": [
       "Downloading S5P_OFFL_L2__HCHO___20221001T104222_20221001T122351_25737_03_020401_20221003T030423.nc:   0%|     …"
      ]
     },
     "metadata": {},
     "output_type": "display_data"
    },
    {
     "data": {
      "application/vnd.jupyter.widget-view+json": {
       "model_id": "2011808dba67497a82fd2f64dcd39763",
       "version_major": 2,
       "version_minor": 0
      },
      "text/plain": [
       "MD5 checksumming:   0%|          | 0.00/764M [00:00<?, ?B/s]"
      ]
     },
     "metadata": {},
     "output_type": "display_data"
    },
    {
     "data": {
      "application/vnd.jupyter.widget-view+json": {
       "model_id": "5a0fd73570f04cfca07b8ae62fc59a2e",
       "version_major": 2,
       "version_minor": 0
      },
      "text/plain": [
       "Downloading S5P_OFFL_L2__HCHO___20220920T105000_20220920T123129_25581_03_020401_20220922T030628.nc:   0%|     …"
      ]
     },
     "metadata": {},
     "output_type": "display_data"
    },
    {
     "data": {
      "application/vnd.jupyter.widget-view+json": {
       "model_id": "2e95faa1c87a43eb8e49882c067bb9ea",
       "version_major": 2,
       "version_minor": 0
      },
      "text/plain": [
       "MD5 checksumming:   0%|          | 0.00/754M [00:00<?, ?B/s]"
      ]
     },
     "metadata": {},
     "output_type": "display_data"
    },
    {
     "data": {
      "application/vnd.jupyter.widget-view+json": {
       "model_id": "48b3222593724a63b2775ef2d5fb4349",
       "version_major": 2,
       "version_minor": 0
      },
      "text/plain": [
       "Downloading S5P_OFFL_L2__HCHO___20221128T105018_20221128T123147_26560_03_020401_20221205T110247.nc:   0%|     …"
      ]
     },
     "metadata": {},
     "output_type": "display_data"
    },
    {
     "data": {
      "application/vnd.jupyter.widget-view+json": {
       "model_id": "b5d7b3b314184745b89617410b074558",
       "version_major": 2,
       "version_minor": 0
      },
      "text/plain": [
       "MD5 checksumming:   0%|          | 0.00/758M [00:00<?, ?B/s]"
      ]
     },
     "metadata": {},
     "output_type": "display_data"
    },
    {
     "data": {
      "application/vnd.jupyter.widget-view+json": {
       "model_id": "245b3a780ed04c5c8ce2dde25edab16f",
       "version_major": 2,
       "version_minor": 0
      },
      "text/plain": [
       "Downloading S5P_OFFL_L2__HCHO___20230504T120045_20230504T134215_28788_03_020401_20230506T042405.nc:   0%|     …"
      ]
     },
     "metadata": {},
     "output_type": "display_data"
    },
    {
     "data": {
      "application/vnd.jupyter.widget-view+json": {
       "model_id": "15de2408269945ef82ed50c00e0c9d18",
       "version_major": 2,
       "version_minor": 0
      },
      "text/plain": [
       "MD5 checksumming:   0%|          | 0.00/757M [00:00<?, ?B/s]"
      ]
     },
     "metadata": {},
     "output_type": "display_data"
    },
    {
     "data": {
      "application/vnd.jupyter.widget-view+json": {
       "model_id": "436c9d369fb245a8a1f58bec83813e0d",
       "version_major": 2,
       "version_minor": 0
      },
      "text/plain": [
       "Downloading S5P_OFFL_L2__HCHO___20221224T110249_20221224T124419_26929_03_020401_20221227T232239.nc:   0%|     …"
      ]
     },
     "metadata": {},
     "output_type": "display_data"
    },
    {
     "data": {
      "application/vnd.jupyter.widget-view+json": {
       "model_id": "a7593aaa528c4013ba1cd0ad8357e104",
       "version_major": 2,
       "version_minor": 0
      },
      "text/plain": [
       "MD5 checksumming:   0%|          | 0.00/761M [00:00<?, ?B/s]"
      ]
     },
     "metadata": {},
     "output_type": "display_data"
    },
    {
     "data": {
      "application/vnd.jupyter.widget-view+json": {
       "model_id": "60239bce8a77466289770461d2d97595",
       "version_major": 2,
       "version_minor": 0
      },
      "text/plain": [
       "Downloading S5P_OFFL_L2__HCHO___20220806T113843_20220806T132013_24943_03_020401_20220808T154211.nc:   0%|     …"
      ]
     },
     "metadata": {},
     "output_type": "display_data"
    },
    {
     "data": {
      "application/vnd.jupyter.widget-view+json": {
       "model_id": "109588adb0c7460ab0d7c56b553647ad",
       "version_major": 2,
       "version_minor": 0
      },
      "text/plain": [
       "MD5 checksumming:   0%|          | 0.00/761M [00:00<?, ?B/s]"
      ]
     },
     "metadata": {},
     "output_type": "display_data"
    },
    {
     "data": {
      "application/vnd.jupyter.widget-view+json": {
       "model_id": "eb063800a1674d77bfec3a3a2cdd4e39",
       "version_major": 2,
       "version_minor": 0
      },
      "text/plain": [
       "Downloading S5P_OFFL_L2__HCHO___20230421T124335_20230421T142505_28604_03_020401_20230423T045247.nc:   0%|     …"
      ]
     },
     "metadata": {},
     "output_type": "display_data"
    },
    {
     "data": {
      "application/vnd.jupyter.widget-view+json": {
       "model_id": "519f38ac1d22487381ccc7066d317ceb",
       "version_major": 2,
       "version_minor": 0
      },
      "text/plain": [
       "MD5 checksumming:   0%|          | 0.00/756M [00:00<?, ?B/s]"
      ]
     },
     "metadata": {},
     "output_type": "display_data"
    },
    {
     "data": {
      "application/vnd.jupyter.widget-view+json": {
       "model_id": "1d9f964e2f1f4f2790e9f23236888b44",
       "version_major": 2,
       "version_minor": 0
      },
      "text/plain": [
       "Downloading S5P_OFFL_L2__HCHO___20230228T121108_20230228T135238_27866_03_020401_20230302T044131.nc:   0%|     …"
      ]
     },
     "metadata": {},
     "output_type": "display_data"
    },
    {
     "data": {
      "application/vnd.jupyter.widget-view+json": {
       "model_id": "0b014c4a3d78408db75b61dc9e7a2e7a",
       "version_major": 2,
       "version_minor": 0
      },
      "text/plain": [
       "MD5 checksumming:   0%|          | 0.00/729M [00:00<?, ?B/s]"
      ]
     },
     "metadata": {},
     "output_type": "display_data"
    },
    {
     "data": {
      "application/vnd.jupyter.widget-view+json": {
       "model_id": "578b99a30c4c49528fe64cf5dda1b554",
       "version_major": 2,
       "version_minor": 0
      },
      "text/plain": [
       "MD5 checksumming:   0%|          | 0.00/759M [00:00<?, ?B/s]"
      ]
     },
     "metadata": {},
     "output_type": "display_data"
    },
    {
     "data": {
      "application/vnd.jupyter.widget-view+json": {
       "model_id": "bd5932c3fbdc48af98629a656100ff76",
       "version_major": 2,
       "version_minor": 0
      },
      "text/plain": [
       "Downloading S5P_OFFL_L2__HCHO___20230131T123348_20230131T141518_27469_03_020401_20230202T045017.nc:   0%|     …"
      ]
     },
     "metadata": {},
     "output_type": "display_data"
    },
    {
     "data": {
      "application/vnd.jupyter.widget-view+json": {
       "model_id": "80a4df6d1cd24455a0062cf051bc11f9",
       "version_major": 2,
       "version_minor": 0
      },
      "text/plain": [
       "Downloading S5P_OFFL_L2__HCHO___20221219T105624_20221219T123754_26858_03_020401_20221224T093838.nc:   0%|     …"
      ]
     },
     "metadata": {},
     "output_type": "display_data"
    },
    {
     "data": {
      "application/vnd.jupyter.widget-view+json": {
       "model_id": "1fc09c40bfcb4239983f5cd3408bacba",
       "version_major": 2,
       "version_minor": 0
      },
      "text/plain": [
       "MD5 checksumming:   0%|          | 0.00/756M [00:00<?, ?B/s]"
      ]
     },
     "metadata": {},
     "output_type": "display_data"
    },
    {
     "data": {
      "application/vnd.jupyter.widget-view+json": {
       "model_id": "29b5b189abab4591a419b9f4f2f0068a",
       "version_major": 2,
       "version_minor": 0
      },
      "text/plain": [
       "Downloading S5P_OFFL_L2__HCHO___20220831T120816_20220831T134946_25298_03_020401_20220902T191302.nc:   0%|     …"
      ]
     },
     "metadata": {},
     "output_type": "display_data"
    },
    {
     "data": {
      "application/vnd.jupyter.widget-view+json": {
       "model_id": "5c333b44860a4ef7ad728874fbf88d7e",
       "version_major": 2,
       "version_minor": 0
      },
      "text/plain": [
       "MD5 checksumming:   0%|          | 0.00/758M [00:00<?, ?B/s]"
      ]
     },
     "metadata": {},
     "output_type": "display_data"
    },
    {
     "data": {
      "application/vnd.jupyter.widget-view+json": {
       "model_id": "ce67532ee40742ae9fafd49d570434c2",
       "version_major": 2,
       "version_minor": 0
      },
      "text/plain": [
       "Downloading S5P_OFFL_L2__HCHO___20220820T121539_20220820T135708_25142_03_020401_20220825T081757.nc:   0%|     …"
      ]
     },
     "metadata": {},
     "output_type": "display_data"
    },
    {
     "data": {
      "application/vnd.jupyter.widget-view+json": {
       "model_id": "1fca02fbb93a49eb9fd71a03f19cac5a",
       "version_major": 2,
       "version_minor": 0
      },
      "text/plain": [
       "MD5 checksumming:   0%|          | 0.00/754M [00:00<?, ?B/s]"
      ]
     },
     "metadata": {},
     "output_type": "display_data"
    },
    {
     "data": {
      "application/vnd.jupyter.widget-view+json": {
       "model_id": "74ffd6db84fa4767af23aa17f2d64c48",
       "version_major": 2,
       "version_minor": 0
      },
      "text/plain": [
       "MD5 checksumming:   0%|          | 0.00/761M [00:00<?, ?B/s]"
      ]
     },
     "metadata": {},
     "output_type": "display_data"
    },
    {
     "data": {
      "application/vnd.jupyter.widget-view+json": {
       "model_id": "56f1f7c64de146a9a35b80e06073d83d",
       "version_major": 2,
       "version_minor": 0
      },
      "text/plain": [
       "Downloading S5P_OFFL_L2__HCHO___20230115T105106_20230115T123237_27241_03_020401_20230117T030737.nc:   0%|     …"
      ]
     },
     "metadata": {},
     "output_type": "display_data"
    },
    {
     "data": {
      "application/vnd.jupyter.widget-view+json": {
       "model_id": "a12422d351b840988f3749bfea842428",
       "version_major": 2,
       "version_minor": 0
      },
      "text/plain": [
       "Downloading S5P_OFFL_L2__HCHO___20230324T112321_20230324T130452_28206_03_020401_20230326T034521.nc:   0%|     …"
      ]
     },
     "metadata": {},
     "output_type": "display_data"
    },
    {
     "data": {
      "application/vnd.jupyter.widget-view+json": {
       "model_id": "f239770294da407f9837259fe4cb6b59",
       "version_major": 2,
       "version_minor": 0
      },
      "text/plain": [
       "MD5 checksumming:   0%|          | 0.00/760M [00:00<?, ?B/s]"
      ]
     },
     "metadata": {},
     "output_type": "display_data"
    },
    {
     "data": {
      "application/vnd.jupyter.widget-view+json": {
       "model_id": "b61ff6c60156469497286ce496642bcf",
       "version_major": 2,
       "version_minor": 0
      },
      "text/plain": [
       "Downloading S5P_OFFL_L2__HCHO___20230104T105651_20230104T123821_27085_03_020401_20230106T032036.nc:   0%|     …"
      ]
     },
     "metadata": {},
     "output_type": "display_data"
    },
    {
     "data": {
      "application/vnd.jupyter.widget-view+json": {
       "model_id": "95e4abd2f9b74700abde02d45cf042b2",
       "version_major": 2,
       "version_minor": 0
      },
      "text/plain": [
       "MD5 checksumming:   0%|          | 0.00/758M [00:00<?, ?B/s]"
      ]
     },
     "metadata": {},
     "output_type": "display_data"
    },
    {
     "data": {
      "application/vnd.jupyter.widget-view+json": {
       "model_id": "f4600bf2701243a6b217725a79190fd0",
       "version_major": 2,
       "version_minor": 0
      },
      "text/plain": [
       "Downloading S5P_OFFL_L2__HCHO___20230502T123836_20230502T142006_28760_03_020401_20230504T045345.nc:   0%|     …"
      ]
     },
     "metadata": {},
     "output_type": "display_data"
    },
    {
     "data": {
      "application/vnd.jupyter.widget-view+json": {
       "model_id": "d92c519742c44ce299d86fcc1119b001",
       "version_major": 2,
       "version_minor": 0
      },
      "text/plain": [
       "MD5 checksumming:   0%|          | 0.00/759M [00:00<?, ?B/s]"
      ]
     },
     "metadata": {},
     "output_type": "display_data"
    },
    {
     "data": {
      "application/vnd.jupyter.widget-view+json": {
       "model_id": "aa5fd5e1d0c1421d9b7d25995e5a4b50",
       "version_major": 2,
       "version_minor": 0
      },
      "text/plain": [
       "Downloading S5P_OFFL_L2__HCHO___20230105T103752_20230105T121922_27099_03_020401_20230107T030147.nc:   0%|     …"
      ]
     },
     "metadata": {},
     "output_type": "display_data"
    },
    {
     "data": {
      "application/vnd.jupyter.widget-view+json": {
       "model_id": "d86ac36b01ab4c1fb3359969aa062174",
       "version_major": 2,
       "version_minor": 0
      },
      "text/plain": [
       "MD5 checksumming:   0%|          | 0.00/763M [00:00<?, ?B/s]"
      ]
     },
     "metadata": {},
     "output_type": "display_data"
    },
    {
     "data": {
      "application/vnd.jupyter.widget-view+json": {
       "model_id": "c98e8dcac66b40dc80ae2f646b030abe",
       "version_major": 2,
       "version_minor": 0
      },
      "text/plain": [
       "Downloading S5P_OFFL_L2__HCHO___20230305T121800_20230305T135930_27937_03_020401_20230307T044829.nc:   0%|     …"
      ]
     },
     "metadata": {},
     "output_type": "display_data"
    },
    {
     "data": {
      "application/vnd.jupyter.widget-view+json": {
       "model_id": "0dc7769778684fc8906ba8afd7c290fc",
       "version_major": 2,
       "version_minor": 0
      },
      "text/plain": [
       "MD5 checksumming:   0%|          | 0.00/758M [00:00<?, ?B/s]"
      ]
     },
     "metadata": {},
     "output_type": "display_data"
    },
    {
     "data": {
      "application/vnd.jupyter.widget-view+json": {
       "model_id": "fed0605526dc4d6c9d2b20c8edf539dd",
       "version_major": 2,
       "version_minor": 0
      },
      "text/plain": [
       "Downloading S5P_OFFL_L2__HCHO___20221227T114718_20221227T132848_26972_03_020401_20221230T081302.nc:   0%|     …"
      ]
     },
     "metadata": {},
     "output_type": "display_data"
    },
    {
     "data": {
      "application/vnd.jupyter.widget-view+json": {
       "model_id": "d230a326d19e4e5b95af41d3ca2ff293",
       "version_major": 2,
       "version_minor": 0
      },
      "text/plain": [
       "MD5 checksumming:   0%|          | 0.00/755M [00:00<?, ?B/s]"
      ]
     },
     "metadata": {},
     "output_type": "display_data"
    },
    {
     "data": {
      "application/vnd.jupyter.widget-view+json": {
       "model_id": "9a618e3496ff4340a3e493f58fc15164",
       "version_major": 2,
       "version_minor": 0
      },
      "text/plain": [
       "Downloading S5P_OFFL_L2__HCHO___20230321T121958_20230321T140129_28164_03_020401_20230323T043227.nc:   0%|     …"
      ]
     },
     "metadata": {},
     "output_type": "display_data"
    },
    {
     "data": {
      "application/vnd.jupyter.widget-view+json": {
       "model_id": "830f6be287984a108509f6f4b875d13b",
       "version_major": 2,
       "version_minor": 0
      },
      "text/plain": [
       "MD5 checksumming:   0%|          | 0.00/757M [00:00<?, ?B/s]"
      ]
     },
     "metadata": {},
     "output_type": "display_data"
    },
    {
     "data": {
      "application/vnd.jupyter.widget-view+json": {
       "model_id": "21fa888f34e649e48c31e6288e322d7a",
       "version_major": 2,
       "version_minor": 0
      },
      "text/plain": [
       "Downloading S5P_OFFL_L2__HCHO___20230115T123237_20230115T141407_27242_03_020401_20230117T045911.nc:   0%|     …"
      ]
     },
     "metadata": {},
     "output_type": "display_data"
    },
    {
     "data": {
      "application/vnd.jupyter.widget-view+json": {
       "model_id": "e911d64c21e24054bc85b16dc7746821",
       "version_major": 2,
       "version_minor": 0
      },
      "text/plain": [
       "MD5 checksumming:   0%|          | 0.00/758M [00:00<?, ?B/s]"
      ]
     },
     "metadata": {},
     "output_type": "display_data"
    },
    {
     "data": {
      "application/vnd.jupyter.widget-view+json": {
       "model_id": "c07596ffebf2470da94eeb3ba51baca3",
       "version_major": 2,
       "version_minor": 0
      },
      "text/plain": [
       "Downloading S5P_OFFL_L2__HCHO___20230429T101220_20230429T115350_28716_03_020401_20230501T023100.nc:   0%|     …"
      ]
     },
     "metadata": {},
     "output_type": "display_data"
    },
    {
     "data": {
      "application/vnd.jupyter.widget-view+json": {
       "model_id": "b07ab80469314202a52803c2ee153eb5",
       "version_major": 2,
       "version_minor": 0
      },
      "text/plain": [
       "MD5 checksumming:   0%|          | 0.00/751M [00:00<?, ?B/s]"
      ]
     },
     "metadata": {},
     "output_type": "display_data"
    },
    {
     "data": {
      "application/vnd.jupyter.widget-view+json": {
       "model_id": "d5fb69b882b349bc8190d9e401817e15",
       "version_major": 2,
       "version_minor": 0
      },
      "text/plain": [
       "Downloading S5P_OFFL_L2__HCHO___20220829T110502_20220829T124632_25269_03_020401_20220901T113104.nc:   0%|     …"
      ]
     },
     "metadata": {},
     "output_type": "display_data"
    },
    {
     "data": {
      "application/vnd.jupyter.widget-view+json": {
       "model_id": "b9a54aa9cfbe436380ba890c96b987f5",
       "version_major": 2,
       "version_minor": 0
      },
      "text/plain": [
       "MD5 checksumming:   0%|          | 0.00/758M [00:00<?, ?B/s]"
      ]
     },
     "metadata": {},
     "output_type": "display_data"
    },
    {
     "data": {
      "application/vnd.jupyter.widget-view+json": {
       "model_id": "405f606739334004b0f53539fbf3e9ae",
       "version_major": 2,
       "version_minor": 0
      },
      "text/plain": [
       "Downloading S5P_OFFL_L2__HCHO___20230327T102644_20230327T120814_28248_03_020401_20230329T024609.nc:   0%|     …"
      ]
     },
     "metadata": {},
     "output_type": "display_data"
    },
    {
     "data": {
      "application/vnd.jupyter.widget-view+json": {
       "model_id": "dda08a17bcaf4e1f820b12e8e6ca28f5",
       "version_major": 2,
       "version_minor": 0
      },
      "text/plain": [
       "MD5 checksumming:   0%|          | 0.00/759M [00:00<?, ?B/s]"
      ]
     },
     "metadata": {},
     "output_type": "display_data"
    },
    {
     "data": {
      "application/vnd.jupyter.widget-view+json": {
       "model_id": "e4ce505f0e414d74855955d4ab3c2674",
       "version_major": 2,
       "version_minor": 0
      },
      "text/plain": [
       "Downloading S5P_OFFL_L2__HCHO___20230407T120334_20230407T134504_28405_03_020401_20230409T042148.nc:   0%|     …"
      ]
     },
     "metadata": {},
     "output_type": "display_data"
    },
    {
     "data": {
      "application/vnd.jupyter.widget-view+json": {
       "model_id": "7d23fe70bfc3432699448b6727387022",
       "version_major": 2,
       "version_minor": 0
      },
      "text/plain": [
       "MD5 checksumming:   0%|          | 0.00/752M [00:00<?, ?B/s]"
      ]
     },
     "metadata": {},
     "output_type": "display_data"
    },
    {
     "data": {
      "application/vnd.jupyter.widget-view+json": {
       "model_id": "e41db03c45f94ad2b5e158b2e259c966",
       "version_major": 2,
       "version_minor": 0
      },
      "text/plain": [
       "Downloading S5P_OFFL_L2__HCHO___20230401T121521_20230401T135651_28320_03_020401_20230403T043641.nc:   0%|     …"
      ]
     },
     "metadata": {},
     "output_type": "display_data"
    },
    {
     "data": {
      "application/vnd.jupyter.widget-view+json": {
       "model_id": "f27af4a94d9b45b69cb5867e9fded1d1",
       "version_major": 2,
       "version_minor": 0
      },
      "text/plain": [
       "MD5 checksumming:   0%|          | 0.00/758M [00:00<?, ?B/s]"
      ]
     },
     "metadata": {},
     "output_type": "display_data"
    },
    {
     "data": {
      "application/vnd.jupyter.widget-view+json": {
       "model_id": "92e7ac38a7cf45c0bbae4231e96c6e4d",
       "version_major": 2,
       "version_minor": 0
      },
      "text/plain": [
       "Downloading S5P_OFFL_L2__HCHO___20230121T103850_20230121T122020_27326_03_020401_20230123T025422.nc:   0%|     …"
      ]
     },
     "metadata": {},
     "output_type": "display_data"
    },
    {
     "data": {
      "application/vnd.jupyter.widget-view+json": {
       "model_id": "d131daa0c15e497e9d431ff4ea4873fd",
       "version_major": 2,
       "version_minor": 0
      },
      "text/plain": [
       "MD5 checksumming:   0%|          | 0.00/761M [00:00<?, ?B/s]"
      ]
     },
     "metadata": {},
     "output_type": "display_data"
    },
    {
     "data": {
      "application/vnd.jupyter.widget-view+json": {
       "model_id": "264fcc018e1947a0835d6d4854069d34",
       "version_major": 2,
       "version_minor": 0
      },
      "text/plain": [
       "Downloading S5P_OFFL_L2__HCHO___20230123T114225_20230123T132355_27355_03_020401_20230125T040502.nc:   0%|     …"
      ]
     },
     "metadata": {},
     "output_type": "display_data"
    },
    {
     "data": {
      "application/vnd.jupyter.widget-view+json": {
       "model_id": "1a62784f3d9c4a85b06b8ba9a444bf0c",
       "version_major": 2,
       "version_minor": 0
      },
      "text/plain": [
       "MD5 checksumming:   0%|          | 0.00/761M [00:00<?, ?B/s]"
      ]
     },
     "metadata": {},
     "output_type": "display_data"
    },
    {
     "data": {
      "application/vnd.jupyter.widget-view+json": {
       "model_id": "e429f6d741a047daa37da3c86b2d11ea",
       "version_major": 2,
       "version_minor": 0
      },
      "text/plain": [
       "Downloading S5P_OFFL_L2__HCHO___20230509T102558_20230509T120728_28858_03_020401_20230511T024307.nc:   0%|     …"
      ]
     },
     "metadata": {},
     "output_type": "display_data"
    },
    {
     "data": {
      "application/vnd.jupyter.widget-view+json": {
       "model_id": "0857b649adde47be84eff4d3d1b8fff7",
       "version_major": 2,
       "version_minor": 0
      },
      "text/plain": [
       "MD5 checksumming:   0%|          | 0.00/755M [00:00<?, ?B/s]"
      ]
     },
     "metadata": {},
     "output_type": "display_data"
    },
    {
     "data": {
      "application/vnd.jupyter.widget-view+json": {
       "model_id": "c5bb7c228d0f4516ba597e53595f9156",
       "version_major": 2,
       "version_minor": 0
      },
      "text/plain": [
       "Downloading S5P_OFFL_L2__HCHO___20230108T112225_20230108T130355_27142_03_020401_20230110T034830.nc:   0%|     …"
      ]
     },
     "metadata": {},
     "output_type": "display_data"
    },
    {
     "data": {
      "application/vnd.jupyter.widget-view+json": {
       "model_id": "344cd8b97e994473a6ba5c105476e740",
       "version_major": 2,
       "version_minor": 0
      },
      "text/plain": [
       "MD5 checksumming:   0%|          | 0.00/756M [00:00<?, ?B/s]"
      ]
     },
     "metadata": {},
     "output_type": "display_data"
    },
    {
     "data": {
      "application/vnd.jupyter.widget-view+json": {
       "model_id": "947b5e69e82d47e68ab159a60edaad08",
       "version_major": 2,
       "version_minor": 0
      },
      "text/plain": [
       "Downloading S5P_OFFL_L2__HCHO___20230129T113012_20230129T131142_27440_03_020401_20230131T040345.nc:   0%|     …"
      ]
     },
     "metadata": {},
     "output_type": "display_data"
    },
    {
     "data": {
      "application/vnd.jupyter.widget-view+json": {
       "model_id": "43166a5e229d4ab983c92358d46f0677",
       "version_major": 2,
       "version_minor": 0
      },
      "text/plain": [
       "MD5 checksumming:   0%|          | 0.00/756M [00:00<?, ?B/s]"
      ]
     },
     "metadata": {},
     "output_type": "display_data"
    },
    {
     "data": {
      "application/vnd.jupyter.widget-view+json": {
       "model_id": "71588f9593544be8a31d365aa7d0a804",
       "version_major": 2,
       "version_minor": 0
      },
      "text/plain": [
       "Downloading S5P_OFFL_L2__HCHO___20230225T112625_20230225T130755_27823_03_020401_20230227T034459.nc:   0%|     …"
      ]
     },
     "metadata": {},
     "output_type": "display_data"
    },
    {
     "data": {
      "application/vnd.jupyter.widget-view+json": {
       "model_id": "d17ae2a87b5b4da2813d9392fa728b87",
       "version_major": 2,
       "version_minor": 0
      },
      "text/plain": [
       "MD5 checksumming:   0%|          | 0.00/735M [00:00<?, ?B/s]"
      ]
     },
     "metadata": {},
     "output_type": "display_data"
    },
    {
     "data": {
      "application/vnd.jupyter.widget-view+json": {
       "model_id": "e438984be92c4443b7aca11a282b3000",
       "version_major": 2,
       "version_minor": 0
      },
      "text/plain": [
       "Downloading S5P_OFFL_L2__HCHO___20221024T100802_20221024T114932_26063_03_020401_20221026T022757.nc:   0%|     …"
      ]
     },
     "metadata": {},
     "output_type": "display_data"
    },
    {
     "data": {
      "application/vnd.jupyter.widget-view+json": {
       "model_id": "e41c1826aed3423986ecc2fffd49f6bf",
       "version_major": 2,
       "version_minor": 0
      },
      "text/plain": [
       "MD5 checksumming:   0%|          | 0.00/757M [00:00<?, ?B/s]"
      ]
     },
     "metadata": {},
     "output_type": "display_data"
    },
    {
     "data": {
      "application/vnd.jupyter.widget-view+json": {
       "model_id": "016c2a05eede4a349bee085dbfea8730",
       "version_major": 2,
       "version_minor": 0
      },
      "text/plain": [
       "Downloading S5P_OFFL_L2__HCHO___20220923T113403_20220923T131533_25624_03_020401_20220925T035719.nc:   0%|     …"
      ]
     },
     "metadata": {},
     "output_type": "display_data"
    },
    {
     "data": {
      "application/vnd.jupyter.widget-view+json": {
       "model_id": "463b261d27ba485f94cbb8ed17ad3876",
       "version_major": 2,
       "version_minor": 0
      },
      "text/plain": [
       "MD5 checksumming:   0%|          | 0.00/758M [00:00<?, ?B/s]"
      ]
     },
     "metadata": {},
     "output_type": "display_data"
    },
    {
     "data": {
      "application/vnd.jupyter.widget-view+json": {
       "model_id": "f7701dbbf55a4adb9693fd975b2da1a9",
       "version_major": 2,
       "version_minor": 0
      },
      "text/plain": [
       "Downloading S5P_OFFL_L2__HCHO___20221115T113518_20221115T131647_26376_03_020401_20221117T180933.nc:   0%|     …"
      ]
     },
     "metadata": {},
     "output_type": "display_data"
    },
    {
     "data": {
      "application/vnd.jupyter.widget-view+json": {
       "model_id": "a7fcbf8bbc9d423d98c72f79fc3d690e",
       "version_major": 2,
       "version_minor": 0
      },
      "text/plain": [
       "MD5 checksumming:   0%|          | 0.00/735M [00:00<?, ?B/s]"
      ]
     },
     "metadata": {},
     "output_type": "display_data"
    },
    {
     "data": {
      "application/vnd.jupyter.widget-view+json": {
       "model_id": "a1a617517f654780b0ff232ea4a4e28b",
       "version_major": 2,
       "version_minor": 0
      },
      "text/plain": [
       "Downloading S5P_OFFL_L2__HCHO___20221113T103159_20221113T121328_26347_03_020401_20221116T155408.nc:   0%|     …"
      ]
     },
     "metadata": {},
     "output_type": "display_data"
    },
    {
     "data": {
      "application/vnd.jupyter.widget-view+json": {
       "model_id": "f0877b6c31424cc8883b067b7c939222",
       "version_major": 2,
       "version_minor": 0
      },
      "text/plain": [
       "MD5 checksumming:   0%|          | 0.00/755M [00:00<?, ?B/s]"
      ]
     },
     "metadata": {},
     "output_type": "display_data"
    },
    {
     "data": {
      "application/vnd.jupyter.widget-view+json": {
       "model_id": "6bdfcb3363f145dea4cdf0a2a7963009",
       "version_major": 2,
       "version_minor": 0
      },
      "text/plain": [
       "Downloading S5P_OFFL_L2__HCHO___20220925T123715_20220925T141845_25653_03_020401_20220927T045257.nc:   0%|     …"
      ]
     },
     "metadata": {},
     "output_type": "display_data"
    },
    {
     "data": {
      "application/vnd.jupyter.widget-view+json": {
       "model_id": "1586bbb753244030a713ab25df669e67",
       "version_major": 2,
       "version_minor": 0
      },
      "text/plain": [
       "MD5 checksumming:   0%|          | 0.00/761M [00:00<?, ?B/s]"
      ]
     },
     "metadata": {},
     "output_type": "display_data"
    },
    {
     "data": {
      "application/vnd.jupyter.widget-view+json": {
       "model_id": "75436e555ef3456593351766646f3a0d",
       "version_major": 2,
       "version_minor": 0
      },
      "text/plain": [
       "Downloading S5P_OFFL_L2__HCHO___20220821T115632_20220821T133801_25156_03_020401_20220825T111049.nc:   0%|     …"
      ]
     },
     "metadata": {},
     "output_type": "display_data"
    },
    {
     "data": {
      "application/vnd.jupyter.widget-view+json": {
       "model_id": "da851340ad67463d87a7e821268ee8b9",
       "version_major": 2,
       "version_minor": 0
      },
      "text/plain": [
       "MD5 checksumming:   0%|          | 0.00/761M [00:00<?, ?B/s]"
      ]
     },
     "metadata": {},
     "output_type": "display_data"
    },
    {
     "data": {
      "application/vnd.jupyter.widget-view+json": {
       "model_id": "a87792dde0054b00b26f4e3ecd7458e8",
       "version_major": 2,
       "version_minor": 0
      },
      "text/plain": [
       "Downloading S5P_OFFL_L2__HCHO___20221203T105630_20221203T123759_26631_03_020401_20221210T102447.nc:   0%|     …"
      ]
     },
     "metadata": {},
     "output_type": "display_data"
    },
    {
     "data": {
      "application/vnd.jupyter.widget-view+json": {
       "model_id": "f75cc0bab91e43f28df6077919ded204",
       "version_major": 2,
       "version_minor": 0
      },
      "text/plain": [
       "MD5 checksumming:   0%|          | 0.00/759M [00:00<?, ?B/s]"
      ]
     },
     "metadata": {},
     "output_type": "display_data"
    },
    {
     "data": {
      "application/vnd.jupyter.widget-view+json": {
       "model_id": "f5b97d447ca44ec787d7033d45895941",
       "version_major": 2,
       "version_minor": 0
      },
      "text/plain": [
       "Downloading S5P_OFFL_L2__HCHO___20230426T110904_20230426T125034_28674_03_020401_20230428T034215.nc:   0%|     …"
      ]
     },
     "metadata": {},
     "output_type": "display_data"
    },
    {
     "data": {
      "application/vnd.jupyter.widget-view+json": {
       "model_id": "d3c20c948e7a410f9b1a9f258ddb3f8c",
       "version_major": 2,
       "version_minor": 0
      },
      "text/plain": [
       "MD5 checksumming:   0%|          | 0.00/763M [00:00<?, ?B/s]"
      ]
     },
     "metadata": {},
     "output_type": "display_data"
    },
    {
     "data": {
      "application/vnd.jupyter.widget-view+json": {
       "model_id": "061d97b487ec4187a063d4fd2f1075da",
       "version_major": 2,
       "version_minor": 0
      },
      "text/plain": [
       "Downloading S5P_OFFL_L2__HCHO___20230218T115726_20230218T133856_27724_03_020401_20230220T042800.nc:   0%|     …"
      ]
     },
     "metadata": {},
     "output_type": "display_data"
    },
    {
     "data": {
      "application/vnd.jupyter.widget-view+json": {
       "model_id": "815cd266d9494ff0a45e50a3f38d5cbe",
       "version_major": 2,
       "version_minor": 0
      },
      "text/plain": [
       "MD5 checksumming:   0%|          | 0.00/757M [00:00<?, ?B/s]"
      ]
     },
     "metadata": {},
     "output_type": "display_data"
    },
    {
     "data": {
      "application/vnd.jupyter.widget-view+json": {
       "model_id": "89baa66b41274bb7b14a903feeeec4f1",
       "version_major": 2,
       "version_minor": 0
      },
      "text/plain": [
       "Downloading S5P_OFFL_L2__HCHO___20230310T104321_20230310T122451_28007_03_020401_20230312T025812.nc:   0%|     …"
      ]
     },
     "metadata": {},
     "output_type": "display_data"
    },
    {
     "data": {
      "application/vnd.jupyter.widget-view+json": {
       "model_id": "640367e4600445a7be3b2753c74d0811",
       "version_major": 2,
       "version_minor": 0
      },
      "text/plain": [
       "MD5 checksumming:   0%|          | 0.00/759M [00:00<?, ?B/s]"
      ]
     },
     "metadata": {},
     "output_type": "display_data"
    },
    {
     "data": {
      "application/vnd.jupyter.widget-view+json": {
       "model_id": "947b99ef8ebe46faaa606cd3b1742d28",
       "version_major": 2,
       "version_minor": 0
      },
      "text/plain": [
       "Downloading S5P_OFFL_L2__HCHO___20230122T120122_20230122T134252_27341_03_020401_20230124T042424.nc:   0%|     …"
      ]
     },
     "metadata": {},
     "output_type": "display_data"
    },
    {
     "data": {
      "application/vnd.jupyter.widget-view+json": {
       "model_id": "be3183339b5540e1ad1019cc481cefe2",
       "version_major": 2,
       "version_minor": 0
      },
      "text/plain": [
       "MD5 checksumming:   0%|          | 0.00/755M [00:00<?, ?B/s]"
      ]
     },
     "metadata": {},
     "output_type": "display_data"
    },
    {
     "data": {
      "application/vnd.jupyter.widget-view+json": {
       "model_id": "dc87351198444080aac35cc1cbfdce60",
       "version_major": 2,
       "version_minor": 0
      },
      "text/plain": [
       "Downloading S5P_OFFL_L2__HCHO___20230401T103351_20230401T121521_28319_03_020401_20230403T025111.nc:   0%|     …"
      ]
     },
     "metadata": {},
     "output_type": "display_data"
    },
    {
     "data": {
      "application/vnd.jupyter.widget-view+json": {
       "model_id": "d921abb183614b748bca73d1e20238c0",
       "version_major": 2,
       "version_minor": 0
      },
      "text/plain": [
       "MD5 checksumming:   0%|          | 0.00/757M [00:00<?, ?B/s]"
      ]
     },
     "metadata": {},
     "output_type": "display_data"
    },
    {
     "data": {
      "application/vnd.jupyter.widget-view+json": {
       "model_id": "d5c30dfc4d3f4b298b696623f3ad3842",
       "version_major": 2,
       "version_minor": 0
      },
      "text/plain": [
       "Downloading S5P_OFFL_L2__HCHO___20221003T100404_20221003T114533_25765_03_020401_20221005T021606.nc:   0%|     …"
      ]
     },
     "metadata": {},
     "output_type": "display_data"
    },
    {
     "data": {
      "application/vnd.jupyter.widget-view+json": {
       "model_id": "44c7055708a1426f940b3a2db1e6f248",
       "version_major": 2,
       "version_minor": 0
      },
      "text/plain": [
       "MD5 checksumming:   0%|          | 0.00/760M [00:00<?, ?B/s]"
      ]
     },
     "metadata": {},
     "output_type": "display_data"
    },
    {
     "data": {
      "application/vnd.jupyter.widget-view+json": {
       "model_id": "11e161060b474890b8b5f1f06054b744",
       "version_major": 2,
       "version_minor": 0
      },
      "text/plain": [
       "Downloading S5P_OFFL_L2__HCHO___20230306T101734_20230306T115904_27950_03_020401_20230308T024349.nc:   0%|     …"
      ]
     },
     "metadata": {},
     "output_type": "display_data"
    },
    {
     "data": {
      "application/vnd.jupyter.widget-view+json": {
       "model_id": "bfbdaca15f614ce2a9b93014bb06e4c8",
       "version_major": 2,
       "version_minor": 0
      },
      "text/plain": [
       "MD5 checksumming:   0%|          | 0.00/755M [00:00<?, ?B/s]"
      ]
     },
     "metadata": {},
     "output_type": "display_data"
    },
    {
     "data": {
      "application/vnd.jupyter.widget-view+json": {
       "model_id": "1efa23e2bf1243d986bd24459b713b94",
       "version_major": 2,
       "version_minor": 0
      },
      "text/plain": [
       "MD5 checksumming:   0%|          | 0.00/759M [00:00<?, ?B/s]"
      ]
     },
     "metadata": {},
     "output_type": "display_data"
    },
    {
     "data": {
      "application/vnd.jupyter.widget-view+json": {
       "model_id": "c07b9a65ed124526bb9c5f356ded37e3",
       "version_major": 2,
       "version_minor": 0
      },
      "text/plain": [
       "Downloading S5P_OFFL_L2__HCHO___20221209T104342_20221209T122512_26716_03_020401_20221215T122519.nc:   0%|     …"
      ]
     },
     "metadata": {},
     "output_type": "display_data"
    },
    {
     "data": {
      "application/vnd.jupyter.widget-view+json": {
       "model_id": "836794bb88ad447a8613c7be8668b677",
       "version_major": 2,
       "version_minor": 0
      },
      "text/plain": [
       "Downloading S5P_OFFL_L2__HCHO___20221228T112818_20221228T130948_26986_03_020401_20221231T083631.nc:   0%|     …"
      ]
     },
     "metadata": {},
     "output_type": "display_data"
    },
    {
     "data": {
      "application/vnd.jupyter.widget-view+json": {
       "model_id": "67ea48cc7e464d828f64aacce400da07",
       "version_major": 2,
       "version_minor": 0
      },
      "text/plain": [
       "MD5 checksumming:   0%|          | 0.00/756M [00:00<?, ?B/s]"
      ]
     },
     "metadata": {},
     "output_type": "display_data"
    },
    {
     "data": {
      "application/vnd.jupyter.widget-view+json": {
       "model_id": "cf6930648ab141adb1e4746f2fa177fb",
       "version_major": 2,
       "version_minor": 0
      },
      "text/plain": [
       "Downloading S5P_OFFL_L2__HCHO___20230316T121249_20230316T135419_28093_03_020401_20230318T193709.nc:   0%|     …"
      ]
     },
     "metadata": {},
     "output_type": "display_data"
    },
    {
     "data": {
      "application/vnd.jupyter.widget-view+json": {
       "model_id": "84e24f291f4d40ae925c7618b1598c05",
       "version_major": 2,
       "version_minor": 0
      },
      "text/plain": [
       "MD5 checksumming:   0%|          | 0.00/760M [00:00<?, ?B/s]"
      ]
     },
     "metadata": {},
     "output_type": "display_data"
    },
    {
     "data": {
      "application/vnd.jupyter.widget-view+json": {
       "model_id": "df1e7a5f520043abae0f23bf8401ac0c",
       "version_major": 2,
       "version_minor": 0
      },
      "text/plain": [
       "Downloading S5P_OFFL_L2__HCHO___20230201T103321_20230201T121451_27482_03_020401_20230203T030115.nc:   0%|     …"
      ]
     },
     "metadata": {},
     "output_type": "display_data"
    },
    {
     "data": {
      "application/vnd.jupyter.widget-view+json": {
       "model_id": "05bffbfe93944d6aa46f70409415305b",
       "version_major": 2,
       "version_minor": 0
      },
      "text/plain": [
       "MD5 checksumming:   0%|          | 0.00/754M [00:00<?, ?B/s]"
      ]
     },
     "metadata": {},
     "output_type": "display_data"
    },
    {
     "data": {
      "application/vnd.jupyter.widget-view+json": {
       "model_id": "1905b8818ed84a29ba1995ccd7770ca1",
       "version_major": 2,
       "version_minor": 0
      },
      "text/plain": [
       "Downloading S5P_OFFL_L2__HCHO___20221125T100600_20221125T114730_26517_03_020401_20221202T121959.nc:   0%|     …"
      ]
     },
     "metadata": {},
     "output_type": "display_data"
    },
    {
     "data": {
      "application/vnd.jupyter.widget-view+json": {
       "model_id": "0fc883bc831341a39995a30c8fa4d3e2",
       "version_major": 2,
       "version_minor": 0
      },
      "text/plain": [
       "MD5 checksumming:   0%|          | 0.00/756M [00:00<?, ?B/s]"
      ]
     },
     "metadata": {},
     "output_type": "display_data"
    },
    {
     "data": {
      "application/vnd.jupyter.widget-view+json": {
       "model_id": "72dbc419118e4982a958328177ba9a5a",
       "version_major": 2,
       "version_minor": 0
      },
      "text/plain": [
       "Downloading S5P_OFFL_L2__HCHO___20230518T123945_20230518T142115_28987_03_020401_20230520T050056.nc:   0%|     …"
      ]
     },
     "metadata": {},
     "output_type": "display_data"
    },
    {
     "data": {
      "application/vnd.jupyter.widget-view+json": {
       "model_id": "5a310b82a23443caabe6b7b32de80def",
       "version_major": 2,
       "version_minor": 0
      },
      "text/plain": [
       "MD5 checksumming:   0%|          | 0.00/733M [00:00<?, ?B/s]"
      ]
     },
     "metadata": {},
     "output_type": "display_data"
    },
    {
     "data": {
      "application/vnd.jupyter.widget-view+json": {
       "model_id": "05c16a07f14e4d93ae1ce3612c3681bc",
       "version_major": 2,
       "version_minor": 0
      },
      "text/plain": [
       "Downloading S5P_OFFL_L2__HCHO___20230301T115212_20230301T133342_27880_03_020401_20230303T042058.nc:   0%|     …"
      ]
     },
     "metadata": {},
     "output_type": "display_data"
    },
    {
     "data": {
      "application/vnd.jupyter.widget-view+json": {
       "model_id": "cd1b072c89c747d39847efbf33088b7c",
       "version_major": 2,
       "version_minor": 0
      },
      "text/plain": [
       "MD5 checksumming:   0%|          | 0.00/759M [00:00<?, ?B/s]"
      ]
     },
     "metadata": {},
     "output_type": "display_data"
    },
    {
     "data": {
      "application/vnd.jupyter.widget-view+json": {
       "model_id": "a4fe4ae1c7d9406c8b89d98a46c327da",
       "version_major": 2,
       "version_minor": 0
      },
      "text/plain": [
       "Downloading S5P_OFFL_L2__HCHO___20230326T122707_20230326T140837_28235_03_020401_20230328T044702.nc:   0%|     …"
      ]
     },
     "metadata": {},
     "output_type": "display_data"
    },
    {
     "data": {
      "application/vnd.jupyter.widget-view+json": {
       "model_id": "075136b9e4424dd99c47c5b6b2336c6e",
       "version_major": 2,
       "version_minor": 0
      },
      "text/plain": [
       "MD5 checksumming:   0%|          | 0.00/757M [00:00<?, ?B/s]"
      ]
     },
     "metadata": {},
     "output_type": "display_data"
    },
    {
     "data": {
      "application/vnd.jupyter.widget-view+json": {
       "model_id": "5fdad607658646c3b3ed3f0f1206f5cd",
       "version_major": 2,
       "version_minor": 0
      },
      "text/plain": [
       "Downloading S5P_OFFL_L2__HCHO___20220824T105910_20220824T124040_25198_03_020401_20220827T073603.nc:   0%|     …"
      ]
     },
     "metadata": {},
     "output_type": "display_data"
    },
    {
     "data": {
      "application/vnd.jupyter.widget-view+json": {
       "model_id": "a8be2f4ef8f84f559d8351ff9dbcbc1e",
       "version_major": 2,
       "version_minor": 0
      },
      "text/plain": [
       "MD5 checksumming:   0%|          | 0.00/763M [00:00<?, ?B/s]"
      ]
     },
     "metadata": {},
     "output_type": "display_data"
    },
    {
     "data": {
      "application/vnd.jupyter.widget-view+json": {
       "model_id": "c1634409e2104f848c787054b1a7333b",
       "version_major": 2,
       "version_minor": 0
      },
      "text/plain": [
       "Downloading S5P_OFFL_L2__HCHO___20221024T114932_20221024T133101_26064_03_020401_20221026T041309.nc:   0%|     …"
      ]
     },
     "metadata": {},
     "output_type": "display_data"
    },
    {
     "data": {
      "application/vnd.jupyter.widget-view+json": {
       "model_id": "d568274dc735486b8d50049dfb1caf9b",
       "version_major": 2,
       "version_minor": 0
      },
      "text/plain": [
       "MD5 checksumming:   0%|          | 0.00/757M [00:00<?, ?B/s]"
      ]
     },
     "metadata": {},
     "output_type": "display_data"
    },
    {
     "data": {
      "application/vnd.jupyter.widget-view+json": {
       "model_id": "f6320d4906984b57842bf6f76282e23e",
       "version_major": 2,
       "version_minor": 0
      },
      "text/plain": [
       "Downloading S5P_OFFL_L2__HCHO___20220905T103237_20220905T121406_25368_03_020401_20220907T024516.nc:   0%|     …"
      ]
     },
     "metadata": {},
     "output_type": "display_data"
    },
    {
     "data": {
      "application/vnd.jupyter.widget-view+json": {
       "model_id": "6458e871889e4f27b2bc4974973e01c6",
       "version_major": 2,
       "version_minor": 0
      },
      "text/plain": [
       "MD5 checksumming:   0%|          | 0.00/754M [00:00<?, ?B/s]"
      ]
     },
     "metadata": {},
     "output_type": "display_data"
    },
    {
     "data": {
      "application/vnd.jupyter.widget-view+json": {
       "model_id": "b44463fa10de45bf81aebfa004184ada",
       "version_major": 2,
       "version_minor": 0
      },
      "text/plain": [
       "Downloading S5P_OFFL_L2__HCHO___20220808T110031_20220808T124200_24971_03_020401_20220810T053753.nc:   0%|     …"
      ]
     },
     "metadata": {},
     "output_type": "display_data"
    },
    {
     "data": {
      "application/vnd.jupyter.widget-view+json": {
       "model_id": "9a717cbe71cf4a1bac08085486978a15",
       "version_major": 2,
       "version_minor": 0
      },
      "text/plain": [
       "MD5 checksumming:   0%|          | 0.00/733M [00:00<?, ?B/s]"
      ]
     },
     "metadata": {},
     "output_type": "display_data"
    },
    {
     "data": {
      "application/vnd.jupyter.widget-view+json": {
       "model_id": "8d72f67ca615476bb2306a4cb24af0d8",
       "version_major": 2,
       "version_minor": 0
      },
      "text/plain": [
       "Downloading S5P_OFFL_L2__HCHO___20220812T112535_20220812T130704_25028_03_020401_20220815T184059.nc:   0%|     …"
      ]
     },
     "metadata": {},
     "output_type": "display_data"
    },
    {
     "data": {
      "application/vnd.jupyter.widget-view+json": {
       "model_id": "9ce356dd573c48eebe08bbbe5104633a",
       "version_major": 2,
       "version_minor": 0
      },
      "text/plain": [
       "MD5 checksumming:   0%|          | 0.00/762M [00:00<?, ?B/s]"
      ]
     },
     "metadata": {},
     "output_type": "display_data"
    },
    {
     "data": {
      "application/vnd.jupyter.widget-view+json": {
       "model_id": "650234c28b264cbe98dc02c7c7a2c1ce",
       "version_major": 2,
       "version_minor": 0
      },
      "text/plain": [
       "Downloading S5P_OFFL_L2__HCHO___20221214T105001_20221214T123131_26787_03_020401_20221220T093146.nc:   0%|     …"
      ]
     },
     "metadata": {},
     "output_type": "display_data"
    },
    {
     "data": {
      "application/vnd.jupyter.widget-view+json": {
       "model_id": "611b3260b54049f89ae54ff203c15b7a",
       "version_major": 2,
       "version_minor": 0
      },
      "text/plain": [
       "MD5 checksumming:   0%|          | 0.00/755M [00:00<?, ?B/s]"
      ]
     },
     "metadata": {},
     "output_type": "display_data"
    },
    {
     "data": {
      "application/vnd.jupyter.widget-view+json": {
       "model_id": "d88411a6d608403db462c41d6b49ccdf",
       "version_major": 2,
       "version_minor": 0
      },
      "text/plain": [
       "Downloading S5P_OFFL_L2__HCHO___20230318T113504_20230318T131635_28121_03_020401_20230320T035823.nc:   0%|     …"
      ]
     },
     "metadata": {},
     "output_type": "display_data"
    },
    {
     "data": {
      "application/vnd.jupyter.widget-view+json": {
       "model_id": "a0c5da47c76544c2a0a19a35c9fa3606",
       "version_major": 2,
       "version_minor": 0
      },
      "text/plain": [
       "MD5 checksumming:   0%|          | 0.00/754M [00:00<?, ?B/s]"
      ]
     },
     "metadata": {},
     "output_type": "display_data"
    },
    {
     "data": {
      "application/vnd.jupyter.widget-view+json": {
       "model_id": "57dba77c73cb4e96bdeef631529f89fc",
       "version_major": 2,
       "version_minor": 0
      },
      "text/plain": [
       "Downloading S5P_OFFL_L2__HCHO___20220925T105546_20220925T123715_25652_03_020401_20220927T030904.nc:   0%|     …"
      ]
     },
     "metadata": {},
     "output_type": "display_data"
    },
    {
     "data": {
      "application/vnd.jupyter.widget-view+json": {
       "model_id": "fd1fdd16ba4d499c980962a697eb01c7",
       "version_major": 2,
       "version_minor": 0
      },
      "text/plain": [
       "MD5 checksumming:   0%|          | 0.00/756M [00:00<?, ?B/s]"
      ]
     },
     "metadata": {},
     "output_type": "display_data"
    },
    {
     "data": {
      "application/vnd.jupyter.widget-view+json": {
       "model_id": "d823a20b96814eacbe140d83c2a3803c",
       "version_major": 2,
       "version_minor": 0
      },
      "text/plain": [
       "Downloading S5P_OFFL_L2__HCHO___20230411T122931_20230411T141101_28462_03_020401_20230413T044619.nc:   0%|     …"
      ]
     },
     "metadata": {},
     "output_type": "display_data"
    },
    {
     "data": {
      "application/vnd.jupyter.widget-view+json": {
       "model_id": "1842693466f44790be8efaa082666aa8",
       "version_major": 2,
       "version_minor": 0
      },
      "text/plain": [
       "MD5 checksumming:   0%|          | 0.00/758M [00:00<?, ?B/s]"
      ]
     },
     "metadata": {},
     "output_type": "display_data"
    },
    {
     "data": {
      "application/vnd.jupyter.widget-view+json": {
       "model_id": "7743adb4423d4ab2a46d856a5bcf9e06",
       "version_major": 2,
       "version_minor": 0
      },
      "text/plain": [
       "Downloading S5P_OFFL_L2__HCHO___20230410T110654_20230410T124824_28447_03_020401_20230412T031723.nc:   0%|     …"
      ]
     },
     "metadata": {},
     "output_type": "display_data"
    },
    {
     "data": {
      "application/vnd.jupyter.widget-view+json": {
       "model_id": "27f06231b65f47779aa49d4ee43b7b9e",
       "version_major": 2,
       "version_minor": 0
      },
      "text/plain": [
       "MD5 checksumming:   0%|          | 0.00/765M [00:00<?, ?B/s]"
      ]
     },
     "metadata": {},
     "output_type": "display_data"
    },
    {
     "data": {
      "application/vnd.jupyter.widget-view+json": {
       "model_id": "00638522f72441ed95bc63a3b591375c",
       "version_major": 2,
       "version_minor": 0
      },
      "text/plain": [
       "Downloading S5P_OFFL_L2__HCHO___20230207T102112_20230207T120243_27567_03_020401_20230209T024334.nc:   0%|     …"
      ]
     },
     "metadata": {},
     "output_type": "display_data"
    },
    {
     "data": {
      "application/vnd.jupyter.widget-view+json": {
       "model_id": "40db423346274730953b42b75dd2ff0c",
       "version_major": 2,
       "version_minor": 0
      },
      "text/plain": [
       "MD5 checksumming:   0%|          | 0.00/761M [00:00<?, ?B/s]"
      ]
     },
     "metadata": {},
     "output_type": "display_data"
    },
    {
     "data": {
      "application/vnd.jupyter.widget-view+json": {
       "model_id": "a0de47b0b0204bd2839a5cfc86f79aab",
       "version_major": 2,
       "version_minor": 0
      },
      "text/plain": [
       "Downloading S5P_OFFL_L2__HCHO___20230213T100905_20230213T115036_27652_03_020401_20230215T023641.nc:   0%|     …"
      ]
     },
     "metadata": {},
     "output_type": "display_data"
    },
    {
     "data": {
      "application/vnd.jupyter.widget-view+json": {
       "model_id": "263847965a59441ab92d28ec3192f3cb",
       "version_major": 2,
       "version_minor": 0
      },
      "text/plain": [
       "MD5 checksumming:   0%|          | 0.00/757M [00:00<?, ?B/s]"
      ]
     },
     "metadata": {},
     "output_type": "display_data"
    },
    {
     "data": {
      "application/vnd.jupyter.widget-view+json": {
       "model_id": "db5e4f0daf484ba09e83824c612d18f1",
       "version_major": 2,
       "version_minor": 0
      },
      "text/plain": [
       "Downloading S5P_OFFL_L2__HCHO___20230101T101219_20230101T115349_27042_03_020401_20230103T111639.nc:   0%|     …"
      ]
     },
     "metadata": {},
     "output_type": "display_data"
    },
    {
     "data": {
      "application/vnd.jupyter.widget-view+json": {
       "model_id": "a0299abe08de493a878e1bd7eb1c2188",
       "version_major": 2,
       "version_minor": 0
      },
      "text/plain": [
       "MD5 checksumming:   0%|          | 0.00/763M [00:00<?, ?B/s]"
      ]
     },
     "metadata": {},
     "output_type": "display_data"
    },
    {
     "data": {
      "application/vnd.jupyter.widget-view+json": {
       "model_id": "f9ab65115f974455839253f6bf308e18",
       "version_major": 2,
       "version_minor": 0
      },
      "text/plain": [
       "Downloading S5P_OFFL_L2__HCHO___20221225T122519_20221225T140649_26944_03_020401_20221228T155232.nc:   0%|     …"
      ]
     },
     "metadata": {},
     "output_type": "display_data"
    },
    {
     "data": {
      "application/vnd.jupyter.widget-view+json": {
       "model_id": "6cb9357345924fd696e77f44502693ab",
       "version_major": 2,
       "version_minor": 0
      },
      "text/plain": [
       "MD5 checksumming:   0%|          | 0.00/759M [00:00<?, ?B/s]"
      ]
     },
     "metadata": {},
     "output_type": "display_data"
    },
    {
     "data": {
      "application/vnd.jupyter.widget-view+json": {
       "model_id": "c1e73620951848b9afd245d0bdc57c19",
       "version_major": 2,
       "version_minor": 0
      },
      "text/plain": [
       "Downloading S5P_OFFL_L2__HCHO___20230505T114148_20230505T132318_28802_03_020401_20230507T040613.nc:   0%|     …"
      ]
     },
     "metadata": {},
     "output_type": "display_data"
    },
    {
     "data": {
      "application/vnd.jupyter.widget-view+json": {
       "model_id": "a7e1aaa86eda4511b027ddbc207a7768",
       "version_major": 2,
       "version_minor": 0
      },
      "text/plain": [
       "MD5 checksumming:   0%|          | 0.00/756M [00:00<?, ?B/s]"
      ]
     },
     "metadata": {},
     "output_type": "display_data"
    },
    {
     "data": {
      "application/vnd.jupyter.widget-view+json": {
       "model_id": "66f36595283f425d82968bd33ffcc5e9",
       "version_major": 2,
       "version_minor": 0
      },
      "text/plain": [
       "Downloading S5P_OFFL_L2__HCHO___20230110T104428_20230110T122558_27170_03_020401_20230112T030212.nc:   0%|     …"
      ]
     },
     "metadata": {},
     "output_type": "display_data"
    },
    {
     "data": {
      "application/vnd.jupyter.widget-view+json": {
       "model_id": "3e1aa3c665f34394b27dff2e72f7e53c",
       "version_major": 2,
       "version_minor": 0
      },
      "text/plain": [
       "MD5 checksumming:   0%|          | 0.00/757M [00:00<?, ?B/s]"
      ]
     },
     "metadata": {},
     "output_type": "display_data"
    },
    {
     "data": {
      "application/vnd.jupyter.widget-view+json": {
       "model_id": "0ab8cc3f69c742feaf9017e5f04c69e8",
       "version_major": 2,
       "version_minor": 0
      },
      "text/plain": [
       "Downloading S5P_OFFL_L2__HCHO___20220809T122254_20220809T140423_24986_03_020401_20220811T173714.nc:   0%|     …"
      ]
     },
     "metadata": {},
     "output_type": "display_data"
    },
    {
     "data": {
      "application/vnd.jupyter.widget-view+json": {
       "model_id": "6926a0dcaece4d26b5963c2f9d948cf4",
       "version_major": 2,
       "version_minor": 0
      },
      "text/plain": [
       "MD5 checksumming:   0%|          | 0.00/749M [00:00<?, ?B/s]"
      ]
     },
     "metadata": {},
     "output_type": "display_data"
    },
    {
     "data": {
      "application/vnd.jupyter.widget-view+json": {
       "model_id": "712a976d4aee44abaaaf33777a1629ec",
       "version_major": 2,
       "version_minor": 0
      },
      "text/plain": [
       "Downloading S5P_OFFL_L2__HCHO___20221220T103723_20221220T121853_26872_03_020401_20221225T015109.nc:   0%|     …"
      ]
     },
     "metadata": {},
     "output_type": "display_data"
    },
    {
     "data": {
      "application/vnd.jupyter.widget-view+json": {
       "model_id": "b9f9491c67a34e29828db7ae251cd8e5",
       "version_major": 2,
       "version_minor": 0
      },
      "text/plain": [
       "MD5 checksumming:   0%|          | 0.00/757M [00:00<?, ?B/s]"
      ]
     },
     "metadata": {},
     "output_type": "display_data"
    },
    {
     "data": {
      "application/vnd.jupyter.widget-view+json": {
       "model_id": "a2a56f103e60423194fbdbeee986bf5a",
       "version_major": 2,
       "version_minor": 0
      },
      "text/plain": [
       "Downloading S5P_OFFL_L2__HCHO___20230421T110204_20230421T124335_28603_03_020401_20230423T031307.nc:   0%|     …"
      ]
     },
     "metadata": {},
     "output_type": "display_data"
    },
    {
     "data": {
      "application/vnd.jupyter.widget-view+json": {
       "model_id": "4198f983f5dd498f94cf7699f0355af9",
       "version_major": 2,
       "version_minor": 0
      },
      "text/plain": [
       "MD5 checksumming:   0%|          | 0.00/755M [00:00<?, ?B/s]"
      ]
     },
     "metadata": {},
     "output_type": "display_data"
    },
    {
     "data": {
      "application/vnd.jupyter.widget-view+json": {
       "model_id": "0977acbdc2054feb907cbb9109fd94aa",
       "version_major": 2,
       "version_minor": 0
      },
      "text/plain": [
       "Downloading S5P_OFFL_L2__HCHO___20221205T101823_20221205T115953_26659_03_020401_20221211T221645.nc:   0%|     …"
      ]
     },
     "metadata": {},
     "output_type": "display_data"
    },
    {
     "data": {
      "application/vnd.jupyter.widget-view+json": {
       "model_id": "5829789ec9a44129ab02bfc292c17dbf",
       "version_major": 2,
       "version_minor": 0
      },
      "text/plain": [
       "MD5 checksumming:   0%|          | 0.00/758M [00:00<?, ?B/s]"
      ]
     },
     "metadata": {},
     "output_type": "display_data"
    },
    {
     "data": {
      "application/vnd.jupyter.widget-view+json": {
       "model_id": "dadcbafea0e1401ab45a85e89ca91415",
       "version_major": 2,
       "version_minor": 0
      },
      "text/plain": [
       "Downloading S5P_OFFL_L2__HCHO___20221023T120838_20221023T135008_26050_03_020401_20221025T043627.nc:   0%|     …"
      ]
     },
     "metadata": {},
     "output_type": "display_data"
    },
    {
     "data": {
      "application/vnd.jupyter.widget-view+json": {
       "model_id": "12c7cfffafad469eaaedf904ef8360a9",
       "version_major": 2,
       "version_minor": 0
      },
      "text/plain": [
       "MD5 checksumming:   0%|          | 0.00/761M [00:00<?, ?B/s]"
      ]
     },
     "metadata": {},
     "output_type": "display_data"
    },
    {
     "data": {
      "application/vnd.jupyter.widget-view+json": {
       "model_id": "706708565aba4c1db020d50795a2bc21",
       "version_major": 2,
       "version_minor": 0
      },
      "text/plain": [
       "Downloading S5P_OFFL_L2__HCHO___20230122T101952_20230122T120122_27340_03_020401_20230124T023617.nc:   0%|     …"
      ]
     },
     "metadata": {},
     "output_type": "display_data"
    },
    {
     "data": {
      "application/vnd.jupyter.widget-view+json": {
       "model_id": "c8fd785013a1485d8c5900ee8ec1d0e9",
       "version_major": 2,
       "version_minor": 0
      },
      "text/plain": [
       "MD5 checksumming:   0%|          | 0.00/733M [00:00<?, ?B/s]"
      ]
     },
     "metadata": {},
     "output_type": "display_data"
    },
    {
     "data": {
      "application/vnd.jupyter.widget-view+json": {
       "model_id": "8d959a62e6684c25ac4070d63efe90d3",
       "version_major": 2,
       "version_minor": 0
      },
      "text/plain": [
       "Downloading S5P_OFFL_L2__HCHO___20230418T101715_20230418T115846_28560_03_020401_20230420T022824.nc:   0%|     …"
      ]
     },
     "metadata": {},
     "output_type": "display_data"
    },
    {
     "data": {
      "application/vnd.jupyter.widget-view+json": {
       "model_id": "2c372e34424c4913955c0d649d2b908f",
       "version_major": 2,
       "version_minor": 0
      },
      "text/plain": [
       "MD5 checksumming:   0%|          | 0.00/756M [00:00<?, ?B/s]"
      ]
     },
     "metadata": {},
     "output_type": "display_data"
    },
    {
     "data": {
      "application/vnd.jupyter.widget-view+json": {
       "model_id": "0b2a2e5e275c4b90898ac620e3b10f69",
       "version_major": 2,
       "version_minor": 0
      },
      "text/plain": [
       "Downloading S5P_OFFL_L2__HCHO___20221109T100651_20221109T114821_26290_03_020401_20221111T022901.nc:   0%|     …"
      ]
     },
     "metadata": {},
     "output_type": "display_data"
    },
    {
     "data": {
      "application/vnd.jupyter.widget-view+json": {
       "model_id": "153b3e39081849d3b45bae21081b8a80",
       "version_major": 2,
       "version_minor": 0
      },
      "text/plain": [
       "MD5 checksumming:   0%|          | 0.00/763M [00:00<?, ?B/s]"
      ]
     },
     "metadata": {},
     "output_type": "display_data"
    },
    {
     "data": {
      "application/vnd.jupyter.widget-view+json": {
       "model_id": "ddea3c76771b417aae449edbc37a72a5",
       "version_major": 2,
       "version_minor": 0
      },
      "text/plain": [
       "Downloading S5P_OFFL_L2__HCHO___20230208T100216_20230208T114346_27581_03_020401_20230210T021450.nc:   0%|     …"
      ]
     },
     "metadata": {},
     "output_type": "display_data"
    },
    {
     "data": {
      "application/vnd.jupyter.widget-view+json": {
       "model_id": "5af695e6db984216833af7af7f58f2bb",
       "version_major": 2,
       "version_minor": 0
      },
      "text/plain": [
       "MD5 checksumming:   0%|          | 0.00/756M [00:00<?, ?B/s]"
      ]
     },
     "metadata": {},
     "output_type": "display_data"
    },
    {
     "data": {
      "application/vnd.jupyter.widget-view+json": {
       "model_id": "7a88d56c1b2f4ebf9d70603cf76f08a7",
       "version_major": 2,
       "version_minor": 0
      },
      "text/plain": [
       "Downloading S5P_OFFL_L2__HCHO___20220810T102218_20220810T120348_24999_03_020401_20220816T094700.nc:   0%|     …"
      ]
     },
     "metadata": {},
     "output_type": "display_data"
    },
    {
     "data": {
      "application/vnd.jupyter.widget-view+json": {
       "model_id": "f468c73da16343aa9b0e4637304c3f9b",
       "version_major": 2,
       "version_minor": 0
      },
      "text/plain": [
       "MD5 checksumming:   0%|          | 0.00/758M [00:00<?, ?B/s]"
      ]
     },
     "metadata": {},
     "output_type": "display_data"
    },
    {
     "data": {
      "application/vnd.jupyter.widget-view+json": {
       "model_id": "08593f19fd6442508b0e4fb75098877d",
       "version_major": 2,
       "version_minor": 0
      },
      "text/plain": [
       "Downloading S5P_OFFL_L2__HCHO___20230329T113029_20230329T131159_28277_03_020401_20230331T035446.nc:   0%|     …"
      ]
     },
     "metadata": {},
     "output_type": "display_data"
    },
    {
     "data": {
      "application/vnd.jupyter.widget-view+json": {
       "model_id": "ad32a3753ddd45bb824f05a417807762",
       "version_major": 2,
       "version_minor": 0
      },
      "text/plain": [
       "MD5 checksumming:   0%|          | 0.00/758M [00:00<?, ?B/s]"
      ]
     },
     "metadata": {},
     "output_type": "display_data"
    },
    {
     "data": {
      "application/vnd.jupyter.widget-view+json": {
       "model_id": "f2930e640a2240fc9db7bc453f8116ff",
       "version_major": 2,
       "version_minor": 0
      },
      "text/plain": [
       "Downloading S5P_OFFL_L2__HCHO___20230105T121922_20230105T140052_27100_03_020401_20230107T044957.nc:   0%|     …"
      ]
     },
     "metadata": {},
     "output_type": "display_data"
    },
    {
     "data": {
      "application/vnd.jupyter.widget-view+json": {
       "model_id": "c4acfb95127b4b62bc292b98ffcfcbcd",
       "version_major": 2,
       "version_minor": 0
      },
      "text/plain": [
       "MD5 checksumming:   0%|          | 0.00/757M [00:00<?, ?B/s]"
      ]
     },
     "metadata": {},
     "output_type": "display_data"
    },
    {
     "data": {
      "application/vnd.jupyter.widget-view+json": {
       "model_id": "db31dc64643446cab69f11e63f74c9b1",
       "version_major": 2,
       "version_minor": 0
      },
      "text/plain": [
       "Downloading S5P_OFFL_L2__HCHO___20221017T122154_20221017T140323_25965_03_020401_20221019T044040.nc:   0%|     …"
      ]
     },
     "metadata": {},
     "output_type": "display_data"
    },
    {
     "data": {
      "application/vnd.jupyter.widget-view+json": {
       "model_id": "fb400ff88fb5412b9c99d03074ca3435",
       "version_major": 2,
       "version_minor": 0
      },
      "text/plain": [
       "MD5 checksumming:   0%|          | 0.00/760M [00:00<?, ?B/s]"
      ]
     },
     "metadata": {},
     "output_type": "display_data"
    },
    {
     "data": {
      "application/vnd.jupyter.widget-view+json": {
       "model_id": "7d5cbe67ac504ed8b31a0cf8787e6277",
       "version_major": 2,
       "version_minor": 0
      },
      "text/plain": [
       "Downloading S5P_OFFL_L2__HCHO___20221123T104409_20221123T122538_26489_03_020401_20221130T105446.nc:   0%|     …"
      ]
     },
     "metadata": {},
     "output_type": "display_data"
    },
    {
     "data": {
      "application/vnd.jupyter.widget-view+json": {
       "model_id": "098aabd04a1142ada8dd69d6524c432b",
       "version_major": 2,
       "version_minor": 0
      },
      "text/plain": [
       "MD5 checksumming:   0%|          | 0.00/759M [00:00<?, ?B/s]"
      ]
     },
     "metadata": {},
     "output_type": "display_data"
    },
    {
     "data": {
      "application/vnd.jupyter.widget-view+json": {
       "model_id": "2102721ca2e64cbb99c20f14f33553fc",
       "version_major": 2,
       "version_minor": 0
      },
      "text/plain": [
       "Downloading S5P_OFFL_L2__HCHO___20220811T114441_20220811T132611_25014_03_020401_20220814T095713.nc:   0%|     …"
      ]
     },
     "metadata": {},
     "output_type": "display_data"
    },
    {
     "data": {
      "application/vnd.jupyter.widget-view+json": {
       "model_id": "97e1e018b2644ca591e29ba46776f068",
       "version_major": 2,
       "version_minor": 0
      },
      "text/plain": [
       "MD5 checksumming:   0%|          | 0.00/755M [00:00<?, ?B/s]"
      ]
     },
     "metadata": {},
     "output_type": "display_data"
    },
    {
     "data": {
      "application/vnd.jupyter.widget-view+json": {
       "model_id": "315db3351ce64c5f963d16c14169287b",
       "version_major": 2,
       "version_minor": 0
      },
      "text/plain": [
       "Downloading S5P_OFFL_L2__HCHO___20230513T123307_20230513T141437_28916_03_020401_20230515T050224.nc:   0%|     …"
      ]
     },
     "metadata": {},
     "output_type": "display_data"
    },
    {
     "data": {
      "application/vnd.jupyter.widget-view+json": {
       "model_id": "2bf71a5263454e9f801b74afb5eec052",
       "version_major": 2,
       "version_minor": 0
      },
      "text/plain": [
       "MD5 checksumming:   0%|          | 0.00/759M [00:00<?, ?B/s]"
      ]
     },
     "metadata": {},
     "output_type": "display_data"
    },
    {
     "data": {
      "application/vnd.jupyter.widget-view+json": {
       "model_id": "ffa796e7318247f99e62cc8141f6df88",
       "version_major": 2,
       "version_minor": 0
      },
      "text/plain": [
       "Downloading S5P_OFFL_L2__HCHO___20230113T112903_20230113T131033_27213_03_020401_20230115T035155.nc:   0%|     …"
      ]
     },
     "metadata": {},
     "output_type": "display_data"
    },
    {
     "data": {
      "application/vnd.jupyter.widget-view+json": {
       "model_id": "edd8170c5041470fbd465d42aaa1b090",
       "version_major": 2,
       "version_minor": 0
      },
      "text/plain": [
       "MD5 checksumming:   0%|          | 0.00/733M [00:00<?, ?B/s]"
      ]
     },
     "metadata": {},
     "output_type": "display_data"
    },
    {
     "data": {
      "application/vnd.jupyter.widget-view+json": {
       "model_id": "fb6a428b67a94f68a0c3f7b716a1bd60",
       "version_major": 2,
       "version_minor": 0
      },
      "text/plain": [
       "Downloading S5P_OFFL_L2__HCHO___20221002T102313_20221002T120442_25751_03_020401_20221004T024404.nc:   0%|     …"
      ]
     },
     "metadata": {},
     "output_type": "display_data"
    },
    {
     "data": {
      "application/vnd.jupyter.widget-view+json": {
       "model_id": "9a87a1a8c0ea4ecfa14df3bb42c94e04",
       "version_major": 2,
       "version_minor": 0
      },
      "text/plain": [
       "MD5 checksumming:   0%|          | 0.00/759M [00:00<?, ?B/s]"
      ]
     },
     "metadata": {},
     "output_type": "display_data"
    },
    {
     "data": {
      "application/vnd.jupyter.widget-view+json": {
       "model_id": "09c51d366e654881a3d31372b14a8ddd",
       "version_major": 2,
       "version_minor": 0
      },
      "text/plain": [
       "Downloading S5P_OFFL_L2__HCHO___20221012T121610_20221012T135740_25894_03_020401_20221014T043615.nc:   0%|     …"
      ]
     },
     "metadata": {},
     "output_type": "display_data"
    },
    {
     "data": {
      "application/vnd.jupyter.widget-view+json": {
       "model_id": "3b2762dc78224abea86cc81fde94e4fc",
       "version_major": 2,
       "version_minor": 0
      },
      "text/plain": [
       "MD5 checksumming:   0%|          | 0.00/755M [00:00<?, ?B/s]"
      ]
     },
     "metadata": {},
     "output_type": "display_data"
    },
    {
     "data": {
      "application/vnd.jupyter.widget-view+json": {
       "model_id": "9fe7947cecf543df9a9d2b6660a2cad5",
       "version_major": 2,
       "version_minor": 0
      },
      "text/plain": [
       "Downloading S5P_OFFL_L2__HCHO___20230425T112758_20230425T130929_28660_03_020401_20230427T035342.nc:   0%|     …"
      ]
     },
     "metadata": {},
     "output_type": "display_data"
    },
    {
     "data": {
      "application/vnd.jupyter.widget-view+json": {
       "model_id": "74bb5f5a71ae4d1faac62a2b12f6d533",
       "version_major": 2,
       "version_minor": 0
      },
      "text/plain": [
       "MD5 checksumming:   0%|          | 0.00/754M [00:00<?, ?B/s]"
      ]
     },
     "metadata": {},
     "output_type": "display_data"
    },
    {
     "data": {
      "application/vnd.jupyter.widget-view+json": {
       "model_id": "e24a6e882b564f6aa70ce221dc6c6e71",
       "version_major": 2,
       "version_minor": 0
      },
      "text/plain": [
       "Downloading S5P_OFFL_L2__HCHO___20230118T113543_20230118T131713_27284_03_020401_20230120T035717.nc:   0%|     …"
      ]
     },
     "metadata": {},
     "output_type": "display_data"
    },
    {
     "data": {
      "application/vnd.jupyter.widget-view+json": {
       "model_id": "694d9e8523db44609db626a27a7b0b5e",
       "version_major": 2,
       "version_minor": 0
      },
      "text/plain": [
       "MD5 checksumming:   0%|          | 0.00/764M [00:00<?, ?B/s]"
      ]
     },
     "metadata": {},
     "output_type": "display_data"
    },
    {
     "data": {
      "application/vnd.jupyter.widget-view+json": {
       "model_id": "076864a11961445bb8325067b767af03",
       "version_major": 2,
       "version_minor": 0
      },
      "text/plain": [
       "Downloading S5P_OFFL_L2__HCHO___20230412T121037_20230412T135208_28476_03_020401_20230414T043423.nc:   0%|     …"
      ]
     },
     "metadata": {},
     "output_type": "display_data"
    },
    {
     "data": {
      "application/vnd.jupyter.widget-view+json": {
       "model_id": "e5946a66ed8249e68f47a148af5407d9",
       "version_major": 2,
       "version_minor": 0
      },
      "text/plain": [
       "MD5 checksumming:   0%|          | 0.00/756M [00:00<?, ?B/s]"
      ]
     },
     "metadata": {},
     "output_type": "display_data"
    },
    {
     "data": {
      "application/vnd.jupyter.widget-view+json": {
       "model_id": "54bc9306c6954d1a84b4cf7ada4bfacd",
       "version_major": 2,
       "version_minor": 0
      },
      "text/plain": [
       "Downloading S5P_OFFL_L2__HCHO___20221108T120727_20221108T134856_26277_03_020401_20221110T043526.nc:   0%|     …"
      ]
     },
     "metadata": {},
     "output_type": "display_data"
    },
    {
     "data": {
      "application/vnd.jupyter.widget-view+json": {
       "model_id": "802bbf68bde440118565255bfeda5e9d",
       "version_major": 2,
       "version_minor": 0
      },
      "text/plain": [
       "MD5 checksumming:   0%|          | 0.00/757M [00:00<?, ?B/s]"
      ]
     },
     "metadata": {},
     "output_type": "display_data"
    },
    {
     "data": {
      "application/vnd.jupyter.widget-view+json": {
       "model_id": "f146046a87eb4014926b2c4ef3874eeb",
       "version_major": 2,
       "version_minor": 0
      },
      "text/plain": [
       "Downloading S5P_OFFL_L2__HCHO___20221214T123131_20221214T141301_26788_03_020401_20221220T093408.nc:   0%|     …"
      ]
     },
     "metadata": {},
     "output_type": "display_data"
    },
    {
     "data": {
      "application/vnd.jupyter.widget-view+json": {
       "model_id": "15e0a47a0613433d8f455db90fc97c10",
       "version_major": 2,
       "version_minor": 0
      },
      "text/plain": [
       "MD5 checksumming:   0%|          | 0.00/760M [00:00<?, ?B/s]"
      ]
     },
     "metadata": {},
     "output_type": "display_data"
    },
    {
     "data": {
      "application/vnd.jupyter.widget-view+json": {
       "model_id": "9a1c754537f744b7825e4244b5de2c8f",
       "version_major": 2,
       "version_minor": 0
      },
      "text/plain": [
       "Downloading S5P_OFFL_L2__HCHO___20230402T101458_20230402T115628_28333_03_020401_20230404T023119.nc:   0%|     …"
      ]
     },
     "metadata": {},
     "output_type": "display_data"
    },
    {
     "data": {
      "application/vnd.jupyter.widget-view+json": {
       "model_id": "e5af5825a1be4fe4a6a90e62d2395765",
       "version_major": 2,
       "version_minor": 0
      },
      "text/plain": [
       "MD5 checksumming:   0%|          | 0.00/760M [00:00<?, ?B/s]"
      ]
     },
     "metadata": {},
     "output_type": "display_data"
    },
    {
     "data": {
      "application/vnd.jupyter.widget-view+json": {
       "model_id": "ffcf30ac20fa420cbedc9cbbf354a17e",
       "version_major": 2,
       "version_minor": 0
      },
      "text/plain": [
       "Downloading S5P_OFFL_L2__HCHO___20221118T103802_20221118T121932_26418_03_020401_20221125T191400.nc:   0%|     …"
      ]
     },
     "metadata": {},
     "output_type": "display_data"
    },
    {
     "data": {
      "application/vnd.jupyter.widget-view+json": {
       "model_id": "75e3207e7e054388abfb517914e1dd00",
       "version_major": 2,
       "version_minor": 0
      },
      "text/plain": [
       "MD5 checksumming:   0%|          | 0.00/758M [00:00<?, ?B/s]"
      ]
     },
     "metadata": {},
     "output_type": "display_data"
    },
    {
     "data": {
      "application/vnd.jupyter.widget-view+json": {
       "model_id": "a912069e3b464305a10886073e1ba8e1",
       "version_major": 2,
       "version_minor": 0
      },
      "text/plain": [
       "Downloading S5P_OFFL_L2__HCHO___20221011T123520_20221011T141649_25880_03_020401_20221013T050141.nc:   0%|     …"
      ]
     },
     "metadata": {},
     "output_type": "display_data"
    },
    {
     "data": {
      "application/vnd.jupyter.widget-view+json": {
       "model_id": "ce043d46ee874a3486e0efe4ac83d88c",
       "version_major": 2,
       "version_minor": 0
      },
      "text/plain": [
       "MD5 checksumming:   0%|          | 0.00/728M [00:00<?, ?B/s]"
      ]
     },
     "metadata": {},
     "output_type": "display_data"
    },
    {
     "data": {
      "application/vnd.jupyter.widget-view+json": {
       "model_id": "8d7f8597893b484b9e160305884ebd3b",
       "version_major": 2,
       "version_minor": 0
      },
      "text/plain": [
       "Downloading S5P_OFFL_L2__HCHO___20230224T100350_20230224T114521_27808_03_020401_20230226T022129.nc:   0%|     …"
      ]
     },
     "metadata": {},
     "output_type": "display_data"
    },
    {
     "data": {
      "application/vnd.jupyter.widget-view+json": {
       "model_id": "3f5dfcdfc78245c697c1fbe32e583acf",
       "version_major": 2,
       "version_minor": 0
      },
      "text/plain": [
       "MD5 checksumming:   0%|          | 0.00/732M [00:00<?, ?B/s]"
      ]
     },
     "metadata": {},
     "output_type": "display_data"
    },
    {
     "data": {
      "application/vnd.jupyter.widget-view+json": {
       "model_id": "5d930a56a6a04f108d236b0691354ca5",
       "version_major": 2,
       "version_minor": 0
      },
      "text/plain": [
       "Downloading S5P_OFFL_L2__HCHO___20230517T111714_20230517T125844_28972_03_020401_20230519T034405.nc:   0%|     …"
      ]
     },
     "metadata": {},
     "output_type": "display_data"
    },
    {
     "data": {
      "application/vnd.jupyter.widget-view+json": {
       "model_id": "6cf9506a353848d2b06e5bf32db9c7fb",
       "version_major": 2,
       "version_minor": 0
      },
      "text/plain": [
       "MD5 checksumming:   0%|          | 0.00/752M [00:00<?, ?B/s]"
      ]
     },
     "metadata": {},
     "output_type": "display_data"
    },
    {
     "data": {
      "application/vnd.jupyter.widget-view+json": {
       "model_id": "8c5fb0c790e44051bd578a3095a0ea16",
       "version_major": 2,
       "version_minor": 0
      },
      "text/plain": [
       "Downloading S5P_OFFL_L2__HCHO___20230406T104056_20230406T122227_28390_03_020401_20230408T030124.nc:   0%|     …"
      ]
     },
     "metadata": {},
     "output_type": "display_data"
    },
    {
     "data": {
      "application/vnd.jupyter.widget-view+json": {
       "model_id": "b312a270848948e889a597cb1808737b",
       "version_major": 2,
       "version_minor": 0
      },
      "text/plain": [
       "MD5 checksumming:   0%|          | 0.00/764M [00:00<?, ?B/s]"
      ]
     },
     "metadata": {},
     "output_type": "display_data"
    },
    {
     "data": {
      "application/vnd.jupyter.widget-view+json": {
       "model_id": "f7d026865b944b52a550815bec14fb70",
       "version_major": 2,
       "version_minor": 0
      },
      "text/plain": [
       "Downloading S5P_OFFL_L2__HCHO___20230305T103629_20230305T121800_27936_03_020401_20230307T030658.nc:   0%|     …"
      ]
     },
     "metadata": {},
     "output_type": "display_data"
    },
    {
     "data": {
      "application/vnd.jupyter.widget-view+json": {
       "model_id": "f527f37cd71b4c74b82b99f777c59794",
       "version_major": 2,
       "version_minor": 0
      },
      "text/plain": [
       "MD5 checksumming:   0%|          | 0.00/734M [00:00<?, ?B/s]"
      ]
     },
     "metadata": {},
     "output_type": "display_data"
    },
    {
     "data": {
      "application/vnd.jupyter.widget-view+json": {
       "model_id": "d774f56d718b4ed4906bd7be5c60e214",
       "version_major": 2,
       "version_minor": 0
      },
      "text/plain": [
       "Downloading S5P_OFFL_L2__HCHO___20230216T123518_20230216T141648_27696_03_020401_20230218T045157.nc:   0%|     …"
      ]
     },
     "metadata": {},
     "output_type": "display_data"
    },
    {
     "data": {
      "application/vnd.jupyter.widget-view+json": {
       "model_id": "4d009a199f114c1c80b3c4039bf5d15e",
       "version_major": 2,
       "version_minor": 0
      },
      "text/plain": [
       "MD5 checksumming:   0%|          | 0.00/759M [00:00<?, ?B/s]"
      ]
     },
     "metadata": {},
     "output_type": "display_data"
    },
    {
     "data": {
      "application/vnd.jupyter.widget-view+json": {
       "model_id": "1b4fa82dc5dc4677b1a759efebc22d41",
       "version_major": 2,
       "version_minor": 0
      },
      "text/plain": [
       "Downloading S5P_OFFL_L2__HCHO___20221202T111533_20221202T125703_26617_03_020401_20221209T104302.nc:   0%|     …"
      ]
     },
     "metadata": {},
     "output_type": "display_data"
    },
    {
     "data": {
      "application/vnd.jupyter.widget-view+json": {
       "model_id": "aae1f763d027494d9c7016cdf0259f86",
       "version_major": 2,
       "version_minor": 0
      },
      "text/plain": [
       "MD5 checksumming:   0%|          | 0.00/759M [00:00<?, ?B/s]"
      ]
     },
     "metadata": {},
     "output_type": "display_data"
    },
    {
     "data": {
      "application/vnd.jupyter.widget-view+json": {
       "model_id": "ad37bbcbd42f4e27adf2de64cdaf853e",
       "version_major": 2,
       "version_minor": 0
      },
      "text/plain": [
       "Downloading S5P_OFFL_L2__HCHO___20220910T121955_20220910T140125_25440_03_020401_20220912T044114.nc:   0%|     …"
      ]
     },
     "metadata": {},
     "output_type": "display_data"
    },
    {
     "data": {
      "application/vnd.jupyter.widget-view+json": {
       "model_id": "de7d68a85f474c528bd9bccb9764060d",
       "version_major": 2,
       "version_minor": 0
      },
      "text/plain": [
       "MD5 checksumming:   0%|          | 0.00/757M [00:00<?, ?B/s]"
      ]
     },
     "metadata": {},
     "output_type": "display_data"
    },
    {
     "data": {
      "application/vnd.jupyter.widget-view+json": {
       "model_id": "64f6b57bd9fb4fa486c0a1073110b328",
       "version_major": 2,
       "version_minor": 0
      },
      "text/plain": [
       "Downloading S5P_OFFL_L2__HCHO___20220926T103637_20220926T121806_25666_03_020401_20220928T025046.nc:   0%|     …"
      ]
     },
     "metadata": {},
     "output_type": "display_data"
    },
    {
     "data": {
      "application/vnd.jupyter.widget-view+json": {
       "model_id": "bdd0677ccba949efa4de78ccfce23b00",
       "version_major": 2,
       "version_minor": 0
      },
      "text/plain": [
       "MD5 checksumming:   0%|          | 0.00/759M [00:00<?, ?B/s]"
      ]
     },
     "metadata": {},
     "output_type": "display_data"
    },
    {
     "data": {
      "application/vnd.jupyter.widget-view+json": {
       "model_id": "95c863b85e0a4a658cd5fae3ebeb8233",
       "version_major": 2,
       "version_minor": 0
      },
      "text/plain": [
       "Downloading S5P_OFFL_L2__HCHO___20221206T095921_20221206T114050_26673_03_020401_20221212T142807.nc:   0%|     …"
      ]
     },
     "metadata": {},
     "output_type": "display_data"
    },
    {
     "data": {
      "application/vnd.jupyter.widget-view+json": {
       "model_id": "86a630e4f1c34ac3b4e67017d290b96e",
       "version_major": 2,
       "version_minor": 0
      },
      "text/plain": [
       "MD5 checksumming:   0%|          | 0.00/761M [00:00<?, ?B/s]"
      ]
     },
     "metadata": {},
     "output_type": "display_data"
    },
    {
     "data": {
      "application/vnd.jupyter.widget-view+json": {
       "model_id": "65232618a21744a3ac401ceba31ee960",
       "version_major": 2,
       "version_minor": 0
      },
      "text/plain": [
       "Downloading S5P_OFFL_L2__HCHO___20220804T103526_20220804T121655_24914_03_020401_20220806T082339.nc:   0%|     …"
      ]
     },
     "metadata": {},
     "output_type": "display_data"
    },
    {
     "data": {
      "application/vnd.jupyter.widget-view+json": {
       "model_id": "79b636796a3e4fd195990cc36b487120",
       "version_major": 2,
       "version_minor": 0
      },
      "text/plain": [
       "MD5 checksumming:   0%|          | 0.00/762M [00:00<?, ?B/s]"
      ]
     },
     "metadata": {},
     "output_type": "display_data"
    },
    {
     "data": {
      "application/vnd.jupyter.widget-view+json": {
       "model_id": "bf8459b015984a0f83788bbfe02fad47",
       "version_major": 2,
       "version_minor": 0
      },
      "text/plain": [
       "Downloading S5P_OFFL_L2__HCHO___20230311T102425_20230311T120555_28021_03_020401_20230313T023614.nc:   0%|     …"
      ]
     },
     "metadata": {},
     "output_type": "display_data"
    },
    {
     "data": {
      "application/vnd.jupyter.widget-view+json": {
       "model_id": "52bfc293112d4df68a4fb8f8e4a2fb6f",
       "version_major": 2,
       "version_minor": 0
      },
      "text/plain": [
       "MD5 checksumming:   0%|          | 0.00/761M [00:00<?, ?B/s]"
      ]
     },
     "metadata": {},
     "output_type": "display_data"
    },
    {
     "data": {
      "application/vnd.jupyter.widget-view+json": {
       "model_id": "dc45a75467274da4a47a1082ab87a5ca",
       "version_major": 2,
       "version_minor": 0
      },
      "text/plain": [
       "Downloading S5P_OFFL_L2__HCHO___20230208T114346_20230208T132516_27582_03_020401_20230210T035927.nc:   0%|     …"
      ]
     },
     "metadata": {},
     "output_type": "display_data"
    },
    {
     "data": {
      "application/vnd.jupyter.widget-view+json": {
       "model_id": "559cc1e24d0842cda4f3ebb9a0a448f7",
       "version_major": 2,
       "version_minor": 0
      },
      "text/plain": [
       "MD5 checksumming:   0%|          | 0.00/757M [00:00<?, ?B/s]"
      ]
     },
     "metadata": {},
     "output_type": "display_data"
    },
    {
     "data": {
      "application/vnd.jupyter.widget-view+json": {
       "model_id": "edd1dccbedc64c4a980c33cb0a7ffca8",
       "version_major": 2,
       "version_minor": 0
      },
      "text/plain": [
       "Downloading S5P_OFFL_L2__HCHO___20220917T100556_20220917T114726_25538_03_020401_20220919T021745.nc:   0%|     …"
      ]
     },
     "metadata": {},
     "output_type": "display_data"
    },
    {
     "data": {
      "application/vnd.jupyter.widget-view+json": {
       "model_id": "21c901e8b1cb4411b9315664fcb10133",
       "version_major": 2,
       "version_minor": 0
      },
      "text/plain": [
       "MD5 checksumming:   0%|          | 0.00/756M [00:00<?, ?B/s]"
      ]
     },
     "metadata": {},
     "output_type": "display_data"
    },
    {
     "data": {
      "application/vnd.jupyter.widget-view+json": {
       "model_id": "f3e4147af04c4a12b772d8a1ed1f1cba",
       "version_major": 2,
       "version_minor": 0
      },
      "text/plain": [
       "Downloading S5P_OFFL_L2__HCHO___20221014T113752_20221014T131921_25922_03_020401_20221016T041029.nc:   0%|     …"
      ]
     },
     "metadata": {},
     "output_type": "display_data"
    },
    {
     "data": {
      "application/vnd.jupyter.widget-view+json": {
       "model_id": "17765adae85440978d563945e4fcb318",
       "version_major": 2,
       "version_minor": 0
      },
      "text/plain": [
       "MD5 checksumming:   0%|          | 0.00/761M [00:00<?, ?B/s]"
      ]
     },
     "metadata": {},
     "output_type": "display_data"
    },
    {
     "data": {
      "application/vnd.jupyter.widget-view+json": {
       "model_id": "049d460f78a84871bc4b2b7aa0fa07f3",
       "version_major": 2,
       "version_minor": 0
      },
      "text/plain": [
       "Downloading S5P_OFFL_L2__HCHO___20230508T122626_20230508T140756_28845_03_020401_20230510T043314.nc:   0%|     …"
      ]
     },
     "metadata": {},
     "output_type": "display_data"
    },
    {
     "data": {
      "application/vnd.jupyter.widget-view+json": {
       "model_id": "b15222eff72e4cfe97b1fb663592cf1e",
       "version_major": 2,
       "version_minor": 0
      },
      "text/plain": [
       "MD5 checksumming:   0%|          | 0.00/760M [00:00<?, ?B/s]"
      ]
     },
     "metadata": {},
     "output_type": "display_data"
    },
    {
     "data": {
      "application/vnd.jupyter.widget-view+json": {
       "model_id": "9d4a7c9aa44648f89ab0985609445c08",
       "version_major": 2,
       "version_minor": 0
      },
      "text/plain": [
       "Downloading S5P_OFFL_L2__HCHO___20230417T121740_20230417T135910_28547_03_020401_20230419T042715.nc:   0%|     …"
      ]
     },
     "metadata": {},
     "output_type": "display_data"
    },
    {
     "data": {
      "application/vnd.jupyter.widget-view+json": {
       "model_id": "1f27e549a7f741b0a544ea328d38ff44",
       "version_major": 2,
       "version_minor": 0
      },
      "text/plain": [
       "MD5 checksumming:   0%|          | 0.00/755M [00:00<?, ?B/s]"
      ]
     },
     "metadata": {},
     "output_type": "display_data"
    },
    {
     "data": {
      "application/vnd.jupyter.widget-view+json": {
       "model_id": "7f1f3c10911744db841f086e4acc0740",
       "version_major": 2,
       "version_minor": 0
      },
      "text/plain": [
       "Downloading S5P_OFFL_L2__HCHO___20230502T105706_20230502T123836_28759_03_020401_20230504T032034.nc:   0%|     …"
      ]
     },
     "metadata": {},
     "output_type": "display_data"
    },
    {
     "data": {
      "application/vnd.jupyter.widget-view+json": {
       "model_id": "995972d12e7b41b7be1fac5bfa05f095",
       "version_major": 2,
       "version_minor": 0
      },
      "text/plain": [
       "MD5 checksumming:   0%|          | 0.00/764M [00:00<?, ?B/s]"
      ]
     },
     "metadata": {},
     "output_type": "display_data"
    },
    {
     "data": {
      "application/vnd.jupyter.widget-view+json": {
       "model_id": "ec49a032f8e14b1587236d2bebc8e46b",
       "version_major": 2,
       "version_minor": 0
      },
      "text/plain": [
       "Downloading S5P_OFFL_L2__HCHO___20221229T110918_20221229T125048_27000_03_020401_20230101T003745.nc:   0%|     …"
      ]
     },
     "metadata": {},
     "output_type": "display_data"
    },
    {
     "data": {
      "application/vnd.jupyter.widget-view+json": {
       "model_id": "27702b570c1f4ff9b589ecf04acb35bf",
       "version_major": 2,
       "version_minor": 0
      },
      "text/plain": [
       "MD5 checksumming:   0%|          | 0.00/754M [00:00<?, ?B/s]"
      ]
     },
     "metadata": {},
     "output_type": "display_data"
    },
    {
     "data": {
      "application/vnd.jupyter.widget-view+json": {
       "model_id": "0e1bbdcd1c5742a6b745c784780f862a",
       "version_major": 2,
       "version_minor": 0
      },
      "text/plain": [
       "Downloading S5P_OFFL_L2__HCHO___20220913T112230_20220913T130400_25482_03_020401_20220915T035304.nc:   0%|     …"
      ]
     },
     "metadata": {},
     "output_type": "display_data"
    },
    {
     "data": {
      "application/vnd.jupyter.widget-view+json": {
       "model_id": "e7cbb70ce644410981c2e924356aac56",
       "version_major": 2,
       "version_minor": 0
      },
      "text/plain": [
       "MD5 checksumming:   0%|          | 0.00/752M [00:00<?, ?B/s]"
      ]
     },
     "metadata": {},
     "output_type": "display_data"
    },
    {
     "data": {
      "application/vnd.jupyter.widget-view+json": {
       "model_id": "41a2a2fcc8e54dd79ecd3aeecab1085f",
       "version_major": 2,
       "version_minor": 0
      },
      "text/plain": [
       "Downloading S5P_OFFL_L2__HCHO___20230430T113456_20230430T131626_28731_03_020401_20230502T040525.nc:   0%|     …"
      ]
     },
     "metadata": {},
     "output_type": "display_data"
    },
    {
     "data": {
      "application/vnd.jupyter.widget-view+json": {
       "model_id": "e1629454c7154aff810464ab1435ef90",
       "version_major": 2,
       "version_minor": 0
      },
      "text/plain": [
       "MD5 checksumming:   0%|          | 0.00/735M [00:00<?, ?B/s]"
      ]
     },
     "metadata": {},
     "output_type": "display_data"
    },
    {
     "data": {
      "application/vnd.jupyter.widget-view+json": {
       "model_id": "3c9a94823ea64df8a22e4e8e708ef131",
       "version_major": 2,
       "version_minor": 0
      },
      "text/plain": [
       "Downloading S5P_OFFL_L2__HCHO___20230120T105747_20230120T123917_27312_03_020401_20230122T031703.nc:   0%|     …"
      ]
     },
     "metadata": {},
     "output_type": "display_data"
    },
    {
     "data": {
      "application/vnd.jupyter.widget-view+json": {
       "model_id": "9d29892d53f14c1898fe43a81a6e59e1",
       "version_major": 2,
       "version_minor": 0
      },
      "text/plain": [
       "MD5 checksumming:   0%|          | 0.00/757M [00:00<?, ?B/s]"
      ]
     },
     "metadata": {},
     "output_type": "display_data"
    },
    {
     "data": {
      "application/vnd.jupyter.widget-view+json": {
       "model_id": "132a9f02bc6d448888e774f864cadff7",
       "version_major": 2,
       "version_minor": 0
      },
      "text/plain": [
       "Downloading S5P_OFFL_L2__HCHO___20220922T115312_20220922T133441_25610_03_020401_20220924T041639.nc:   0%|     …"
      ]
     },
     "metadata": {},
     "output_type": "display_data"
    },
    {
     "data": {
      "application/vnd.jupyter.widget-view+json": {
       "model_id": "b528ade7e5be4f1d8737c0e429425e1b",
       "version_major": 2,
       "version_minor": 0
      },
      "text/plain": [
       "MD5 checksumming:   0%|          | 0.00/762M [00:00<?, ?B/s]"
      ]
     },
     "metadata": {},
     "output_type": "display_data"
    },
    {
     "data": {
      "application/vnd.jupyter.widget-view+json": {
       "model_id": "4df2b0484e934361a9666811b9863910",
       "version_major": 2,
       "version_minor": 0
      },
      "text/plain": [
       "Downloading S5P_OFFL_L2__HCHO___20221210T102440_20221210T120610_26730_03_020401_20221216T124346.nc:   0%|     …"
      ]
     },
     "metadata": {},
     "output_type": "display_data"
    },
    {
     "data": {
      "application/vnd.jupyter.widget-view+json": {
       "model_id": "b30559aff49447a3a903664dc15acd3a",
       "version_major": 2,
       "version_minor": 0
      },
      "text/plain": [
       "MD5 checksumming:   0%|          | 0.00/758M [00:00<?, ?B/s]"
      ]
     },
     "metadata": {},
     "output_type": "display_data"
    },
    {
     "data": {
      "application/vnd.jupyter.widget-view+json": {
       "model_id": "610e894c0f4c43d590bb6e2f99c40863",
       "version_major": 2,
       "version_minor": 0
      },
      "text/plain": [
       "Downloading S5P_OFFL_L2__HCHO___20230306T115904_20230306T134034_27951_03_020401_20230308T042624.nc:   0%|     …"
      ]
     },
     "metadata": {},
     "output_type": "display_data"
    },
    {
     "data": {
      "application/vnd.jupyter.widget-view+json": {
       "model_id": "cc5922c2ab7245e2896cd0d24bfe7339",
       "version_major": 2,
       "version_minor": 0
      },
      "text/plain": [
       "MD5 checksumming:   0%|          | 0.00/756M [00:00<?, ?B/s]"
      ]
     },
     "metadata": {},
     "output_type": "display_data"
    },
    {
     "data": {
      "application/vnd.jupyter.widget-view+json": {
       "model_id": "77ea1ad08db34c719ec4879905877b5a",
       "version_major": 2,
       "version_minor": 0
      },
      "text/plain": [
       "Downloading S5P_OFFL_L2__HCHO___20230526T114922_20230526T133052_29100_03_020401_20230528T041013.nc:   0%|     …"
      ]
     },
     "metadata": {},
     "output_type": "display_data"
    },
    {
     "data": {
      "application/vnd.jupyter.widget-view+json": {
       "model_id": "7028e70d97164b9f9a234f10a95026c8",
       "version_major": 2,
       "version_minor": 0
      },
      "text/plain": [
       "MD5 checksumming:   0%|          | 0.00/760M [00:00<?, ?B/s]"
      ]
     },
     "metadata": {},
     "output_type": "display_data"
    },
    {
     "data": {
      "application/vnd.jupyter.widget-view+json": {
       "model_id": "53e42f4fcea24dffa79a5d1a3540084f",
       "version_major": 2,
       "version_minor": 0
      },
      "text/plain": [
       "Downloading S5P_OFFL_L2__HCHO___20230416T123633_20230416T141804_28533_03_020401_20230418T045419.nc:   0%|     …"
      ]
     },
     "metadata": {},
     "output_type": "display_data"
    },
    {
     "data": {
      "application/vnd.jupyter.widget-view+json": {
       "model_id": "dd7d9c225dc24c6783709c4601d87ede",
       "version_major": 2,
       "version_minor": 0
      },
      "text/plain": [
       "MD5 checksumming:   0%|          | 0.00/758M [00:00<?, ?B/s]"
      ]
     },
     "metadata": {},
     "output_type": "display_data"
    },
    {
     "data": {
      "application/vnd.jupyter.widget-view+json": {
       "model_id": "ef5aeae905f645bba5ec65847c5cc63d",
       "version_major": 2,
       "version_minor": 0
      },
      "text/plain": [
       "Downloading S5P_OFFL_L2__HCHO___20230119T111645_20230119T125815_27298_03_020401_20230121T033331.nc:   0%|     …"
      ]
     },
     "metadata": {},
     "output_type": "display_data"
    },
    {
     "data": {
      "application/vnd.jupyter.widget-view+json": {
       "model_id": "30496a6349af48f6aaef83ddee5c2dac",
       "version_major": 2,
       "version_minor": 0
      },
      "text/plain": [
       "MD5 checksumming:   0%|          | 0.00/761M [00:00<?, ?B/s]"
      ]
     },
     "metadata": {},
     "output_type": "display_data"
    },
    {
     "data": {
      "application/vnd.jupyter.widget-view+json": {
       "model_id": "f34b6da3061b4bca8f787774865041f4",
       "version_major": 2,
       "version_minor": 0
      },
      "text/plain": [
       "Downloading S5P_OFFL_L2__HCHO___20221018T120245_20221018T134414_25979_03_020401_20221020T042508.nc:   0%|     …"
      ]
     },
     "metadata": {},
     "output_type": "display_data"
    },
    {
     "data": {
      "application/vnd.jupyter.widget-view+json": {
       "model_id": "e3f562aecb6c4aa1b6d0b5df2deab612",
       "version_major": 2,
       "version_minor": 0
      },
      "text/plain": [
       "MD5 checksumming:   0%|          | 0.00/753M [00:00<?, ?B/s]"
      ]
     },
     "metadata": {},
     "output_type": "display_data"
    },
    {
     "data": {
      "application/vnd.jupyter.widget-view+json": {
       "model_id": "73559ec7658e4e0e9065609ce1f6caca",
       "version_major": 2,
       "version_minor": 0
      },
      "text/plain": [
       "Downloading S5P_OFFL_L2__HCHO___20220917T114726_20220917T132855_25539_03_020401_20220919T041222.nc:   0%|     …"
      ]
     },
     "metadata": {},
     "output_type": "display_data"
    },
    {
     "data": {
      "application/vnd.jupyter.widget-view+json": {
       "model_id": "7b9a18039d3645c89e6164592768f986",
       "version_major": 2,
       "version_minor": 0
      },
      "text/plain": [
       "MD5 checksumming:   0%|          | 0.00/753M [00:00<?, ?B/s]"
      ]
     },
     "metadata": {},
     "output_type": "display_data"
    },
    {
     "data": {
      "application/vnd.jupyter.widget-view+json": {
       "model_id": "cfa6a12469ac4e45ad3faf46038b3a73",
       "version_major": 2,
       "version_minor": 0
      },
      "text/plain": [
       "Downloading S5P_OFFL_L2__HCHO___20230516T113612_20230516T131742_28958_03_020401_20230518T040820.nc:   0%|     …"
      ]
     },
     "metadata": {},
     "output_type": "display_data"
    },
    {
     "data": {
      "application/vnd.jupyter.widget-view+json": {
       "model_id": "3e236b88831f4e1ab79ca1aef740caba",
       "version_major": 2,
       "version_minor": 0
      },
      "text/plain": [
       "MD5 checksumming:   0%|          | 0.00/733M [00:00<?, ?B/s]"
      ]
     },
     "metadata": {},
     "output_type": "display_data"
    },
    {
     "data": {
      "application/vnd.jupyter.widget-view+json": {
       "model_id": "46c528d9b1334a64a26d6b8479448ad5",
       "version_major": 2,
       "version_minor": 0
      },
      "text/plain": [
       "Downloading S5P_OFFL_L2__HCHO___20221028T103306_20221028T121435_26120_03_020401_20221030T024831.nc:   0%|     …"
      ]
     },
     "metadata": {},
     "output_type": "display_data"
    },
    {
     "data": {
      "application/vnd.jupyter.widget-view+json": {
       "model_id": "72cd460740954d99bbdebfe8857898a9",
       "version_major": 2,
       "version_minor": 0
      },
      "text/plain": [
       "MD5 checksumming:   0%|          | 0.00/760M [00:00<?, ?B/s]"
      ]
     },
     "metadata": {},
     "output_type": "display_data"
    },
    {
     "data": {
      "application/vnd.jupyter.widget-view+json": {
       "model_id": "400058429c9d4052b4f7bb92d809b4fc",
       "version_major": 2,
       "version_minor": 0
      },
      "text/plain": [
       "Downloading S5P_OFFL_L2__HCHO___20221008T100948_20221008T115118_25836_03_020401_20221010T021832.nc:   0%|     …"
      ]
     },
     "metadata": {},
     "output_type": "display_data"
    },
    {
     "data": {
      "application/vnd.jupyter.widget-view+json": {
       "model_id": "d6d947b8526a47aa82d0d26d64cce478",
       "version_major": 2,
       "version_minor": 0
      },
      "text/plain": [
       "MD5 checksumming:   0%|          | 0.00/766M [00:00<?, ?B/s]"
      ]
     },
     "metadata": {},
     "output_type": "display_data"
    },
    {
     "data": {
      "application/vnd.jupyter.widget-view+json": {
       "model_id": "7315fad965734527befb38d31ffefb73",
       "version_major": 2,
       "version_minor": 0
      },
      "text/plain": [
       "MD5 checksumming:   0%|          | 0.00/759M [00:00<?, ?B/s]"
      ]
     },
     "metadata": {},
     "output_type": "display_data"
    },
    {
     "data": {
      "application/vnd.jupyter.widget-view+json": {
       "model_id": "f0a040085d114f8ca1a764811ee18262",
       "version_major": 2,
       "version_minor": 0
      },
      "text/plain": [
       "Downloading S5P_OFFL_L2__HCHO___20221120T095953_20221120T114122_26446_03_020401_20221127T123950.nc:   0%|     …"
      ]
     },
     "metadata": {},
     "output_type": "display_data"
    },
    {
     "data": {
      "application/vnd.jupyter.widget-view+json": {
       "model_id": "0b67fe9ca6334416b2cb2fd1acf12d5d",
       "version_major": 2,
       "version_minor": 0
      },
      "text/plain": [
       "Downloading S5P_OFFL_L2__HCHO___20230514T121409_20230514T135539_28930_03_020401_20230516T044212.nc:   0%|     …"
      ]
     },
     "metadata": {},
     "output_type": "display_data"
    },
    {
     "data": {
      "application/vnd.jupyter.widget-view+json": {
       "model_id": "0b960451e39c4bc98b6f4d0338315577",
       "version_major": 2,
       "version_minor": 0
      },
      "text/plain": [
       "MD5 checksumming:   0%|          | 0.00/758M [00:00<?, ?B/s]"
      ]
     },
     "metadata": {},
     "output_type": "display_data"
    },
    {
     "data": {
      "application/vnd.jupyter.widget-view+json": {
       "model_id": "fdbc0f645ca24ea181de1ce6701e88b8",
       "version_major": 2,
       "version_minor": 0
      },
      "text/plain": [
       "Downloading S5P_OFFL_L2__HCHO___20220903T111053_20220903T125222_25340_03_020401_20220905T033148.nc:   0%|     …"
      ]
     },
     "metadata": {},
     "output_type": "display_data"
    },
    {
     "data": {
      "application/vnd.jupyter.widget-view+json": {
       "model_id": "d51332c5a3fd48fe87da2fc983f79d68",
       "version_major": 2,
       "version_minor": 0
      },
      "text/plain": [
       "MD5 checksumming:   0%|          | 0.00/758M [00:00<?, ?B/s]"
      ]
     },
     "metadata": {},
     "output_type": "display_data"
    },
    {
     "data": {
      "application/vnd.jupyter.widget-view+json": {
       "model_id": "5bebab581dac4c899c3d5a08d906cf07",
       "version_major": 2,
       "version_minor": 0
      },
      "text/plain": [
       "Downloading S5P_OFFL_L2__HCHO___20221011T105350_20221011T123520_25879_03_020401_20221013T031843.nc:   0%|     …"
      ]
     },
     "metadata": {},
     "output_type": "display_data"
    },
    {
     "data": {
      "application/vnd.jupyter.widget-view+json": {
       "model_id": "b9d2890a716e4c22966fa9eab49079d6",
       "version_major": 2,
       "version_minor": 0
      },
      "text/plain": [
       "MD5 checksumming:   0%|          | 0.00/757M [00:00<?, ?B/s]"
      ]
     },
     "metadata": {},
     "output_type": "display_data"
    },
    {
     "data": {
      "application/vnd.jupyter.widget-view+json": {
       "model_id": "a13d386cc48c484faf76404301528461",
       "version_major": 2,
       "version_minor": 0
      },
      "text/plain": [
       "MD5 checksumming:   0%|          | 0.00/761M [00:00<?, ?B/s]"
      ]
     },
     "metadata": {},
     "output_type": "display_data"
    },
    {
     "data": {
      "application/vnd.jupyter.widget-view+json": {
       "model_id": "f8fc038e678840c08120553d5a1a1f3d",
       "version_major": 2,
       "version_minor": 0
      },
      "text/plain": [
       "Downloading S5P_OFFL_L2__HCHO___20221031T111716_20221031T125846_26163_03_020401_20221102T034013.nc:   0%|     …"
      ]
     },
     "metadata": {},
     "output_type": "display_data"
    },
    {
     "data": {
      "application/vnd.jupyter.widget-view+json": {
       "model_id": "440c58f2b4af4749beea2bd995d35d48",
       "version_major": 2,
       "version_minor": 0
      },
      "text/plain": [
       "Downloading S5P_OFFL_L2__HCHO___20230102T113449_20230102T131619_27057_03_020401_20230104T040437.nc:   0%|     …"
      ]
     },
     "metadata": {},
     "output_type": "display_data"
    },
    {
     "data": {
      "application/vnd.jupyter.widget-view+json": {
       "model_id": "ac88b193b2724587b77b3a6ad6be5049",
       "version_major": 2,
       "version_minor": 0
      },
      "text/plain": [
       "MD5 checksumming:   0%|          | 0.00/756M [00:00<?, ?B/s]"
      ]
     },
     "metadata": {},
     "output_type": "display_data"
    },
    {
     "data": {
      "application/vnd.jupyter.widget-view+json": {
       "model_id": "f3a174a501c74e42a6732d83c8e700fc",
       "version_major": 2,
       "version_minor": 0
      },
      "text/plain": [
       "Downloading S5P_OFFL_L2__HCHO___20230219T113830_20230219T132000_27738_03_020401_20230221T035718.nc:   0%|     …"
      ]
     },
     "metadata": {},
     "output_type": "display_data"
    },
    {
     "data": {
      "application/vnd.jupyter.widget-view+json": {
       "model_id": "32cd0a2d1de54de19f0eeb3c6134a372",
       "version_major": 2,
       "version_minor": 0
      },
      "text/plain": [
       "MD5 checksumming:   0%|          | 0.00/738M [00:00<?, ?B/s]"
      ]
     },
     "metadata": {},
     "output_type": "display_data"
    },
    {
     "data": {
      "application/vnd.jupyter.widget-view+json": {
       "model_id": "a57e681d7da1444b8d888472c4317eb8",
       "version_major": 2,
       "version_minor": 0
      },
      "text/plain": [
       "Downloading S5P_OFFL_L2__HCHO___20220822T113725_20220822T131854_25170_03_020401_20220825T175718.nc:   0%|     …"
      ]
     },
     "metadata": {},
     "output_type": "display_data"
    },
    {
     "data": {
      "application/vnd.jupyter.widget-view+json": {
       "model_id": "5d8c9d391f584584a97f36ca3cc50f35",
       "version_major": 2,
       "version_minor": 0
      },
      "text/plain": [
       "MD5 checksumming:   0%|          | 0.00/762M [00:00<?, ?B/s]"
      ]
     },
     "metadata": {},
     "output_type": "display_data"
    },
    {
     "data": {
      "application/vnd.jupyter.widget-view+json": {
       "model_id": "14b6743a025742b2a41111d62f278043",
       "version_major": 2,
       "version_minor": 0
      },
      "text/plain": [
       "MD5 checksumming:   0%|          | 0.00/756M [00:00<?, ?B/s]"
      ]
     },
     "metadata": {},
     "output_type": "display_data"
    },
    {
     "data": {
      "application/vnd.jupyter.widget-view+json": {
       "model_id": "97b18001c74b4f459b8b2f930f90134f",
       "version_major": 2,
       "version_minor": 0
      },
      "text/plain": [
       "Downloading S5P_OFFL_L2__HCHO___20221005T110715_20221005T124845_25794_03_020401_20221007T031250.nc:   0%|     …"
      ]
     },
     "metadata": {},
     "output_type": "display_data"
    },
    {
     "data": {
      "application/vnd.jupyter.widget-view+json": {
       "model_id": "a09beca70dc74a49b9ddf96e75e8971d",
       "version_major": 2,
       "version_minor": 0
      },
      "text/plain": [
       "Downloading S5P_OFFL_L2__HCHO___20230424T114652_20230424T132823_28646_03_020401_20230426T040427.nc:   0%|     …"
      ]
     },
     "metadata": {},
     "output_type": "display_data"
    },
    {
     "data": {
      "application/vnd.jupyter.widget-view+json": {
       "model_id": "fe69f410c37c4a76b73987187ad46d41",
       "version_major": 2,
       "version_minor": 0
      },
      "text/plain": [
       "MD5 checksumming:   0%|          | 0.00/755M [00:00<?, ?B/s]"
      ]
     },
     "metadata": {},
     "output_type": "display_data"
    },
    {
     "data": {
      "application/vnd.jupyter.widget-view+json": {
       "model_id": "0fff8da092b8434aae41928e88dca6c6",
       "version_major": 2,
       "version_minor": 0
      },
      "text/plain": [
       "Downloading S5P_OFFL_L2__HCHO___20221222T114051_20221222T132221_26901_03_020401_20221226T110509.nc:   0%|     …"
      ]
     },
     "metadata": {},
     "output_type": "display_data"
    },
    {
     "data": {
      "application/vnd.jupyter.widget-view+json": {
       "model_id": "ce1763fa336d4b77a02ca83cff569c62",
       "version_major": 2,
       "version_minor": 0
      },
      "text/plain": [
       "MD5 checksumming:   0%|          | 0.00/760M [00:00<?, ?B/s]"
      ]
     },
     "metadata": {},
     "output_type": "display_data"
    },
    {
     "data": {
      "application/vnd.jupyter.widget-view+json": {
       "model_id": "b6e4fa7ff16a4cedb8e659695e27ec8d",
       "version_major": 2,
       "version_minor": 0
      },
      "text/plain": [
       "Downloading S5P_OFFL_L2__HCHO___20230223T102246_20230223T120416_27794_03_020401_20230225T023703.nc:   0%|     …"
      ]
     },
     "metadata": {},
     "output_type": "display_data"
    },
    {
     "data": {
      "application/vnd.jupyter.widget-view+json": {
       "model_id": "1c6b9caa146d4c98b4e1c430cf1d3307",
       "version_major": 2,
       "version_minor": 0
      },
      "text/plain": [
       "MD5 checksumming:   0%|          | 0.00/758M [00:00<?, ?B/s]"
      ]
     },
     "metadata": {},
     "output_type": "display_data"
    },
    {
     "data": {
      "application/vnd.jupyter.widget-view+json": {
       "model_id": "7b9a0ec0d5514cdf891acc18e71f56d2",
       "version_major": 2,
       "version_minor": 0
      },
      "text/plain": [
       "Downloading S5P_OFFL_L2__HCHO___20221004T112624_20221004T130754_25780_03_020401_20221006T033858.nc:   0%|     …"
      ]
     },
     "metadata": {},
     "output_type": "display_data"
    },
    {
     "data": {
      "application/vnd.jupyter.widget-view+json": {
       "model_id": "359b9d61e4704c75bbfd527d60870968",
       "version_major": 2,
       "version_minor": 0
      },
      "text/plain": [
       "MD5 checksumming:   0%|          | 0.00/763M [00:00<?, ?B/s]"
      ]
     },
     "metadata": {},
     "output_type": "display_data"
    },
    {
     "data": {
      "application/vnd.jupyter.widget-view+json": {
       "model_id": "ea44860b128a4996b0028df470c1df56",
       "version_major": 2,
       "version_minor": 0
      },
      "text/plain": [
       "Downloading S5P_OFFL_L2__HCHO___20230116T121338_20230116T135509_27256_03_020401_20230118T043450.nc:   0%|     …"
      ]
     },
     "metadata": {},
     "output_type": "display_data"
    },
    {
     "data": {
      "application/vnd.jupyter.widget-view+json": {
       "model_id": "63c4cf1235ff46a29029437f1f5634ed",
       "version_major": 2,
       "version_minor": 0
      },
      "text/plain": [
       "MD5 checksumming:   0%|          | 0.00/759M [00:00<?, ?B/s]"
      ]
     },
     "metadata": {},
     "output_type": "display_data"
    },
    {
     "data": {
      "application/vnd.jupyter.widget-view+json": {
       "model_id": "30a039c9a23b4923beeb7a513199b2d8",
       "version_major": 2,
       "version_minor": 0
      },
      "text/plain": [
       "Downloading S5P_OFFL_L2__HCHO___20221124T120634_20221124T134803_26504_03_020401_20221201T104600.nc:   0%|     …"
      ]
     },
     "metadata": {},
     "output_type": "display_data"
    },
    {
     "data": {
      "application/vnd.jupyter.widget-view+json": {
       "model_id": "ecf64036ee624d31b466df0b2d8d39b3",
       "version_major": 2,
       "version_minor": 0
      },
      "text/plain": [
       "MD5 checksumming:   0%|          | 0.00/760M [00:00<?, ?B/s]"
      ]
     },
     "metadata": {},
     "output_type": "display_data"
    },
    {
     "data": {
      "application/vnd.jupyter.widget-view+json": {
       "model_id": "06fe7b31b82d45688055c9519df32519",
       "version_major": 2,
       "version_minor": 0
      },
      "text/plain": [
       "Downloading S5P_OFFL_L2__HCHO___20220810T120348_20220810T134517_25000_03_020401_20220814T102441.nc:   0%|     …"
      ]
     },
     "metadata": {},
     "output_type": "display_data"
    },
    {
     "data": {
      "application/vnd.jupyter.widget-view+json": {
       "model_id": "6830e136e82e4364bae65b8e19d011e4",
       "version_major": 2,
       "version_minor": 0
      },
      "text/plain": [
       "MD5 checksumming:   0%|          | 0.00/757M [00:00<?, ?B/s]"
      ]
     },
     "metadata": {},
     "output_type": "display_data"
    },
    {
     "data": {
      "application/vnd.jupyter.widget-view+json": {
       "model_id": "582df4a665474f24978297a3c85224e3",
       "version_major": 2,
       "version_minor": 0
      },
      "text/plain": [
       "MD5 checksumming:   0%|          | 0.00/760M [00:00<?, ?B/s]"
      ]
     },
     "metadata": {},
     "output_type": "display_data"
    },
    {
     "data": {
      "application/vnd.jupyter.widget-view+json": {
       "model_id": "ce68b4c9f92e46bdbfa2dfb5cd0cb2ee",
       "version_major": 2,
       "version_minor": 0
      },
      "text/plain": [
       "Downloading S5P_OFFL_L2__HCHO___20230602T111750_20230602T125920_29199_03_020401_20230604T033454.nc:   0%|     …"
      ]
     },
     "metadata": {},
     "output_type": "display_data"
    },
    {
     "data": {
      "application/vnd.jupyter.widget-view+json": {
       "model_id": "489af1f875e14da69c7e40ae6c6b8e01",
       "version_major": 2,
       "version_minor": 0
      },
      "text/plain": [
       "Downloading S5P_OFFL_L2__HCHO___20220820T103409_20220820T121539_25141_03_020401_20220825T081736.nc:   0%|     …"
      ]
     },
     "metadata": {},
     "output_type": "display_data"
    },
    {
     "data": {
      "application/vnd.jupyter.widget-view+json": {
       "model_id": "766b71501a494e1091f63cc07bed80a2",
       "version_major": 2,
       "version_minor": 0
      },
      "text/plain": [
       "MD5 checksumming:   0%|          | 0.00/754M [00:00<?, ?B/s]"
      ]
     },
     "metadata": {},
     "output_type": "display_data"
    },
    {
     "data": {
      "application/vnd.jupyter.widget-view+json": {
       "model_id": "8845d0a0c7b54b8387a1e3f1a2fb51d3",
       "version_major": 2,
       "version_minor": 0
      },
      "text/plain": [
       "Downloading S5P_OFFL_L2__HCHO___20230529T123352_20230529T141522_29143_03_020401_20230531T045959.nc:   0%|     …"
      ]
     },
     "metadata": {},
     "output_type": "display_data"
    },
    {
     "data": {
      "application/vnd.jupyter.widget-view+json": {
       "model_id": "e79a30513b774eb59f14cae0d618001c",
       "version_major": 2,
       "version_minor": 0
      },
      "text/plain": [
       "MD5 checksumming:   0%|          | 0.00/754M [00:00<?, ?B/s]"
      ]
     },
     "metadata": {},
     "output_type": "display_data"
    },
    {
     "data": {
      "application/vnd.jupyter.widget-view+json": {
       "model_id": "35bde80caf084d46b0b5e37c00e80a27",
       "version_major": 2,
       "version_minor": 0
      },
      "text/plain": [
       "Downloading S5P_OFFL_L2__HCHO___20230202T115555_20230202T133725_27497_03_020401_20230204T042042.nc:   0%|     …"
      ]
     },
     "metadata": {},
     "output_type": "display_data"
    },
    {
     "data": {
      "application/vnd.jupyter.widget-view+json": {
       "model_id": "fdf0a7573b46481892536d3aadc422f3",
       "version_major": 2,
       "version_minor": 0
      },
      "text/plain": [
       "MD5 checksumming:   0%|          | 0.00/755M [00:00<?, ?B/s]"
      ]
     },
     "metadata": {},
     "output_type": "display_data"
    },
    {
     "data": {
      "application/vnd.jupyter.widget-view+json": {
       "model_id": "4d047eec5b814544a97ff599e3655f3a",
       "version_major": 2,
       "version_minor": 0
      },
      "text/plain": [
       "Downloading S5P_OFFL_L2__HCHO___20230408T114440_20230408T132611_28419_03_020401_20230410T035847.nc:   0%|     …"
      ]
     },
     "metadata": {},
     "output_type": "display_data"
    },
    {
     "data": {
      "application/vnd.jupyter.widget-view+json": {
       "model_id": "cbd0cc90473b4e70b75a8cbf713a950f",
       "version_major": 2,
       "version_minor": 0
      },
      "text/plain": [
       "MD5 checksumming:   0%|          | 0.00/762M [00:00<?, ?B/s]"
      ]
     },
     "metadata": {},
     "output_type": "display_data"
    },
    {
     "data": {
      "application/vnd.jupyter.widget-view+json": {
       "model_id": "2fe05a424d794c65a40ceba011cd8e28",
       "version_major": 2,
       "version_minor": 0
      },
      "text/plain": [
       "MD5 checksumming:   0%|          | 0.00/758M [00:00<?, ?B/s]"
      ]
     },
     "metadata": {},
     "output_type": "display_data"
    },
    {
     "data": {
      "application/vnd.jupyter.widget-view+json": {
       "model_id": "23e482c598314187bca6d4de9bf7f16e",
       "version_major": 2,
       "version_minor": 0
      },
      "text/plain": [
       "MD5 checksumming:   0%|          | 0.00/732M [00:00<?, ?B/s]"
      ]
     },
     "metadata": {},
     "output_type": "display_data"
    },
    {
     "data": {
      "application/vnd.jupyter.widget-view+json": {
       "model_id": "165c04d795a0498ab8b317848b4ba57a",
       "version_major": 2,
       "version_minor": 0
      },
      "text/plain": [
       "Downloading S5P_OFFL_L2__HCHO___20230413T115144_20230413T133314_28490_03_020401_20230415T042045.nc:   0%|     …"
      ]
     },
     "metadata": {},
     "output_type": "display_data"
    },
    {
     "data": {
      "application/vnd.jupyter.widget-view+json": {
       "model_id": "fa4b189bcee6483286ca4946a32e73c5",
       "version_major": 2,
       "version_minor": 0
      },
      "text/plain": [
       "Downloading S5P_OFFL_L2__HCHO___20230528T111122_20230528T125252_29128_03_020401_20230530T032325.nc:   0%|     …"
      ]
     },
     "metadata": {},
     "output_type": "display_data"
    },
    {
     "data": {
      "application/vnd.jupyter.widget-view+json": {
       "model_id": "f70887b03dd24a7c92f0ffd48bb51581",
       "version_major": 2,
       "version_minor": 0
      },
      "text/plain": [
       "Downloading S5P_OFFL_L2__HCHO___20221208T110245_20221208T124415_26702_03_020401_20221214T141205.nc:   0%|     …"
      ]
     },
     "metadata": {},
     "output_type": "display_data"
    },
    {
     "data": {
      "application/vnd.jupyter.widget-view+json": {
       "model_id": "2d11ba557cc84308a99b5acd97fbc003",
       "version_major": 2,
       "version_minor": 0
      },
      "text/plain": [
       "MD5 checksumming:   0%|          | 0.00/728M [00:00<?, ?B/s]"
      ]
     },
     "metadata": {},
     "output_type": "display_data"
    },
    {
     "data": {
      "application/vnd.jupyter.widget-view+json": {
       "model_id": "b818438eac0d41d5a5b69969e62b5d50",
       "version_major": 2,
       "version_minor": 0
      },
      "text/plain": [
       "MD5 checksumming:   0%|          | 0.00/762M [00:00<?, ?B/s]"
      ]
     },
     "metadata": {},
     "output_type": "display_data"
    },
    {
     "data": {
      "application/vnd.jupyter.widget-view+json": {
       "model_id": "f8ef4fe4762946eda966ce710f7286fd",
       "version_major": 2,
       "version_minor": 0
      },
      "text/plain": [
       "Downloading S5P_OFFL_L2__HCHO___20230310T122451_20230310T140621_28008_03_020401_20230312T044101.nc:   0%|     …"
      ]
     },
     "metadata": {},
     "output_type": "display_data"
    },
    {
     "data": {
      "application/vnd.jupyter.widget-view+json": {
       "model_id": "c2395b5398cb48cb809da565a60063b3",
       "version_major": 2,
       "version_minor": 0
      },
      "text/plain": [
       "Downloading S5P_OFFL_L2__HCHO___20221013T115701_20221013T133831_25908_03_020401_20221015T042326.nc:   0%|     …"
      ]
     },
     "metadata": {},
     "output_type": "display_data"
    },
    {
     "data": {
      "application/vnd.jupyter.widget-view+json": {
       "model_id": "55ad2ffecb8f43b1bbdac496bd0c23b2",
       "version_major": 2,
       "version_minor": 0
      },
      "text/plain": [
       "MD5 checksumming:   0%|          | 0.00/758M [00:00<?, ?B/s]"
      ]
     },
     "metadata": {},
     "output_type": "display_data"
    },
    {
     "data": {
      "application/vnd.jupyter.widget-view+json": {
       "model_id": "fd822142b7f04857abebb6c1fef07b19",
       "version_major": 2,
       "version_minor": 0
      },
      "text/plain": [
       "Downloading S5P_OFFL_L2__HCHO___20221222T095921_20221222T114051_26900_03_020401_20221226T110041.nc:   0%|     …"
      ]
     },
     "metadata": {},
     "output_type": "display_data"
    },
    {
     "data": {
      "application/vnd.jupyter.widget-view+json": {
       "model_id": "cef2491349ab4a27906c9ad527d94c80",
       "version_major": 2,
       "version_minor": 0
      },
      "text/plain": [
       "MD5 checksumming:   0%|          | 0.00/763M [00:00<?, ?B/s]"
      ]
     },
     "metadata": {},
     "output_type": "display_data"
    },
    {
     "data": {
      "application/vnd.jupyter.widget-view+json": {
       "model_id": "b2ead55568674101b4f920fa4d29269c",
       "version_major": 2,
       "version_minor": 0
      },
      "text/plain": [
       "Downloading S5P_OFFL_L2__HCHO___20230407T102203_20230407T120334_28404_03_020401_20230409T024209.nc:   0%|     …"
      ]
     },
     "metadata": {},
     "output_type": "display_data"
    },
    {
     "data": {
      "application/vnd.jupyter.widget-view+json": {
       "model_id": "878b94ecaff241a6a9eb506b1beac468",
       "version_major": 2,
       "version_minor": 0
      },
      "text/plain": [
       "MD5 checksumming:   0%|          | 0.00/756M [00:00<?, ?B/s]"
      ]
     },
     "metadata": {},
     "output_type": "display_data"
    },
    {
     "data": {
      "application/vnd.jupyter.widget-view+json": {
       "model_id": "a93447bcc15e4fcb8b772e5093d473d3",
       "version_major": 2,
       "version_minor": 0
      },
      "text/plain": [
       "Downloading S5P_OFFL_L2__HCHO___20230510T100700_20230510T114831_28872_03_020401_20230512T021936.nc:   0%|     …"
      ]
     },
     "metadata": {},
     "output_type": "display_data"
    },
    {
     "data": {
      "application/vnd.jupyter.widget-view+json": {
       "model_id": "45c507bb90714a77ab1cd1cbc98e5563",
       "version_major": 2,
       "version_minor": 0
      },
      "text/plain": [
       "MD5 checksumming:   0%|          | 0.00/766M [00:00<?, ?B/s]"
      ]
     },
     "metadata": {},
     "output_type": "display_data"
    },
    {
     "data": {
      "application/vnd.jupyter.widget-view+json": {
       "model_id": "0ca7c6dc66f24af989e0063bf62f4240",
       "version_major": 2,
       "version_minor": 0
      },
      "text/plain": [
       "Downloading S5P_OFFL_L2__HCHO___20230427T123140_20230427T141310_28689_03_020401_20230429T045050.nc:   0%|     …"
      ]
     },
     "metadata": {},
     "output_type": "display_data"
    },
    {
     "data": {
      "application/vnd.jupyter.widget-view+json": {
       "model_id": "3f79c180c7e64fd2b15aafa5e5c18f23",
       "version_major": 2,
       "version_minor": 0
      },
      "text/plain": [
       "MD5 checksumming:   0%|          | 0.00/760M [00:00<?, ?B/s]"
      ]
     },
     "metadata": {},
     "output_type": "display_data"
    },
    {
     "data": {
      "application/vnd.jupyter.widget-view+json": {
       "model_id": "9319f2d12324467c805d03920cdb96ac",
       "version_major": 2,
       "version_minor": 0
      },
      "text/plain": [
       "MD5 checksumming:   0%|          | 0.00/761M [00:00<?, ?B/s]"
      ]
     },
     "metadata": {},
     "output_type": "display_data"
    },
    {
     "data": {
      "application/vnd.jupyter.widget-view+json": {
       "model_id": "61aeb7c5cf9444e6b28434d3cba35e75",
       "version_major": 2,
       "version_minor": 0
      },
      "text/plain": [
       "Downloading S5P_OFFL_L2__HCHO___20230521T114249_20230521T132419_29029_03_020401_20230523T040557.nc:   0%|     …"
      ]
     },
     "metadata": {},
     "output_type": "display_data"
    },
    {
     "data": {
      "application/vnd.jupyter.widget-view+json": {
       "model_id": "7650f708c93e4991aa560a5d93e83af7",
       "version_major": 2,
       "version_minor": 0
      },
      "text/plain": [
       "Downloading S5P_OFFL_L2__HCHO___20230221T110038_20230221T124208_27766_03_020401_20230223T032339.nc:   0%|     …"
      ]
     },
     "metadata": {},
     "output_type": "display_data"
    },
    {
     "data": {
      "application/vnd.jupyter.widget-view+json": {
       "model_id": "ec429b5a3011482b90586fbe9e31dbd4",
       "version_major": 2,
       "version_minor": 0
      },
      "text/plain": [
       "MD5 checksumming:   0%|          | 0.00/758M [00:00<?, ?B/s]"
      ]
     },
     "metadata": {},
     "output_type": "display_data"
    },
    {
     "data": {
      "application/vnd.jupyter.widget-view+json": {
       "model_id": "41d8a40d8df64c7590b0b30c1b765e4f",
       "version_major": 2,
       "version_minor": 0
      },
      "text/plain": [
       "Downloading S5P_OFFL_L2__HCHO___20220906T101329_20220906T115458_25382_03_020401_20220908T022202.nc:   0%|     …"
      ]
     },
     "metadata": {},
     "output_type": "display_data"
    },
    {
     "data": {
      "application/vnd.jupyter.widget-view+json": {
       "model_id": "f3d36a79d62b4fba925b8c06a9ead707",
       "version_major": 2,
       "version_minor": 0
      },
      "text/plain": [
       "MD5 checksumming:   0%|          | 0.00/754M [00:00<?, ?B/s]"
      ]
     },
     "metadata": {},
     "output_type": "display_data"
    },
    {
     "data": {
      "application/vnd.jupyter.widget-view+json": {
       "model_id": "9eb8dc684fed40f190b9ed8d04f18eeb",
       "version_major": 2,
       "version_minor": 0
      },
      "text/plain": [
       "Downloading S5P_OFFL_L2__HCHO___20221012T103441_20221012T121610_25893_03_020401_20221014T030541.nc:   0%|     …"
      ]
     },
     "metadata": {},
     "output_type": "display_data"
    },
    {
     "data": {
      "application/vnd.jupyter.widget-view+json": {
       "model_id": "48d7de494a0940ed86cca0495a06bded",
       "version_major": 2,
       "version_minor": 0
      },
      "text/plain": [
       "MD5 checksumming:   0%|          | 0.00/760M [00:00<?, ?B/s]"
      ]
     },
     "metadata": {},
     "output_type": "display_data"
    },
    {
     "data": {
      "application/vnd.jupyter.widget-view+json": {
       "model_id": "c926b8048963451c90e2ccd592aeda2a",
       "version_major": 2,
       "version_minor": 0
      },
      "text/plain": [
       "Downloading S5P_OFFL_L2__HCHO___20230127T102636_20230127T120806_27411_03_020401_20230129T024812.nc:   0%|     …"
      ]
     },
     "metadata": {},
     "output_type": "display_data"
    },
    {
     "data": {
      "application/vnd.jupyter.widget-view+json": {
       "model_id": "e781b11a3ff142e28d7bb31b318b60e2",
       "version_major": 2,
       "version_minor": 0
      },
      "text/plain": [
       "MD5 checksumming:   0%|          | 0.00/755M [00:00<?, ?B/s]"
      ]
     },
     "metadata": {},
     "output_type": "display_data"
    },
    {
     "data": {
      "application/vnd.jupyter.widget-view+json": {
       "model_id": "ed93f98282554029aa02066935ddfdb8",
       "version_major": 2,
       "version_minor": 0
      },
      "text/plain": [
       "Downloading S5P_OFFL_L2__HCHO___20220823T111817_20220823T125947_25184_03_020401_20220826T080023.nc:   0%|     …"
      ]
     },
     "metadata": {},
     "output_type": "display_data"
    },
    {
     "data": {
      "application/vnd.jupyter.widget-view+json": {
       "model_id": "f276fa41ba0c4848a3d3a15efc2f652f",
       "version_major": 2,
       "version_minor": 0
      },
      "text/plain": [
       "MD5 checksumming:   0%|          | 0.00/757M [00:00<?, ?B/s]"
      ]
     },
     "metadata": {},
     "output_type": "display_data"
    },
    {
     "data": {
      "application/vnd.jupyter.widget-view+json": {
       "model_id": "88b1eb6408d94dcc9ff5862567b4eabb",
       "version_major": 2,
       "version_minor": 0
      },
      "text/plain": [
       "Downloading S5P_OFFL_L2__HCHO___20220909T105734_20220909T123903_25425_03_020401_20220911T031414.nc:   0%|     …"
      ]
     },
     "metadata": {},
     "output_type": "display_data"
    },
    {
     "data": {
      "application/vnd.jupyter.widget-view+json": {
       "model_id": "d6f7a34454394022be795220da5136a9",
       "version_major": 2,
       "version_minor": 0
      },
      "text/plain": [
       "MD5 checksumming:   0%|          | 0.00/758M [00:00<?, ?B/s]"
      ]
     },
     "metadata": {},
     "output_type": "display_data"
    },
    {
     "data": {
      "application/vnd.jupyter.widget-view+json": {
       "model_id": "52b9e81b265e4c73acd82459dd03ae49",
       "version_major": 2,
       "version_minor": 0
      },
      "text/plain": [
       "Downloading S5P_OFFL_L2__HCHO___20230226T110729_20230226T124859_27837_03_020401_20230228T032842.nc:   0%|     …"
      ]
     },
     "metadata": {},
     "output_type": "display_data"
    },
    {
     "data": {
      "application/vnd.jupyter.widget-view+json": {
       "model_id": "781374ba9f40412d81342e65f4f3a5b0",
       "version_major": 2,
       "version_minor": 0
      },
      "text/plain": [
       "MD5 checksumming:   0%|          | 0.00/757M [00:00<?, ?B/s]"
      ]
     },
     "metadata": {},
     "output_type": "display_data"
    },
    {
     "data": {
      "application/vnd.jupyter.widget-view+json": {
       "model_id": "fb20232b896e4d4dbef5aaa447e612da",
       "version_major": 2,
       "version_minor": 0
      },
      "text/plain": [
       "Downloading S5P_OFFL_L2__HCHO___20230524T104551_20230524T122721_29071_03_020401_20230526T031120.nc:   0%|     …"
      ]
     },
     "metadata": {},
     "output_type": "display_data"
    },
    {
     "data": {
      "application/vnd.jupyter.widget-view+json": {
       "model_id": "29e865f820c84178ab351805ce504bcc",
       "version_major": 2,
       "version_minor": 0
      },
      "text/plain": [
       "MD5 checksumming:   0%|          | 0.00/757M [00:00<?, ?B/s]"
      ]
     },
     "metadata": {},
     "output_type": "display_data"
    },
    {
     "data": {
      "application/vnd.jupyter.widget-view+json": {
       "model_id": "31b94aa1457f4a0aadfa955ef7685dd3",
       "version_major": 2,
       "version_minor": 0
      },
      "text/plain": [
       "Downloading S5P_OFFL_L2__HCHO___20230320T123850_20230320T142021_28150_03_020401_20230322T045002.nc:   0%|     …"
      ]
     },
     "metadata": {},
     "output_type": "display_data"
    },
    {
     "data": {
      "application/vnd.jupyter.widget-view+json": {
       "model_id": "217eb206bf43457bafe078355436ed11",
       "version_major": 2,
       "version_minor": 0
      },
      "text/plain": [
       "MD5 checksumming:   0%|          | 0.00/757M [00:00<?, ?B/s]"
      ]
     },
     "metadata": {},
     "output_type": "display_data"
    },
    {
     "data": {
      "application/vnd.jupyter.widget-view+json": {
       "model_id": "db6c5e050c0c4367a132120f65c64924",
       "version_major": 2,
       "version_minor": 0
      },
      "text/plain": [
       "Downloading S5P_OFFL_L2__HCHO___20230501T111601_20230501T125731_28745_03_020401_20230503T034710.nc:   0%|     …"
      ]
     },
     "metadata": {},
     "output_type": "display_data"
    },
    {
     "data": {
      "application/vnd.jupyter.widget-view+json": {
       "model_id": "c51b482fc28347459839212745aad4aa",
       "version_major": 2,
       "version_minor": 0
      },
      "text/plain": [
       "MD5 checksumming:   0%|          | 0.00/760M [00:00<?, ?B/s]"
      ]
     },
     "metadata": {},
     "output_type": "display_data"
    },
    {
     "data": {
      "application/vnd.jupyter.widget-view+json": {
       "model_id": "16befd909e6c4bee83b56bda00986ee3",
       "version_major": 2,
       "version_minor": 0
      },
      "text/plain": [
       "Downloading S5P_OFFL_L2__HCHO___20220901T100739_20220901T114908_25311_03_020401_20220903T070126.nc:   0%|     …"
      ]
     },
     "metadata": {},
     "output_type": "display_data"
    },
    {
     "data": {
      "application/vnd.jupyter.widget-view+json": {
       "model_id": "304f604f077b446eb2085035047d7229",
       "version_major": 2,
       "version_minor": 0
      },
      "text/plain": [
       "MD5 checksumming:   0%|          | 0.00/756M [00:00<?, ?B/s]"
      ]
     },
     "metadata": {},
     "output_type": "display_data"
    },
    {
     "data": {
      "application/vnd.jupyter.widget-view+json": {
       "model_id": "b0b07eb3a525471887b48a94145abc60",
       "version_major": 2,
       "version_minor": 0
      },
      "text/plain": [
       "Downloading S5P_OFFL_L2__HCHO___20221218T111525_20221218T125655_26844_03_020401_20221223T173939.nc:   0%|     …"
      ]
     },
     "metadata": {},
     "output_type": "display_data"
    },
    {
     "data": {
      "application/vnd.jupyter.widget-view+json": {
       "model_id": "9fc6c11c3fa841e79486bbf15b599eb4",
       "version_major": 2,
       "version_minor": 0
      },
      "text/plain": [
       "MD5 checksumming:   0%|          | 0.00/754M [00:00<?, ?B/s]"
      ]
     },
     "metadata": {},
     "output_type": "display_data"
    },
    {
     "data": {
      "application/vnd.jupyter.widget-view+json": {
       "model_id": "334b054dfcce495a854bc323fdcd4cc3",
       "version_major": 2,
       "version_minor": 0
      },
      "text/plain": [
       "Downloading S5P_OFFL_L2__HCHO___20230124T112327_20230124T130457_27369_03_020401_20230126T035207.nc:   0%|     …"
      ]
     },
     "metadata": {},
     "output_type": "display_data"
    },
    {
     "data": {
      "application/vnd.jupyter.widget-view+json": {
       "model_id": "38f0f24ea5a74866b29479c1be8999d7",
       "version_major": 2,
       "version_minor": 0
      },
      "text/plain": [
       "MD5 checksumming:   0%|          | 0.00/761M [00:00<?, ?B/s]"
      ]
     },
     "metadata": {},
     "output_type": "display_data"
    },
    {
     "data": {
      "application/vnd.jupyter.widget-view+json": {
       "model_id": "47975d0d23d04f739af871bc68708373",
       "version_major": 2,
       "version_minor": 0
      },
      "text/plain": [
       "Downloading S5P_OFFL_L2__HCHO___20221116T111612_20221116T125742_26390_03_020401_20221123T174848.nc:   0%|     …"
      ]
     },
     "metadata": {},
     "output_type": "display_data"
    },
    {
     "data": {
      "application/vnd.jupyter.widget-view+json": {
       "model_id": "bf341ae6e2064cc5bdae2796b0253eac",
       "version_major": 2,
       "version_minor": 0
      },
      "text/plain": [
       "MD5 checksumming:   0%|          | 0.00/763M [00:00<?, ?B/s]"
      ]
     },
     "metadata": {},
     "output_type": "display_data"
    },
    {
     "data": {
      "application/vnd.jupyter.widget-view+json": {
       "model_id": "a701b6706d68431abbbdd0f211d26845",
       "version_major": 2,
       "version_minor": 0
      },
      "text/plain": [
       "Downloading S5P_OFFL_L2__HCHO___20230206T122139_20230206T140309_27554_03_020401_20230208T043724.nc:   0%|     …"
      ]
     },
     "metadata": {},
     "output_type": "display_data"
    },
    {
     "data": {
      "application/vnd.jupyter.widget-view+json": {
       "model_id": "1872efd3affa4ef58d3b416f838bb8e6",
       "version_major": 2,
       "version_minor": 0
      },
      "text/plain": [
       "MD5 checksumming:   0%|          | 0.00/758M [00:00<?, ?B/s]"
      ]
     },
     "metadata": {},
     "output_type": "display_data"
    },
    {
     "data": {
      "application/vnd.jupyter.widget-view+json": {
       "model_id": "475e61dc90e1461d9df3f0a896985152",
       "version_major": 2,
       "version_minor": 0
      },
      "text/plain": [
       "Downloading S5P_OFFL_L2__HCHO___20230530T103322_20230530T121452_29156_03_020401_20230601T030534.nc:   0%|     …"
      ]
     },
     "metadata": {},
     "output_type": "display_data"
    },
    {
     "data": {
      "application/vnd.jupyter.widget-view+json": {
       "model_id": "9142769d15704e32ae80788a7e708cee",
       "version_major": 2,
       "version_minor": 0
      },
      "text/plain": [
       "MD5 checksumming:   0%|          | 0.00/758M [00:00<?, ?B/s]"
      ]
     },
     "metadata": {},
     "output_type": "display_data"
    },
    {
     "data": {
      "application/vnd.jupyter.widget-view+json": {
       "model_id": "04e9186007cf44439f3443cb6cd162a0",
       "version_major": 2,
       "version_minor": 0
      },
      "text/plain": [
       "Downloading S5P_OFFL_L2__HCHO___20230509T120728_20230509T134858_28859_03_020401_20230511T042603.nc:   0%|     …"
      ]
     },
     "metadata": {},
     "output_type": "display_data"
    },
    {
     "data": {
      "application/vnd.jupyter.widget-view+json": {
       "model_id": "d5d16a0efe314fbd99eb95f2ea80c29b",
       "version_major": 2,
       "version_minor": 0
      },
      "text/plain": [
       "MD5 checksumming:   0%|          | 0.00/759M [00:00<?, ?B/s]"
      ]
     },
     "metadata": {},
     "output_type": "display_data"
    },
    {
     "data": {
      "application/vnd.jupyter.widget-view+json": {
       "model_id": "fd95a1650d7f4e408f8500541f7f6e51",
       "version_major": 2,
       "version_minor": 0
      },
      "text/plain": [
       "Downloading S5P_OFFL_L2__HCHO___20230411T104800_20230411T122931_28461_03_020401_20230413T030403.nc:   0%|     …"
      ]
     },
     "metadata": {},
     "output_type": "display_data"
    },
    {
     "data": {
      "application/vnd.jupyter.widget-view+json": {
       "model_id": "27431b1ea0294a249cb10c73816fe318",
       "version_major": 2,
       "version_minor": 0
      },
      "text/plain": [
       "MD5 checksumming:   0%|          | 0.00/756M [00:00<?, ?B/s]"
      ]
     },
     "metadata": {},
     "output_type": "display_data"
    },
    {
     "data": {
      "application/vnd.jupyter.widget-view+json": {
       "model_id": "a6f5c931948041d1b70c7c862be8b498",
       "version_major": 2,
       "version_minor": 0
      },
      "text/plain": [
       "Downloading S5P_OFFL_L2__HCHO___20230524T122721_20230524T140851_29072_03_020401_20230526T044939.nc:   0%|     …"
      ]
     },
     "metadata": {},
     "output_type": "display_data"
    },
    {
     "data": {
      "application/vnd.jupyter.widget-view+json": {
       "model_id": "710519c43b2e46848057cd5f2b928565",
       "version_major": 2,
       "version_minor": 0
      },
      "text/plain": [
       "MD5 checksumming:   0%|          | 0.00/759M [00:00<?, ?B/s]"
      ]
     },
     "metadata": {},
     "output_type": "display_data"
    },
    {
     "data": {
      "application/vnd.jupyter.widget-view+json": {
       "model_id": "18e501ddcbc54cd69114d25230fbde8d",
       "version_major": 2,
       "version_minor": 0
      },
      "text/plain": [
       "Downloading S5P_OFFL_L2__HCHO___20221019T100207_20221019T114336_25992_03_020401_20221021T022939.nc:   0%|     …"
      ]
     },
     "metadata": {},
     "output_type": "display_data"
    },
    {
     "data": {
      "application/vnd.jupyter.widget-view+json": {
       "model_id": "019ef45c4d5f4a89a7f696de137352d3",
       "version_major": 2,
       "version_minor": 0
      },
      "text/plain": [
       "MD5 checksumming:   0%|          | 0.00/754M [00:00<?, ?B/s]"
      ]
     },
     "metadata": {},
     "output_type": "display_data"
    },
    {
     "data": {
      "application/vnd.jupyter.widget-view+json": {
       "model_id": "27e09ccd9001472592a0ea827a878788",
       "version_major": 2,
       "version_minor": 0
      },
      "text/plain": [
       "Downloading S5P_OFFL_L2__HCHO___20221226T102449_20221226T120619_26957_03_020401_20221229T095037.nc:   0%|     …"
      ]
     },
     "metadata": {},
     "output_type": "display_data"
    },
    {
     "data": {
      "application/vnd.jupyter.widget-view+json": {
       "model_id": "0b43c2e4aede426ab57dc881b4b990f2",
       "version_major": 2,
       "version_minor": 0
      },
      "text/plain": [
       "MD5 checksumming:   0%|          | 0.00/764M [00:00<?, ?B/s]"
      ]
     },
     "metadata": {},
     "output_type": "display_data"
    },
    {
     "data": {
      "application/vnd.jupyter.widget-view+json": {
       "model_id": "9ce0d6ab88044cf3b0a19b5603fc7983",
       "version_major": 2,
       "version_minor": 0
      },
      "text/plain": [
       "Downloading S5P_OFFL_L2__HCHO___20230331T105243_20230331T123414_28305_03_020401_20230402T031346.nc:   0%|     …"
      ]
     },
     "metadata": {},
     "output_type": "display_data"
    },
    {
     "data": {
      "application/vnd.jupyter.widget-view+json": {
       "model_id": "51de667594034b7aa0920823987f8e99",
       "version_major": 2,
       "version_minor": 0
      },
      "text/plain": [
       "MD5 checksumming:   0%|          | 0.00/759M [00:00<?, ?B/s]"
      ]
     },
     "metadata": {},
     "output_type": "display_data"
    },
    {
     "data": {
      "application/vnd.jupyter.widget-view+json": {
       "model_id": "56479f9953bc4d919b97d0b1a9a6b835",
       "version_major": 2,
       "version_minor": 0
      },
      "text/plain": [
       "Downloading S5P_OFFL_L2__HCHO___20230423T120547_20230423T134717_28632_03_020401_20230425T042233.nc:   0%|     …"
      ]
     },
     "metadata": {},
     "output_type": "display_data"
    },
    {
     "data": {
      "application/vnd.jupyter.widget-view+json": {
       "model_id": "1f739250c96a498bbd63eff0124d01da",
       "version_major": 2,
       "version_minor": 0
      },
      "text/plain": [
       "MD5 checksumming:   0%|          | 0.00/761M [00:00<?, ?B/s]"
      ]
     },
     "metadata": {},
     "output_type": "display_data"
    },
    {
     "data": {
      "application/vnd.jupyter.widget-view+json": {
       "model_id": "e2dc83df0e0845838337fcf91bff85b9",
       "version_major": 2,
       "version_minor": 0
      },
      "text/plain": [
       "Downloading S5P_OFFL_L2__HCHO___20221013T101532_20221013T115701_25907_03_020401_20221015T023852.nc:   0%|     …"
      ]
     },
     "metadata": {},
     "output_type": "display_data"
    },
    {
     "data": {
      "application/vnd.jupyter.widget-view+json": {
       "model_id": "ad914d5202214a2296c7061644889ac2",
       "version_major": 2,
       "version_minor": 0
      },
      "text/plain": [
       "MD5 checksumming:   0%|          | 0.00/756M [00:00<?, ?B/s]"
      ]
     },
     "metadata": {},
     "output_type": "display_data"
    },
    {
     "data": {
      "application/vnd.jupyter.widget-view+json": {
       "model_id": "2a5847428ee34ca3bae9171631927edc",
       "version_major": 2,
       "version_minor": 0
      },
      "text/plain": [
       "Downloading S5P_OFFL_L2__HCHO___20230513T105137_20230513T123307_28915_03_020401_20230515T032140.nc:   0%|     …"
      ]
     },
     "metadata": {},
     "output_type": "display_data"
    },
    {
     "data": {
      "application/vnd.jupyter.widget-view+json": {
       "model_id": "2420fbc4d75b4b24ba6b305cc65827dd",
       "version_major": 2,
       "version_minor": 0
      },
      "text/plain": [
       "MD5 checksumming:   0%|          | 0.00/761M [00:00<?, ?B/s]"
      ]
     },
     "metadata": {},
     "output_type": "display_data"
    },
    {
     "data": {
      "application/vnd.jupyter.widget-view+json": {
       "model_id": "eba63c1f1aca47a2809642c5550d6346",
       "version_major": 2,
       "version_minor": 0
      },
      "text/plain": [
       "Downloading S5P_OFFL_L2__HCHO___20230202T101424_20230202T115555_27496_03_020401_20230204T023527.nc:   0%|     …"
      ]
     },
     "metadata": {},
     "output_type": "display_data"
    },
    {
     "data": {
      "application/vnd.jupyter.widget-view+json": {
       "model_id": "4fbd141f20164f23b592552607c1dc1b",
       "version_major": 2,
       "version_minor": 0
      },
      "text/plain": [
       "MD5 checksumming:   0%|          | 0.00/760M [00:00<?, ?B/s]"
      ]
     },
     "metadata": {},
     "output_type": "display_data"
    },
    {
     "data": {
      "application/vnd.jupyter.widget-view+json": {
       "model_id": "d0f021144c4c4546a6f0767658c5eb0f",
       "version_major": 2,
       "version_minor": 0
      },
      "text/plain": [
       "Downloading S5P_OFFL_L2__HCHO___20230417T103609_20230417T121740_28546_03_020401_20230419T025435.nc:   0%|     …"
      ]
     },
     "metadata": {},
     "output_type": "display_data"
    },
    {
     "data": {
      "application/vnd.jupyter.widget-view+json": {
       "model_id": "a2a16c5026a940d5826659b45eea4030",
       "version_major": 2,
       "version_minor": 0
      },
      "text/plain": [
       "MD5 checksumming:   0%|          | 0.00/757M [00:00<?, ?B/s]"
      ]
     },
     "metadata": {},
     "output_type": "display_data"
    },
    {
     "data": {
      "application/vnd.jupyter.widget-view+json": {
       "model_id": "fdcc807c96254efe83958d8ad82328fd",
       "version_major": 2,
       "version_minor": 0
      },
      "text/plain": [
       "Downloading S5P_OFFL_L2__HCHO___20230601T113651_20230601T131821_29185_03_020401_20230603T102434.nc:   0%|     …"
      ]
     },
     "metadata": {},
     "output_type": "display_data"
    },
    {
     "data": {
      "application/vnd.jupyter.widget-view+json": {
       "model_id": "ede910da5bf1444fb60b2e38edc87c3f",
       "version_major": 2,
       "version_minor": 0
      },
      "text/plain": [
       "MD5 checksumming:   0%|          | 0.00/759M [00:00<?, ?B/s]"
      ]
     },
     "metadata": {},
     "output_type": "display_data"
    },
    {
     "data": {
      "application/vnd.jupyter.widget-view+json": {
       "model_id": "0918daa25da343f7b1b72036704dec7c",
       "version_major": 2,
       "version_minor": 0
      },
      "text/plain": [
       "MD5 checksumming:   0%|          | 0.00/761M [00:00<?, ?B/s]"
      ]
     },
     "metadata": {},
     "output_type": "display_data"
    },
    {
     "data": {
      "application/vnd.jupyter.widget-view+json": {
       "model_id": "a187aa127e6c4fee86155fddedb5a328",
       "version_major": 2,
       "version_minor": 0
      },
      "text/plain": [
       "Downloading S5P_OFFL_L2__HCHO___20221206T114050_20221206T132220_26674_03_020401_20221212T143620.nc:   0%|     …"
      ]
     },
     "metadata": {},
     "output_type": "display_data"
    },
    {
     "data": {
      "application/vnd.jupyter.widget-view+json": {
       "model_id": "2237806cb5b24fe4951f60de4ce604f3",
       "version_major": 2,
       "version_minor": 0
      },
      "text/plain": [
       "Downloading S5P_OFFL_L2__HCHO___20230520T120148_20230520T134318_29015_03_020401_20230522T042527.nc:   0%|     …"
      ]
     },
     "metadata": {},
     "output_type": "display_data"
    },
    {
     "data": {
      "application/vnd.jupyter.widget-view+json": {
       "model_id": "aacbec21bd764b36926d65b8c2007e02",
       "version_major": 2,
       "version_minor": 0
      },
      "text/plain": [
       "MD5 checksumming:   0%|          | 0.00/759M [00:00<?, ?B/s]"
      ]
     },
     "metadata": {},
     "output_type": "display_data"
    },
    {
     "data": {
      "application/vnd.jupyter.widget-view+json": {
       "model_id": "589e04cac0974726930202f4021104c6",
       "version_major": 2,
       "version_minor": 0
      },
      "text/plain": [
       "Downloading S5P_OFFL_L2__HCHO___20230313T112803_20230313T130934_28050_03_020401_20230316T030546.nc:   0%|     …"
      ]
     },
     "metadata": {},
     "output_type": "display_data"
    },
    {
     "data": {
      "application/vnd.jupyter.widget-view+json": {
       "model_id": "977398b9b2ef48008eeafbbd3fe32ffb",
       "version_major": 2,
       "version_minor": 0
      },
      "text/plain": [
       "MD5 checksumming:   0%|          | 0.00/760M [00:00<?, ?B/s]"
      ]
     },
     "metadata": {},
     "output_type": "display_data"
    },
    {
     "data": {
      "application/vnd.jupyter.widget-view+json": {
       "model_id": "33cd1525e6584140bdd19274c385f45d",
       "version_major": 2,
       "version_minor": 0
      },
      "text/plain": [
       "MD5 checksumming:   0%|          | 0.00/755M [00:00<?, ?B/s]"
      ]
     },
     "metadata": {},
     "output_type": "display_data"
    },
    {
     "data": {
      "application/vnd.jupyter.widget-view+json": {
       "model_id": "465d1b51b36948ee9cd1d99d2378acf0",
       "version_major": 2,
       "version_minor": 0
      },
      "text/plain": [
       "Downloading S5P_OFFL_L2__HCHO___20230224T114521_20230224T132651_27809_03_020401_20230226T041426.nc:   0%|     …"
      ]
     },
     "metadata": {},
     "output_type": "display_data"
    },
    {
     "data": {
      "application/vnd.jupyter.widget-view+json": {
       "model_id": "717998f46b47435ba38e42ad6ef331d2",
       "version_major": 2,
       "version_minor": 0
      },
      "text/plain": [
       "Downloading S5P_OFFL_L2__HCHO___20230203T113658_20230203T131828_27511_03_020401_20230205T035848.nc:   0%|     …"
      ]
     },
     "metadata": {},
     "output_type": "display_data"
    },
    {
     "data": {
      "application/vnd.jupyter.widget-view+json": {
       "model_id": "9a67cf8bd6594c48a939399d9eaa8a64",
       "version_major": 2,
       "version_minor": 0
      },
      "text/plain": [
       "MD5 checksumming:   0%|          | 0.00/759M [00:00<?, ?B/s]"
      ]
     },
     "metadata": {},
     "output_type": "display_data"
    },
    {
     "data": {
      "application/vnd.jupyter.widget-view+json": {
       "model_id": "63fe13824d9c4f5a9b24104f248a14f8",
       "version_major": 2,
       "version_minor": 0
      },
      "text/plain": [
       "Downloading S5P_OFFL_L2__HCHO___20220828T112410_20220828T130539_25255_03_020401_20220831T101029.nc:   0%|     …"
      ]
     },
     "metadata": {},
     "output_type": "display_data"
    },
    {
     "data": {
      "application/vnd.jupyter.widget-view+json": {
       "model_id": "cba8c7dc7c794654835258b340b5699b",
       "version_major": 2,
       "version_minor": 0
      },
      "text/plain": [
       "MD5 checksumming:   0%|          | 0.00/760M [00:00<?, ?B/s]"
      ]
     },
     "metadata": {},
     "output_type": "display_data"
    },
    {
     "data": {
      "application/vnd.jupyter.widget-view+json": {
       "model_id": "f2d3b00c81fb41af89cbc6285de6b04e",
       "version_major": 2,
       "version_minor": 0
      },
      "text/plain": [
       "Downloading S5P_OFFL_L2__HCHO___20220815T102815_20220815T120944_25070_03_020401_20220818T084932.nc:   0%|     …"
      ]
     },
     "metadata": {},
     "output_type": "display_data"
    },
    {
     "data": {
      "application/vnd.jupyter.widget-view+json": {
       "model_id": "40abc13faaed4ef2b968eafec5b23e1c",
       "version_major": 2,
       "version_minor": 0
      },
      "text/plain": [
       "MD5 checksumming:   0%|          | 0.00/760M [00:00<?, ?B/s]"
      ]
     },
     "metadata": {},
     "output_type": "display_data"
    },
    {
     "data": {
      "application/vnd.jupyter.widget-view+json": {
       "model_id": "8eb8692db3e74aa4961e5a8383b8c591",
       "version_major": 2,
       "version_minor": 0
      },
      "text/plain": [
       "MD5 checksumming:   0%|          | 0.00/758M [00:00<?, ?B/s]"
      ]
     },
     "metadata": {},
     "output_type": "display_data"
    },
    {
     "data": {
      "application/vnd.jupyter.widget-view+json": {
       "model_id": "05cf95411f314f339b047dcb687a5052",
       "version_major": 2,
       "version_minor": 0
      },
      "text/plain": [
       "Downloading S5P_OFFL_L2__HCHO___20230223T120416_20230223T134547_27795_03_020401_20230225T042819.nc:   0%|     …"
      ]
     },
     "metadata": {},
     "output_type": "display_data"
    },
    {
     "data": {
      "application/vnd.jupyter.widget-view+json": {
       "model_id": "974e7e50262044bfaf4621358c8aecf0",
       "version_major": 2,
       "version_minor": 0
      },
      "text/plain": [
       "Downloading S5P_OFFL_L2__HCHO___20230525T120821_20230525T134951_29086_03_020401_20230527T043051.nc:   0%|     …"
      ]
     },
     "metadata": {},
     "output_type": "display_data"
    },
    {
     "data": {
      "application/vnd.jupyter.widget-view+json": {
       "model_id": "e49c8d6f25a54df6bdc4196196324f29",
       "version_major": 2,
       "version_minor": 0
      },
      "text/plain": [
       "MD5 checksumming:   0%|          | 0.00/760M [00:00<?, ?B/s]"
      ]
     },
     "metadata": {},
     "output_type": "display_data"
    },
    {
     "data": {
      "application/vnd.jupyter.widget-view+json": {
       "model_id": "e2c2f382568a4bdb8448168610b1b87d",
       "version_major": 2,
       "version_minor": 0
      },
      "text/plain": [
       "Downloading S5P_OFFL_L2__HCHO___20230116T103208_20230116T121338_27255_03_020401_20230118T025116.nc:   0%|     …"
      ]
     },
     "metadata": {},
     "output_type": "display_data"
    },
    {
     "data": {
      "application/vnd.jupyter.widget-view+json": {
       "model_id": "7e0b789bb69e4eac9d3af3958c79bfa1",
       "version_major": 2,
       "version_minor": 0
      },
      "text/plain": [
       "MD5 checksumming:   0%|          | 0.00/759M [00:00<?, ?B/s]"
      ]
     },
     "metadata": {},
     "output_type": "display_data"
    },
    {
     "data": {
      "application/vnd.jupyter.widget-view+json": {
       "model_id": "eea17acb5c944cb69f05a674255ba635",
       "version_major": 2,
       "version_minor": 0
      },
      "text/plain": [
       "MD5 checksumming:   0%|          | 0.00/758M [00:00<?, ?B/s]"
      ]
     },
     "metadata": {},
     "output_type": "display_data"
    },
    {
     "data": {
      "application/vnd.jupyter.widget-view+json": {
       "model_id": "4fb234f510b04abdb59eeee477a16f90",
       "version_major": 2,
       "version_minor": 0
      },
      "text/plain": [
       "Downloading S5P_OFFL_L2__HCHO___20230514T103239_20230514T121409_28929_03_020401_20230516T025844.nc:   0%|     …"
      ]
     },
     "metadata": {},
     "output_type": "display_data"
    },
    {
     "data": {
      "application/vnd.jupyter.widget-view+json": {
       "model_id": "834385e5c5bb454d9cc2f3d614b74772",
       "version_major": 2,
       "version_minor": 0
      },
      "text/plain": [
       "Downloading S5P_OFFL_L2__HCHO___20230123T100055_20230123T114225_27354_03_020401_20230125T021439.nc:   0%|     …"
      ]
     },
     "metadata": {},
     "output_type": "display_data"
    },
    {
     "data": {
      "application/vnd.jupyter.widget-view+json": {
       "model_id": "9fea07f3cd494e42ae1bd14e05379343",
       "version_major": 2,
       "version_minor": 0
      },
      "text/plain": [
       "MD5 checksumming:   0%|          | 0.00/762M [00:00<?, ?B/s]"
      ]
     },
     "metadata": {},
     "output_type": "display_data"
    },
    {
     "data": {
      "application/vnd.jupyter.widget-view+json": {
       "model_id": "7985e3f79ea74e58838ea8e17aeb8e25",
       "version_major": 2,
       "version_minor": 0
      },
      "text/plain": [
       "Downloading S5P_OFFL_L2__HCHO___20230117T115441_20230117T133611_27270_03_020401_20230119T041530.nc:   0%|     …"
      ]
     },
     "metadata": {},
     "output_type": "display_data"
    },
    {
     "data": {
      "application/vnd.jupyter.widget-view+json": {
       "model_id": "2165c08773a94d1dbf53614fc0e3b209",
       "version_major": 2,
       "version_minor": 0
      },
      "text/plain": [
       "MD5 checksumming:   0%|          | 0.00/757M [00:00<?, ?B/s]"
      ]
     },
     "metadata": {},
     "output_type": "display_data"
    },
    {
     "data": {
      "application/vnd.jupyter.widget-view+json": {
       "model_id": "ab82f6c4ea934610b5c0c9337af2bf95",
       "version_major": 2,
       "version_minor": 0
      },
      "text/plain": [
       "Downloading S5P_OFFL_L2__HCHO___20221221T115952_20221221T134121_26887_03_020401_20221225T184923.nc:   0%|     …"
      ]
     },
     "metadata": {},
     "output_type": "display_data"
    },
    {
     "data": {
      "application/vnd.jupyter.widget-view+json": {
       "model_id": "ea80f079eeba4b54a9a6c105313a9e4d",
       "version_major": 2,
       "version_minor": 0
      },
      "text/plain": [
       "MD5 checksumming:   0%|          | 0.00/752M [00:00<?, ?B/s]"
      ]
     },
     "metadata": {},
     "output_type": "display_data"
    },
    {
     "data": {
      "application/vnd.jupyter.widget-view+json": {
       "model_id": "5de53f0273f441f197c86a834b4aadd0",
       "version_major": 2,
       "version_minor": 0
      },
      "text/plain": [
       "Downloading S5P_OFFL_L2__HCHO___20230519T122046_20230519T140216_29001_03_020401_20230521T045247.nc:   0%|     …"
      ]
     },
     "metadata": {},
     "output_type": "display_data"
    },
    {
     "data": {
      "application/vnd.jupyter.widget-view+json": {
       "model_id": "b3446d423dfd4c34b9491e06e174a277",
       "version_major": 2,
       "version_minor": 0
      },
      "text/plain": [
       "MD5 checksumming:   0%|          | 0.00/759M [00:00<?, ?B/s]"
      ]
     },
     "metadata": {},
     "output_type": "display_data"
    },
    {
     "data": {
      "application/vnd.jupyter.widget-view+json": {
       "model_id": "80e7f6f2c2c845d0b0ad7d5855fa4afc",
       "version_major": 2,
       "version_minor": 0
      },
      "text/plain": [
       "Downloading S5P_OFFL_L2__HCHO___20230413T101013_20230413T115144_28489_03_020401_20230415T021651.nc:   0%|     …"
      ]
     },
     "metadata": {},
     "output_type": "display_data"
    },
    {
     "data": {
      "application/vnd.jupyter.widget-view+json": {
       "model_id": "7ddfd352d6314ed7a69fee90b1d77b62",
       "version_major": 2,
       "version_minor": 0
      },
      "text/plain": [
       "MD5 checksumming:   0%|          | 0.00/757M [00:00<?, ?B/s]"
      ]
     },
     "metadata": {},
     "output_type": "display_data"
    },
    {
     "data": {
      "application/vnd.jupyter.widget-view+json": {
       "model_id": "5b725d8399f24a918280736ed525fd2a",
       "version_major": 2,
       "version_minor": 0
      },
      "text/plain": [
       "Downloading S5P_OFFL_L2__HCHO___20221113T121328_20221113T135458_26348_03_020401_20221116T155546.nc:   0%|     …"
      ]
     },
     "metadata": {},
     "output_type": "display_data"
    },
    {
     "data": {
      "application/vnd.jupyter.widget-view+json": {
       "model_id": "b51b50e92aea4dc3a3545acc8ae840da",
       "version_major": 2,
       "version_minor": 0
      },
      "text/plain": [
       "MD5 checksumming:   0%|          | 0.00/756M [00:00<?, ?B/s]"
      ]
     },
     "metadata": {},
     "output_type": "display_data"
    },
    {
     "data": {
      "application/vnd.jupyter.widget-view+json": {
       "model_id": "77b2ee77e6a44d4992df38fc68a0515e",
       "version_major": 2,
       "version_minor": 0
      },
      "text/plain": [
       "Downloading S5P_OFFL_L2__HCHO___20221117T105707_20221117T123837_26404_03_020401_20221124T233013.nc:   0%|     …"
      ]
     },
     "metadata": {},
     "output_type": "display_data"
    },
    {
     "data": {
      "application/vnd.jupyter.widget-view+json": {
       "model_id": "b2607a54789c4fd18d7cc5daf3aaaffc",
       "version_major": 2,
       "version_minor": 0
      },
      "text/plain": [
       "MD5 checksumming:   0%|          | 0.00/761M [00:00<?, ?B/s]"
      ]
     },
     "metadata": {},
     "output_type": "display_data"
    },
    {
     "data": {
      "application/vnd.jupyter.widget-view+json": {
       "model_id": "4bb7388f381f4481be76f18380264b87",
       "version_major": 2,
       "version_minor": 0
      },
      "text/plain": [
       "Downloading S5P_OFFL_L2__HCHO___20230201T121451_20230201T135622_27483_03_020401_20230203T043601.nc:   0%|     …"
      ]
     },
     "metadata": {},
     "output_type": "display_data"
    },
    {
     "data": {
      "application/vnd.jupyter.widget-view+json": {
       "model_id": "f2425837cd6341bb8514fd320f608518",
       "version_major": 2,
       "version_minor": 0
      },
      "text/plain": [
       "MD5 checksumming:   0%|          | 0.00/761M [00:00<?, ?B/s]"
      ]
     },
     "metadata": {},
     "output_type": "display_data"
    },
    {
     "data": {
      "application/vnd.jupyter.widget-view+json": {
       "model_id": "9798eb1287ce47b8a1067ee1c4cf10e0",
       "version_major": 2,
       "version_minor": 0
      },
      "text/plain": [
       "Downloading S5P_OFFL_L2__HCHO___20221204T121856_20221204T140026_26646_03_020401_20221211T091013.nc:   0%|     …"
      ]
     },
     "metadata": {},
     "output_type": "display_data"
    },
    {
     "data": {
      "application/vnd.jupyter.widget-view+json": {
       "model_id": "c7ced5d99bfb4118858c3668d7bc45e6",
       "version_major": 2,
       "version_minor": 0
      },
      "text/plain": [
       "MD5 checksumming:   0%|          | 0.00/755M [00:00<?, ?B/s]"
      ]
     },
     "metadata": {},
     "output_type": "display_data"
    },
    {
     "data": {
      "application/vnd.jupyter.widget-view+json": {
       "model_id": "8d63ee4185be4238a1a7cbda03125257",
       "version_major": 2,
       "version_minor": 0
      },
      "text/plain": [
       "Downloading S5P_OFFL_L2__HCHO___20230422T122441_20230422T140611_28618_03_020401_20230424T043600.nc:   0%|     …"
      ]
     },
     "metadata": {},
     "output_type": "display_data"
    },
    {
     "data": {
      "application/vnd.jupyter.widget-view+json": {
       "model_id": "e8b3ae919c8e401f87e405618a64f479",
       "version_major": 2,
       "version_minor": 0
      },
      "text/plain": [
       "MD5 checksumming:   0%|          | 0.00/756M [00:00<?, ?B/s]"
      ]
     },
     "metadata": {},
     "output_type": "display_data"
    },
    {
     "data": {
      "application/vnd.jupyter.widget-view+json": {
       "model_id": "d2cfc5c6a5b448cbb9105dfcecdb87dc",
       "version_major": 2,
       "version_minor": 0
      },
      "text/plain": [
       "Downloading S5P_OFFL_L2__HCHO___20230111T102529_20230111T120700_27184_03_020401_20230113T024518.nc:   0%|     …"
      ]
     },
     "metadata": {},
     "output_type": "display_data"
    },
    {
     "data": {
      "application/vnd.jupyter.widget-view+json": {
       "model_id": "961ac792cca14a8497fdf8b3293e7107",
       "version_major": 2,
       "version_minor": 0
      },
      "text/plain": [
       "MD5 checksumming:   0%|          | 0.00/751M [00:00<?, ?B/s]"
      ]
     },
     "metadata": {},
     "output_type": "display_data"
    },
    {
     "data": {
      "application/vnd.jupyter.widget-view+json": {
       "model_id": "8c0977490964493b9c8ab6fe9a401f69",
       "version_major": 2,
       "version_minor": 0
      },
      "text/plain": [
       "Downloading S5P_OFFL_L2__HCHO___20230101T115349_20230101T133519_27043_03_020401_20230103T112149.nc:   0%|     …"
      ]
     },
     "metadata": {},
     "output_type": "display_data"
    },
    {
     "data": {
      "application/vnd.jupyter.widget-view+json": {
       "model_id": "ed922d69ad144a2ea97f68e5ee4cfa8e",
       "version_major": 2,
       "version_minor": 0
      },
      "text/plain": [
       "MD5 checksumming:   0%|          | 0.00/756M [00:00<?, ?B/s]"
      ]
     },
     "metadata": {},
     "output_type": "display_data"
    },
    {
     "data": {
      "application/vnd.jupyter.widget-view+json": {
       "model_id": "53b3e427127b4a12a600d89454358213",
       "version_major": 2,
       "version_minor": 0
      },
      "text/plain": [
       "Downloading S5P_OFFL_L2__HCHO___20221220T121853_20221220T140022_26873_03_020401_20221225T015720.nc:   0%|     …"
      ]
     },
     "metadata": {},
     "output_type": "display_data"
    },
    {
     "data": {
      "application/vnd.jupyter.widget-view+json": {
       "model_id": "40b22817447e492dab855e11443a88b0",
       "version_major": 2,
       "version_minor": 0
      },
      "text/plain": [
       "MD5 checksumming:   0%|          | 0.00/734M [00:00<?, ?B/s]"
      ]
     },
     "metadata": {},
     "output_type": "display_data"
    },
    {
     "data": {
      "application/vnd.jupyter.widget-view+json": {
       "model_id": "881b088747f947c099d94e61b7b5bfb4",
       "version_major": 2,
       "version_minor": 0
      },
      "text/plain": [
       "Downloading S5P_OFFL_L2__HCHO___20230130T111115_20230130T125245_27454_03_020401_20230201T034507.nc:   0%|     …"
      ]
     },
     "metadata": {},
     "output_type": "display_data"
    },
    {
     "data": {
      "application/vnd.jupyter.widget-view+json": {
       "model_id": "14eb67d09c7c47ec89b2393551df8762",
       "version_major": 2,
       "version_minor": 0
      },
      "text/plain": [
       "MD5 checksumming:   0%|          | 0.00/759M [00:00<?, ?B/s]"
      ]
     },
     "metadata": {},
     "output_type": "display_data"
    },
    {
     "data": {
      "application/vnd.jupyter.widget-view+json": {
       "model_id": "71f6a9adfcb4466ab3f0ddf7291e877a",
       "version_major": 2,
       "version_minor": 0
      },
      "text/plain": [
       "Downloading S5P_OFFL_L2__HCHO___20220803T123601_20220803T141731_24901_03_020401_20220805T165208.nc:   0%|     …"
      ]
     },
     "metadata": {},
     "output_type": "display_data"
    },
    {
     "data": {
      "application/vnd.jupyter.widget-view+json": {
       "model_id": "3ed620fd5fb04724b06f599791d6f048",
       "version_major": 2,
       "version_minor": 0
      },
      "text/plain": [
       "MD5 checksumming:   0%|          | 0.00/731M [00:00<?, ?B/s]"
      ]
     },
     "metadata": {},
     "output_type": "display_data"
    },
    {
     "data": {
      "application/vnd.jupyter.widget-view+json": {
       "model_id": "81e4d307ddef4eae9d586a62fe92a994",
       "version_major": 2,
       "version_minor": 0
      },
      "text/plain": [
       "Downloading S5P_OFFL_L2__HCHO___20230214T113139_20230214T131310_27667_03_020401_20230216T040130.nc:   0%|     …"
      ]
     },
     "metadata": {},
     "output_type": "display_data"
    },
    {
     "data": {
      "application/vnd.jupyter.widget-view+json": {
       "model_id": "e165ea462cae43e395d11914ca4f384c",
       "version_major": 2,
       "version_minor": 0
      },
      "text/plain": [
       "MD5 checksumming:   0%|          | 0.00/752M [00:00<?, ?B/s]"
      ]
     },
     "metadata": {},
     "output_type": "display_data"
    },
    {
     "data": {
      "application/vnd.jupyter.widget-view+json": {
       "model_id": "f664d8c6add043ae800e81093f756215",
       "version_major": 2,
       "version_minor": 0
      },
      "text/plain": [
       "Downloading S5P_OFFL_L2__HCHO___20220914T110322_20220914T124451_25496_03_020401_20220916T032016.nc:   0%|     …"
      ]
     },
     "metadata": {},
     "output_type": "display_data"
    },
    {
     "data": {
      "application/vnd.jupyter.widget-view+json": {
       "model_id": "12d5f85805f74ed797b7fa9bdffeb7fd",
       "version_major": 2,
       "version_minor": 0
      },
      "text/plain": [
       "MD5 checksumming:   0%|          | 0.00/758M [00:00<?, ?B/s]"
      ]
     },
     "metadata": {},
     "output_type": "display_data"
    },
    {
     "data": {
      "application/vnd.jupyter.widget-view+json": {
       "model_id": "b4013a65917d46698779acffd1feaeb5",
       "version_major": 2,
       "version_minor": 0
      },
      "text/plain": [
       "Downloading S5P_OFFL_L2__HCHO___20221112T123234_20221112T141403_26334_03_020401_20221114T044328.nc:   0%|     …"
      ]
     },
     "metadata": {},
     "output_type": "display_data"
    },
    {
     "data": {
      "application/vnd.jupyter.widget-view+json": {
       "model_id": "72a8f434151048519cafa2f4285c5f29",
       "version_major": 2,
       "version_minor": 0
      },
      "text/plain": [
       "MD5 checksumming:   0%|          | 0.00/759M [00:00<?, ?B/s]"
      ]
     },
     "metadata": {},
     "output_type": "display_data"
    },
    {
     "data": {
      "application/vnd.jupyter.widget-view+json": {
       "model_id": "19b39ea267594e9fafb337b6eb0cda0b",
       "version_major": 2,
       "version_minor": 0
      },
      "text/plain": [
       "Downloading S5P_OFFL_L2__HCHO___20230419T113952_20230419T132122_28575_03_020401_20230421T035648.nc:   0%|     …"
      ]
     },
     "metadata": {},
     "output_type": "display_data"
    },
    {
     "data": {
      "application/vnd.jupyter.widget-view+json": {
       "model_id": "c4a50bdf3a18427cb4e6a0d1f28d3f61",
       "version_major": 2,
       "version_minor": 0
      },
      "text/plain": [
       "MD5 checksumming:   0%|          | 0.00/760M [00:00<?, ?B/s]"
      ]
     },
     "metadata": {},
     "output_type": "display_data"
    },
    {
     "data": {
      "application/vnd.jupyter.widget-view+json": {
       "model_id": "65839e6d30094db5a0b1b13194264fcf",
       "version_major": 2,
       "version_minor": 0
      },
      "text/plain": [
       "Downloading S5P_OFFL_L2__HCHO___20230314T110908_20230314T125038_28064_03_020401_20230317T111207.nc:   0%|     …"
      ]
     },
     "metadata": {},
     "output_type": "display_data"
    },
    {
     "data": {
      "application/vnd.jupyter.widget-view+json": {
       "model_id": "dd5015c1dde84a2a90cf51951f4977aa",
       "version_major": 2,
       "version_minor": 0
      },
      "text/plain": [
       "MD5 checksumming:   0%|          | 0.00/754M [00:00<?, ?B/s]"
      ]
     },
     "metadata": {},
     "output_type": "display_data"
    },
    {
     "data": {
      "application/vnd.jupyter.widget-view+json": {
       "model_id": "bc3bbb3509ae4de3a2746309400cf6b4",
       "version_major": 2,
       "version_minor": 0
      },
      "text/plain": [
       "Downloading S5P_OFFL_L2__HCHO___20220927T115858_20220927T134027_25681_03_020401_20220929T042129.nc:   0%|     …"
      ]
     },
     "metadata": {},
     "output_type": "display_data"
    },
    {
     "data": {
      "application/vnd.jupyter.widget-view+json": {
       "model_id": "f6f9b8f8db294b81b7671fbbf4cffa53",
       "version_major": 2,
       "version_minor": 0
      },
      "text/plain": [
       "MD5 checksumming:   0%|          | 0.00/762M [00:00<?, ?B/s]"
      ]
     },
     "metadata": {},
     "output_type": "display_data"
    },
    {
     "data": {
      "application/vnd.jupyter.widget-view+json": {
       "model_id": "254d3c16cb1442d6ad16a8a5aa159833",
       "version_major": 2,
       "version_minor": 0
      },
      "text/plain": [
       "Downloading S5P_OFFL_L2__HCHO___20230420T112058_20230420T130228_28589_03_020401_20230422T033724.nc:   0%|     …"
      ]
     },
     "metadata": {},
     "output_type": "display_data"
    },
    {
     "data": {
      "application/vnd.jupyter.widget-view+json": {
       "model_id": "8e4ac50dfdcf47c38f662715037dd71c",
       "version_major": 2,
       "version_minor": 0
      },
      "text/plain": [
       "MD5 checksumming:   0%|          | 0.00/754M [00:00<?, ?B/s]"
      ]
     },
     "metadata": {},
     "output_type": "display_data"
    },
    {
     "data": {
      "application/vnd.jupyter.widget-view+json": {
       "model_id": "85b1b051989c45d39ab39f63cce256cc",
       "version_major": 2,
       "version_minor": 0
      },
      "text/plain": [
       "Downloading S5P_OFFL_L2__HCHO___20230428T121245_20230428T135415_28703_03_020401_20230430T043552.nc:   0%|     …"
      ]
     },
     "metadata": {},
     "output_type": "display_data"
    },
    {
     "data": {
      "application/vnd.jupyter.widget-view+json": {
       "model_id": "29ff7c2334be41428c10264e7337dfa2",
       "version_major": 2,
       "version_minor": 0
      },
      "text/plain": [
       "MD5 checksumming:   0%|          | 0.00/761M [00:00<?, ?B/s]"
      ]
     },
     "metadata": {},
     "output_type": "display_data"
    },
    {
     "data": {
      "application/vnd.jupyter.widget-view+json": {
       "model_id": "f0fd9d21be4d46eb84bbf031352af2d8",
       "version_major": 2,
       "version_minor": 0
      },
      "text/plain": [
       "Downloading S5P_OFFL_L2__HCHO___20230128T114909_20230128T133039_27426_03_020401_20230130T042255.nc:   0%|     …"
      ]
     },
     "metadata": {},
     "output_type": "display_data"
    },
    {
     "data": {
      "application/vnd.jupyter.widget-view+json": {
       "model_id": "e4f1ad503b414389959a0747e3e2bf3f",
       "version_major": 2,
       "version_minor": 0
      },
      "text/plain": [
       "MD5 checksumming:   0%|          | 0.00/763M [00:00<?, ?B/s]"
      ]
     },
     "metadata": {},
     "output_type": "display_data"
    },
    {
     "data": {
      "application/vnd.jupyter.widget-view+json": {
       "model_id": "2985381000204f92b307a58d0b5fd9ee",
       "version_major": 2,
       "version_minor": 0
      },
      "text/plain": [
       "Downloading S5P_OFFL_L2__HCHO___20230212T120932_20230212T135102_27639_03_020401_20230214T043645.nc:   0%|     …"
      ]
     },
     "metadata": {},
     "output_type": "display_data"
    },
    {
     "data": {
      "application/vnd.jupyter.widget-view+json": {
       "model_id": "529bd177648d4864abc649c3ef11fd59",
       "version_major": 2,
       "version_minor": 0
      },
      "text/plain": [
       "MD5 checksumming:   0%|          | 0.00/756M [00:00<?, ?B/s]"
      ]
     },
     "metadata": {},
     "output_type": "display_data"
    },
    {
     "data": {
      "application/vnd.jupyter.widget-view+json": {
       "model_id": "2a7b8848a227479e9527a5aefaaf953e",
       "version_major": 2,
       "version_minor": 0
      },
      "text/plain": [
       "Downloading S5P_OFFL_L2__HCHO___20230414T113250_20230414T131420_28504_03_020401_20230416T015532.nc:   0%|     …"
      ]
     },
     "metadata": {},
     "output_type": "display_data"
    },
    {
     "data": {
      "application/vnd.jupyter.widget-view+json": {
       "model_id": "a42b18b118104dcf8b382dc5702a4993",
       "version_major": 2,
       "version_minor": 0
      },
      "text/plain": [
       "MD5 checksumming:   0%|          | 0.00/758M [00:00<?, ?B/s]"
      ]
     },
     "metadata": {},
     "output_type": "display_data"
    },
    {
     "data": {
      "application/vnd.jupyter.widget-view+json": {
       "model_id": "fa2969f801934cf1b03edef9b6c698fd",
       "version_major": 2,
       "version_minor": 0
      },
      "text/plain": [
       "MD5 checksumming:   0%|          | 0.00/759M [00:00<?, ?B/s]"
      ]
     },
     "metadata": {},
     "output_type": "display_data"
    },
    {
     "data": {
      "application/vnd.jupyter.widget-view+json": {
       "model_id": "dda622a3a8e741079455909a0ec336e8",
       "version_major": 2,
       "version_minor": 0
      },
      "text/plain": [
       "Downloading S5P_OFFL_L2__HCHO___20221030T113622_20221030T131752_26149_03_020401_20221101T035840.nc:   0%|     …"
      ]
     },
     "metadata": {},
     "output_type": "display_data"
    },
    {
     "data": {
      "application/vnd.jupyter.widget-view+json": {
       "model_id": "5923975d19c64ced84e471aa8ae64d4c",
       "version_major": 2,
       "version_minor": 0
      },
      "text/plain": [
       "Downloading S5P_OFFL_L2__HCHO___20230322T101935_20230322T120106_28177_03_020401_20230324T022826.nc:   0%|     …"
      ]
     },
     "metadata": {},
     "output_type": "display_data"
    },
    {
     "data": {
      "application/vnd.jupyter.widget-view+json": {
       "model_id": "fa28ca4a657b4af8a50447ddae4c5d68",
       "version_major": 2,
       "version_minor": 0
      },
      "text/plain": [
       "MD5 checksumming:   0%|          | 0.00/755M [00:00<?, ?B/s]"
      ]
     },
     "metadata": {},
     "output_type": "display_data"
    },
    {
     "data": {
      "application/vnd.jupyter.widget-view+json": {
       "model_id": "30a1b449c61542f39f4daa7f74df5851",
       "version_major": 2,
       "version_minor": 0
      },
      "text/plain": [
       "Downloading S5P_OFFL_L2__HCHO___20230321T103828_20230321T121958_28163_03_020401_20230323T025803.nc:   0%|     …"
      ]
     },
     "metadata": {},
     "output_type": "display_data"
    },
    {
     "data": {
      "application/vnd.jupyter.widget-view+json": {
       "model_id": "79c65a5d176543719b282145eff5cc31",
       "version_major": 2,
       "version_minor": 0
      },
      "text/plain": [
       "MD5 checksumming:   0%|          | 0.00/759M [00:00<?, ?B/s]"
      ]
     },
     "metadata": {},
     "output_type": "display_data"
    },
    {
     "data": {
      "application/vnd.jupyter.widget-view+json": {
       "model_id": "575c506c14cd4fe5a65e1636ced053c4",
       "version_major": 2,
       "version_minor": 0
      },
      "text/plain": [
       "Downloading S5P_OFFL_L2__HCHO___20230209T112450_20230209T130620_27596_03_020401_20230211T034124.nc:   0%|     …"
      ]
     },
     "metadata": {},
     "output_type": "display_data"
    },
    {
     "data": {
      "application/vnd.jupyter.widget-view+json": {
       "model_id": "f54715b5fbb94502860e319426d92562",
       "version_major": 2,
       "version_minor": 0
      },
      "text/plain": [
       "MD5 checksumming:   0%|          | 0.00/764M [00:00<?, ?B/s]"
      ]
     },
     "metadata": {},
     "output_type": "display_data"
    },
    {
     "data": {
      "application/vnd.jupyter.widget-view+json": {
       "model_id": "86e7554b83e34e09ba0e7da868f59c8e",
       "version_major": 2,
       "version_minor": 0
      },
      "text/plain": [
       "MD5 checksumming:   0%|          | 0.00/765M [00:00<?, ?B/s]"
      ]
     },
     "metadata": {},
     "output_type": "display_data"
    },
    {
     "data": {
      "application/vnd.jupyter.widget-view+json": {
       "model_id": "3b1c5ac70877426882d314b1e60f8c9c",
       "version_major": 2,
       "version_minor": 0
      },
      "text/plain": [
       "Downloading S5P_OFFL_L2__HCHO___20230512T111035_20230512T125205_28901_03_020401_20230514T033052.nc:   0%|     …"
      ]
     },
     "metadata": {},
     "output_type": "display_data"
    },
    {
     "data": {
      "application/vnd.jupyter.widget-view+json": {
       "model_id": "00b8555bfc254703928fd13b0cf1965a",
       "version_major": 2,
       "version_minor": 0
      },
      "text/plain": [
       "Downloading S5P_OFFL_L2__HCHO___20221212T112805_20221212T130935_26759_03_020401_20221218T155249.nc:   0%|     …"
      ]
     },
     "metadata": {},
     "output_type": "display_data"
    },
    {
     "data": {
      "application/vnd.jupyter.widget-view+json": {
       "model_id": "f4a27e713f2047eebde5c951d417b959",
       "version_major": 2,
       "version_minor": 0
      },
      "text/plain": [
       "MD5 checksumming:   0%|          | 0.00/764M [00:00<?, ?B/s]"
      ]
     },
     "metadata": {},
     "output_type": "display_data"
    },
    {
     "data": {
      "application/vnd.jupyter.widget-view+json": {
       "model_id": "7e44b84ea2d44b4abb3db588e6567235",
       "version_major": 2,
       "version_minor": 0
      },
      "text/plain": [
       "Downloading S5P_OFFL_L2__HCHO___20221114T101253_20221114T115423_26361_03_020401_20221116T161009.nc:   0%|     …"
      ]
     },
     "metadata": {},
     "output_type": "display_data"
    },
    {
     "data": {
      "application/vnd.jupyter.widget-view+json": {
       "model_id": "5aaca495e7d340a59f3d2670c8499d81",
       "version_major": 2,
       "version_minor": 0
      },
      "text/plain": [
       "MD5 checksumming:   0%|          | 0.00/757M [00:00<?, ?B/s]"
      ]
     },
     "metadata": {},
     "output_type": "display_data"
    },
    {
     "data": {
      "application/vnd.jupyter.widget-view+json": {
       "model_id": "31c459d839cb402985805f8d12bf77fd",
       "version_major": 2,
       "version_minor": 0
      },
      "text/plain": [
       "Downloading S5P_OFFL_L2__HCHO___20230504T101914_20230504T120045_28787_03_020401_20230506T023854.nc:   0%|     …"
      ]
     },
     "metadata": {},
     "output_type": "display_data"
    },
    {
     "data": {
      "application/vnd.jupyter.widget-view+json": {
       "model_id": "98ff13d1ecb44ec29ec3a68d72d2bf5e",
       "version_major": 2,
       "version_minor": 0
      },
      "text/plain": [
       "MD5 checksumming:   0%|          | 0.00/732M [00:00<?, ?B/s]"
      ]
     },
     "metadata": {},
     "output_type": "display_data"
    },
    {
     "data": {
      "application/vnd.jupyter.widget-view+json": {
       "model_id": "62899a74cbed4d8687fa4af9bad0278c",
       "version_major": 2,
       "version_minor": 0
      },
      "text/plain": [
       "MD5 checksumming:   0%|          | 0.00/758M [00:00<?, ?B/s]"
      ]
     },
     "metadata": {},
     "output_type": "display_data"
    },
    {
     "data": {
      "application/vnd.jupyter.widget-view+json": {
       "model_id": "ce8264ba058b4b0a81e092f8e94acf1f",
       "version_major": 2,
       "version_minor": 0
      },
      "text/plain": [
       "Downloading S5P_OFFL_L2__HCHO___20230402T115628_20230402T133759_28334_03_020401_20230404T042013.nc:   0%|     …"
      ]
     },
     "metadata": {},
     "output_type": "display_data"
    },
    {
     "data": {
      "application/vnd.jupyter.widget-view+json": {
       "model_id": "e36eb1011a7d4065a56db9cc21009bd5",
       "version_major": 2,
       "version_minor": 0
      },
      "text/plain": [
       "Downloading S5P_OFFL_L2__HCHO___20230515T115511_20230515T133641_28944_03_020401_20230517T042458.nc:   0%|     …"
      ]
     },
     "metadata": {},
     "output_type": "display_data"
    },
    {
     "data": {
      "application/vnd.jupyter.widget-view+json": {
       "model_id": "b7708b91c857421a96b730bf48f4cba6",
       "version_major": 2,
       "version_minor": 0
      },
      "text/plain": [
       "MD5 checksumming:   0%|          | 0.00/758M [00:00<?, ?B/s]"
      ]
     },
     "metadata": {},
     "output_type": "display_data"
    },
    {
     "data": {
      "application/vnd.jupyter.widget-view+json": {
       "model_id": "8502abcf1e544d0689a9004ddfc4cf65",
       "version_major": 2,
       "version_minor": 0
      },
      "text/plain": [
       "Downloading S5P_OFFL_L2__HCHO___20230331T123414_20230331T141544_28306_03_020401_20230402T045139.nc:   0%|     …"
      ]
     },
     "metadata": {},
     "output_type": "display_data"
    },
    {
     "data": {
      "application/vnd.jupyter.widget-view+json": {
       "model_id": "60e83feacd994fcda9147e50bf230c85",
       "version_major": 2,
       "version_minor": 0
      },
      "text/plain": [
       "MD5 checksumming:   0%|          | 0.00/758M [00:00<?, ?B/s]"
      ]
     },
     "metadata": {},
     "output_type": "display_data"
    },
    {
     "data": {
      "application/vnd.jupyter.widget-view+json": {
       "model_id": "c905b09a8f594fd1a68d2ba920668f71",
       "version_major": 2,
       "version_minor": 0
      },
      "text/plain": [
       "Downloading S5P_OFFL_L2__HCHO___20220816T115037_20220816T133207_25085_03_020401_20220819T123752.nc:   0%|     …"
      ]
     },
     "metadata": {},
     "output_type": "display_data"
    },
    {
     "data": {
      "application/vnd.jupyter.widget-view+json": {
       "model_id": "bdf9ce53a2574b799b94e058add02155",
       "version_major": 2,
       "version_minor": 0
      },
      "text/plain": [
       "MD5 checksumming:   0%|          | 0.00/756M [00:00<?, ?B/s]"
      ]
     },
     "metadata": {},
     "output_type": "display_data"
    },
    {
     "data": {
      "application/vnd.jupyter.widget-view+json": {
       "model_id": "101673ffb29d461895016d0689f8e4fe",
       "version_major": 2,
       "version_minor": 0
      },
      "text/plain": [
       "Downloading S5P_OFFL_L2__HCHO___20221126T112825_20221126T130955_26532_03_020401_20221203T102454.nc:   0%|     …"
      ]
     },
     "metadata": {},
     "output_type": "display_data"
    },
    {
     "data": {
      "application/vnd.jupyter.widget-view+json": {
       "model_id": "92d653d8f81b4c63ac732b437668248b",
       "version_major": 2,
       "version_minor": 0
      },
      "text/plain": [
       "MD5 checksumming:   0%|          | 0.00/760M [00:00<?, ?B/s]"
      ]
     },
     "metadata": {},
     "output_type": "display_data"
    },
    {
     "data": {
      "application/vnd.jupyter.widget-view+json": {
       "model_id": "e9a3fe537c844ad59ea6c45e1838dbe9",
       "version_major": 2,
       "version_minor": 0
      },
      "text/plain": [
       "Downloading S5P_OFFL_L2__HCHO___20221015T111843_20221015T130012_25936_03_020401_20221017T034959.nc:   0%|     …"
      ]
     },
     "metadata": {},
     "output_type": "display_data"
    },
    {
     "data": {
      "application/vnd.jupyter.widget-view+json": {
       "model_id": "acfef36abdcd4e1b8c22e72362c12a6a",
       "version_major": 2,
       "version_minor": 0
      },
      "text/plain": [
       "MD5 checksumming:   0%|          | 0.00/755M [00:00<?, ?B/s]"
      ]
     },
     "metadata": {},
     "output_type": "display_data"
    },
    {
     "data": {
      "application/vnd.jupyter.widget-view+json": {
       "model_id": "3d53b7cafcb54b428234acd686edddf6",
       "version_major": 2,
       "version_minor": 0
      },
      "text/plain": [
       "Downloading S5P_OFFL_L2__HCHO___20230131T105218_20230131T123348_27468_03_020401_20230202T032322.nc:   0%|     …"
      ]
     },
     "metadata": {},
     "output_type": "display_data"
    },
    {
     "data": {
      "application/vnd.jupyter.widget-view+json": {
       "model_id": "8cdbf6edeaa34ea2b26555c28a821f32",
       "version_major": 2,
       "version_minor": 0
      },
      "text/plain": [
       "MD5 checksumming:   0%|          | 0.00/759M [00:00<?, ?B/s]"
      ]
     },
     "metadata": {},
     "output_type": "display_data"
    },
    {
     "data": {
      "application/vnd.jupyter.widget-view+json": {
       "model_id": "be5eeda4c95e49508f321dcebffb72dc",
       "version_major": 2,
       "version_minor": 0
      },
      "text/plain": [
       "Downloading S5P_OFFL_L2__HCHO___20230304T123655_20230304T141826_27923_03_020401_20230306T050203.nc:   0%|     …"
      ]
     },
     "metadata": {},
     "output_type": "display_data"
    },
    {
     "data": {
      "application/vnd.jupyter.widget-view+json": {
       "model_id": "39b920b9bf004d178b25e50c7f7fa5db",
       "version_major": 2,
       "version_minor": 0
      },
      "text/plain": [
       "MD5 checksumming:   0%|          | 0.00/763M [00:00<?, ?B/s]"
      ]
     },
     "metadata": {},
     "output_type": "display_data"
    },
    {
     "data": {
      "application/vnd.jupyter.widget-view+json": {
       "model_id": "4033c2d3d79d4cf6a4f75e9f4153b51f",
       "version_major": 2,
       "version_minor": 0
      },
      "text/plain": [
       "Downloading S5P_OFFL_L2__HCHO___20230428T103115_20230428T121245_28702_03_020401_20230430T024744.nc:   0%|     …"
      ]
     },
     "metadata": {},
     "output_type": "display_data"
    },
    {
     "data": {
      "application/vnd.jupyter.widget-view+json": {
       "model_id": "c6673c4e24994be0a611092be3004fc8",
       "version_major": 2,
       "version_minor": 0
      },
      "text/plain": [
       "MD5 checksumming:   0%|          | 0.00/761M [00:00<?, ?B/s]"
      ]
     },
     "metadata": {},
     "output_type": "display_data"
    },
    {
     "data": {
      "application/vnd.jupyter.widget-view+json": {
       "model_id": "2561946510a24ea09921bb68514b8405",
       "version_major": 2,
       "version_minor": 0
      },
      "text/plain": [
       "Downloading S5P_OFFL_L2__HCHO___20230205T105905_20230205T124035_27539_03_020401_20230207T031629.nc:   0%|     …"
      ]
     },
     "metadata": {},
     "output_type": "display_data"
    },
    {
     "data": {
      "application/vnd.jupyter.widget-view+json": {
       "model_id": "7ca0f3b35e1547b6b7827c3184d34aa6",
       "version_major": 2,
       "version_minor": 0
      },
      "text/plain": [
       "MD5 checksumming:   0%|          | 0.00/758M [00:00<?, ?B/s]"
      ]
     },
     "metadata": {},
     "output_type": "display_data"
    },
    {
     "data": {
      "application/vnd.jupyter.widget-view+json": {
       "model_id": "9fe2bd55d9644989a6beaa8c54aa52e6",
       "version_major": 2,
       "version_minor": 0
      },
      "text/plain": [
       "Downloading S5P_OFFL_L2__HCHO___20230523T110450_20230523T124620_29057_03_020401_20230525T033452.nc:   0%|     …"
      ]
     },
     "metadata": {},
     "output_type": "display_data"
    },
    {
     "data": {
      "application/vnd.jupyter.widget-view+json": {
       "model_id": "40bcfda5705541efb28e3006d6d68ca3",
       "version_major": 2,
       "version_minor": 0
      },
      "text/plain": [
       "MD5 checksumming:   0%|          | 0.00/758M [00:00<?, ?B/s]"
      ]
     },
     "metadata": {},
     "output_type": "display_data"
    },
    {
     "data": {
      "application/vnd.jupyter.widget-view+json": {
       "model_id": "354cae97a010471f82932c088fee22c9",
       "version_major": 2,
       "version_minor": 0
      },
      "text/plain": [
       "Downloading S5P_OFFL_L2__HCHO___20230507T110353_20230507T124523_28830_03_020401_20230509T032700.nc:   0%|     …"
      ]
     },
     "metadata": {},
     "output_type": "display_data"
    },
    {
     "data": {
      "application/vnd.jupyter.widget-view+json": {
       "model_id": "b1c65a8bd69644679e71bedfbbd264bb",
       "version_major": 2,
       "version_minor": 0
      },
      "text/plain": [
       "MD5 checksumming:   0%|          | 0.00/756M [00:00<?, ?B/s]"
      ]
     },
     "metadata": {},
     "output_type": "display_data"
    },
    {
     "data": {
      "application/vnd.jupyter.widget-view+json": {
       "model_id": "8ac91cd4a0f5468d889e1da63d82537e",
       "version_major": 2,
       "version_minor": 0
      },
      "text/plain": [
       "Downloading S5P_OFFL_L2__HCHO___20221205T115953_20221205T134123_26660_03_020401_20221211T221931.nc:   0%|     …"
      ]
     },
     "metadata": {},
     "output_type": "display_data"
    },
    {
     "data": {
      "application/vnd.jupyter.widget-view+json": {
       "model_id": "8978ff395a2c43c59b9ef8a7d7a3c5ec",
       "version_major": 2,
       "version_minor": 0
      },
      "text/plain": [
       "MD5 checksumming:   0%|          | 0.00/758M [00:00<?, ?B/s]"
      ]
     },
     "metadata": {},
     "output_type": "display_data"
    },
    {
     "data": {
      "application/vnd.jupyter.widget-view+json": {
       "model_id": "7126a1503afc47f18564f8ec4586f26b",
       "version_major": 2,
       "version_minor": 0
      },
      "text/plain": [
       "Downloading S5P_OFFL_L2__HCHO___20230304T105525_20230304T123655_27922_03_020401_20230306T032703.nc:   0%|     …"
      ]
     },
     "metadata": {},
     "output_type": "display_data"
    },
    {
     "data": {
      "application/vnd.jupyter.widget-view+json": {
       "model_id": "1ea10035e71f4d85b1c24a576fc072ae",
       "version_major": 2,
       "version_minor": 0
      },
      "text/plain": [
       "MD5 checksumming:   0%|          | 0.00/757M [00:00<?, ?B/s]"
      ]
     },
     "metadata": {},
     "output_type": "display_data"
    },
    {
     "data": {
      "application/vnd.jupyter.widget-view+json": {
       "model_id": "b972866b3fe642c5a7b6f3ab2059400e",
       "version_major": 2,
       "version_minor": 0
      },
      "text/plain": [
       "Downloading S5P_OFFL_L2__HCHO___20221119T120027_20221119T134157_26433_03_020401_20221126T142500.nc:   0%|     …"
      ]
     },
     "metadata": {},
     "output_type": "display_data"
    },
    {
     "data": {
      "application/vnd.jupyter.widget-view+json": {
       "model_id": "7ed2d2417e81413fa33474f214234a90",
       "version_major": 2,
       "version_minor": 0
      },
      "text/plain": [
       "MD5 checksumming:   0%|          | 0.00/755M [00:00<?, ?B/s]"
      ]
     },
     "metadata": {},
     "output_type": "display_data"
    },
    {
     "data": {
      "application/vnd.jupyter.widget-view+json": {
       "model_id": "07ea53f4f3f84bf49f1e8b7f26c26124",
       "version_major": 2,
       "version_minor": 0
      },
      "text/plain": [
       "Downloading S5P_OFFL_L2__HCHO___20230114T111005_20230114T125135_27227_03_020401_20230116T032657.nc:   0%|     …"
      ]
     },
     "metadata": {},
     "output_type": "display_data"
    },
    {
     "data": {
      "application/vnd.jupyter.widget-view+json": {
       "model_id": "2c1a4e8987274f2c9b831469e0038b00",
       "version_major": 2,
       "version_minor": 0
      },
      "text/plain": [
       "MD5 checksumming:   0%|          | 0.00/758M [00:00<?, ?B/s]"
      ]
     },
     "metadata": {},
     "output_type": "display_data"
    },
    {
     "data": {
      "application/vnd.jupyter.widget-view+json": {
       "model_id": "0559ec26c5f647f3862372739a174070",
       "version_major": 2,
       "version_minor": 0
      },
      "text/plain": [
       "Downloading S5P_OFFL_L2__HCHO___20230106T120023_20230106T134153_27114_03_020401_20230108T043128.nc:   0%|     …"
      ]
     },
     "metadata": {},
     "output_type": "display_data"
    },
    {
     "data": {
      "application/vnd.jupyter.widget-view+json": {
       "model_id": "83bc2aa7dc1f4e54830cc538a97a77b2",
       "version_major": 2,
       "version_minor": 0
      },
      "text/plain": [
       "MD5 checksumming:   0%|          | 0.00/760M [00:00<?, ?B/s]"
      ]
     },
     "metadata": {},
     "output_type": "display_data"
    },
    {
     "data": {
      "application/vnd.jupyter.widget-view+json": {
       "model_id": "23194746a69047ec9a49aca106dc36ac",
       "version_major": 2,
       "version_minor": 0
      },
      "text/plain": [
       "Downloading S5P_OFFL_L2__HCHO___20230222T122312_20230222T140442_27781_03_020401_20230224T044613.nc:   0%|     …"
      ]
     },
     "metadata": {},
     "output_type": "display_data"
    },
    {
     "data": {
      "application/vnd.jupyter.widget-view+json": {
       "model_id": "2f926f0c25384fc5808bbf89f3f734dd",
       "version_major": 2,
       "version_minor": 0
      },
      "text/plain": [
       "MD5 checksumming:   0%|          | 0.00/763M [00:00<?, ?B/s]"
      ]
     },
     "metadata": {},
     "output_type": "display_data"
    },
    {
     "data": {
      "application/vnd.jupyter.widget-view+json": {
       "model_id": "a13e2e662493476ea78946c5941162d9",
       "version_major": 2,
       "version_minor": 0
      },
      "text/plain": [
       "Downloading S5P_OFFL_L2__HCHO___20230328T114921_20230328T133052_28263_03_020401_20230330T042450.nc:   0%|     …"
      ]
     },
     "metadata": {},
     "output_type": "display_data"
    },
    {
     "data": {
      "application/vnd.jupyter.widget-view+json": {
       "model_id": "ff5d4a94a15448fe9e38d5fc26ede2ba",
       "version_major": 2,
       "version_minor": 0
      },
      "text/plain": [
       "MD5 checksumming:   0%|          | 0.00/756M [00:00<?, ?B/s]"
      ]
     },
     "metadata": {},
     "output_type": "display_data"
    },
    {
     "data": {
      "application/vnd.jupyter.widget-view+json": {
       "model_id": "908eaaabf2bd44f5b475bc32804d2e29",
       "version_major": 2,
       "version_minor": 0
      },
      "text/plain": [
       "Downloading S5P_OFFL_L2__HCHO___20230522T112349_20230522T130519_29043_03_020401_20230524T035655.nc:   0%|     …"
      ]
     },
     "metadata": {},
     "output_type": "display_data"
    },
    {
     "data": {
      "application/vnd.jupyter.widget-view+json": {
       "model_id": "67897dff79b14b79967caf5a7b5a6bc1",
       "version_major": 2,
       "version_minor": 0
      },
      "text/plain": [
       "MD5 checksumming:   0%|          | 0.00/755M [00:00<?, ?B/s]"
      ]
     },
     "metadata": {},
     "output_type": "display_data"
    },
    {
     "data": {
      "application/vnd.jupyter.widget-view+json": {
       "model_id": "d4ab1f9b16ba4b04b8c4a2bceba9bcbd",
       "version_major": 2,
       "version_minor": 0
      },
      "text/plain": [
       "Downloading S5P_OFFL_L2__HCHO___20221022T104615_20221022T122745_26035_03_020401_20221024T031145.nc:   0%|     …"
      ]
     },
     "metadata": {},
     "output_type": "display_data"
    },
    {
     "data": {
      "application/vnd.jupyter.widget-view+json": {
       "model_id": "8a4761160dd94839a7b7f83ff9f8759e",
       "version_major": 2,
       "version_minor": 0
      },
      "text/plain": [
       "MD5 checksumming:   0%|          | 0.00/757M [00:00<?, ?B/s]"
      ]
     },
     "metadata": {},
     "output_type": "display_data"
    },
    {
     "data": {
      "application/vnd.jupyter.widget-view+json": {
       "model_id": "2fd31f13c1dc41ea8f5a1bfc3bb59c5b",
       "version_major": 2,
       "version_minor": 0
      },
      "text/plain": [
       "Downloading S5P_OFFL_L2__HCHO___20221104T100051_20221104T114221_26219_03_020401_20221106T021443.nc:   0%|     …"
      ]
     },
     "metadata": {},
     "output_type": "display_data"
    },
    {
     "data": {
      "application/vnd.jupyter.widget-view+json": {
       "model_id": "be34f98042934081ab9863a65705883d",
       "version_major": 2,
       "version_minor": 0
      },
      "text/plain": [
       "MD5 checksumming:   0%|          | 0.00/758M [00:00<?, ?B/s]"
      ]
     },
     "metadata": {},
     "output_type": "display_data"
    },
    {
     "data": {
      "application/vnd.jupyter.widget-view+json": {
       "model_id": "ff0fc1dc6df845948184ac4a1d25bf46",
       "version_major": 2,
       "version_minor": 0
      },
      "text/plain": [
       "Downloading S5P_OFFL_L2__HCHO___20220805T101620_20220805T115749_24928_03_020401_20220807T094650.nc:   0%|     …"
      ]
     },
     "metadata": {},
     "output_type": "display_data"
    },
    {
     "data": {
      "application/vnd.jupyter.widget-view+json": {
       "model_id": "c25d6020b239455a82ceda4238763d56",
       "version_major": 2,
       "version_minor": 0
      },
      "text/plain": [
       "MD5 checksumming:   0%|          | 0.00/759M [00:00<?, ?B/s]"
      ]
     },
     "metadata": {},
     "output_type": "display_data"
    },
    {
     "data": {
      "application/vnd.jupyter.widget-view+json": {
       "model_id": "547784db7e94499393c1f3f2e06fe720",
       "version_major": 2,
       "version_minor": 0
      },
      "text/plain": [
       "Downloading S5P_OFFL_L2__HCHO___20220916T102505_20220916T120634_25524_03_020401_20220918T023942.nc:   0%|     …"
      ]
     },
     "metadata": {},
     "output_type": "display_data"
    },
    {
     "data": {
      "application/vnd.jupyter.widget-view+json": {
       "model_id": "68f1fa77ea3c415d8ee3b46d967a2a68",
       "version_major": 2,
       "version_minor": 0
      },
      "text/plain": [
       "MD5 checksumming:   0%|          | 0.00/762M [00:00<?, ?B/s]"
      ]
     },
     "metadata": {},
     "output_type": "display_data"
    },
    {
     "data": {
      "application/vnd.jupyter.widget-view+json": {
       "model_id": "ce01c37d6aa94c8ab6b5d9166f318aef",
       "version_major": 2,
       "version_minor": 0
      },
      "text/plain": [
       "Downloading S5P_OFFL_L2__HCHO___20220826T120225_20220826T134354_25227_03_020401_20220829T054021.nc:   0%|     …"
      ]
     },
     "metadata": {},
     "output_type": "display_data"
    },
    {
     "data": {
      "application/vnd.jupyter.widget-view+json": {
       "model_id": "08d1f7e69f3746db8147806f2da271d1",
       "version_major": 2,
       "version_minor": 0
      },
      "text/plain": [
       "MD5 checksumming:   0%|          | 0.00/732M [00:00<?, ?B/s]"
      ]
     },
     "metadata": {},
     "output_type": "display_data"
    },
    {
     "data": {
      "application/vnd.jupyter.widget-view+json": {
       "model_id": "4a3573597b884544b60f43be5fb75625",
       "version_major": 2,
       "version_minor": 0
      },
      "text/plain": [
       "Downloading S5P_OFFL_L2__HCHO___20230327T120814_20230327T134944_28249_03_020401_20230329T043025.nc:   0%|     …"
      ]
     },
     "metadata": {},
     "output_type": "display_data"
    },
    {
     "data": {
      "application/vnd.jupyter.widget-view+json": {
       "model_id": "5f1c5b6fef6c49e3a3591d1406b426a4",
       "version_major": 2,
       "version_minor": 0
      },
      "text/plain": [
       "MD5 checksumming:   0%|          | 0.00/760M [00:00<?, ?B/s]"
      ]
     },
     "metadata": {},
     "output_type": "display_data"
    },
    {
     "data": {
      "application/vnd.jupyter.widget-view+json": {
       "model_id": "6f1d491edb194e38b21470a5e5d1c327",
       "version_major": 2,
       "version_minor": 0
      },
      "text/plain": [
       "Downloading S5P_OFFL_L2__HCHO___20220906T115458_20220906T133628_25383_03_020401_20220908T042313.nc:   0%|     …"
      ]
     },
     "metadata": {},
     "output_type": "display_data"
    },
    {
     "data": {
      "application/vnd.jupyter.widget-view+json": {
       "model_id": "fabbb993ce23455396c42830b0ff659f",
       "version_major": 2,
       "version_minor": 0
      },
      "text/plain": [
       "MD5 checksumming:   0%|          | 0.00/735M [00:00<?, ?B/s]"
      ]
     },
     "metadata": {},
     "output_type": "display_data"
    },
    {
     "data": {
      "application/vnd.jupyter.widget-view+json": {
       "model_id": "28f685d1f55441c0a7d1ecbea4bdafe2",
       "version_major": 2,
       "version_minor": 0
      },
      "text/plain": [
       "Downloading S5P_OFFL_L2__HCHO___20221007T121027_20221007T135156_25823_03_020401_20221009T043313.nc:   0%|     …"
      ]
     },
     "metadata": {},
     "output_type": "display_data"
    },
    {
     "data": {
      "application/vnd.jupyter.widget-view+json": {
       "model_id": "a742c07e25b145a9970f7d73eb5a08fb",
       "version_major": 2,
       "version_minor": 0
      },
      "text/plain": [
       "MD5 checksumming:   0%|          | 0.00/762M [00:00<?, ?B/s]"
      ]
     },
     "metadata": {},
     "output_type": "display_data"
    },
    {
     "data": {
      "application/vnd.jupyter.widget-view+json": {
       "model_id": "6b09f827f1ba49179c6ccde8d8b5bcec",
       "version_major": 2,
       "version_minor": 0
      },
      "text/plain": [
       "Downloading S5P_OFFL_L2__HCHO___20221207T112148_20221207T130317_26688_03_020401_20221213T143101.nc:   0%|     …"
      ]
     },
     "metadata": {},
     "output_type": "display_data"
    },
    {
     "data": {
      "application/vnd.jupyter.widget-view+json": {
       "model_id": "b6706149dc564ae3891ae0064ebfa467",
       "version_major": 2,
       "version_minor": 0
      },
      "text/plain": [
       "MD5 checksumming:   0%|          | 0.00/755M [00:00<?, ?B/s]"
      ]
     },
     "metadata": {},
     "output_type": "display_data"
    },
    {
     "data": {
      "application/vnd.jupyter.widget-view+json": {
       "model_id": "491ae0d8da4c4c6b9bfd1a426ec4a5a6",
       "version_major": 2,
       "version_minor": 0
      },
      "text/plain": [
       "Downloading S5P_OFFL_L2__HCHO___20221227T100548_20221227T114718_26971_03_020401_20221230T080417.nc:   0%|     …"
      ]
     },
     "metadata": {},
     "output_type": "display_data"
    },
    {
     "data": {
      "application/vnd.jupyter.widget-view+json": {
       "model_id": "79dfa703e212471aac281b5dfd9b0f6b",
       "version_major": 2,
       "version_minor": 0
      },
      "text/plain": [
       "MD5 checksumming:   0%|          | 0.00/759M [00:00<?, ?B/s]"
      ]
     },
     "metadata": {},
     "output_type": "display_data"
    },
    {
     "data": {
      "application/vnd.jupyter.widget-view+json": {
       "model_id": "e3296b8d93da4ed386fe31eef36194ab",
       "version_major": 2,
       "version_minor": 0
      },
      "text/plain": [
       "Downloading S5P_OFFL_L2__HCHO___20221010T111259_20221010T125429_25865_03_020401_20221012T034224.nc:   0%|     …"
      ]
     },
     "metadata": {},
     "output_type": "display_data"
    },
    {
     "data": {
      "application/vnd.jupyter.widget-view+json": {
       "model_id": "8ef11a19478a4d449a356390dc4a25f7",
       "version_major": 2,
       "version_minor": 0
      },
      "text/plain": [
       "MD5 checksumming:   0%|          | 0.00/761M [00:00<?, ?B/s]"
      ]
     },
     "metadata": {},
     "output_type": "display_data"
    },
    {
     "data": {
      "application/vnd.jupyter.widget-view+json": {
       "model_id": "1488797b00de414386adeb8a838339ff",
       "version_major": 2,
       "version_minor": 0
      },
      "text/plain": [
       "Downloading S5P_OFFL_L2__HCHO___20221122T110313_20221122T124443_26475_03_020401_20221129T102940.nc:   0%|     …"
      ]
     },
     "metadata": {},
     "output_type": "display_data"
    },
    {
     "data": {
      "application/vnd.jupyter.widget-view+json": {
       "model_id": "cfd205c688854a4f924e1ad21b0a30c8",
       "version_major": 2,
       "version_minor": 0
      },
      "text/plain": [
       "MD5 checksumming:   0%|          | 0.00/758M [00:00<?, ?B/s]"
      ]
     },
     "metadata": {},
     "output_type": "display_data"
    },
    {
     "data": {
      "application/vnd.jupyter.widget-view+json": {
       "model_id": "19f1a517377143dfaa511f04f0b454d3",
       "version_major": 2,
       "version_minor": 0
      },
      "text/plain": [
       "Downloading S5P_OFFL_L2__HCHO___20220808T124200_20220808T142330_24972_03_020401_20220810T053940.nc:   0%|     …"
      ]
     },
     "metadata": {},
     "output_type": "display_data"
    },
    {
     "data": {
      "application/vnd.jupyter.widget-view+json": {
       "model_id": "224bf9d4623b45aa9d85f375c8d5b1a4",
       "version_major": 2,
       "version_minor": 0
      },
      "text/plain": [
       "MD5 checksumming:   0%|          | 0.00/757M [00:00<?, ?B/s]"
      ]
     },
     "metadata": {},
     "output_type": "display_data"
    },
    {
     "data": {
      "application/vnd.jupyter.widget-view+json": {
       "model_id": "540d99d91d154a25a4195e96e173007a",
       "version_major": 2,
       "version_minor": 0
      },
      "text/plain": [
       "Downloading S5P_OFFL_L2__HCHO___20220816T100908_20220816T115037_25084_03_020401_20220819T123726.nc:   0%|     …"
      ]
     },
     "metadata": {},
     "output_type": "display_data"
    },
    {
     "data": {
      "application/vnd.jupyter.widget-view+json": {
       "model_id": "613f9119720647af9ada30e9774a3d30",
       "version_major": 2,
       "version_minor": 0
      },
      "text/plain": [
       "MD5 checksumming:   0%|          | 0.00/763M [00:00<?, ?B/s]"
      ]
     },
     "metadata": {},
     "output_type": "display_data"
    },
    {
     "data": {
      "application/vnd.jupyter.widget-view+json": {
       "model_id": "01bbfb1eb6c44327b05323f84b28ecf6",
       "version_major": 2,
       "version_minor": 0
      },
      "text/plain": [
       "Downloading S5P_OFFL_L2__HCHO___20220827T114317_20220827T132447_25241_03_020401_20220830T060629.nc:   0%|     …"
      ]
     },
     "metadata": {},
     "output_type": "display_data"
    },
    {
     "data": {
      "application/vnd.jupyter.widget-view+json": {
       "model_id": "b7b72b009e5c4c73a7b3d6c285f03421",
       "version_major": 2,
       "version_minor": 0
      },
      "text/plain": [
       "MD5 checksumming:   0%|          | 0.00/758M [00:00<?, ?B/s]"
      ]
     },
     "metadata": {},
     "output_type": "display_data"
    },
    {
     "data": {
      "application/vnd.jupyter.widget-view+json": {
       "model_id": "aeca5e3c0f2c4aedaabf423c54b10a27",
       "version_major": 2,
       "version_minor": 0
      },
      "text/plain": [
       "Downloading S5P_OFFL_L2__HCHO___20220830T104554_20220830T122724_25283_03_020401_20220902T012117.nc:   0%|     …"
      ]
     },
     "metadata": {},
     "output_type": "display_data"
    },
    {
     "data": {
      "application/vnd.jupyter.widget-view+json": {
       "model_id": "7b3f743485054fed9e15e83fddb2cbb2",
       "version_major": 2,
       "version_minor": 0
      },
      "text/plain": [
       "MD5 checksumming:   0%|          | 0.00/758M [00:00<?, ?B/s]"
      ]
     },
     "metadata": {},
     "output_type": "display_data"
    },
    {
     "data": {
      "application/vnd.jupyter.widget-view+json": {
       "model_id": "9a32895fbc8b4694860c05a9ae2b50f6",
       "version_major": 2,
       "version_minor": 0
      },
      "text/plain": [
       "Downloading S5P_OFFL_L2__HCHO___20230211T104658_20230211T122828_27624_03_020401_20230213T031110.nc:   0%|     …"
      ]
     },
     "metadata": {},
     "output_type": "display_data"
    },
    {
     "data": {
      "application/vnd.jupyter.widget-view+json": {
       "model_id": "5e03ddf9ecf24f3e8ca207ccce097a7e",
       "version_major": 2,
       "version_minor": 0
      },
      "text/plain": [
       "MD5 checksumming:   0%|          | 0.00/759M [00:00<?, ?B/s]"
      ]
     },
     "metadata": {},
     "output_type": "display_data"
    },
    {
     "data": {
      "application/vnd.jupyter.widget-view+json": {
       "model_id": "9305d24745b84addb2b63739873f2cea",
       "version_major": 2,
       "version_minor": 0
      },
      "text/plain": [
       "Downloading S5P_OFFL_L2__HCHO___20220804T121655_20220804T135825_24915_03_020401_20220806T082228.nc:   0%|     …"
      ]
     },
     "metadata": {},
     "output_type": "display_data"
    },
    {
     "data": {
      "application/vnd.jupyter.widget-view+json": {
       "model_id": "39e380c8be414755a7cd79547b8bcc33",
       "version_major": 2,
       "version_minor": 0
      },
      "text/plain": [
       "MD5 checksumming:   0%|          | 0.00/763M [00:00<?, ?B/s]"
      ]
     },
     "metadata": {},
     "output_type": "display_data"
    },
    {
     "data": {
      "application/vnd.jupyter.widget-view+json": {
       "model_id": "08fdb80db320450f9882a288cb761e6a",
       "version_major": 2,
       "version_minor": 0
      },
      "text/plain": [
       "Downloading S5P_OFFL_L2__HCHO___20220922T101143_20220922T115312_25609_03_020401_20220924T022209.nc:   0%|     …"
      ]
     },
     "metadata": {},
     "output_type": "display_data"
    },
    {
     "data": {
      "application/vnd.jupyter.widget-view+json": {
       "model_id": "a2c0cbeb2d5b40b58833d1b990f9875d",
       "version_major": 2,
       "version_minor": 0
      },
      "text/plain": [
       "MD5 checksumming:   0%|          | 0.00/760M [00:00<?, ?B/s]"
      ]
     },
     "metadata": {},
     "output_type": "display_data"
    },
    {
     "data": {
      "application/vnd.jupyter.widget-view+json": {
       "model_id": "0cac7a274b4c4a2bbf01fdaf9228015c",
       "version_major": 2,
       "version_minor": 0
      },
      "text/plain": [
       "MD5 checksumming:   0%|          | 0.00/758M [00:00<?, ?B/s]"
      ]
     },
     "metadata": {},
     "output_type": "display_data"
    },
    {
     "data": {
      "application/vnd.jupyter.widget-view+json": {
       "model_id": "7fa4a68d1a7a4000867687e4c655054b",
       "version_major": 2,
       "version_minor": 0
      },
      "text/plain": [
       "Downloading S5P_OFFL_L2__HCHO___20230213T115036_20230213T133206_27653_03_020401_20230215T041942.nc:   0%|     …"
      ]
     },
     "metadata": {},
     "output_type": "display_data"
    },
    {
     "data": {
      "application/vnd.jupyter.widget-view+json": {
       "model_id": "df32d3c487ba4e4f9fadee234af9f603",
       "version_major": 2,
       "version_minor": 0
      },
      "text/plain": [
       "Downloading S5P_OFFL_L2__HCHO___20221025T113025_20221025T131155_26078_03_020401_20221027T034827.nc:   0%|     …"
      ]
     },
     "metadata": {},
     "output_type": "display_data"
    },
    {
     "data": {
      "application/vnd.jupyter.widget-view+json": {
       "model_id": "20da79bc513c49f69d89de3db6a690cd",
       "version_major": 2,
       "version_minor": 0
      },
      "text/plain": [
       "MD5 checksumming:   0%|          | 0.00/756M [00:00<?, ?B/s]"
      ]
     },
     "metadata": {},
     "output_type": "display_data"
    },
    {
     "data": {
      "application/vnd.jupyter.widget-view+json": {
       "model_id": "c2524c1ae15a4e708036542249570285",
       "version_major": 2,
       "version_minor": 0
      },
      "text/plain": [
       "Downloading S5P_OFFL_L2__HCHO___20220809T104124_20220809T122254_24985_03_020401_20220811T171508.nc:   0%|     …"
      ]
     },
     "metadata": {},
     "output_type": "display_data"
    },
    {
     "data": {
      "application/vnd.jupyter.widget-view+json": {
       "model_id": "862f3beb079d48648c12503753f9e147",
       "version_major": 2,
       "version_minor": 0
      },
      "text/plain": [
       "MD5 checksumming:   0%|          | 0.00/759M [00:00<?, ?B/s]"
      ]
     },
     "metadata": {},
     "output_type": "display_data"
    },
    {
     "data": {
      "application/vnd.jupyter.widget-view+json": {
       "model_id": "ca38fe7b650f4fb2ac2baf41e25feb4d",
       "version_major": 2,
       "version_minor": 0
      },
      "text/plain": [
       "Downloading S5P_OFFL_L2__HCHO___20221102T103904_20221102T122033_26191_03_020401_20221104T030826.nc:   0%|     …"
      ]
     },
     "metadata": {},
     "output_type": "display_data"
    },
    {
     "data": {
      "application/vnd.jupyter.widget-view+json": {
       "model_id": "6881dea58f924ca4a7a0671edc350d0d",
       "version_major": 2,
       "version_minor": 0
      },
      "text/plain": [
       "MD5 checksumming:   0%|          | 0.00/757M [00:00<?, ?B/s]"
      ]
     },
     "metadata": {},
     "output_type": "display_data"
    },
    {
     "data": {
      "application/vnd.jupyter.widget-view+json": {
       "model_id": "88c72aeb70fd4fad8acd083d3c9bfeeb",
       "version_major": 2,
       "version_minor": 0
      },
      "text/plain": [
       "MD5 checksumming:   0%|          | 0.00/763M [00:00<?, ?B/s]"
      ]
     },
     "metadata": {},
     "output_type": "display_data"
    },
    {
     "data": {
      "application/vnd.jupyter.widget-view+json": {
       "model_id": "fc1883eea29c4b4d8d16be84e6ade654",
       "version_major": 2,
       "version_minor": 0
      },
      "text/plain": [
       "Downloading S5P_OFFL_L2__HCHO___20230204T111802_20230204T125932_27525_03_020401_20230206T033611.nc:   0%|     …"
      ]
     },
     "metadata": {},
     "output_type": "display_data"
    },
    {
     "data": {
      "application/vnd.jupyter.widget-view+json": {
       "model_id": "292f14cb9af74161a434f095b17af288",
       "version_major": 2,
       "version_minor": 0
      },
      "text/plain": [
       "Downloading S5P_OFFL_L2__HCHO___20221201T113436_20221201T131606_26603_03_020401_20221208T152416.nc:   0%|     …"
      ]
     },
     "metadata": {},
     "output_type": "display_data"
    },
    {
     "data": {
      "application/vnd.jupyter.widget-view+json": {
       "model_id": "88006d4425224be6a4e877fdd22e7966",
       "version_major": 2,
       "version_minor": 0
      },
      "text/plain": [
       "MD5 checksumming:   0%|          | 0.00/759M [00:00<?, ?B/s]"
      ]
     },
     "metadata": {},
     "output_type": "display_data"
    },
    {
     "data": {
      "application/vnd.jupyter.widget-view+json": {
       "model_id": "0737566bd82245d78c7a1330e9eb0c64",
       "version_major": 2,
       "version_minor": 0
      },
      "text/plain": [
       "Downloading S5P_OFFL_L2__HCHO___20220921T121221_20220921T135350_25596_03_020401_20220923T042048.nc:   0%|     …"
      ]
     },
     "metadata": {},
     "output_type": "display_data"
    },
    {
     "data": {
      "application/vnd.jupyter.widget-view+json": {
       "model_id": "0a57d7a474164dedbfa9bc307b330d4b",
       "version_major": 2,
       "version_minor": 0
      },
      "text/plain": [
       "MD5 checksumming:   0%|          | 0.00/757M [00:00<?, ?B/s]"
      ]
     },
     "metadata": {},
     "output_type": "display_data"
    },
    {
     "data": {
      "application/vnd.jupyter.widget-view+json": {
       "model_id": "73e2a7da2f864b9e882eb5147adf08c7",
       "version_major": 2,
       "version_minor": 0
      },
      "text/plain": [
       "Downloading S5P_OFFL_L2__HCHO___20230125T110430_20230125T124600_27383_03_020401_20230127T033037.nc:   0%|     …"
      ]
     },
     "metadata": {},
     "output_type": "display_data"
    },
    {
     "data": {
      "application/vnd.jupyter.widget-view+json": {
       "model_id": "fcff506c4655464da8f63fd15277123d",
       "version_major": 2,
       "version_minor": 0
      },
      "text/plain": [
       "MD5 checksumming:   0%|          | 0.00/756M [00:00<?, ?B/s]"
      ]
     },
     "metadata": {},
     "output_type": "display_data"
    },
    {
     "data": {
      "application/vnd.jupyter.widget-view+json": {
       "model_id": "d559190fa9664a6faeaae165b90cbfa6",
       "version_major": 2,
       "version_minor": 0
      },
      "text/plain": [
       "Downloading S5P_OFFL_L2__HCHO___20230405T124120_20230405T142250_28377_03_020401_20230407T045819.nc:   0%|     …"
      ]
     },
     "metadata": {},
     "output_type": "display_data"
    },
    {
     "data": {
      "application/vnd.jupyter.widget-view+json": {
       "model_id": "8c597c7ef704490d8785bce25d3ad604",
       "version_major": 2,
       "version_minor": 0
      },
      "text/plain": [
       "MD5 checksumming:   0%|          | 0.00/759M [00:00<?, ?B/s]"
      ]
     },
     "metadata": {},
     "output_type": "display_data"
    },
    {
     "data": {
      "application/vnd.jupyter.widget-view+json": {
       "model_id": "73464af2cbbd46cdad0b9dfa6df5b291",
       "version_major": 2,
       "version_minor": 0
      },
      "text/plain": [
       "Downloading S5P_OFFL_L2__HCHO___20230317T101226_20230317T115357_28106_03_020401_20230319T082216.nc:   0%|     …"
      ]
     },
     "metadata": {},
     "output_type": "display_data"
    },
    {
     "data": {
      "application/vnd.jupyter.widget-view+json": {
       "model_id": "3cb7aa72f7c148a6a4a7d7eef9c4e30e",
       "version_major": 2,
       "version_minor": 0
      },
      "text/plain": [
       "MD5 checksumming:   0%|          | 0.00/761M [00:00<?, ?B/s]"
      ]
     },
     "metadata": {},
     "output_type": "display_data"
    },
    {
     "data": {
      "application/vnd.jupyter.widget-view+json": {
       "model_id": "ab75f4592f0e49fdb8c628e4c5b9325f",
       "version_major": 2,
       "version_minor": 0
      },
      "text/plain": [
       "Downloading S5P_OFFL_L2__HCHO___20221129T121244_20221129T135413_26575_03_020401_20221206T111844.nc:   0%|     …"
      ]
     },
     "metadata": {},
     "output_type": "display_data"
    },
    {
     "data": {
      "application/vnd.jupyter.widget-view+json": {
       "model_id": "ba70b1ba8ef94ca9bceca4af94224f01",
       "version_major": 2,
       "version_minor": 0
      },
      "text/plain": [
       "MD5 checksumming:   0%|          | 0.00/758M [00:00<?, ?B/s]"
      ]
     },
     "metadata": {},
     "output_type": "display_data"
    },
    {
     "data": {
      "application/vnd.jupyter.widget-view+json": {
       "model_id": "e1ec60377b5b434d9486432724ce5d50",
       "version_major": 2,
       "version_minor": 0
      },
      "text/plain": [
       "Downloading S5P_OFFL_L2__HCHO___20230227T123004_20230227T141134_27852_03_020401_20230301T045635.nc:   0%|     …"
      ]
     },
     "metadata": {},
     "output_type": "display_data"
    },
    {
     "data": {
      "application/vnd.jupyter.widget-view+json": {
       "model_id": "d5486c7568174a74bf6b1dc4db32013d",
       "version_major": 2,
       "version_minor": 0
      },
      "text/plain": [
       "MD5 checksumming:   0%|          | 0.00/755M [00:00<?, ?B/s]"
      ]
     },
     "metadata": {},
     "output_type": "display_data"
    },
    {
     "data": {
      "application/vnd.jupyter.widget-view+json": {
       "model_id": "b02ec1a7fefb466499a72ed1be4d42bd",
       "version_major": 2,
       "version_minor": 0
      },
      "text/plain": [
       "Downloading S5P_OFFL_L2__HCHO___20220915T122543_20220915T140712_25511_03_020401_20220917T045241.nc:   0%|     …"
      ]
     },
     "metadata": {},
     "output_type": "display_data"
    },
    {
     "data": {
      "application/vnd.jupyter.widget-view+json": {
       "model_id": "f07413010d6d4363b4f9642608b2e2d9",
       "version_major": 2,
       "version_minor": 0
      },
      "text/plain": [
       "MD5 checksumming:   0%|          | 0.00/762M [00:00<?, ?B/s]"
      ]
     },
     "metadata": {},
     "output_type": "display_data"
    },
    {
     "data": {
      "application/vnd.jupyter.widget-view+json": {
       "model_id": "ac16cb3d37a94d1f90f990db7491cd8d",
       "version_major": 2,
       "version_minor": 0
      },
      "text/plain": [
       "Downloading S5P_OFFL_L2__HCHO___20220910T103826_20220910T121955_25439_03_020401_20220912T025314.nc:   0%|     …"
      ]
     },
     "metadata": {},
     "output_type": "display_data"
    },
    {
     "data": {
      "application/vnd.jupyter.widget-view+json": {
       "model_id": "566c3d534a854192bdde03109f6800ee",
       "version_major": 2,
       "version_minor": 0
      },
      "text/plain": [
       "MD5 checksumming:   0%|          | 0.00/754M [00:00<?, ?B/s]"
      ]
     },
     "metadata": {},
     "output_type": "display_data"
    },
    {
     "data": {
      "application/vnd.jupyter.widget-view+json": {
       "model_id": "b3c08da7e37e4645bc34decbe3bad7c8",
       "version_major": 2,
       "version_minor": 0
      },
      "text/plain": [
       "Downloading S5P_OFFL_L2__HCHO___20220912T114139_20220912T132308_25468_03_020401_20220914T040707.nc:   0%|     …"
      ]
     },
     "metadata": {},
     "output_type": "display_data"
    },
    {
     "data": {
      "application/vnd.jupyter.widget-view+json": {
       "model_id": "74155956c4aa48ea930fba3f922ceea2",
       "version_major": 2,
       "version_minor": 0
      },
      "text/plain": [
       "MD5 checksumming:   0%|          | 0.00/757M [00:00<?, ?B/s]"
      ]
     },
     "metadata": {},
     "output_type": "display_data"
    },
    {
     "data": {
      "application/vnd.jupyter.widget-view+json": {
       "model_id": "36d5930e3c884cacaa5d8ee391340291",
       "version_major": 2,
       "version_minor": 0
      },
      "text/plain": [
       "Downloading S5P_OFFL_L2__HCHO___20221021T110522_20221021T124651_26021_03_020401_20221023T031733.nc:   0%|     …"
      ]
     },
     "metadata": {},
     "output_type": "display_data"
    },
    {
     "data": {
      "application/vnd.jupyter.widget-view+json": {
       "model_id": "97eb13cdc3094e39ab39ec93041a2f3d",
       "version_major": 2,
       "version_minor": 0
      },
      "text/plain": [
       "MD5 checksumming:   0%|          | 0.00/764M [00:00<?, ?B/s]"
      ]
     },
     "metadata": {},
     "output_type": "display_data"
    },
    {
     "data": {
      "application/vnd.jupyter.widget-view+json": {
       "model_id": "fc3a7c2bcf2a4b9f87040be2f16cd1f5",
       "version_major": 2,
       "version_minor": 0
      },
      "text/plain": [
       "Downloading S5P_OFFL_L2__HCHO___20220907T113550_20220907T131720_25397_03_020401_20220909T040323.nc:   0%|     …"
      ]
     },
     "metadata": {},
     "output_type": "display_data"
    },
    {
     "data": {
      "application/vnd.jupyter.widget-view+json": {
       "model_id": "b66bf173d1844e74aaeef2b9714114da",
       "version_major": 2,
       "version_minor": 0
      },
      "text/plain": [
       "MD5 checksumming:   0%|          | 0.00/758M [00:00<?, ?B/s]"
      ]
     },
     "metadata": {},
     "output_type": "display_data"
    },
    {
     "data": {
      "application/vnd.jupyter.widget-view+json": {
       "model_id": "c1d1843fc5224045923697e590c08cf2",
       "version_major": 2,
       "version_minor": 0
      },
      "text/plain": [
       "Downloading S5P_OFFL_L2__HCHO___20230302T113316_20230302T131447_27894_03_020401_20230304T041312.nc:   0%|     …"
      ]
     },
     "metadata": {},
     "output_type": "display_data"
    },
    {
     "data": {
      "application/vnd.jupyter.widget-view+json": {
       "model_id": "480da4afea0c4adea783898dcf0a8a48",
       "version_major": 2,
       "version_minor": 0
      },
      "text/plain": [
       "MD5 checksumming:   0%|          | 0.00/735M [00:00<?, ?B/s]"
      ]
     },
     "metadata": {},
     "output_type": "display_data"
    },
    {
     "data": {
      "application/vnd.jupyter.widget-view+json": {
       "model_id": "3fd8d555e2994a9ea25ae3c8d08f6b8d",
       "version_major": 2,
       "version_minor": 0
      },
      "text/plain": [
       "Downloading S5P_OFFL_L2__HCHO___20221211T114708_20221211T132837_26745_03_020401_20221217T173430.nc:   0%|     …"
      ]
     },
     "metadata": {},
     "output_type": "display_data"
    },
    {
     "data": {
      "application/vnd.jupyter.widget-view+json": {
       "model_id": "c1f7dfada6374efd8bf309cd36cb1e75",
       "version_major": 2,
       "version_minor": 0
      },
      "text/plain": [
       "MD5 checksumming:   0%|          | 0.00/765M [00:00<?, ?B/s]"
      ]
     },
     "metadata": {},
     "output_type": "display_data"
    },
    {
     "data": {
      "application/vnd.jupyter.widget-view+json": {
       "model_id": "439cd5a273a04d868307800244a063f0",
       "version_major": 2,
       "version_minor": 0
      },
      "text/plain": [
       "Downloading S5P_OFFL_L2__HCHO___20220814T104721_20220814T122851_25056_03_020401_20220817T183110.nc:   0%|     …"
      ]
     },
     "metadata": {},
     "output_type": "display_data"
    },
    {
     "data": {
      "application/vnd.jupyter.widget-view+json": {
       "model_id": "451bc296a7a44593a83a78084dd448c8",
       "version_major": 2,
       "version_minor": 0
      },
      "text/plain": [
       "MD5 checksumming:   0%|          | 0.00/760M [00:00<?, ?B/s]"
      ]
     },
     "metadata": {},
     "output_type": "display_data"
    },
    {
     "data": {
      "application/vnd.jupyter.widget-view+json": {
       "model_id": "e656ef25409d42b4b5ea4471ae3ed2f1",
       "version_major": 2,
       "version_minor": 0
      },
      "text/plain": [
       "Downloading S5P_OFFL_L2__HCHO___20221022T122745_20221022T140914_26036_03_020401_20221024T045611.nc:   0%|     …"
      ]
     },
     "metadata": {},
     "output_type": "display_data"
    },
    {
     "data": {
      "application/vnd.jupyter.widget-view+json": {
       "model_id": "b0e20324c5df46ccbf1d0de008a87397",
       "version_major": 2,
       "version_minor": 0
      },
      "text/plain": [
       "MD5 checksumming:   0%|          | 0.00/758M [00:00<?, ?B/s]"
      ]
     },
     "metadata": {},
     "output_type": "display_data"
    },
    {
     "data": {
      "application/vnd.jupyter.widget-view+json": {
       "model_id": "447d7cd0f947442e816fbc8681d7915a",
       "version_major": 2,
       "version_minor": 0
      },
      "text/plain": [
       "Downloading S5P_OFFL_L2__HCHO___20220813T110628_20220813T124758_25042_03_020401_20220816T094956.nc:   0%|     …"
      ]
     },
     "metadata": {},
     "output_type": "display_data"
    },
    {
     "data": {
      "application/vnd.jupyter.widget-view+json": {
       "model_id": "5678ed47286140138da0f97e2a19a62f",
       "version_major": 2,
       "version_minor": 0
      },
      "text/plain": [
       "MD5 checksumming:   0%|          | 0.00/757M [00:00<?, ?B/s]"
      ]
     },
     "metadata": {},
     "output_type": "display_data"
    },
    {
     "data": {
      "application/vnd.jupyter.widget-view+json": {
       "model_id": "8c59974c99f2417caeebcdf978d1e4d2",
       "version_major": 2,
       "version_minor": 0
      },
      "text/plain": [
       "Downloading S5P_OFFL_L2__HCHO___20220819T105317_20220819T123446_25127_03_020401_20220822T162702.nc:   0%|     …"
      ]
     },
     "metadata": {},
     "output_type": "display_data"
    },
    {
     "data": {
      "application/vnd.jupyter.widget-view+json": {
       "model_id": "2e200b1fdb1b4fd1af2d9df46c73c5cd",
       "version_major": 2,
       "version_minor": 0
      },
      "text/plain": [
       "MD5 checksumming:   0%|          | 0.00/760M [00:00<?, ?B/s]"
      ]
     },
     "metadata": {},
     "output_type": "display_data"
    },
    {
     "data": {
      "application/vnd.jupyter.widget-view+json": {
       "model_id": "d3613d77987344ab9f9ce26a6ab4bb45",
       "version_major": 2,
       "version_minor": 0
      },
      "text/plain": [
       "Downloading S5P_OFFL_L2__HCHO___20221105T112315_20221105T130444_26234_03_020401_20221107T034327.nc:   0%|     …"
      ]
     },
     "metadata": {},
     "output_type": "display_data"
    },
    {
     "data": {
      "application/vnd.jupyter.widget-view+json": {
       "model_id": "30cbf206f46b473c9fc901aa4a14c004",
       "version_major": 2,
       "version_minor": 0
      },
      "text/plain": [
       "MD5 checksumming:   0%|          | 0.00/764M [00:00<?, ?B/s]"
      ]
     },
     "metadata": {},
     "output_type": "display_data"
    },
    {
     "name": "stderr",
     "output_type": "stream",
     "text": [
      "There was an error downloading S5P_OFFL_L2__HCHO___20230220T111934_20230220T130104_27752_03_020401_20230222T034413\n",
      "Traceback (most recent call last):\n",
      "  File \"/exports/geos.ed.ac.uk/palmer_group/managed/s0677837/Peatlands/conda_env/congo_new/lib/python3.8/site-packages/urllib3/connectionpool.py\", line 699, in urlopen\n",
      "    httplib_response = self._make_request(\n",
      "  File \"/exports/geos.ed.ac.uk/palmer_group/managed/s0677837/Peatlands/conda_env/congo_new/lib/python3.8/site-packages/urllib3/connectionpool.py\", line 445, in _make_request\n",
      "    six.raise_from(e, None)\n",
      "  File \"<string>\", line 3, in raise_from\n",
      "  File \"/exports/geos.ed.ac.uk/palmer_group/managed/s0677837/Peatlands/conda_env/congo_new/lib/python3.8/site-packages/urllib3/connectionpool.py\", line 440, in _make_request\n",
      "    httplib_response = conn.getresponse()\n",
      "  File \"/exports/geos.ed.ac.uk/palmer_group/managed/s0677837/Peatlands/conda_env/congo_new/lib/python3.8/http/client.py\", line 1347, in getresponse\n",
      "    response.begin()\n",
      "  File \"/exports/geos.ed.ac.uk/palmer_group/managed/s0677837/Peatlands/conda_env/congo_new/lib/python3.8/http/client.py\", line 307, in begin\n",
      "    version, status, reason = self._read_status()\n",
      "  File \"/exports/geos.ed.ac.uk/palmer_group/managed/s0677837/Peatlands/conda_env/congo_new/lib/python3.8/http/client.py\", line 276, in _read_status\n",
      "    raise RemoteDisconnected(\"Remote end closed connection without\"\n",
      "http.client.RemoteDisconnected: Remote end closed connection without response\n",
      "\n",
      "During handling of the above exception, another exception occurred:\n",
      "\n",
      "Traceback (most recent call last):\n",
      "  File \"/exports/geos.ed.ac.uk/palmer_group/managed/s0677837/Peatlands/conda_env/congo_new/lib/python3.8/site-packages/requests/adapters.py\", line 439, in send\n",
      "    resp = conn.urlopen(\n",
      "  File \"/exports/geos.ed.ac.uk/palmer_group/managed/s0677837/Peatlands/conda_env/congo_new/lib/python3.8/site-packages/urllib3/connectionpool.py\", line 755, in urlopen\n",
      "    retries = retries.increment(\n",
      "  File \"/exports/geos.ed.ac.uk/palmer_group/managed/s0677837/Peatlands/conda_env/congo_new/lib/python3.8/site-packages/urllib3/util/retry.py\", line 531, in increment\n",
      "    raise six.reraise(type(error), error, _stacktrace)\n",
      "  File \"/exports/geos.ed.ac.uk/palmer_group/managed/s0677837/Peatlands/conda_env/congo_new/lib/python3.8/site-packages/urllib3/packages/six.py\", line 734, in reraise\n",
      "    raise value.with_traceback(tb)\n",
      "  File \"/exports/geos.ed.ac.uk/palmer_group/managed/s0677837/Peatlands/conda_env/congo_new/lib/python3.8/site-packages/urllib3/connectionpool.py\", line 699, in urlopen\n",
      "    httplib_response = self._make_request(\n",
      "  File \"/exports/geos.ed.ac.uk/palmer_group/managed/s0677837/Peatlands/conda_env/congo_new/lib/python3.8/site-packages/urllib3/connectionpool.py\", line 445, in _make_request\n",
      "    six.raise_from(e, None)\n",
      "  File \"<string>\", line 3, in raise_from\n",
      "  File \"/exports/geos.ed.ac.uk/palmer_group/managed/s0677837/Peatlands/conda_env/congo_new/lib/python3.8/site-packages/urllib3/connectionpool.py\", line 440, in _make_request\n",
      "    httplib_response = conn.getresponse()\n",
      "  File \"/exports/geos.ed.ac.uk/palmer_group/managed/s0677837/Peatlands/conda_env/congo_new/lib/python3.8/http/client.py\", line 1347, in getresponse\n",
      "    response.begin()\n",
      "  File \"/exports/geos.ed.ac.uk/palmer_group/managed/s0677837/Peatlands/conda_env/congo_new/lib/python3.8/http/client.py\", line 307, in begin\n",
      "    version, status, reason = self._read_status()\n",
      "  File \"/exports/geos.ed.ac.uk/palmer_group/managed/s0677837/Peatlands/conda_env/congo_new/lib/python3.8/http/client.py\", line 276, in _read_status\n",
      "    raise RemoteDisconnected(\"Remote end closed connection without\"\n",
      "urllib3.exceptions.ProtocolError: ('Connection aborted.', RemoteDisconnected('Remote end closed connection without response'))\n",
      "\n",
      "During handling of the above exception, another exception occurred:\n",
      "\n",
      "Traceback (most recent call last):\n",
      "  File \"/exports/geos.ed.ac.uk/palmer_group/managed/s0677837/Peatlands/conda_env/congo_new/lib/python3.8/site-packages/sentinelsat/download.py\", line 700, in _download_online_retry\n",
      "    return self.download(uuid, directory, stop_event=stop_event)\n",
      "  File \"/exports/geos.ed.ac.uk/palmer_group/managed/s0677837/Peatlands/conda_env/congo_new/lib/python3.8/site-packages/sentinelsat/download.py\", line 135, in download\n",
      "    product_info = self.api.get_product_odata(id)\n",
      "  File \"/exports/geos.ed.ac.uk/palmer_group/managed/s0677837/Peatlands/conda_env/congo_new/lib/python3.8/site-packages/sentinelsat/sentinel.py\", line 510, in get_product_odata\n",
      "    response = self.session.get(url)\n",
      "  File \"/exports/geos.ed.ac.uk/palmer_group/managed/s0677837/Peatlands/conda_env/congo_new/lib/python3.8/site-packages/requests/sessions.py\", line 555, in get\n",
      "    return self.request('GET', url, **kwargs)\n",
      "  File \"/exports/geos.ed.ac.uk/palmer_group/managed/s0677837/Peatlands/conda_env/congo_new/lib/python3.8/site-packages/requests/sessions.py\", line 542, in request\n",
      "    resp = self.send(prep, **send_kwargs)\n",
      "  File \"/exports/geos.ed.ac.uk/palmer_group/managed/s0677837/Peatlands/conda_env/congo_new/lib/python3.8/site-packages/requests/sessions.py\", line 655, in send\n",
      "    r = adapter.send(request, **kwargs)\n",
      "  File \"/exports/geos.ed.ac.uk/palmer_group/managed/s0677837/Peatlands/conda_env/congo_new/lib/python3.8/site-packages/requests/adapters.py\", line 498, in send\n",
      "    raise ConnectionError(err, request=request)\n",
      "requests.exceptions.ConnectionError: ('Connection aborted.', RemoteDisconnected('Remote end closed connection without response'))\n"
     ]
    },
    {
     "data": {
      "application/vnd.jupyter.widget-view+json": {
       "model_id": "c3d15af3b9d747e88cd43e75ca4a3590",
       "version_major": 2,
       "version_minor": 0
      },
      "text/plain": [
       "Downloading S5P_OFFL_L2__HCHO___20230220T111934_20230220T130104_27752_03_020401_20230222T034413.nc:   0%|     …"
      ]
     },
     "metadata": {},
     "output_type": "display_data"
    },
    {
     "data": {
      "application/vnd.jupyter.widget-view+json": {
       "model_id": "486a2d46a8d9410baa9c17d0b77890f2",
       "version_major": 2,
       "version_minor": 0
      },
      "text/plain": [
       "MD5 checksumming:   0%|          | 0.00/757M [00:00<?, ?B/s]"
      ]
     },
     "metadata": {},
     "output_type": "display_data"
    },
    {
     "data": {
      "application/vnd.jupyter.widget-view+json": {
       "model_id": "c40d00b679b74f5ba974ebbf3815e594",
       "version_major": 2,
       "version_minor": 0
      },
      "text/plain": [
       "Downloading S5P_OFFL_L2__HCHO___20221226T120619_20221226T134748_26958_03_020401_20221229T095452.nc:   0%|     …"
      ]
     },
     "metadata": {},
     "output_type": "display_data"
    },
    {
     "data": {
      "application/vnd.jupyter.widget-view+json": {
       "model_id": "10d2b89d01404152ab2b69328f2626fe",
       "version_major": 2,
       "version_minor": 0
      },
      "text/plain": [
       "MD5 checksumming:   0%|          | 0.00/760M [00:00<?, ?B/s]"
      ]
     },
     "metadata": {},
     "output_type": "display_data"
    },
    {
     "data": {
      "application/vnd.jupyter.widget-view+json": {
       "model_id": "e54d03a1852a463794444f778e5abf60",
       "version_major": 2,
       "version_minor": 0
      },
      "text/plain": [
       "Downloading S5P_OFFL_L2__HCHO___20230527T113022_20230527T131152_29114_03_020401_20230529T034520.nc:   0%|     …"
      ]
     },
     "metadata": {},
     "output_type": "display_data"
    },
    {
     "data": {
      "application/vnd.jupyter.widget-view+json": {
       "model_id": "7216fa45986b4d2cb0213999111949fa",
       "version_major": 2,
       "version_minor": 0
      },
      "text/plain": [
       "MD5 checksumming:   0%|          | 0.00/761M [00:00<?, ?B/s]"
      ]
     },
     "metadata": {},
     "output_type": "display_data"
    },
    {
     "data": {
      "application/vnd.jupyter.widget-view+json": {
       "model_id": "c85e40ffb9e5438b809165e4ef817d0c",
       "version_major": 2,
       "version_minor": 0
      },
      "text/plain": [
       "Downloading S5P_OFFL_L2__HCHO___20230523T124620_20230523T142750_29058_03_020401_20230525T051023.nc:   0%|     …"
      ]
     },
     "metadata": {},
     "output_type": "display_data"
    },
    {
     "data": {
      "application/vnd.jupyter.widget-view+json": {
       "model_id": "3547f1b99f63418b9a99e5dae56b8198",
       "version_major": 2,
       "version_minor": 0
      },
      "text/plain": [
       "MD5 checksumming:   0%|          | 0.00/758M [00:00<?, ?B/s]"
      ]
     },
     "metadata": {},
     "output_type": "display_data"
    },
    {
     "data": {
      "application/vnd.jupyter.widget-view+json": {
       "model_id": "57c987fa261c408486abeebb5bd1e555",
       "version_major": 2,
       "version_minor": 0
      },
      "text/plain": [
       "Downloading S5P_OFFL_L2__HCHO___20221006T104806_20221006T122936_25808_03_020401_20221008T025800.nc:   0%|     …"
      ]
     },
     "metadata": {},
     "output_type": "display_data"
    },
    {
     "data": {
      "application/vnd.jupyter.widget-view+json": {
       "model_id": "e1e3b04b533b4e90af4a6e5e90269cf2",
       "version_major": 2,
       "version_minor": 0
      },
      "text/plain": [
       "MD5 checksumming:   0%|          | 0.00/749M [00:00<?, ?B/s]"
      ]
     },
     "metadata": {},
     "output_type": "display_data"
    },
    {
     "data": {
      "application/vnd.jupyter.widget-view+json": {
       "model_id": "612acce30ef242838a66ca425d47dcec",
       "version_major": 2,
       "version_minor": 0
      },
      "text/plain": [
       "Downloading S5P_OFFL_L2__HCHO___20221026T111119_20221026T125248_26092_03_020401_20221028T032858.nc:   0%|     …"
      ]
     },
     "metadata": {},
     "output_type": "display_data"
    },
    {
     "data": {
      "application/vnd.jupyter.widget-view+json": {
       "model_id": "36f8cb692b324ade855ce9022c2f1f1b",
       "version_major": 2,
       "version_minor": 0
      },
      "text/plain": [
       "MD5 checksumming:   0%|          | 0.00/751M [00:00<?, ?B/s]"
      ]
     },
     "metadata": {},
     "output_type": "display_data"
    },
    {
     "data": {
      "application/vnd.jupyter.widget-view+json": {
       "model_id": "ce2b24f1d1fd4a569040b7116fee47f9",
       "version_major": 2,
       "version_minor": 0
      },
      "text/plain": [
       "Downloading S5P_OFFL_L2__HCHO___20221118T121932_20221118T140102_26419_03_020401_20221125T191858.nc:   0%|     …"
      ]
     },
     "metadata": {},
     "output_type": "display_data"
    },
    {
     "data": {
      "application/vnd.jupyter.widget-view+json": {
       "model_id": "b519b12d20fb465fabd9a8328a4f9b17",
       "version_major": 2,
       "version_minor": 0
      },
      "text/plain": [
       "MD5 checksumming:   0%|          | 0.00/759M [00:00<?, ?B/s]"
      ]
     },
     "metadata": {},
     "output_type": "display_data"
    },
    {
     "data": {
      "application/vnd.jupyter.widget-view+json": {
       "model_id": "6f1a3a8c4f6a46b88424a538c637b92b",
       "version_major": 2,
       "version_minor": 0
      },
      "text/plain": [
       "Downloading S5P_OFFL_L2__HCHO___20221119T101857_20221119T120027_26432_03_020401_20221126T141937.nc:   0%|     …"
      ]
     },
     "metadata": {},
     "output_type": "display_data"
    },
    {
     "data": {
      "application/vnd.jupyter.widget-view+json": {
       "model_id": "086808122e0841eaa4dbcfe9d7ba5d56",
       "version_major": 2,
       "version_minor": 0
      },
      "text/plain": [
       "MD5 checksumming:   0%|          | 0.00/760M [00:00<?, ?B/s]"
      ]
     },
     "metadata": {},
     "output_type": "display_data"
    },
    {
     "data": {
      "application/vnd.jupyter.widget-view+json": {
       "model_id": "7edf72c219064a2984007510420a60d7",
       "version_major": 2,
       "version_minor": 0
      },
      "text/plain": [
       "Downloading S5P_OFFL_L2__HCHO___20221017T104025_20221017T122154_25964_03_020401_20221019T025952.nc:   0%|     …"
      ]
     },
     "metadata": {},
     "output_type": "display_data"
    },
    {
     "data": {
      "application/vnd.jupyter.widget-view+json": {
       "model_id": "8643f7fc159443a88074dc26f811feca",
       "version_major": 2,
       "version_minor": 0
      },
      "text/plain": [
       "MD5 checksumming:   0%|          | 0.00/758M [00:00<?, ?B/s]"
      ]
     },
     "metadata": {},
     "output_type": "display_data"
    },
    {
     "data": {
      "application/vnd.jupyter.widget-view+json": {
       "model_id": "325031a3a89a49c9bfa9e537834c24ed",
       "version_major": 2,
       "version_minor": 0
      },
      "text/plain": [
       "Downloading S5P_OFFL_L2__HCHO___20221121T112218_20221121T130347_26461_03_020401_20221128T133127.nc:   0%|     …"
      ]
     },
     "metadata": {},
     "output_type": "display_data"
    },
    {
     "data": {
      "application/vnd.jupyter.widget-view+json": {
       "model_id": "90954c1afc24492b946921202a23ada6",
       "version_major": 2,
       "version_minor": 0
      },
      "text/plain": [
       "MD5 checksumming:   0%|          | 0.00/731M [00:00<?, ?B/s]"
      ]
     },
     "metadata": {},
     "output_type": "display_data"
    },
    {
     "data": {
      "application/vnd.jupyter.widget-view+json": {
       "model_id": "8c1a981c06b84226a34c16ba6ff25a80",
       "version_major": 2,
       "version_minor": 0
      },
      "text/plain": [
       "Downloading S5P_OFFL_L2__HCHO___20221110T112915_20221110T131045_26305_03_020401_20221112T040256.nc:   0%|     …"
      ]
     },
     "metadata": {},
     "output_type": "display_data"
    },
    {
     "data": {
      "application/vnd.jupyter.widget-view+json": {
       "model_id": "3b52305dffa2448b9a16d657621da8d6",
       "version_major": 2,
       "version_minor": 0
      },
      "text/plain": [
       "MD5 checksumming:   0%|          | 0.00/756M [00:00<?, ?B/s]"
      ]
     },
     "metadata": {},
     "output_type": "display_data"
    },
    {
     "data": {
      "application/vnd.jupyter.widget-view+json": {
       "model_id": "a2335e9ff2e44d4e981add407f8c2e86",
       "version_major": 2,
       "version_minor": 0
      },
      "text/plain": [
       "Downloading S5P_OFFL_L2__HCHO___20221023T102709_20221023T120838_26049_03_020401_20221025T025650.nc:   0%|     …"
      ]
     },
     "metadata": {},
     "output_type": "display_data"
    },
    {
     "data": {
      "application/vnd.jupyter.widget-view+json": {
       "model_id": "2f227de19fab407380e30a8fb0e152aa",
       "version_major": 2,
       "version_minor": 0
      },
      "text/plain": [
       "MD5 checksumming:   0%|          | 0.00/762M [00:00<?, ?B/s]"
      ]
     },
     "metadata": {},
     "output_type": "display_data"
    },
    {
     "data": {
      "application/vnd.jupyter.widget-view+json": {
       "model_id": "3d304605b3bb45dfbde006245f2f5cb4",
       "version_major": 2,
       "version_minor": 0
      },
      "text/plain": [
       "Downloading S5P_OFFL_L2__HCHO___20221009T113208_20221009T131338_25851_03_020401_20221011T040611.nc:   0%|     …"
      ]
     },
     "metadata": {},
     "output_type": "display_data"
    },
    {
     "data": {
      "application/vnd.jupyter.widget-view+json": {
       "model_id": "0014df26dd7f480eb11fd8d3a88133d8",
       "version_major": 2,
       "version_minor": 0
      },
      "text/plain": [
       "MD5 checksumming:   0%|          | 0.00/758M [00:00<?, ?B/s]"
      ]
     },
     "metadata": {},
     "output_type": "display_data"
    },
    {
     "data": {
      "application/vnd.jupyter.widget-view+json": {
       "model_id": "68c628704f5049cf83832e62c2f3650b",
       "version_major": 2,
       "version_minor": 0
      },
      "text/plain": [
       "Downloading S5P_OFFL_L2__HCHO___20230515T101341_20230515T115511_28943_03_020401_20230517T022950.nc:   0%|     …"
      ]
     },
     "metadata": {},
     "output_type": "display_data"
    },
    {
     "data": {
      "application/vnd.jupyter.widget-view+json": {
       "model_id": "c38b091e79cd4dabac7b1133fe3ad272",
       "version_major": 2,
       "version_minor": 0
      },
      "text/plain": [
       "MD5 checksumming:   0%|          | 0.00/759M [00:00<?, ?B/s]"
      ]
     },
     "metadata": {},
     "output_type": "display_data"
    },
    {
     "data": {
      "application/vnd.jupyter.widget-view+json": {
       "model_id": "1d3c0689e2724c5c940897226adc40d6",
       "version_major": 2,
       "version_minor": 0
      },
      "text/plain": [
       "Downloading S5P_OFFL_L2__HCHO___20230519T103916_20230519T122046_29000_03_020401_20230521T030713.nc:   0%|     …"
      ]
     },
     "metadata": {},
     "output_type": "display_data"
    },
    {
     "data": {
      "application/vnd.jupyter.widget-view+json": {
       "model_id": "701cc4dc8a7d4ec4ba2c136113db9f72",
       "version_major": 2,
       "version_minor": 0
      },
      "text/plain": [
       "MD5 checksumming:   0%|          | 0.00/758M [00:00<?, ?B/s]"
      ]
     },
     "metadata": {},
     "output_type": "display_data"
    },
    {
     "data": {
      "application/vnd.jupyter.widget-view+json": {
       "model_id": "cae69a847e054e1c9c4a8200349ea1e4",
       "version_major": 2,
       "version_minor": 0
      },
      "text/plain": [
       "MD5 checksumming:   0%|          | 0.00/762M [00:00<?, ?B/s]"
      ]
     },
     "metadata": {},
     "output_type": "display_data"
    },
    {
     "data": {
      "application/vnd.jupyter.widget-view+json": {
       "model_id": "edffd38a3f2b4f81acc6c6bb5a0f4f28",
       "version_major": 2,
       "version_minor": 0
      },
      "text/plain": [
       "Downloading S5P_OFFL_L2__HCHO___20221112T105104_20221112T123234_26333_03_020401_20221114T031940.nc:   0%|     …"
      ]
     },
     "metadata": {},
     "output_type": "display_data"
    },
    {
     "data": {
      "application/vnd.jupyter.widget-view+json": {
       "model_id": "384a1d384ffe4dc299a1269540ddde96",
       "version_major": 2,
       "version_minor": 0
      },
      "text/plain": [
       "Downloading S5P_OFFL_L2__HCHO___20220916T120634_20220916T134804_25525_03_020401_20220918T043326.nc:   0%|     …"
      ]
     },
     "metadata": {},
     "output_type": "display_data"
    },
    {
     "data": {
      "application/vnd.jupyter.widget-view+json": {
       "model_id": "ee9a695a533c467d9b40c4b9a7c1f791",
       "version_major": 2,
       "version_minor": 0
      },
      "text/plain": [
       "MD5 checksumming:   0%|          | 0.00/760M [00:00<?, ?B/s]"
      ]
     },
     "metadata": {},
     "output_type": "display_data"
    },
    {
     "data": {
      "application/vnd.jupyter.widget-view+json": {
       "model_id": "2b48536b7eed4438ae1fa41f54688193",
       "version_major": 2,
       "version_minor": 0
      },
      "text/plain": [
       "Downloading S5P_OFFL_L2__HCHO___20220918T112817_20220918T130947_25553_03_020401_20220920T034644.nc:   0%|     …"
      ]
     },
     "metadata": {},
     "output_type": "display_data"
    },
    {
     "data": {
      "application/vnd.jupyter.widget-view+json": {
       "model_id": "a834a231307346a0bd292101442be611",
       "version_major": 2,
       "version_minor": 0
      },
      "text/plain": [
       "MD5 checksumming:   0%|          | 0.00/759M [00:00<?, ?B/s]"
      ]
     },
     "metadata": {},
     "output_type": "display_data"
    },
    {
     "data": {
      "application/vnd.jupyter.widget-view+json": {
       "model_id": "7e175854891c4c1288516a76d1e7942c",
       "version_major": 2,
       "version_minor": 0
      },
      "text/plain": [
       "Downloading S5P_OFFL_L2__HCHO___20230212T102801_20230212T120932_27638_03_020401_20230214T025152.nc:   0%|     …"
      ]
     },
     "metadata": {},
     "output_type": "display_data"
    },
    {
     "data": {
      "application/vnd.jupyter.widget-view+json": {
       "model_id": "8a10692e347f414bb7fa01bb6e6cf0d4",
       "version_major": 2,
       "version_minor": 0
      },
      "text/plain": [
       "MD5 checksumming:   0%|          | 0.00/760M [00:00<?, ?B/s]"
      ]
     },
     "metadata": {},
     "output_type": "display_data"
    },
    {
     "data": {
      "application/vnd.jupyter.widget-view+json": {
       "model_id": "bfc5535e71434a33b13426a4f6d0dec3",
       "version_major": 2,
       "version_minor": 0
      },
      "text/plain": [
       "Downloading S5P_OFFL_L2__HCHO___20221103T120127_20221103T134257_26206_03_020401_20221105T042334.nc:   0%|     …"
      ]
     },
     "metadata": {},
     "output_type": "display_data"
    },
    {
     "data": {
      "application/vnd.jupyter.widget-view+json": {
       "model_id": "d3585d418aaf4003afb6d6eb68029b1c",
       "version_major": 2,
       "version_minor": 0
      },
      "text/plain": [
       "MD5 checksumming:   0%|          | 0.00/766M [00:00<?, ?B/s]"
      ]
     },
     "metadata": {},
     "output_type": "display_data"
    },
    {
     "data": {
      "application/vnd.jupyter.widget-view+json": {
       "model_id": "90adebbd125843e582274fbf412f10c2",
       "version_major": 2,
       "version_minor": 0
      },
      "text/plain": [
       "Downloading S5P_OFFL_L2__HCHO___20221125T114730_20221125T132859_26518_03_020401_20221202T122111.nc:   0%|     …"
      ]
     },
     "metadata": {},
     "output_type": "display_data"
    },
    {
     "data": {
      "application/vnd.jupyter.widget-view+json": {
       "model_id": "9046a33c7b1b4002a520f63c09c5c93e",
       "version_major": 2,
       "version_minor": 0
      },
      "text/plain": [
       "MD5 checksumming:   0%|          | 0.00/764M [00:00<?, ?B/s]"
      ]
     },
     "metadata": {},
     "output_type": "display_data"
    },
    {
     "data": {
      "application/vnd.jupyter.widget-view+json": {
       "model_id": "0bd2dde4b95d448089c0aa58a4a900bc",
       "version_major": 2,
       "version_minor": 0
      },
      "text/plain": [
       "Downloading S5P_OFFL_L2__HCHO___20220826T102055_20220826T120225_25226_03_020401_20220829T053851.nc:   0%|     …"
      ]
     },
     "metadata": {},
     "output_type": "display_data"
    },
    {
     "data": {
      "application/vnd.jupyter.widget-view+json": {
       "model_id": "4d0ab9ca664c46a5a355913fa3233fa2",
       "version_major": 2,
       "version_minor": 0
      },
      "text/plain": [
       "MD5 checksumming:   0%|          | 0.00/759M [00:00<?, ?B/s]"
      ]
     },
     "metadata": {},
     "output_type": "display_data"
    },
    {
     "data": {
      "application/vnd.jupyter.widget-view+json": {
       "model_id": "a25b57aa80b248fc9c41691d97dc6af5",
       "version_major": 2,
       "version_minor": 0
      },
      "text/plain": [
       "Downloading S5P_OFFL_L2__HCHO___20221124T102504_20221124T120634_26503_03_020401_20221201T104014.nc:   0%|     …"
      ]
     },
     "metadata": {},
     "output_type": "display_data"
    },
    {
     "data": {
      "application/vnd.jupyter.widget-view+json": {
       "model_id": "66325d4550334263a6a0b6dcf21449d7",
       "version_major": 2,
       "version_minor": 0
      },
      "text/plain": [
       "MD5 checksumming:   0%|          | 0.00/759M [00:00<?, ?B/s]"
      ]
     },
     "metadata": {},
     "output_type": "display_data"
    },
    {
     "data": {
      "application/vnd.jupyter.widget-view+json": {
       "model_id": "080cf710e0f24bdcbc267f51fba5986b",
       "version_major": 2,
       "version_minor": 0
      },
      "text/plain": [
       "Downloading S5P_OFFL_L2__HCHO___20230531T115551_20230531T133721_29171_03_020401_20230602T042917.nc:   0%|     …"
      ]
     },
     "metadata": {},
     "output_type": "display_data"
    },
    {
     "data": {
      "application/vnd.jupyter.widget-view+json": {
       "model_id": "72ea92409ef44920a58229fdcbdea1f9",
       "version_major": 2,
       "version_minor": 0
      },
      "text/plain": [
       "MD5 checksumming:   0%|          | 0.00/736M [00:00<?, ?B/s]"
      ]
     },
     "metadata": {},
     "output_type": "display_data"
    },
    {
     "data": {
      "application/vnd.jupyter.widget-view+json": {
       "model_id": "251525af4c5442adb3c178d8749001d8",
       "version_major": 2,
       "version_minor": 0
      },
      "text/plain": [
       "MD5 checksumming:   0%|          | 0.00/758M [00:00<?, ?B/s]"
      ]
     },
     "metadata": {},
     "output_type": "display_data"
    },
    {
     "data": {
      "application/vnd.jupyter.widget-view+json": {
       "model_id": "1fd30d3b619845ee975b9affaad65770",
       "version_major": 2,
       "version_minor": 0
      },
      "text/plain": [
       "Downloading S5P_OFFL_L2__HCHO___20230216T105347_20230216T123518_27695_03_020401_20230218T031622.nc:   0%|     …"
      ]
     },
     "metadata": {},
     "output_type": "display_data"
    },
    {
     "data": {
      "application/vnd.jupyter.widget-view+json": {
       "model_id": "37361e9e5f804543bbf29145bd54a300",
       "version_major": 2,
       "version_minor": 0
      },
      "text/plain": [
       "Downloading S5P_OFFL_L2__HCHO___20221130T115340_20221130T133510_26589_03_020401_20221207T135126.nc:   0%|     …"
      ]
     },
     "metadata": {},
     "output_type": "display_data"
    },
    {
     "data": {
      "application/vnd.jupyter.widget-view+json": {
       "model_id": "dbb0ed6d1b5c4974b2b4f4a501fc14e8",
       "version_major": 2,
       "version_minor": 0
      },
      "text/plain": [
       "MD5 checksumming:   0%|          | 0.00/732M [00:00<?, ?B/s]"
      ]
     },
     "metadata": {},
     "output_type": "display_data"
    },
    {
     "data": {
      "application/vnd.jupyter.widget-view+json": {
       "model_id": "85f427d54f4749e0bba7ac7469a2cfec",
       "version_major": 2,
       "version_minor": 0
      },
      "text/plain": [
       "Downloading S5P_OFFL_L2__HCHO___20221101T105810_20221101T123939_26177_03_020401_20221103T032118.nc:   0%|     …"
      ]
     },
     "metadata": {},
     "output_type": "display_data"
    },
    {
     "data": {
      "application/vnd.jupyter.widget-view+json": {
       "model_id": "06298f377fe0455e971f16678988d07f",
       "version_major": 2,
       "version_minor": 0
      },
      "text/plain": [
       "MD5 checksumming:   0%|          | 0.00/757M [00:00<?, ?B/s]"
      ]
     },
     "metadata": {},
     "output_type": "display_data"
    },
    {
     "data": {
      "application/vnd.jupyter.widget-view+json": {
       "model_id": "02d3d2a7d2944954964532e8db177e2f",
       "version_major": 2,
       "version_minor": 0
      },
      "text/plain": [
       "Downloading S5P_OFFL_L2__HCHO___20230405T105949_20230405T124120_28376_03_020401_20230407T031812.nc:   0%|     …"
      ]
     },
     "metadata": {},
     "output_type": "display_data"
    },
    {
     "data": {
      "application/vnd.jupyter.widget-view+json": {
       "model_id": "d31418d7da9947ea9e19254c63b66049",
       "version_major": 2,
       "version_minor": 0
      },
      "text/plain": [
       "MD5 checksumming:   0%|          | 0.00/756M [00:00<?, ?B/s]"
      ]
     },
     "metadata": {},
     "output_type": "display_data"
    },
    {
     "data": {
      "application/vnd.jupyter.widget-view+json": {
       "model_id": "fe1e9745cb664c549e75bc75ea0737dd",
       "version_major": 2,
       "version_minor": 0
      },
      "text/plain": [
       "Downloading S5P_OFFL_L2__HCHO___20221230T123148_20221230T141318_27015_03_020401_20230101T194932.nc:   0%|     …"
      ]
     },
     "metadata": {},
     "output_type": "display_data"
    },
    {
     "data": {
      "application/vnd.jupyter.widget-view+json": {
       "model_id": "f98af84e65e14546aa8cfe533640cde0",
       "version_major": 2,
       "version_minor": 0
      },
      "text/plain": [
       "MD5 checksumming:   0%|          | 0.00/762M [00:00<?, ?B/s]"
      ]
     },
     "metadata": {},
     "output_type": "display_data"
    },
    {
     "data": {
      "application/vnd.jupyter.widget-view+json": {
       "model_id": "ccc6a3fc10864d4fa6cfbbbcbe44f918",
       "version_major": 2,
       "version_minor": 0
      },
      "text/plain": [
       "Downloading S5P_OFFL_L2__HCHO___20230403T113735_20230403T131906_28348_03_020401_20230405T035737.nc:   0%|     …"
      ]
     },
     "metadata": {},
     "output_type": "display_data"
    },
    {
     "data": {
      "application/vnd.jupyter.widget-view+json": {
       "model_id": "91cb51f8c65244b5ad6291b6b0fd43ac",
       "version_major": 2,
       "version_minor": 0
      },
      "text/plain": [
       "MD5 checksumming:   0%|          | 0.00/760M [00:00<?, ?B/s]"
      ]
     },
     "metadata": {},
     "output_type": "display_data"
    },
    {
     "data": {
      "application/vnd.jupyter.widget-view+json": {
       "model_id": "10c6f8b8f14e436c8d43246f327c8692",
       "version_major": 2,
       "version_minor": 0
      },
      "text/plain": [
       "Downloading S5P_OFFL_L2__HCHO___20230110T122558_20230110T140728_27171_03_020401_20230112T043845.nc:   0%|     …"
      ]
     },
     "metadata": {},
     "output_type": "display_data"
    },
    {
     "data": {
      "application/vnd.jupyter.widget-view+json": {
       "model_id": "dc0895ec95ea4bafa27da8b2aeb3870b",
       "version_major": 2,
       "version_minor": 0
      },
      "text/plain": [
       "MD5 checksumming:   0%|          | 0.00/759M [00:00<?, ?B/s]"
      ]
     },
     "metadata": {},
     "output_type": "display_data"
    },
    {
     "data": {
      "application/vnd.jupyter.widget-view+json": {
       "model_id": "54c3b28db2154d5dae0cc4017a2bd0a8",
       "version_major": 2,
       "version_minor": 0
      },
      "text/plain": [
       "Downloading S5P_OFFL_L2__HCHO___20230406T122227_20230406T140357_28391_03_020401_20230408T043531.nc:   0%|     …"
      ]
     },
     "metadata": {},
     "output_type": "display_data"
    },
    {
     "data": {
      "application/vnd.jupyter.widget-view+json": {
       "model_id": "a9863381534146298e335faab6909913",
       "version_major": 2,
       "version_minor": 0
      },
      "text/plain": [
       "MD5 checksumming:   0%|          | 0.00/755M [00:00<?, ?B/s]"
      ]
     },
     "metadata": {},
     "output_type": "display_data"
    },
    {
     "data": {
      "application/vnd.jupyter.widget-view+json": {
       "model_id": "16def65941954a148a496b9b53db18ad",
       "version_major": 2,
       "version_minor": 0
      },
      "text/plain": [
       "Downloading S5P_OFFL_L2__HCHO___20230326T104536_20230326T122707_28234_03_020401_20230328T030424.nc:   0%|     …"
      ]
     },
     "metadata": {},
     "output_type": "display_data"
    },
    {
     "data": {
      "application/vnd.jupyter.widget-view+json": {
       "model_id": "f3035975b5134eb0bed71a2c75a5e0b7",
       "version_major": 2,
       "version_minor": 0
      },
      "text/plain": [
       "MD5 checksumming:   0%|          | 0.00/733M [00:00<?, ?B/s]"
      ]
     },
     "metadata": {},
     "output_type": "display_data"
    },
    {
     "data": {
      "application/vnd.jupyter.widget-view+json": {
       "model_id": "0ac575cda9ac43e0b795376c8705783c",
       "version_major": 2,
       "version_minor": 0
      },
      "text/plain": [
       "Downloading S5P_OFFL_L2__HCHO___20220928T113949_20220928T132118_25695_03_020401_20220930T040125.nc:   0%|     …"
      ]
     },
     "metadata": {},
     "output_type": "display_data"
    },
    {
     "data": {
      "application/vnd.jupyter.widget-view+json": {
       "model_id": "f18b199caac14fd8b46fa5e460d2fcbf",
       "version_major": 2,
       "version_minor": 0
      },
      "text/plain": [
       "MD5 checksumming:   0%|          | 0.00/755M [00:00<?, ?B/s]"
      ]
     },
     "metadata": {},
     "output_type": "display_data"
    },
    {
     "data": {
      "application/vnd.jupyter.widget-view+json": {
       "model_id": "65bc31c600d640df8ef2a11efaa859da",
       "version_major": 2,
       "version_minor": 0
      },
      "text/plain": [
       "Downloading S5P_OFFL_L2__HCHO___20230530T121452_20230530T135622_29157_03_020401_20230601T045107.nc:   0%|     …"
      ]
     },
     "metadata": {},
     "output_type": "display_data"
    },
    {
     "data": {
      "application/vnd.jupyter.widget-view+json": {
       "model_id": "0113b3321d364752a4f7f01e0313ece7",
       "version_major": 2,
       "version_minor": 0
      },
      "text/plain": [
       "MD5 checksumming:   0%|          | 0.00/757M [00:00<?, ?B/s]"
      ]
     },
     "metadata": {},
     "output_type": "display_data"
    },
    {
     "data": {
      "application/vnd.jupyter.widget-view+json": {
       "model_id": "e1d4884e133b4df6a35446ab4f1d78b3",
       "version_major": 2,
       "version_minor": 0
      },
      "text/plain": [
       "Downloading S5P_OFFL_L2__HCHO___20221027T123342_20221027T141511_26107_03_020401_20221029T045920.nc:   0%|     …"
      ]
     },
     "metadata": {},
     "output_type": "display_data"
    },
    {
     "data": {
      "application/vnd.jupyter.widget-view+json": {
       "model_id": "80fe0d2119bd40d597c5b85881c391e2",
       "version_major": 2,
       "version_minor": 0
      },
      "text/plain": [
       "MD5 checksumming:   0%|          | 0.00/762M [00:00<?, ?B/s]"
      ]
     },
     "metadata": {},
     "output_type": "display_data"
    },
    {
     "data": {
      "application/vnd.jupyter.widget-view+json": {
       "model_id": "ab1779c5aa4c49dc9fdc281fef4c2a04",
       "version_major": 2,
       "version_minor": 0
      },
      "text/plain": [
       "Downloading S5P_OFFL_L2__HCHO___20230418T115846_20230418T134016_28561_03_020401_20230420T021640.nc:   0%|     …"
      ]
     },
     "metadata": {},
     "output_type": "display_data"
    },
    {
     "data": {
      "application/vnd.jupyter.widget-view+json": {
       "model_id": "00ddb03c5f8840c7ad1d8fb0ba455b20",
       "version_major": 2,
       "version_minor": 0
      },
      "text/plain": [
       "MD5 checksumming:   0%|          | 0.00/764M [00:00<?, ?B/s]"
      ]
     },
     "metadata": {},
     "output_type": "display_data"
    },
    {
     "data": {
      "application/vnd.jupyter.widget-view+json": {
       "model_id": "d61780dcb8a24b91abd63e987e93c81e",
       "version_major": 2,
       "version_minor": 0
      },
      "text/plain": [
       "Downloading S5P_OFFL_L2__HCHO___20230107T114124_20230107T132254_27128_03_020401_20230109T040822.nc:   0%|     …"
      ]
     },
     "metadata": {},
     "output_type": "display_data"
    },
    {
     "data": {
      "application/vnd.jupyter.widget-view+json": {
       "model_id": "a75f243e50c742199429b069eae7b4c2",
       "version_major": 2,
       "version_minor": 0
      },
      "text/plain": [
       "MD5 checksumming:   0%|          | 0.00/758M [00:00<?, ?B/s]"
      ]
     },
     "metadata": {},
     "output_type": "display_data"
    },
    {
     "data": {
      "application/vnd.jupyter.widget-view+json": {
       "model_id": "107759b299734365ab41bd180c41dcf4",
       "version_major": 2,
       "version_minor": 0
      },
      "text/plain": [
       "Downloading S5P_OFFL_L2__HCHO___20230106T101853_20230106T120023_27113_03_020401_20230108T024225.nc:   0%|     …"
      ]
     },
     "metadata": {},
     "output_type": "display_data"
    },
    {
     "data": {
      "application/vnd.jupyter.widget-view+json": {
       "model_id": "b1ce242216f545af95d6c01c5675895d",
       "version_major": 2,
       "version_minor": 0
      },
      "text/plain": [
       "MD5 checksumming:   0%|          | 0.00/755M [00:00<?, ?B/s]"
      ]
     },
     "metadata": {},
     "output_type": "display_data"
    },
    {
     "data": {
      "application/vnd.jupyter.widget-view+json": {
       "model_id": "4de3de62316145c4a7e7bbd8c5105880",
       "version_major": 2,
       "version_minor": 0
      },
      "text/plain": [
       "Downloading S5P_OFFL_L2__HCHO___20221128T123147_20221128T141317_26561_03_020401_20221205T110338.nc:   0%|     …"
      ]
     },
     "metadata": {},
     "output_type": "display_data"
    },
    {
     "data": {
      "application/vnd.jupyter.widget-view+json": {
       "model_id": "a94755fdab0946e0869a33373e07aede",
       "version_major": 2,
       "version_minor": 0
      },
      "text/plain": [
       "MD5 checksumming:   0%|          | 0.00/755M [00:00<?, ?B/s]"
      ]
     },
     "metadata": {},
     "output_type": "display_data"
    },
    {
     "data": {
      "application/vnd.jupyter.widget-view+json": {
       "model_id": "b80e930eeb6d460b9e2049c45f909582",
       "version_major": 2,
       "version_minor": 0
      },
      "text/plain": [
       "Downloading S5P_OFFL_L2__HCHO___20230525T102651_20230525T120821_29085_03_020401_20230527T024519.nc:   0%|     …"
      ]
     },
     "metadata": {},
     "output_type": "display_data"
    },
    {
     "data": {
      "application/vnd.jupyter.widget-view+json": {
       "model_id": "fe24bc9f372d415b9ce73f6c90b2fca7",
       "version_major": 2,
       "version_minor": 0
      },
      "text/plain": [
       "MD5 checksumming:   0%|          | 0.00/754M [00:00<?, ?B/s]"
      ]
     },
     "metadata": {},
     "output_type": "display_data"
    },
    {
     "data": {
      "application/vnd.jupyter.widget-view+json": {
       "model_id": "e39025bb27ea43de89062cb1bbb67df8",
       "version_major": 2,
       "version_minor": 0
      },
      "text/plain": [
       "Downloading S5P_OFFL_L2__HCHO___20220901T114908_20220901T133038_25312_03_020401_20220903T090522.nc:   0%|     …"
      ]
     },
     "metadata": {},
     "output_type": "display_data"
    },
    {
     "data": {
      "application/vnd.jupyter.widget-view+json": {
       "model_id": "bf1786d62cdf4a6dab63a1574b0785c5",
       "version_major": 2,
       "version_minor": 0
      },
      "text/plain": [
       "MD5 checksumming:   0%|          | 0.00/757M [00:00<?, ?B/s]"
      ]
     },
     "metadata": {},
     "output_type": "display_data"
    },
    {
     "data": {
      "application/vnd.jupyter.widget-view+json": {
       "model_id": "b25e13842cc94030aee40d10b9746ebe",
       "version_major": 2,
       "version_minor": 0
      },
      "text/plain": [
       "Downloading S5P_OFFL_L2__HCHO___20230422T104310_20230422T122441_28617_03_020401_20230424T025651.nc:   0%|     …"
      ]
     },
     "metadata": {},
     "output_type": "display_data"
    },
    {
     "data": {
      "application/vnd.jupyter.widget-view+json": {
       "model_id": "f4896762795d4ebbb43673095adbf943",
       "version_major": 2,
       "version_minor": 0
      },
      "text/plain": [
       "MD5 checksumming:   0%|          | 0.00/759M [00:00<?, ?B/s]"
      ]
     },
     "metadata": {},
     "output_type": "display_data"
    },
    {
     "data": {
      "application/vnd.jupyter.widget-view+json": {
       "model_id": "5a62f5ec566f490e81635bf3e97fdee0",
       "version_major": 2,
       "version_minor": 0
      },
      "text/plain": [
       "Downloading S5P_OFFL_L2__HCHO___20220929T112040_20220929T130209_25709_03_020401_20221001T034538.nc:   0%|     …"
      ]
     },
     "metadata": {},
     "output_type": "display_data"
    },
    {
     "data": {
      "application/vnd.jupyter.widget-view+json": {
       "model_id": "c75dbe846d6a49b58e2d478c309d1e6f",
       "version_major": 2,
       "version_minor": 0
      },
      "text/plain": [
       "MD5 checksumming:   0%|          | 0.00/760M [00:00<?, ?B/s]"
      ]
     },
     "metadata": {},
     "output_type": "display_data"
    },
    {
     "data": {
      "application/vnd.jupyter.widget-view+json": {
       "model_id": "ce47f4c10ce5424aa3b0b564dc215667",
       "version_major": 2,
       "version_minor": 0
      },
      "text/plain": [
       "Downloading S5P_OFFL_L2__HCHO___20220807T111937_20220807T130106_24957_03_020401_20220809T054703.nc:   0%|     …"
      ]
     },
     "metadata": {},
     "output_type": "display_data"
    },
    {
     "data": {
      "application/vnd.jupyter.widget-view+json": {
       "model_id": "b4714816db70422499f58f9975bd7d94",
       "version_major": 2,
       "version_minor": 0
      },
      "text/plain": [
       "MD5 checksumming:   0%|          | 0.00/763M [00:00<?, ?B/s]"
      ]
     },
     "metadata": {},
     "output_type": "display_data"
    },
    {
     "data": {
      "application/vnd.jupyter.widget-view+json": {
       "model_id": "49f05d22899f4e5ca7f123fd496be22e",
       "version_major": 2,
       "version_minor": 0
      },
      "text/plain": [
       "Downloading S5P_OFFL_L2__HCHO___20220817T113130_20220817T131300_25099_03_020401_20220821T024746.nc:   0%|     …"
      ]
     },
     "metadata": {},
     "output_type": "display_data"
    },
    {
     "data": {
      "application/vnd.jupyter.widget-view+json": {
       "model_id": "21e71038cacf41b59deaa3be86255a02",
       "version_major": 2,
       "version_minor": 0
      },
      "text/plain": [
       "MD5 checksumming:   0%|          | 0.00/764M [00:00<?, ?B/s]"
      ]
     },
     "metadata": {},
     "output_type": "display_data"
    },
    {
     "data": {
      "application/vnd.jupyter.widget-view+json": {
       "model_id": "e2b80cfbc9244b0a838cac4826611246",
       "version_major": 2,
       "version_minor": 0
      },
      "text/plain": [
       "Downloading S5P_OFFL_L2__HCHO___20220926T121806_20220926T135936_25667_03_020401_20220928T043914.nc:   0%|     …"
      ]
     },
     "metadata": {},
     "output_type": "display_data"
    },
    {
     "data": {
      "application/vnd.jupyter.widget-view+json": {
       "model_id": "9a0bed40aff34ac98bc1a31d4a6722e1",
       "version_major": 2,
       "version_minor": 0
      },
      "text/plain": [
       "MD5 checksumming:   0%|          | 0.00/755M [00:00<?, ?B/s]"
      ]
     },
     "metadata": {},
     "output_type": "display_data"
    },
    {
     "data": {
      "application/vnd.jupyter.widget-view+json": {
       "model_id": "0f99ed34db224a3389aac9716f534b3a",
       "version_major": 2,
       "version_minor": 0
      },
      "text/plain": [
       "Downloading S5P_OFFL_L2__HCHO___20230215T111243_20230215T125414_27681_03_020401_20230217T034009.nc:   0%|     …"
      ]
     },
     "metadata": {},
     "output_type": "display_data"
    },
    {
     "data": {
      "application/vnd.jupyter.widget-view+json": {
       "model_id": "d5266529885c4517af6a7dc645bf2bc8",
       "version_major": 2,
       "version_minor": 0
      },
      "text/plain": [
       "MD5 checksumming:   0%|          | 0.00/765M [00:00<?, ?B/s]"
      ]
     },
     "metadata": {},
     "output_type": "display_data"
    },
    {
     "data": {
      "application/vnd.jupyter.widget-view+json": {
       "model_id": "b09c177ffe2e4a28a99671bbef434b23",
       "version_major": 2,
       "version_minor": 0
      },
      "text/plain": [
       "Downloading S5P_OFFL_L2__HCHO___20230322T120106_20230322T134236_28178_03_020401_20230324T041825.nc:   0%|     …"
      ]
     },
     "metadata": {},
     "output_type": "display_data"
    },
    {
     "data": {
      "application/vnd.jupyter.widget-view+json": {
       "model_id": "c6de319ec27e409da0b7cbf3255ab8fa",
       "version_major": 2,
       "version_minor": 0
      },
      "text/plain": [
       "MD5 checksumming:   0%|          | 0.00/763M [00:00<?, ?B/s]"
      ]
     },
     "metadata": {},
     "output_type": "display_data"
    },
    {
     "data": {
      "application/vnd.jupyter.widget-view+json": {
       "model_id": "c3dd398ad6d0414790e409dd151f24ef",
       "version_major": 2,
       "version_minor": 0
      },
      "text/plain": [
       "Downloading S5P_OFFL_L2__HCHO___20221209T122512_20221209T140642_26717_03_020401_20221215T122814.nc:   0%|     …"
      ]
     },
     "metadata": {},
     "output_type": "display_data"
    },
    {
     "data": {
      "application/vnd.jupyter.widget-view+json": {
       "model_id": "0e51f52cd32c42aca04fe93b33bb4c04",
       "version_major": 2,
       "version_minor": 0
      },
      "text/plain": [
       "MD5 checksumming:   0%|          | 0.00/759M [00:00<?, ?B/s]"
      ]
     },
     "metadata": {},
     "output_type": "display_data"
    },
    {
     "data": {
      "application/vnd.jupyter.widget-view+json": {
       "model_id": "c694bd4b6cc64d16a240efb53945a41c",
       "version_major": 2,
       "version_minor": 0
      },
      "text/plain": [
       "Downloading S5P_OFFL_L2__HCHO___20221129T103114_20221129T121244_26574_03_020401_20221206T113602.nc:   0%|     …"
      ]
     },
     "metadata": {},
     "output_type": "display_data"
    },
    {
     "data": {
      "application/vnd.jupyter.widget-view+json": {
       "model_id": "bf217b0b14cb459cae20d101e91d7117",
       "version_major": 2,
       "version_minor": 0
      },
      "text/plain": [
       "MD5 checksumming:   0%|          | 0.00/762M [00:00<?, ?B/s]"
      ]
     },
     "metadata": {},
     "output_type": "display_data"
    },
    {
     "data": {
      "application/vnd.jupyter.widget-view+json": {
       "model_id": "f56ebdbba9d94465a2d6dd983524ea5f",
       "version_major": 2,
       "version_minor": 0
      },
      "text/plain": [
       "Downloading S5P_OFFL_L2__HCHO___20230529T105222_20230529T123352_29142_03_020401_20230531T031911.nc:   0%|     …"
      ]
     },
     "metadata": {},
     "output_type": "display_data"
    },
    {
     "data": {
      "application/vnd.jupyter.widget-view+json": {
       "model_id": "adc9a1f2e0ac43e89e1f43bf8ec51ae4",
       "version_major": 2,
       "version_minor": 0
      },
      "text/plain": [
       "MD5 checksumming:   0%|          | 0.00/762M [00:00<?, ?B/s]"
      ]
     },
     "metadata": {},
     "output_type": "display_data"
    },
    {
     "data": {
      "application/vnd.jupyter.widget-view+json": {
       "model_id": "94c6c35bb2ba40ac95a9786a0a66c403",
       "version_major": 2,
       "version_minor": 0
      },
      "text/plain": [
       "Downloading S5P_OFFL_L2__HCHO___20220825T122132_20220825T140302_25213_03_020401_20220828T134851.nc:   0%|     …"
      ]
     },
     "metadata": {},
     "output_type": "display_data"
    },
    {
     "data": {
      "application/vnd.jupyter.widget-view+json": {
       "model_id": "7dc8a64df711492e89b859473e2b48f4",
       "version_major": 2,
       "version_minor": 0
      },
      "text/plain": [
       "MD5 checksumming:   0%|          | 0.00/753M [00:00<?, ?B/s]"
      ]
     },
     "metadata": {},
     "output_type": "display_data"
    },
    {
     "data": {
      "application/vnd.jupyter.widget-view+json": {
       "model_id": "b8df916da178492c9045159f969a3f6c",
       "version_major": 2,
       "version_minor": 0
      },
      "text/plain": [
       "MD5 checksumming:   0%|          | 0.00/760M [00:00<?, ?B/s]"
      ]
     },
     "metadata": {},
     "output_type": "display_data"
    },
    {
     "data": {
      "application/vnd.jupyter.widget-view+json": {
       "model_id": "1dc09606df5d457a9946afcb17f694a1",
       "version_major": 2,
       "version_minor": 0
      },
      "text/plain": [
       "Downloading S5P_OFFL_L2__HCHO___20230507T124523_20230507T142653_28831_03_020401_20230509T045507.nc:   0%|     …"
      ]
     },
     "metadata": {},
     "output_type": "display_data"
    },
    {
     "data": {
      "application/vnd.jupyter.widget-view+json": {
       "model_id": "7d5da113a68e4e51aa2f7971ce86624c",
       "version_major": 2,
       "version_minor": 0
      },
      "text/plain": [
       "Downloading S5P_OFFL_L2__HCHO___20221221T101822_20221221T115952_26886_03_020401_20221225T184407.nc:   0%|     …"
      ]
     },
     "metadata": {},
     "output_type": "display_data"
    },
    {
     "data": {
      "application/vnd.jupyter.widget-view+json": {
       "model_id": "d5ce266f04ca4b3cb2f54939278e6f8b",
       "version_major": 2,
       "version_minor": 0
      },
      "text/plain": [
       "MD5 checksumming:   0%|          | 0.00/756M [00:00<?, ?B/s]"
      ]
     },
     "metadata": {},
     "output_type": "display_data"
    },
    {
     "data": {
      "application/vnd.jupyter.widget-view+json": {
       "model_id": "77f7dcb63b5b42e2a1c9b871c8db46b9",
       "version_major": 2,
       "version_minor": 0
      },
      "text/plain": [
       "Downloading S5P_OFFL_L2__HCHO___20230227T104833_20230227T123004_27851_03_020401_20230301T030247.nc:   0%|     …"
      ]
     },
     "metadata": {},
     "output_type": "display_data"
    },
    {
     "data": {
      "application/vnd.jupyter.widget-view+json": {
       "model_id": "539d420aa955468f9a234e01ef51aa28",
       "version_major": 2,
       "version_minor": 0
      },
      "text/plain": [
       "MD5 checksumming:   0%|          | 0.00/737M [00:00<?, ?B/s]"
      ]
     },
     "metadata": {},
     "output_type": "display_data"
    },
    {
     "data": {
      "application/vnd.jupyter.widget-view+json": {
       "model_id": "774ce8a12c2041fcad7ceb9773e4e83a",
       "version_major": 2,
       "version_minor": 0
      },
      "text/plain": [
       "Downloading S5P_OFFL_L2__HCHO___20221020T112429_20221020T130558_26007_03_020401_20221022T033613.nc:   0%|     …"
      ]
     },
     "metadata": {},
     "output_type": "display_data"
    },
    {
     "data": {
      "application/vnd.jupyter.widget-view+json": {
       "model_id": "c99b341066844635ac57782b313cf709",
       "version_major": 2,
       "version_minor": 0
      },
      "text/plain": [
       "MD5 checksumming:   0%|          | 0.00/762M [00:00<?, ?B/s]"
      ]
     },
     "metadata": {},
     "output_type": "display_data"
    },
    {
     "data": {
      "application/vnd.jupyter.widget-view+json": {
       "model_id": "c815ae8588394bea9725165b0a5894fe",
       "version_major": 2,
       "version_minor": 0
      },
      "text/plain": [
       "MD5 checksumming:   0%|          | 0.00/756M [00:00<?, ?B/s]"
      ]
     },
     "metadata": {},
     "output_type": "display_data"
    },
    {
     "data": {
      "application/vnd.jupyter.widget-view+json": {
       "model_id": "e4d6fa968ca742d584020b7567205a93",
       "version_major": 2,
       "version_minor": 0
      },
      "text/plain": [
       "Downloading S5P_OFFL_L2__HCHO___20230217T103451_20230217T121622_27709_03_020401_20230219T025543.nc:   0%|     …"
      ]
     },
     "metadata": {},
     "output_type": "display_data"
    },
    {
     "data": {
      "application/vnd.jupyter.widget-view+json": {
       "model_id": "c144dcf1686d4a1fa8d3003a67eac3c5",
       "version_major": 2,
       "version_minor": 0
      },
      "text/plain": [
       "Downloading S5P_OFFL_L2__HCHO___20230328T100751_20230328T114921_28262_03_020401_20230330T023328.nc:   0%|     …"
      ]
     },
     "metadata": {},
     "output_type": "display_data"
    },
    {
     "data": {
      "application/vnd.jupyter.widget-view+json": {
       "model_id": "ee08017a94eb4360b5b4e36f788c4b1a",
       "version_major": 2,
       "version_minor": 0
      },
      "text/plain": [
       "MD5 checksumming:   0%|          | 0.00/764M [00:00<?, ?B/s]"
      ]
     },
     "metadata": {},
     "output_type": "display_data"
    },
    {
     "data": {
      "application/vnd.jupyter.widget-view+json": {
       "model_id": "e9a41c6ad4db47a080eb690afdac174f",
       "version_major": 2,
       "version_minor": 0
      },
      "text/plain": [
       "Downloading S5P_OFFL_L2__HCHO___20230128T100738_20230128T114909_27425_03_020401_20230130T022814.nc:   0%|     …"
      ]
     },
     "metadata": {},
     "output_type": "display_data"
    },
    {
     "data": {
      "application/vnd.jupyter.widget-view+json": {
       "model_id": "9a8c876f07364594a616178660abf45d",
       "version_major": 2,
       "version_minor": 0
      },
      "text/plain": [
       "MD5 checksumming:   0%|          | 0.00/763M [00:00<?, ?B/s]"
      ]
     },
     "metadata": {},
     "output_type": "display_data"
    },
    {
     "data": {
      "application/vnd.jupyter.widget-view+json": {
       "model_id": "6ab6c66205b4456c9d5db1912684fc4b",
       "version_major": 2,
       "version_minor": 0
      },
      "text/plain": [
       "Downloading S5P_OFFL_L2__HCHO___20221008T115118_20221008T133247_25837_03_020401_20221010T041849.nc:   0%|     …"
      ]
     },
     "metadata": {},
     "output_type": "display_data"
    },
    {
     "data": {
      "application/vnd.jupyter.widget-view+json": {
       "model_id": "4a3f70fcc6564987a97804e71b1fd73f",
       "version_major": 2,
       "version_minor": 0
      },
      "text/plain": [
       "MD5 checksumming:   0%|          | 0.00/760M [00:00<?, ?B/s]"
      ]
     },
     "metadata": {},
     "output_type": "display_data"
    },
    {
     "data": {
      "application/vnd.jupyter.widget-view+json": {
       "model_id": "ca57b58ebbab4690b5976d11e07b23b0",
       "version_major": 2,
       "version_minor": 0
      },
      "text/plain": [
       "Downloading S5P_OFFL_L2__HCHO___20230311T120555_20230311T134725_28022_03_020401_20230313T042636.nc:   0%|     …"
      ]
     },
     "metadata": {},
     "output_type": "display_data"
    },
    {
     "data": {
      "application/vnd.jupyter.widget-view+json": {
       "model_id": "29d0704e9bb446c09cf70e63187cf991",
       "version_major": 2,
       "version_minor": 0
      },
      "text/plain": [
       "MD5 checksumming:   0%|          | 0.00/761M [00:00<?, ?B/s]"
      ]
     },
     "metadata": {},
     "output_type": "display_data"
    },
    {
     "data": {
      "application/vnd.jupyter.widget-view+json": {
       "model_id": "9276bcbe0cca4130a89ab96a882fca56",
       "version_major": 2,
       "version_minor": 0
      },
      "text/plain": [
       "Downloading S5P_OFFL_L2__HCHO___20230409T112547_20230409T130717_28433_03_020401_20230411T033947.nc:   0%|     …"
      ]
     },
     "metadata": {},
     "output_type": "display_data"
    },
    {
     "data": {
      "application/vnd.jupyter.widget-view+json": {
       "model_id": "df62a2664cf4424eb06453e5cf7a264d",
       "version_major": 2,
       "version_minor": 0
      },
      "text/plain": [
       "MD5 checksumming:   0%|          | 0.00/754M [00:00<?, ?B/s]"
      ]
     },
     "metadata": {},
     "output_type": "display_data"
    },
    {
     "data": {
      "application/vnd.jupyter.widget-view+json": {
       "model_id": "12fc64c79ae3413793fc010e3e89132e",
       "version_major": 2,
       "version_minor": 0
      },
      "text/plain": [
       "Downloading S5P_OFFL_L2__HCHO___20230330T111136_20230330T125307_28291_03_020401_20230401T033522.nc:   0%|     …"
      ]
     },
     "metadata": {},
     "output_type": "display_data"
    },
    {
     "data": {
      "application/vnd.jupyter.widget-view+json": {
       "model_id": "fa4e82fac32a4154ac6fb905b7f0aac7",
       "version_major": 2,
       "version_minor": 0
      },
      "text/plain": [
       "MD5 checksumming:   0%|          | 0.00/762M [00:00<?, ?B/s]"
      ]
     },
     "metadata": {},
     "output_type": "display_data"
    },
    {
     "data": {
      "application/vnd.jupyter.widget-view+json": {
       "model_id": "d4c7c6252b3043889c21fa15dca055e9",
       "version_major": 2,
       "version_minor": 0
      },
      "text/plain": [
       "Downloading S5P_OFFL_L2__HCHO___20221123T122538_20221123T140708_26490_03_020401_20221130T110130.nc:   0%|     …"
      ]
     },
     "metadata": {},
     "output_type": "display_data"
    },
    {
     "data": {
      "application/vnd.jupyter.widget-view+json": {
       "model_id": "30861574211843d6b127c079ab0751f2",
       "version_major": 2,
       "version_minor": 0
      },
      "text/plain": [
       "MD5 checksumming:   0%|          | 0.00/760M [00:00<?, ?B/s]"
      ]
     },
     "metadata": {},
     "output_type": "display_data"
    },
    {
     "data": {
      "application/vnd.jupyter.widget-view+json": {
       "model_id": "d055d2523b9e4397aba6a46ef75372ad",
       "version_major": 2,
       "version_minor": 0
      },
      "text/plain": [
       "Downloading S5P_OFFL_L2__HCHO___20220919T110909_20220919T125038_25567_03_020401_20220921T032902.nc:   0%|     …"
      ]
     },
     "metadata": {},
     "output_type": "display_data"
    },
    {
     "data": {
      "application/vnd.jupyter.widget-view+json": {
       "model_id": "43e60b19de5848e2bf290ac1d50e6d13",
       "version_major": 2,
       "version_minor": 0
      },
      "text/plain": [
       "MD5 checksumming:   0%|          | 0.00/760M [00:00<?, ?B/s]"
      ]
     },
     "metadata": {},
     "output_type": "display_data"
    },
    {
     "data": {
      "application/vnd.jupyter.widget-view+json": {
       "model_id": "0f9eb0903bf748a59cc5cc5251b73ea3",
       "version_major": 2,
       "version_minor": 0
      },
      "text/plain": [
       "Downloading S5P_OFFL_L2__HCHO___20230112T114801_20230112T132931_27199_03_020401_20230114T040419.nc:   0%|     …"
      ]
     },
     "metadata": {},
     "output_type": "display_data"
    },
    {
     "data": {
      "application/vnd.jupyter.widget-view+json": {
       "model_id": "5a7b22525828477b98a3758234d13b7e",
       "version_major": 2,
       "version_minor": 0
      },
      "text/plain": [
       "MD5 checksumming:   0%|          | 0.00/760M [00:00<?, ?B/s]"
      ]
     },
     "metadata": {},
     "output_type": "display_data"
    },
    {
     "data": {
      "application/vnd.jupyter.widget-view+json": {
       "model_id": "b6f0bdade6744260a12b4799e7f17ac3",
       "version_major": 2,
       "version_minor": 0
      },
      "text/plain": [
       "Downloading S5P_OFFL_L2__HCHO___20230603T124020_20230603T142150_29214_03_020401_20230605T051615.nc:   0%|     …"
      ]
     },
     "metadata": {},
     "output_type": "display_data"
    },
    {
     "data": {
      "application/vnd.jupyter.widget-view+json": {
       "model_id": "c02bbffde94148ccba8e96f14cf9e1ff",
       "version_major": 2,
       "version_minor": 0
      },
      "text/plain": [
       "MD5 checksumming:   0%|          | 0.00/757M [00:00<?, ?B/s]"
      ]
     },
     "metadata": {},
     "output_type": "display_data"
    },
    {
     "data": {
      "application/vnd.jupyter.widget-view+json": {
       "model_id": "c0066edcd16d457299fa0ecd180c8845",
       "version_major": 2,
       "version_minor": 0
      },
      "text/plain": [
       "Downloading S5P_OFFL_L2__HCHO___20230109T110326_20230109T124456_27156_03_020401_20230111T032118.nc:   0%|     …"
      ]
     },
     "metadata": {},
     "output_type": "display_data"
    },
    {
     "data": {
      "application/vnd.jupyter.widget-view+json": {
       "model_id": "c9d21e80287d4c35945d3d337a655db1",
       "version_major": 2,
       "version_minor": 0
      },
      "text/plain": [
       "MD5 checksumming:   0%|          | 0.00/760M [00:00<?, ?B/s]"
      ]
     },
     "metadata": {},
     "output_type": "display_data"
    },
    {
     "data": {
      "application/vnd.jupyter.widget-view+json": {
       "model_id": "aed730961cfa4526991e4692a612f073",
       "version_major": 2,
       "version_minor": 0
      },
      "text/plain": [
       "Downloading S5P_OFFL_L2__HCHO___20230429T115350_20230429T133521_28717_03_020401_20230501T042031.nc:   0%|     …"
      ]
     },
     "metadata": {},
     "output_type": "display_data"
    },
    {
     "data": {
      "application/vnd.jupyter.widget-view+json": {
       "model_id": "98f8bbf89a904361aab7fcee30ea21bd",
       "version_major": 2,
       "version_minor": 0
      },
      "text/plain": [
       "MD5 checksumming:   0%|          | 0.00/758M [00:00<?, ?B/s]"
      ]
     },
     "metadata": {},
     "output_type": "display_data"
    },
    {
     "data": {
      "application/vnd.jupyter.widget-view+json": {
       "model_id": "8ae93d97ed54453d968a68294cc45eeb",
       "version_major": 2,
       "version_minor": 0
      },
      "text/plain": [
       "Downloading S5P_OFFL_L2__HCHO___20230121T122020_20230121T140150_27327_03_020401_20230123T044941.nc:   0%|     …"
      ]
     },
     "metadata": {},
     "output_type": "display_data"
    },
    {
     "data": {
      "application/vnd.jupyter.widget-view+json": {
       "model_id": "986ee2aa08924d8e9cd5f3f72f3b7765",
       "version_major": 2,
       "version_minor": 0
      },
      "text/plain": [
       "MD5 checksumming:   0%|          | 0.00/756M [00:00<?, ?B/s]"
      ]
     },
     "metadata": {},
     "output_type": "display_data"
    },
    {
     "data": {
      "application/vnd.jupyter.widget-view+json": {
       "model_id": "a58392c3773f4698b0ca04caaec7e6e7",
       "version_major": 2,
       "version_minor": 0
      },
      "text/plain": [
       "Downloading S5P_OFFL_L2__HCHO___20220831T102647_20220831T120816_25297_03_020401_20220902T173722.nc:   0%|     …"
      ]
     },
     "metadata": {},
     "output_type": "display_data"
    },
    {
     "data": {
      "application/vnd.jupyter.widget-view+json": {
       "model_id": "208d5db4ae6a4c12aa7b9c8f9c152281",
       "version_major": 2,
       "version_minor": 0
      },
      "text/plain": [
       "MD5 checksumming:   0%|          | 0.00/759M [00:00<?, ?B/s]"
      ]
     },
     "metadata": {},
     "output_type": "display_data"
    },
    {
     "data": {
      "application/vnd.jupyter.widget-view+json": {
       "model_id": "63e5c70eff3c4a84addd0d8a6cd89d99",
       "version_major": 2,
       "version_minor": 0
      },
      "text/plain": [
       "MD5 checksumming:   0%|          | 0.00/756M [00:00<?, ?B/s]"
      ]
     },
     "metadata": {},
     "output_type": "display_data"
    },
    {
     "data": {
      "application/vnd.jupyter.widget-view+json": {
       "model_id": "ff7e10c87fff45b3b14bc96f4f7fd5b6",
       "version_major": 2,
       "version_minor": 0
      },
      "text/plain": [
       "Downloading S5P_OFFL_L2__HCHO___20221108T102557_20221108T120727_26276_03_020401_20221110T025429.nc:   0%|     …"
      ]
     },
     "metadata": {},
     "output_type": "display_data"
    },
    {
     "data": {
      "application/vnd.jupyter.widget-view+json": {
       "model_id": "14f88ac446bc471bbf2942dc6e705784",
       "version_major": 2,
       "version_minor": 0
      },
      "text/plain": [
       "Downloading S5P_OFFL_L2__HCHO___20230325T110429_20230325T124559_28220_03_020401_20230327T032200.nc:   0%|     …"
      ]
     },
     "metadata": {},
     "output_type": "display_data"
    },
    {
     "data": {
      "application/vnd.jupyter.widget-view+json": {
       "model_id": "513dde2116c04c2bb71f6add2e52b5d2",
       "version_major": 2,
       "version_minor": 0
      },
      "text/plain": [
       "MD5 checksumming:   0%|          | 0.00/756M [00:00<?, ?B/s]"
      ]
     },
     "metadata": {},
     "output_type": "display_data"
    },
    {
     "data": {
      "application/vnd.jupyter.widget-view+json": {
       "model_id": "eeab423af7fc475ba6852478c9398a63",
       "version_major": 2,
       "version_minor": 0
      },
      "text/plain": [
       "Downloading S5P_OFFL_L2__HCHO___20230312T100529_20230312T114659_28035_03_020401_20230315T154352.nc:   0%|     …"
      ]
     },
     "metadata": {},
     "output_type": "display_data"
    },
    {
     "data": {
      "application/vnd.jupyter.widget-view+json": {
       "model_id": "4c21b050e68545d1a54260132e94e4e9",
       "version_major": 2,
       "version_minor": 0
      },
      "text/plain": [
       "MD5 checksumming:   0%|          | 0.00/764M [00:00<?, ?B/s]"
      ]
     },
     "metadata": {},
     "output_type": "display_data"
    },
    {
     "data": {
      "application/vnd.jupyter.widget-view+json": {
       "model_id": "da7ee274ff5b41fbb9f4446b06e191c4",
       "version_major": 2,
       "version_minor": 0
      },
      "text/plain": [
       "Downloading S5P_OFFL_L2__HCHO___20230320T105720_20230320T123850_28149_03_020401_20230322T031458.nc:   0%|     …"
      ]
     },
     "metadata": {},
     "output_type": "display_data"
    },
    {
     "data": {
      "application/vnd.jupyter.widget-view+json": {
       "model_id": "72586514ebf34edc9b061b274463ff15",
       "version_major": 2,
       "version_minor": 0
      },
      "text/plain": [
       "MD5 checksumming:   0%|          | 0.00/763M [00:00<?, ?B/s]"
      ]
     },
     "metadata": {},
     "output_type": "display_data"
    },
    {
     "data": {
      "application/vnd.jupyter.widget-view+json": {
       "model_id": "f79824153dc04eefbef7543a7f75fabb",
       "version_major": 2,
       "version_minor": 0
      },
      "text/plain": [
       "Downloading S5P_OFFL_L2__HCHO___20230222T104142_20230222T122312_27780_03_020401_20230224T025951.nc:   0%|     …"
      ]
     },
     "metadata": {},
     "output_type": "display_data"
    },
    {
     "data": {
      "application/vnd.jupyter.widget-view+json": {
       "model_id": "f96d5c1ae1fc48f4b0044447048586ef",
       "version_major": 2,
       "version_minor": 0
      },
      "text/plain": [
       "MD5 checksumming:   0%|          | 0.00/759M [00:00<?, ?B/s]"
      ]
     },
     "metadata": {},
     "output_type": "display_data"
    },
    {
     "data": {
      "application/vnd.jupyter.widget-view+json": {
       "model_id": "727cf553d576487dabe707436ea99be4",
       "version_major": 2,
       "version_minor": 0
      },
      "text/plain": [
       "Downloading S5P_OFFL_L2__HCHO___20220904T123314_20220904T141444_25355_03_020401_20220906T044754.nc:   0%|     …"
      ]
     },
     "metadata": {},
     "output_type": "display_data"
    },
    {
     "data": {
      "application/vnd.jupyter.widget-view+json": {
       "model_id": "15881d17618e43b58c0bf3589e1c740a",
       "version_major": 2,
       "version_minor": 0
      },
      "text/plain": [
       "MD5 checksumming:   0%|          | 0.00/763M [00:00<?, ?B/s]"
      ]
     },
     "metadata": {},
     "output_type": "display_data"
    },
    {
     "data": {
      "application/vnd.jupyter.widget-view+json": {
       "model_id": "44046e506bac4a3fb64c39c34ef4eda7",
       "version_major": 2,
       "version_minor": 0
      },
      "text/plain": [
       "Downloading S5P_OFFL_L2__HCHO___20221107T104503_20221107T122633_26262_03_020401_20221109T031519.nc:   0%|     …"
      ]
     },
     "metadata": {},
     "output_type": "display_data"
    },
    {
     "data": {
      "application/vnd.jupyter.widget-view+json": {
       "model_id": "8041699f6b5b4e189a72b772c12539ca",
       "version_major": 2,
       "version_minor": 0
      },
      "text/plain": [
       "MD5 checksumming:   0%|          | 0.00/769M [00:00<?, ?B/s]"
      ]
     },
     "metadata": {},
     "output_type": "display_data"
    },
    {
     "data": {
      "application/vnd.jupyter.widget-view+json": {
       "model_id": "d9122df89eaa4bb496141cd02ee7ef69",
       "version_major": 2,
       "version_minor": 0
      },
      "text/plain": [
       "Downloading S5P_OFFL_L2__HCHO___20230427T105009_20230427T123140_28688_03_020401_20230429T032036.nc:   0%|     …"
      ]
     },
     "metadata": {},
     "output_type": "display_data"
    },
    {
     "data": {
      "application/vnd.jupyter.widget-view+json": {
       "model_id": "fbc8cacf75b34794af6a1779e3a94eb5",
       "version_major": 2,
       "version_minor": 0
      },
      "text/plain": [
       "MD5 checksumming:   0%|          | 0.00/758M [00:00<?, ?B/s]"
      ]
     },
     "metadata": {},
     "output_type": "display_data"
    },
    {
     "data": {
      "application/vnd.jupyter.widget-view+json": {
       "model_id": "3761f897672f4f65bb16365c50f5390f",
       "version_major": 2,
       "version_minor": 0
      },
      "text/plain": [
       "Downloading S5P_OFFL_L2__HCHO___20221016T105934_20221016T124103_25950_03_020401_20221018T032543.nc:   0%|     …"
      ]
     },
     "metadata": {},
     "output_type": "display_data"
    },
    {
     "data": {
      "application/vnd.jupyter.widget-view+json": {
       "model_id": "d760af11d7da4c33851d3f3449fef697",
       "version_major": 2,
       "version_minor": 0
      },
      "text/plain": [
       "MD5 checksumming:   0%|          | 0.00/758M [00:00<?, ?B/s]"
      ]
     },
     "metadata": {},
     "output_type": "display_data"
    },
    {
     "data": {
      "application/vnd.jupyter.widget-view+json": {
       "model_id": "d016f25b333e42c9894e7e6a8db78d47",
       "version_major": 2,
       "version_minor": 0
      },
      "text/plain": [
       "Downloading S5P_OFFL_L2__HCHO___20221215T103100_20221215T121230_26801_03_020401_20221221T051928.nc:   0%|     …"
      ]
     },
     "metadata": {},
     "output_type": "display_data"
    },
    {
     "data": {
      "application/vnd.jupyter.widget-view+json": {
       "model_id": "43b20abb9dc24a94b07540aa1a3821dc",
       "version_major": 2,
       "version_minor": 0
      },
      "text/plain": [
       "MD5 checksumming:   0%|          | 0.00/756M [00:00<?, ?B/s]"
      ]
     },
     "metadata": {},
     "output_type": "display_data"
    },
    {
     "data": {
      "application/vnd.jupyter.widget-view+json": {
       "model_id": "0b6ffdf4b4bc41b78957689968babb11",
       "version_major": 2,
       "version_minor": 0
      },
      "text/plain": [
       "Downloading S5P_OFFL_L2__HCHO___20230315T105012_20230315T123142_28078_03_020401_20230318T003045.nc:   0%|     …"
      ]
     },
     "metadata": {},
     "output_type": "display_data"
    },
    {
     "data": {
      "application/vnd.jupyter.widget-view+json": {
       "model_id": "e99cc3bd74744890b04c5bba590a30ab",
       "version_major": 2,
       "version_minor": 0
      },
      "text/plain": [
       "MD5 checksumming:   0%|          | 0.00/760M [00:00<?, ?B/s]"
      ]
     },
     "metadata": {},
     "output_type": "display_data"
    },
    {
     "data": {
      "application/vnd.jupyter.widget-view+json": {
       "model_id": "efc0787427c34ab99df7cbf08ba6d049",
       "version_major": 2,
       "version_minor": 0
      },
      "text/plain": [
       "Downloading S5P_OFFL_L2__HCHO___20230206T104009_20230206T122139_27553_03_020401_20230208T025541.nc:   0%|     …"
      ]
     },
     "metadata": {},
     "output_type": "display_data"
    },
    {
     "data": {
      "application/vnd.jupyter.widget-view+json": {
       "model_id": "1b183b146f9448beb3c4d831bc2a39d5",
       "version_major": 2,
       "version_minor": 0
      },
      "text/plain": [
       "MD5 checksumming:   0%|          | 0.00/762M [00:00<?, ?B/s]"
      ]
     },
     "metadata": {},
     "output_type": "display_data"
    },
    {
     "data": {
      "application/vnd.jupyter.widget-view+json": {
       "model_id": "af80fc12938f4cc8bcc3ac31ad932956",
       "version_major": 2,
       "version_minor": 0
      },
      "text/plain": [
       "Downloading S5P_OFFL_L2__HCHO___20230508T104456_20230508T122626_28844_03_020401_20230510T030849.nc:   0%|     …"
      ]
     },
     "metadata": {},
     "output_type": "display_data"
    },
    {
     "data": {
      "application/vnd.jupyter.widget-view+json": {
       "model_id": "052805f8ac7a4675af6bde959a5150bc",
       "version_major": 2,
       "version_minor": 0
      },
      "text/plain": [
       "MD5 checksumming:   0%|          | 0.00/757M [00:00<?, ?B/s]"
      ]
     },
     "metadata": {},
     "output_type": "display_data"
    },
    {
     "data": {
      "application/vnd.jupyter.widget-view+json": {
       "model_id": "79b02afb13b54074b664fdbafdb5c940",
       "version_major": 2,
       "version_minor": 0
      },
      "text/plain": [
       "Downloading S5P_OFFL_L2__HCHO___20230111T120700_20230111T134830_27185_03_020401_20230113T041927.nc:   0%|     …"
      ]
     },
     "metadata": {},
     "output_type": "display_data"
    },
    {
     "data": {
      "application/vnd.jupyter.widget-view+json": {
       "model_id": "46e6fa83307f4e41a54919429e1e36a6",
       "version_major": 2,
       "version_minor": 0
      },
      "text/plain": [
       "MD5 checksumming:   0%|          | 0.00/737M [00:00<?, ?B/s]"
      ]
     },
     "metadata": {},
     "output_type": "display_data"
    },
    {
     "data": {
      "application/vnd.jupyter.widget-view+json": {
       "model_id": "082c0726e151487a84fb2e1b6f3746ee",
       "version_major": 2,
       "version_minor": 0
      },
      "text/plain": [
       "MD5 checksumming:   0%|          | 0.00/733M [00:00<?, ?B/s]"
      ]
     },
     "metadata": {},
     "output_type": "display_data"
    },
    {
     "data": {
      "application/vnd.jupyter.widget-view+json": {
       "model_id": "19dc4fd186c5447b9272b765c40f859f",
       "version_major": 2,
       "version_minor": 0
      },
      "text/plain": [
       "Downloading S5P_OFFL_L2__HCHO___20230503T121941_20230503T140111_28774_03_020401_20230505T043517.nc:   0%|     …"
      ]
     },
     "metadata": {},
     "output_type": "display_data"
    },
    {
     "data": {
      "application/vnd.jupyter.widget-view+json": {
       "model_id": "abf8a0d6085f4d47bd67a35584ade053",
       "version_major": 2,
       "version_minor": 0
      },
      "text/plain": [
       "Downloading S5P_OFFL_L2__HCHO___20221019T114336_20221019T132505_25993_03_020401_20221021T040522.nc:   0%|     …"
      ]
     },
     "metadata": {},
     "output_type": "display_data"
    },
    {
     "data": {
      "application/vnd.jupyter.widget-view+json": {
       "model_id": "79807cec5eed4a878ad85d72ad2599f9",
       "version_major": 2,
       "version_minor": 0
      },
      "text/plain": [
       "MD5 checksumming:   0%|          | 0.00/758M [00:00<?, ?B/s]"
      ]
     },
     "metadata": {},
     "output_type": "display_data"
    },
    {
     "data": {
      "application/vnd.jupyter.widget-view+json": {
       "model_id": "0ad1f997bd5f4ac8a5c247a380afcc7c",
       "version_major": 2,
       "version_minor": 0
      },
      "text/plain": [
       "Downloading S5P_OFFL_L2__HCHO___20230518T105815_20230518T123945_28986_03_020401_20230520T033214.nc:   0%|     …"
      ]
     },
     "metadata": {},
     "output_type": "display_data"
    },
    {
     "data": {
      "application/vnd.jupyter.widget-view+json": {
       "model_id": "5ee78bb6541440c7a6b4c42025c83ebb",
       "version_major": 2,
       "version_minor": 0
      },
      "text/plain": [
       "MD5 checksumming:   0%|          | 0.00/757M [00:00<?, ?B/s]"
      ]
     },
     "metadata": {},
     "output_type": "display_data"
    },
    {
     "data": {
      "application/vnd.jupyter.widget-view+json": {
       "model_id": "f90cf492d9f245e7805cf0003264de38",
       "version_major": 2,
       "version_minor": 0
      },
      "text/plain": [
       "Downloading S5P_OFFL_L2__HCHO___20230416T105503_20230416T123633_28532_03_020401_20230418T032442.nc:   0%|     …"
      ]
     },
     "metadata": {},
     "output_type": "display_data"
    },
    {
     "data": {
      "application/vnd.jupyter.widget-view+json": {
       "model_id": "b7173545b16e4e7b9a6dea76cde65cb2",
       "version_major": 2,
       "version_minor": 0
      },
      "text/plain": [
       "MD5 checksumming:   0%|          | 0.00/755M [00:00<?, ?B/s]"
      ]
     },
     "metadata": {},
     "output_type": "display_data"
    },
    {
     "data": {
      "application/vnd.jupyter.widget-view+json": {
       "model_id": "b410dcd679bf48e195992c7231cdf43e",
       "version_major": 2,
       "version_minor": 0
      },
      "text/plain": [
       "Downloading S5P_OFFL_L2__HCHO___20220911T120047_20220911T134216_25454_03_020401_20220913T042806.nc:   0%|     …"
      ]
     },
     "metadata": {},
     "output_type": "display_data"
    },
    {
     "data": {
      "application/vnd.jupyter.widget-view+json": {
       "model_id": "04260e994ddb49138a6a9567ab3b6587",
       "version_major": 2,
       "version_minor": 0
      },
      "text/plain": [
       "MD5 checksumming:   0%|          | 0.00/739M [00:00<?, ?B/s]"
      ]
     },
     "metadata": {},
     "output_type": "display_data"
    },
    {
     "data": {
      "application/vnd.jupyter.widget-view+json": {
       "model_id": "d0254a3acdbe4f8695794dacf086b6c1",
       "version_major": 2,
       "version_minor": 0
      },
      "text/plain": [
       "Downloading S5P_OFFL_L2__HCHO___20230603T105850_20230603T124020_29213_03_020401_20230605T031707.nc:   0%|     …"
      ]
     },
     "metadata": {},
     "output_type": "display_data"
    },
    {
     "data": {
      "application/vnd.jupyter.widget-view+json": {
       "model_id": "4db12157d8a348939d93a35cb4d149e1",
       "version_major": 2,
       "version_minor": 0
      },
      "text/plain": [
       "MD5 checksumming:   0%|          | 0.00/760M [00:00<?, ?B/s]"
      ]
     },
     "metadata": {},
     "output_type": "display_data"
    },
    {
     "data": {
      "application/vnd.jupyter.widget-view+json": {
       "model_id": "ce3c90116e80445dad1070559367a1a7",
       "version_major": 2,
       "version_minor": 0
      },
      "text/plain": [
       "Downloading S5P_OFFL_L2__HCHO___20221007T102857_20221007T121027_25822_03_020401_20221009T023634.nc:   0%|     …"
      ]
     },
     "metadata": {},
     "output_type": "display_data"
    },
    {
     "data": {
      "application/vnd.jupyter.widget-view+json": {
       "model_id": "a540a7b4be214aedb4a4db812cc4e92e",
       "version_major": 2,
       "version_minor": 0
      },
      "text/plain": [
       "MD5 checksumming:   0%|          | 0.00/761M [00:00<?, ?B/s]"
      ]
     },
     "metadata": {},
     "output_type": "display_data"
    },
    {
     "data": {
      "application/vnd.jupyter.widget-view+json": {
       "model_id": "cebde90b799a43d9942782c6359ba224",
       "version_major": 2,
       "version_minor": 0
      },
      "text/plain": [
       "Downloading S5P_OFFL_L2__HCHO___20220927T101728_20220927T115858_25680_03_020401_20220929T024038.nc:   0%|     …"
      ]
     },
     "metadata": {},
     "output_type": "display_data"
    },
    {
     "data": {
      "application/vnd.jupyter.widget-view+json": {
       "model_id": "a5aa138dc2b9405c84e7af6f3cff29ee",
       "version_major": 2,
       "version_minor": 0
      },
      "text/plain": [
       "MD5 checksumming:   0%|          | 0.00/762M [00:00<?, ?B/s]"
      ]
     },
     "metadata": {},
     "output_type": "display_data"
    },
    {
     "data": {
      "application/vnd.jupyter.widget-view+json": {
       "model_id": "bf92e0fd7c3d45e3a438ef79d78db2c3",
       "version_major": 2,
       "version_minor": 0
      },
      "text/plain": [
       "Downloading S5P_OFFL_L2__HCHO___20221028T121435_20221028T135605_26121_03_020401_20221030T042706.nc:   0%|     …"
      ]
     },
     "metadata": {},
     "output_type": "display_data"
    },
    {
     "data": {
      "application/vnd.jupyter.widget-view+json": {
       "model_id": "3bfc900be6a44146b8169d0b0bb98b4c",
       "version_major": 2,
       "version_minor": 0
      },
      "text/plain": [
       "MD5 checksumming:   0%|          | 0.00/757M [00:00<?, ?B/s]"
      ]
     },
     "metadata": {},
     "output_type": "display_data"
    },
    {
     "data": {
      "application/vnd.jupyter.widget-view+json": {
       "model_id": "c45fd79411184e128a4fce4bd61a8d49",
       "version_major": 2,
       "version_minor": 0
      },
      "text/plain": [
       "Downloading S5P_OFFL_L2__HCHO___20221210T120610_20221210T134740_26731_03_020401_20221216T125246.nc:   0%|     …"
      ]
     },
     "metadata": {},
     "output_type": "display_data"
    },
    {
     "data": {
      "application/vnd.jupyter.widget-view+json": {
       "model_id": "fdd94622240c4da8a1a9eb06b90f5e42",
       "version_major": 2,
       "version_minor": 0
      },
      "text/plain": [
       "MD5 checksumming:   0%|          | 0.00/756M [00:00<?, ?B/s]"
      ]
     },
     "metadata": {},
     "output_type": "display_data"
    },
    {
     "data": {
      "application/vnd.jupyter.widget-view+json": {
       "model_id": "dc25997d7af541948279b22a25454365",
       "version_major": 2,
       "version_minor": 0
      },
      "text/plain": [
       "Downloading S5P_OFFL_L2__HCHO___20230510T114831_20230510T133001_28873_03_020401_20230512T040949.nc:   0%|     …"
      ]
     },
     "metadata": {},
     "output_type": "display_data"
    },
    {
     "data": {
      "application/vnd.jupyter.widget-view+json": {
       "model_id": "975c63a284ba445d83f3714750f9919c",
       "version_major": 2,
       "version_minor": 0
      },
      "text/plain": [
       "MD5 checksumming:   0%|          | 0.00/760M [00:00<?, ?B/s]"
      ]
     },
     "metadata": {},
     "output_type": "display_data"
    },
    {
     "data": {
      "application/vnd.jupyter.widget-view+json": {
       "model_id": "6921238eb39e455ebb09ecada5337220",
       "version_major": 2,
       "version_minor": 0
      },
      "text/plain": [
       "Downloading S5P_OFFL_L2__HCHO___20221002T120442_20221002T134612_25752_03_020401_20221004T041739.nc:   0%|     …"
      ]
     },
     "metadata": {},
     "output_type": "display_data"
    },
    {
     "data": {
      "application/vnd.jupyter.widget-view+json": {
       "model_id": "0eba2c3213cf4d99af10f462d7f86ea5",
       "version_major": 2,
       "version_minor": 0
      },
      "text/plain": [
       "MD5 checksumming:   0%|          | 0.00/758M [00:00<?, ?B/s]"
      ]
     },
     "metadata": {},
     "output_type": "display_data"
    },
    {
     "data": {
      "application/vnd.jupyter.widget-view+json": {
       "model_id": "5e6ae8beeac34eb6b326d212913fafc1",
       "version_major": 2,
       "version_minor": 0
      },
      "text/plain": [
       "Downloading S5P_OFFL_L2__HCHO___20221231T103119_20221231T121249_27028_03_020401_20230102T115504.nc:   0%|     …"
      ]
     },
     "metadata": {},
     "output_type": "display_data"
    },
    {
     "data": {
      "application/vnd.jupyter.widget-view+json": {
       "model_id": "53aa257c70da44859ad448a0336ff319",
       "version_major": 2,
       "version_minor": 0
      },
      "text/plain": [
       "MD5 checksumming:   0%|          | 0.00/754M [00:00<?, ?B/s]"
      ]
     },
     "metadata": {},
     "output_type": "display_data"
    },
    {
     "data": {
      "application/vnd.jupyter.widget-view+json": {
       "model_id": "ca0896b924b24301b16316b21a130383",
       "version_major": 2,
       "version_minor": 0
      },
      "text/plain": [
       "Downloading S5P_OFFL_L2__HCHO___20221230T105018_20221230T123148_27014_03_020401_20230101T195444.nc:   0%|     …"
      ]
     },
     "metadata": {},
     "output_type": "display_data"
    },
    {
     "data": {
      "application/vnd.jupyter.widget-view+json": {
       "model_id": "109ed63599ad4de1a899c83f53f46d62",
       "version_major": 2,
       "version_minor": 0
      },
      "text/plain": [
       "MD5 checksumming:   0%|          | 0.00/729M [00:00<?, ?B/s]"
      ]
     },
     "metadata": {},
     "output_type": "display_data"
    },
    {
     "data": {
      "application/vnd.jupyter.widget-view+json": {
       "model_id": "0741949dd9eb4d7da8a0c764b1f5cac5",
       "version_major": 2,
       "version_minor": 0
      },
      "text/plain": [
       "Downloading S5P_OFFL_L2__HCHO___20230217T121622_20230217T135752_27710_03_020401_20230219T044041.nc:   0%|     …"
      ]
     },
     "metadata": {},
     "output_type": "display_data"
    },
    {
     "data": {
      "application/vnd.jupyter.widget-view+json": {
       "model_id": "b9ce34fcede14b1798c5ff80ae45fc2e",
       "version_major": 2,
       "version_minor": 0
      },
      "text/plain": [
       "MD5 checksumming:   0%|          | 0.00/733M [00:00<?, ?B/s]"
      ]
     },
     "metadata": {},
     "output_type": "display_data"
    },
    {
     "data": {
      "application/vnd.jupyter.widget-view+json": {
       "model_id": "f41b2bcf982b4c41abe84984824aab26",
       "version_major": 2,
       "version_minor": 0
      },
      "text/plain": [
       "Downloading S5P_OFFL_L2__HCHO___20221217T113426_20221217T131556_26830_03_020401_20221223T012712.nc:   0%|     …"
      ]
     },
     "metadata": {},
     "output_type": "display_data"
    },
    {
     "data": {
      "application/vnd.jupyter.widget-view+json": {
       "model_id": "f52e8bda6fbc4f60a2d9d67f543e3fc5",
       "version_major": 2,
       "version_minor": 0
      },
      "text/plain": [
       "MD5 checksumming:   0%|          | 0.00/760M [00:00<?, ?B/s]"
      ]
     },
     "metadata": {},
     "output_type": "display_data"
    },
    {
     "data": {
      "application/vnd.jupyter.widget-view+json": {
       "model_id": "fb9cf0070b7b4bd98ee07c7169f3a6ed",
       "version_major": 2,
       "version_minor": 0
      },
      "text/plain": [
       "Downloading S5P_OFFL_L2__HCHO___20220821T101502_20220821T115632_25155_03_020401_20220824T060925.nc:   0%|     …"
      ]
     },
     "metadata": {},
     "output_type": "display_data"
    },
    {
     "data": {
      "application/vnd.jupyter.widget-view+json": {
       "model_id": "bbde9977921341bbb502cc478477d7cd",
       "version_major": 2,
       "version_minor": 0
      },
      "text/plain": [
       "MD5 checksumming:   0%|          | 0.00/757M [00:00<?, ?B/s]"
      ]
     },
     "metadata": {},
     "output_type": "display_data"
    },
    {
     "data": {
      "application/vnd.jupyter.widget-view+json": {
       "model_id": "0c68f4e49a4d4f7493758a7549a310a7",
       "version_major": 2,
       "version_minor": 0
      },
      "text/plain": [
       "Downloading S5P_OFFL_L2__HCHO___20230319T111612_20230319T125743_28135_03_020401_20230321T033400.nc:   0%|     …"
      ]
     },
     "metadata": {},
     "output_type": "display_data"
    },
    {
     "data": {
      "application/vnd.jupyter.widget-view+json": {
       "model_id": "f99c105cff8e47a79262340efb53e7d7",
       "version_major": 2,
       "version_minor": 0
      },
      "text/plain": [
       "MD5 checksumming:   0%|          | 0.00/759M [00:00<?, ?B/s]"
      ]
     },
     "metadata": {},
     "output_type": "display_data"
    },
    {
     "data": {
      "application/vnd.jupyter.widget-view+json": {
       "model_id": "b5a3a54dca8d45b28f568136209bfd20",
       "version_major": 2,
       "version_minor": 0
      },
      "text/plain": [
       "Downloading S5P_OFFL_L2__HCHO___20230127T120806_20230127T134936_27412_03_020401_20230129T043951.nc:   0%|     …"
      ]
     },
     "metadata": {},
     "output_type": "display_data"
    },
    {
     "data": {
      "application/vnd.jupyter.widget-view+json": {
       "model_id": "05a7521aaa54475fac1c77ff846df884",
       "version_major": 2,
       "version_minor": 0
      },
      "text/plain": [
       "MD5 checksumming:   0%|          | 0.00/758M [00:00<?, ?B/s]"
      ]
     },
     "metadata": {},
     "output_type": "display_data"
    },
    {
     "data": {
      "application/vnd.jupyter.widget-view+json": {
       "model_id": "bab229f428ba48e4a30181899d421188",
       "version_major": 2,
       "version_minor": 0
      },
      "text/plain": [
       "MD5 checksumming:   0%|          | 0.00/763M [00:00<?, ?B/s]"
      ]
     },
     "metadata": {},
     "output_type": "display_data"
    },
    {
     "data": {
      "application/vnd.jupyter.widget-view+json": {
       "model_id": "9d0c78ab95794d3e832b89a9842390e3",
       "version_major": 2,
       "version_minor": 0
      },
      "text/plain": [
       "MD5 checksumming:   0%|          | 0.00/768M [00:00<?, ?B/s]"
      ]
     },
     "metadata": {},
     "output_type": "display_data"
    },
    {
     "data": {
      "application/vnd.jupyter.widget-view+json": {
       "model_id": "5aa88eec1587464794e726b061f4655f",
       "version_major": 2,
       "version_minor": 0
      },
      "text/plain": [
       "MD5 checksumming:   0%|          | 0.00/758M [00:00<?, ?B/s]"
      ]
     },
     "metadata": {},
     "output_type": "display_data"
    }
   ],
   "source": [
    "# Execute search to find available TROPOMI L2 data files, with option to download files\n",
    "# Get values from widget menus (search parameters) using \".value\"\n",
    "\n",
    "# REGIONS USED: \n",
    "# CC - LAT: -5 to 3.31, LON: 15 to 25.73\n",
    "# Bateke - LAT: -4.17 to -0.36, LON: 13.72 to 16.19\n",
    "\n",
    "# Main function\n",
    "if __name__ == '__main__':\n",
    "    \n",
    "    # Set directory to save downloaded files (as pathlib.Path object)\n",
    "    # Use current working directory for simplicity\n",
    "    save_path = '/exports/geos.ed.ac.uk/palmer_group/managed/s0677837/Peatlands/TROPOMI/HCHO/CC/'\n",
    "    \n",
    "    # Get TROPOMI product abbreviation used in file name\n",
    "    product_abbreviation = get_tropomi_product_abbreviation(product.value)\n",
    "    \n",
    "    # Change user-entered observation year/month/day for observation period to format used by Sentinel API\n",
    "    start_date = convert_date_sentinel_api_format(start_year.value, start_month.value, start_day.value)\n",
    "    end_date = convert_date_sentinel_api_format(end_year.value, end_month.value, end_day.value)\n",
    "    \n",
    "    # Convert latitude/longitude values entered as floats to string format used by Sentinel API\n",
    "    west_lon = str(west_lon_float.value)\n",
    "    east_lon = str(east_lon_float.value)\n",
    "    south_lat = str(south_lat_float.value)\n",
    "    north_lat = str(north_lat_float.value)\n",
    "    \n",
    "    # Execute script\n",
    "    products = get_tropomi_files(west_lon, east_lon, south_lat, north_lat, start_date, end_date, product_abbreviation, latency.value, save_path)\n",
    "\n"
   ]
  },
  {
   "cell_type": "code",
   "execution_count": null,
   "id": "cb487726-e238-47f1-81db-a9ba5b1d5b97",
   "metadata": {},
   "outputs": [],
   "source": []
  }
 ],
 "metadata": {
  "kernelspec": {
   "display_name": "Python [conda env:congo_new]",
   "language": "python",
   "name": "conda-env-congo_new-py"
  },
  "language_info": {
   "codemirror_mode": {
    "name": "ipython",
    "version": 3
   },
   "file_extension": ".py",
   "mimetype": "text/x-python",
   "name": "python",
   "nbconvert_exporter": "python",
   "pygments_lexer": "ipython3",
   "version": "3.8.5"
  }
 },
 "nbformat": 4,
 "nbformat_minor": 5
}
